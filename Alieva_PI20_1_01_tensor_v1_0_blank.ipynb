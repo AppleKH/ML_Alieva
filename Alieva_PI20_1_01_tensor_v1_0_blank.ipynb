{
  "cells": [
    {
      "cell_type": "markdown",
      "metadata": {
        "id": "_gE94V3G1RCx"
      },
      "source": [
        "# 01. Знакомство с `torch.Tensor`\n",
        "\n",
        "V 0.1 04.02.2021"
      ]
    },
    {
      "cell_type": "markdown",
      "metadata": {
        "id": "TlWOXn0f1RC7"
      },
      "source": [
        "---"
      ]
    },
    {
      "cell_type": "markdown",
      "metadata": {
        "id": "lZfJ1FRM1RC8"
      },
      "source": [
        "При решении данных задач не подразумевается использования циклов или генераторов Python, если в задании не сказано обратного. Решение должно опираться на использование функционала библиотеки `torch`.\n",
        "\n",
        "[PyTorch documentation](https://pytorch.org/docs/stable/#pytorch-documentation)"
      ]
    },
    {
      "cell_type": "code",
      "execution_count": null,
      "metadata": {
        "id": "b3AW8rF-1RC9"
      },
      "outputs": [],
      "source": [
        "import torch\n",
        "import numpy as np"
      ]
    },
    {
      "cell_type": "markdown",
      "metadata": {
        "id": "vow49PuE1RC9"
      },
      "source": [
        "## 1.1 Создание тензоров и выполнение базовых операций над ними\n",
        "\n",
        "[Документация по функциям для создания тензоров](https://pytorch.org/docs/stable/torch.html#creation-ops)\n",
        "\n",
        "[Документация по функциям для работы с индексами](https://pytorch.org/docs/stable/torch.html#indexing-slicing-joining-mutating-ops)"
      ]
    },
    {
      "cell_type": "markdown",
      "metadata": {
        "id": "wBIwO1SB1RC-"
      },
      "source": [
        "1.1.1 Создайте двумерный тензор размера (8, 8). Используя как можно меньше операций, добейтесь расстановки кодов \"шахматных фигур\".\n",
        "\n",
        "Ожидаемый результат:\n",
        "\n",
        "```\n",
        "[[-4., -3., -2., -6., -5., -2., -3., -4.],\n",
        " [-1., -1., -1., -1., -1., -1., -1., -1.],\n",
        " [0., 0., 0., 0., 0., 0., 0., 0.],\n",
        " [0., 0., 0., 0., 0., 0., 0., 0.],\n",
        " [0., 0., 0., 0., 0., 0., 0., 0.],\n",
        " [0., 0., 0., 0., 0., 0., 0., 0.],\n",
        " [1., 1., 1., 1., 1., 1., 1., 1.],\n",
        " [4., 3., 2., 6., 5., 2., 3., 4.]]\n",
        "\n",
        "```"
      ]
    },
    {
      "cell_type": "code",
      "source": [
        "tns = torch.zeros(8, 8)\n",
        "tns[0] = torch.tensor([-4, -3, -2, -6, -5, -2, -3, -4])\n",
        "tns[-1 : ]= abs(tns[0])\n",
        "tns[-2], tns[1] = torch.ones(8), torch.ones(8)*-1\n",
        "tns "
      ],
      "metadata": {
        "colab": {
          "base_uri": "https://localhost:8080/"
        },
        "id": "AXFjWbAOVwyw",
        "outputId": "41bc4107-68c4-42aa-fe35-45b8091da662"
      },
      "execution_count": null,
      "outputs": [
        {
          "output_type": "execute_result",
          "data": {
            "text/plain": [
              "tensor([[-4., -3., -2., -6., -5., -2., -3., -4.],\n",
              "        [-1., -1., -1., -1., -1., -1., -1., -1.],\n",
              "        [ 0.,  0.,  0.,  0.,  0.,  0.,  0.,  0.],\n",
              "        [ 0.,  0.,  0.,  0.,  0.,  0.,  0.,  0.],\n",
              "        [ 0.,  0.,  0.,  0.,  0.,  0.,  0.,  0.],\n",
              "        [ 0.,  0.,  0.,  0.,  0.,  0.,  0.,  0.],\n",
              "        [ 1.,  1.,  1.,  1.,  1.,  1.,  1.,  1.],\n",
              "        [ 4.,  3.,  2.,  6.,  5.,  2.,  3.,  4.]])"
            ]
          },
          "metadata": {},
          "execution_count": 62
        }
      ]
    },
    {
      "cell_type": "markdown",
      "metadata": {
        "id": "20x5RE1V1RC_"
      },
      "source": [
        "1.1.2 Средствами `torch` рассчитать произведения четных чисел от 2 до 20 на ближайшие к ним бОльшие нечетные числа."
      ]
    },
    {
      "cell_type": "code",
      "source": [
        "x = torch.arange(2, 21, 2)\n",
        "x"
      ],
      "metadata": {
        "colab": {
          "base_uri": "https://localhost:8080/"
        },
        "id": "cZJ4yApW43e8",
        "outputId": "7bb29606-275a-41ba-fe31-c91d7495895e"
      },
      "execution_count": null,
      "outputs": [
        {
          "output_type": "execute_result",
          "data": {
            "text/plain": [
              "tensor([ 2,  4,  6,  8, 10, 12, 14, 16, 18, 20])"
            ]
          },
          "metadata": {},
          "execution_count": 14
        }
      ]
    },
    {
      "cell_type": "code",
      "source": [
        "y = x*(x+1)\n",
        "y"
      ],
      "metadata": {
        "colab": {
          "base_uri": "https://localhost:8080/"
        },
        "id": "jAxuI7of45y_",
        "outputId": "5e3d5850-51c7-42bc-b209-b6f021e1ef9f"
      },
      "execution_count": null,
      "outputs": [
        {
          "output_type": "execute_result",
          "data": {
            "text/plain": [
              "tensor([  6,  20,  42,  72, 110, 156, 210, 272, 342, 420])"
            ]
          },
          "metadata": {},
          "execution_count": 15
        }
      ]
    },
    {
      "cell_type": "markdown",
      "metadata": {
        "id": "N_-t5GRM1RC_"
      },
      "source": [
        "1.1.3 Создать тензор размера 11x7 вида: [[1, 2, 3, ..., 7], [11, 12, 13, ..., 17], [21, 22, 23, ..., 27], ..., [101, 102, 103, ..., 107]]"
      ]
    },
    {
      "cell_type": "code",
      "source": [
        "x = torch.arange(1,8)\n",
        "y = torch.arange(0, 101, 10).reshape(11,1)\n",
        "x"
      ],
      "metadata": {
        "colab": {
          "base_uri": "https://localhost:8080/"
        },
        "id": "7t7PF6OL3x-P",
        "outputId": "fc200585-f322-42ea-d3cf-4f59964b4abc"
      },
      "execution_count": null,
      "outputs": [
        {
          "output_type": "execute_result",
          "data": {
            "text/plain": [
              "tensor([1, 2, 3, 4, 5, 6, 7])"
            ]
          },
          "metadata": {},
          "execution_count": 3
        }
      ]
    },
    {
      "cell_type": "code",
      "source": [
        "y"
      ],
      "metadata": {
        "colab": {
          "base_uri": "https://localhost:8080/"
        },
        "id": "jQCFVeLS31c0",
        "outputId": "f47ba692-7665-495f-dfa7-be32fa280bc3"
      },
      "execution_count": null,
      "outputs": [
        {
          "output_type": "execute_result",
          "data": {
            "text/plain": [
              "tensor([[  0],\n",
              "        [ 10],\n",
              "        [ 20],\n",
              "        [ 30],\n",
              "        [ 40],\n",
              "        [ 50],\n",
              "        [ 60],\n",
              "        [ 70],\n",
              "        [ 80],\n",
              "        [ 90],\n",
              "        [100]])"
            ]
          },
          "metadata": {},
          "execution_count": 4
        }
      ]
    },
    {
      "cell_type": "code",
      "source": [
        "mtx = x+y\n",
        "mtx"
      ],
      "metadata": {
        "colab": {
          "base_uri": "https://localhost:8080/"
        },
        "id": "t3BqW8vE34YL",
        "outputId": "d53623a8-4ef4-40fa-da3c-adfa8d30fcaa"
      },
      "execution_count": null,
      "outputs": [
        {
          "output_type": "execute_result",
          "data": {
            "text/plain": [
              "tensor([[  1,   2,   3,   4,   5,   6,   7],\n",
              "        [ 11,  12,  13,  14,  15,  16,  17],\n",
              "        [ 21,  22,  23,  24,  25,  26,  27],\n",
              "        [ 31,  32,  33,  34,  35,  36,  37],\n",
              "        [ 41,  42,  43,  44,  45,  46,  47],\n",
              "        [ 51,  52,  53,  54,  55,  56,  57],\n",
              "        [ 61,  62,  63,  64,  65,  66,  67],\n",
              "        [ 71,  72,  73,  74,  75,  76,  77],\n",
              "        [ 81,  82,  83,  84,  85,  86,  87],\n",
              "        [ 91,  92,  93,  94,  95,  96,  97],\n",
              "        [101, 102, 103, 104, 105, 106, 107]])"
            ]
          },
          "metadata": {},
          "execution_count": 5
        }
      ]
    },
    {
      "cell_type": "markdown",
      "metadata": {
        "id": "oxVeUiHR1RC_"
      },
      "source": [
        "1.1.4 Написать функцию, которая для целых значений `n` и `m` будет возвращать тензор размера `n`x`m`, заполненный текстурой размера 2x2, состоящей из следующих значений:\n",
        "\n",
        "```\n",
        "0 1\n",
        "\n",
        "2 3\n",
        "\n",
        "```\n",
        "\n",
        "Пример для n = 4 и m = 5:\n",
        "\n",
        "```\n",
        "0 1 0 1 0\n",
        "\n",
        "2 3 2 3 2\n",
        "\n",
        "0 1 0 1 0\n",
        "\n",
        "2 3 2 3 2\n",
        "```"
      ]
    },
    {
      "cell_type": "code",
      "source": [
        "# repeat - повторяет  тензор вдоль заданных размеров\n",
        "def tensor_func(n, m):\n",
        "  t = torch.tensor([[0, 1], [2, 3]])\n",
        "  t = t.repeat(n, m)[:n:, :m:]\n",
        "  return t"
      ],
      "metadata": {
        "id": "YvRFVsBF54pE"
      },
      "execution_count": null,
      "outputs": []
    },
    {
      "cell_type": "code",
      "source": [
        "tensor_func(4, 5)"
      ],
      "metadata": {
        "colab": {
          "base_uri": "https://localhost:8080/"
        },
        "id": "lgEEOaPi57bw",
        "outputId": "2e706ff8-1477-41bd-dd80-7d7d73c9272a"
      },
      "execution_count": null,
      "outputs": [
        {
          "output_type": "execute_result",
          "data": {
            "text/plain": [
              "tensor([[0, 1, 0, 1, 0],\n",
              "        [2, 3, 2, 3, 2],\n",
              "        [0, 1, 0, 1, 0],\n",
              "        [2, 3, 2, 3, 2]])"
            ]
          },
          "metadata": {},
          "execution_count": 19
        }
      ]
    },
    {
      "cell_type": "markdown",
      "metadata": {
        "id": "WH9hxJse1RDA"
      },
      "source": [
        "1.1.5 Сгенерировать двумерный тензор `t` размерности (4, 7), состоящий из случайных действительных чисел, равномерно распределенных в дипазоне от 0 до 20. Нормализовать значения массива с помощью преобразования вида $ax+b$ так, что после нормализации максимальный элемент масива будет равен 1.0, минимальный 0.0"
      ]
    },
    {
      "cell_type": "markdown",
      "metadata": {
        "id": "vPqIeewXB-mM"
      },
      "source": [
        "[Random Sampling](https://pytorch.org/docs/stable/torch.html#random-sampling)\n",
        "\n",
        "[Distributions](https://pytorch.org/docs/stable/distributions.html)"
      ]
    },
    {
      "cell_type": "code",
      "source": [
        "buf = torch.rand((4, 7)) * 20\n",
        "res = buf/(buf.max()-buf.min())-buf.min()/(buf.max()-buf.min())\n",
        "res"
      ],
      "metadata": {
        "colab": {
          "base_uri": "https://localhost:8080/"
        },
        "id": "ktX0jjCnVrCZ",
        "outputId": "778fbf55-aea9-4435-f37e-629e8bae01ef"
      },
      "execution_count": null,
      "outputs": [
        {
          "output_type": "execute_result",
          "data": {
            "text/plain": [
              "tensor([[0.5982, 0.4885, 0.4201, 0.7364, 0.9548, 0.0899, 1.0000],\n",
              "        [0.1365, 0.3418, 0.0000, 0.2886, 0.6127, 0.9671, 0.3842],\n",
              "        [0.3109, 0.7353, 0.5312, 0.0629, 0.9117, 0.7216, 0.1861],\n",
              "        [0.1925, 0.9685, 0.7058, 0.8143, 0.4499, 0.9054, 0.3762]])"
            ]
          },
          "metadata": {},
          "execution_count": 61
        }
      ]
    },
    {
      "cell_type": "markdown",
      "metadata": {
        "id": "K_R6cwq11RDE"
      },
      "source": [
        "1.1.6 Задать два двумерных тензора `ar1` и `ar2` размерности (4, 7), состоящих из случайных целых чисел в пределах от 0 до 10. Построить двумерный тензор размерности (4, 7), каждый элемент которого представляет собой максимум из двух значений, находящихся на аналогичной позиции в массивах `ar1`, `ar2`.\n",
        "\n",
        "[Reductions ops](https://pytorch.org/docs/stable/torch.html#reduction-ops)"
      ]
    },
    {
      "cell_type": "code",
      "source": [
        "ar1 = 10 * torch.rand(4, 7)\n",
        "ar2 = 10 * torch.rand(4, 7)\n",
        "x = torch.max(ar1, ar2)\n",
        "x"
      ],
      "metadata": {
        "colab": {
          "base_uri": "https://localhost:8080/"
        },
        "id": "5i4WTBSiVQtv",
        "outputId": "f96ac86d-d8dd-4ff3-c8f9-156690757fec"
      },
      "execution_count": null,
      "outputs": [
        {
          "output_type": "execute_result",
          "data": {
            "text/plain": [
              "tensor([[5.7598, 5.0122, 9.0708, 4.1353, 5.5558, 9.5721, 5.7621],\n",
              "        [6.4396, 9.8189, 8.8414, 4.2629, 4.4012, 4.1044, 2.6308],\n",
              "        [8.1378, 9.5884, 3.8456, 9.1235, 5.1774, 5.1524, 8.6486],\n",
              "        [5.1934, 9.4299, 2.4470, 1.1700, 2.6674, 7.0994, 9.1246]])"
            ]
          },
          "metadata": {},
          "execution_count": 59
        }
      ]
    },
    {
      "cell_type": "markdown",
      "metadata": {
        "id": "x6zmMhyKBPWQ"
      },
      "source": [
        "1.1.7 Создать тензор из 20 случайных целых чисел от 0 до 100. Получить второе сверху значение в тензоре. Определить индекс этого значения."
      ]
    },
    {
      "cell_type": "code",
      "source": [
        "x = torch.randint(100, (20,))\n",
        "print(x)\n",
        "print(\"Второе сверху значение:\", torch.topk(x, 2)[0][1].item())\n",
        "print(\"Индекс:\", torch.topk(x, 2)[1][1].item())"
      ],
      "metadata": {
        "colab": {
          "base_uri": "https://localhost:8080/"
        },
        "id": "L1KBxv-CVhVY",
        "outputId": "b2507a42-bfe4-43a4-82dd-432f53f42111"
      },
      "execution_count": null,
      "outputs": [
        {
          "output_type": "stream",
          "name": "stdout",
          "text": [
            "tensor([68, 14, 21, 99, 96, 30, 17, 79, 10, 20, 77,  2, 66,  3, 17, 88, 70, 91,\n",
            "        57, 19])\n",
            "Второе сверху значение: 96\n",
            "Индекс: 4\n"
          ]
        }
      ]
    },
    {
      "cell_type": "markdown",
      "metadata": {
        "id": "Xshsy8fD1RDE"
      },
      "source": [
        "## 1.2 Распространение"
      ]
    },
    {
      "cell_type": "markdown",
      "metadata": {
        "id": "jlP22HAJCo28"
      },
      "source": [
        "[Numpy broadcasting](https://numpy.org/devdocs/user/theory.broadcasting.html)\n",
        "\n",
        "[Torch broadcasting](https://pytorch.org/docs/stable/notes/broadcasting.html)"
      ]
    },
    {
      "cell_type": "markdown",
      "metadata": {
        "id": "uRD6-8Gd1RDF"
      },
      "source": [
        "1.2.1 Создать тензор 11x7 вида: `[[1, 2, 3, ..., 7], [11, 12, 13, ..., 17], [21, 22, 23, ..., 27], ..., [101, 102, 103, ..., 107]]`. При решении задачи применить технику распространения."
      ]
    },
    {
      "cell_type": "code",
      "source": [
        "first_items = torch.arange(1, 8, step=1)\n",
        "print(first_items)\n",
        "second_items = torch.arange(0, 101, step=10).reshape(-1, 1) #Преобразуем в столбец из строки\n",
        "print(second_items)\n",
        "first_items + second_items"
      ],
      "metadata": {
        "colab": {
          "base_uri": "https://localhost:8080/"
        },
        "id": "aiaknNZIeqDL",
        "outputId": "aeb5e687-8af9-42e7-a6e6-27221e201bc1"
      },
      "execution_count": null,
      "outputs": [
        {
          "output_type": "stream",
          "name": "stdout",
          "text": [
            "tensor([1, 2, 3, 4, 5, 6, 7])\n",
            "tensor([[  0],\n",
            "        [ 10],\n",
            "        [ 20],\n",
            "        [ 30],\n",
            "        [ 40],\n",
            "        [ 50],\n",
            "        [ 60],\n",
            "        [ 70],\n",
            "        [ 80],\n",
            "        [ 90],\n",
            "        [100]])\n"
          ]
        },
        {
          "output_type": "execute_result",
          "data": {
            "text/plain": [
              "tensor([[  1,   2,   3,   4,   5,   6,   7],\n",
              "        [ 11,  12,  13,  14,  15,  16,  17],\n",
              "        [ 21,  22,  23,  24,  25,  26,  27],\n",
              "        [ 31,  32,  33,  34,  35,  36,  37],\n",
              "        [ 41,  42,  43,  44,  45,  46,  47],\n",
              "        [ 51,  52,  53,  54,  55,  56,  57],\n",
              "        [ 61,  62,  63,  64,  65,  66,  67],\n",
              "        [ 71,  72,  73,  74,  75,  76,  77],\n",
              "        [ 81,  82,  83,  84,  85,  86,  87],\n",
              "        [ 91,  92,  93,  94,  95,  96,  97],\n",
              "        [101, 102, 103, 104, 105, 106, 107]])"
            ]
          },
          "metadata": {},
          "execution_count": 73
        }
      ]
    },
    {
      "cell_type": "markdown",
      "metadata": {
        "id": "iSY9Iday1RDF"
      },
      "source": [
        "1.2.2 Вычесть одномерный тензор `b_1d` из двухмерного тензора `a_2d`, так, чтобы каждый элемент одномерного тензора вычитался из всех элементов соответствующих строк двумерного тензора.\n",
        "\n",
        "_Пример:_\n",
        "\n",
        "Для входа:\n",
        "```python\n",
        "a_2d = np.array([[3,3,3],[4,4,4],[5,5,5]])\n",
        "b_1d = np.array([1,2,3])\n",
        "```\n",
        "\n",
        "Ожидается резульат:\n",
        "\n",
        "```python\n",
        "[[2 2 2]\n",
        " [2 2 2]\n",
        " [2 2 2]]\n",
        "```"
      ]
    },
    {
      "cell_type": "code",
      "source": [
        "a_2d = torch.Tensor([[3,3,3],[4,4,4],[5,5,5]])\n",
        "b_1d = torch.Tensor([1,2,3])\n",
        "\n",
        "a_2d = torch.transpose(a_2d, 0, 1)\n",
        "\n",
        "tens = torch.sub(a_2d, b_1d)\n",
        "tens"
      ],
      "metadata": {
        "colab": {
          "base_uri": "https://localhost:8080/"
        },
        "id": "7Nkcsn41VHbd",
        "outputId": "16ad65fe-5bc9-4595-c085-fb8e60dd4fb8"
      },
      "execution_count": null,
      "outputs": [
        {
          "output_type": "execute_result",
          "data": {
            "text/plain": [
              "tensor([[2., 2., 2.],\n",
              "        [2., 2., 2.],\n",
              "        [2., 2., 2.]])"
            ]
          },
          "metadata": {},
          "execution_count": 57
        }
      ]
    },
    {
      "cell_type": "markdown",
      "metadata": {
        "id": "dFTvPsY91RDF"
      },
      "source": [
        "## 1.3 Индексы, маскирование и прихотливое индексирование\n",
        "\n",
        "[Документация по функциям для работы с индексами](https://pytorch.org/docs/stable/torch.html#indexing-slicing-joining-mutating-ops)"
      ]
    },
    {
      "cell_type": "markdown",
      "metadata": {
        "id": "McYtDYhH1RDG"
      },
      "source": [
        "1.3.1 Получить индексы, для которых элементы тензоров `a` и `b` совпадают.\n",
        "\n",
        "_Пример:_\n",
        "\n",
        "Для входа:\n",
        "```python\n",
        "a = np.array([1,2,3,2,3,4,3,4,5,6])\n",
        "b = np.array([7,2,10,2,7,4,9,4,9,8])\n",
        "```\n",
        "\n",
        "Ожидается резульат:\n",
        "\n",
        "```python\n",
        "array([1, 3, 5, 7])\n",
        "```"
      ]
    },
    {
      "cell_type": "code",
      "source": [
        "a = torch.tensor([1,2,3,2,3,4,3,4,5,6])\n",
        "b = torch.tensor([7,2,10,2,7,4,9,4,9,8])\n",
        "\n",
        "res = (a == b).nonzero(as_tuple=True)\n",
        "res[0].numpy()"
      ],
      "metadata": {
        "colab": {
          "base_uri": "https://localhost:8080/"
        },
        "id": "wNmlrR_zlDTb",
        "outputId": "f237d306-bd6c-4ddb-8e33-1cf3a5d83499"
      },
      "execution_count": null,
      "outputs": [
        {
          "output_type": "execute_result",
          "data": {
            "text/plain": [
              "array([1, 3, 5, 7])"
            ]
          },
          "metadata": {},
          "execution_count": 74
        }
      ]
    },
    {
      "cell_type": "markdown",
      "metadata": {
        "id": "MnBq3nfy1RDG"
      },
      "source": [
        "1.3.2 Инвертировать порядок элементов в двумерном тензоре `torch.arange(9).view(3,3)`.\n",
        "\n",
        "Ожидаемый результат:\n",
        "\n",
        "\n",
        "```python\n",
        "array([[8, 7, 6],\n",
        "       [5, 4, 3],\n",
        "       [2, 1, 0]])\n",
        "```"
      ]
    },
    {
      "cell_type": "code",
      "source": [
        "arr = torch.arange(9).view(3,3)\n",
        "arr = arr.flip(1).flip(0).numpy()\n",
        "arr"
      ],
      "metadata": {
        "colab": {
          "base_uri": "https://localhost:8080/"
        },
        "id": "KT4prmjGlGQd",
        "outputId": "7cb6780f-ab28-4753-e0a8-266b427cafb9"
      },
      "execution_count": null,
      "outputs": [
        {
          "output_type": "execute_result",
          "data": {
            "text/plain": [
              "array([[8, 7, 6],\n",
              "       [5, 4, 3],\n",
              "       [2, 1, 0]])"
            ]
          },
          "metadata": {},
          "execution_count": 75
        }
      ]
    },
    {
      "cell_type": "markdown",
      "metadata": {
        "id": "tANsLnOC1RDH"
      },
      "source": [
        "1.3.3 Из входного тензора a получить только элементы, находящиеся в диапазоне от 5 до 10.\n",
        "\n",
        "_Пример:_\n",
        "\n",
        "Для входа:\n",
        "```python\n",
        "a = np.array([2, 6, 1, 9, 10, 3, 27])\n",
        "```\n",
        "\n",
        "Ожидается резульат:\n",
        "\n",
        "```python\n",
        "array([6, 9, 10])\n",
        "```"
      ]
    },
    {
      "cell_type": "code",
      "source": [
        "a = torch.tensor([2, 6, 1, 9, 10, 3, 27])\n",
        "mask = (a >= 5) & (a <= 10)\n",
        "res = a[mask].numpy()\n",
        "res"
      ],
      "metadata": {
        "colab": {
          "base_uri": "https://localhost:8080/"
        },
        "id": "CosFEiCglKCC",
        "outputId": "cea8304b-a793-4423-e38f-afcf77ac392d"
      },
      "execution_count": null,
      "outputs": [
        {
          "output_type": "execute_result",
          "data": {
            "text/plain": [
              "array([ 6,  9, 10])"
            ]
          },
          "metadata": {},
          "execution_count": 76
        }
      ]
    },
    {
      "cell_type": "markdown",
      "metadata": {
        "id": "3vlK0gV21RDH"
      },
      "source": [
        "1.3.4 Поменять местами столбец 1 и 2 тензора `np.arange(9).reshape(3,3)`"
      ]
    },
    {
      "cell_type": "code",
      "source": [
        "res = torch.arange(9).reshape(3,3)\n",
        "print(res)\n",
        "res = res[:, [0, 2, 1]]\n",
        "res"
      ],
      "metadata": {
        "colab": {
          "base_uri": "https://localhost:8080/"
        },
        "id": "1JNEgfWLlN25",
        "outputId": "119ddc08-5385-408f-8312-e5dd9967ceac"
      },
      "execution_count": null,
      "outputs": [
        {
          "output_type": "stream",
          "name": "stdout",
          "text": [
            "tensor([[0, 1, 2],\n",
            "        [3, 4, 5],\n",
            "        [6, 7, 8]])\n"
          ]
        },
        {
          "output_type": "execute_result",
          "data": {
            "text/plain": [
              "tensor([[0, 2, 1],\n",
              "        [3, 5, 4],\n",
              "        [6, 8, 7]])"
            ]
          },
          "metadata": {},
          "execution_count": 77
        }
      ]
    },
    {
      "cell_type": "markdown",
      "metadata": {
        "id": "cheFtWhU1RDH"
      },
      "source": [
        "1.3.5 Создать тензор 8 на 10 из случайных целых чисел из диапазона от 0 до 10 и найти в ней строку (ее индекс и вывести саму строку), в которой сумма значений минимальна."
      ]
    },
    {
      "cell_type": "code",
      "source": [
        "t = torch.randint(0, 11, (8, 10))\n",
        "t"
      ],
      "metadata": {
        "colab": {
          "base_uri": "https://localhost:8080/"
        },
        "id": "4SLfWw1J4Rz4",
        "outputId": "8d4ab0f6-81d7-4606-a136-0b2ad1aea21c"
      },
      "execution_count": null,
      "outputs": [
        {
          "output_type": "execute_result",
          "data": {
            "text/plain": [
              "tensor([[ 7,  5,  0, 10,  7,  3,  1,  5,  3,  5],\n",
              "        [ 0,  1, 10,  0,  1,  0,  0,  8,  5,  9],\n",
              "        [ 8,  6,  2,  1,  2,  0,  1,  2,  3,  4],\n",
              "        [ 6,  3,  4,  2,  8,  2,  2,  2,  1,  1],\n",
              "        [ 4, 10,  5,  4,  9,  7, 10,  3,  2,  8],\n",
              "        [ 9,  8,  9, 10,  1, 10,  3,  7,  4,  5],\n",
              "        [ 3,  4,  6,  0,  9,  0,  2,  5,  6,  6],\n",
              "        [ 2,  2,  6,  0,  6,  7,  4,  2,  0,  5]])"
            ]
          },
          "metadata": {},
          "execution_count": 6
        }
      ]
    },
    {
      "cell_type": "code",
      "source": [
        "t.sum(dim=1).argmin() #индекс"
      ],
      "metadata": {
        "colab": {
          "base_uri": "https://localhost:8080/"
        },
        "id": "HcRQ1vS64VpJ",
        "outputId": "d7293f6b-32ec-43ce-a074-eddd46b86a40"
      },
      "execution_count": null,
      "outputs": [
        {
          "output_type": "execute_result",
          "data": {
            "text/plain": [
              "tensor(2)"
            ]
          },
          "metadata": {},
          "execution_count": 7
        }
      ]
    },
    {
      "cell_type": "code",
      "source": [
        "t.sum(dim=1).min(dim=0) #индекс"
      ],
      "metadata": {
        "colab": {
          "base_uri": "https://localhost:8080/"
        },
        "id": "ZxblPARS4YL2",
        "outputId": "b5cb5df6-dfe8-433e-c021-84a0af0be51e"
      },
      "execution_count": null,
      "outputs": [
        {
          "output_type": "execute_result",
          "data": {
            "text/plain": [
              "torch.return_types.min(\n",
              "values=tensor(29),\n",
              "indices=tensor(2))"
            ]
          },
          "metadata": {},
          "execution_count": 8
        }
      ]
    },
    {
      "cell_type": "code",
      "source": [
        "t[t.sum(dim=1).argmin()] #строчка"
      ],
      "metadata": {
        "colab": {
          "base_uri": "https://localhost:8080/"
        },
        "id": "bHLfqql94Z8e",
        "outputId": "63ca89d0-afe0-4cda-a80b-8a438196576f"
      },
      "execution_count": null,
      "outputs": [
        {
          "output_type": "execute_result",
          "data": {
            "text/plain": [
              "tensor([8, 6, 2, 1, 2, 0, 1, 2, 3, 4])"
            ]
          },
          "metadata": {},
          "execution_count": 9
        }
      ]
    },
    {
      "cell_type": "markdown",
      "metadata": {
        "id": "grOCNU4XFE2B"
      },
      "source": [
        "1.3.6 Cоздать тензор из 20 случайных целых чисел от 0 до 100. Обрезать значения тензора (заменить значения, выходящие за диапазон, на крайние значения) снизу по значению 30, сверху по значению 70."
      ]
    },
    {
      "cell_type": "code",
      "source": [
        "res = torch.randint(0, 101, size=[20])\n",
        "print(res)\n",
        "#Все что меньше - режем\n",
        "res[(res < 30)] = 30\n",
        "print(res)\n",
        "#Все что больше - режем\n",
        "res[(res > 70)] = 70\n",
        "res"
      ],
      "metadata": {
        "colab": {
          "base_uri": "https://localhost:8080/"
        },
        "id": "2e_Td7fyl-uQ",
        "outputId": "603ba7fc-b8f3-4471-f86b-aa8583a60203"
      },
      "execution_count": null,
      "outputs": [
        {
          "output_type": "stream",
          "name": "stdout",
          "text": [
            "tensor([ 79,  77,  30,  28,  35,  53,  97,  66,  18,   1, 100,   1,  74,  40,\n",
            "         34,  42,  78,  20,  42,  87])\n",
            "tensor([ 79,  77,  30,  30,  35,  53,  97,  66,  30,  30, 100,  30,  74,  40,\n",
            "         34,  42,  78,  30,  42,  87])\n"
          ]
        },
        {
          "output_type": "execute_result",
          "data": {
            "text/plain": [
              "tensor([70, 70, 30, 30, 35, 53, 70, 66, 30, 30, 70, 30, 70, 40, 34, 42, 70, 30,\n",
              "        42, 70])"
            ]
          },
          "metadata": {},
          "execution_count": 78
        }
      ]
    },
    {
      "cell_type": "markdown",
      "metadata": {
        "id": "HNfQjY8P1RDI"
      },
      "source": [
        "1.3.7 Создать два тензора размера 30 на 3 из случайных целых чисел из диапазона от 0 до 10 и найти все значения первого тензора, которые больше соответсвующих (по расположению) значений второго тензора. Подсчитать сумму этих значений."
      ]
    },
    {
      "cell_type": "code",
      "source": [
        "a1 = torch.randint(0, 11, size=[30, 3])\n",
        "a2 = torch.randint(0, 11, size=[30, 3])\n",
        "\n",
        "mask = a1 > a2\n",
        "print(a1[mask])\n",
        "\n",
        "res = a1[mask].sum().item()\n",
        "print(\"Sum:\", res)"
      ],
      "metadata": {
        "colab": {
          "base_uri": "https://localhost:8080/"
        },
        "id": "3I-sv1wRmQ9f",
        "outputId": "da73da00-3006-4e7d-cd46-23d570012e44"
      },
      "execution_count": null,
      "outputs": [
        {
          "output_type": "stream",
          "name": "stdout",
          "text": [
            "tensor([10, 10,  9,  5, 10,  9,  6,  7,  6,  7, 10,  7,  3,  5, 10,  5,  7,  9,\n",
            "         3,  4,  3,  8,  5,  2,  9,  8,  9,  9,  2,  6,  9,  5, 10,  7,  7,  6,\n",
            "        10,  3,  2,  8,  6])\n",
            "Sum: 276\n"
          ]
        }
      ]
    },
    {
      "cell_type": "markdown",
      "metadata": {
        "id": "doBCxYJA1RDI"
      },
      "source": [
        "1.3.8 При помощи прихотливого индексирования для двухмерного массива размерности (20, 20), состоящего из случайных целых чисел в пределах от 0 до 10 получить массив элементов находящихся на диагонали, проходящей над основной диагональю."
      ]
    },
    {
      "cell_type": "code",
      "source": [
        "t = torch.randint(11, (20, 20))\n",
        "t"
      ],
      "metadata": {
        "colab": {
          "base_uri": "https://localhost:8080/"
        },
        "id": "IArBqGIZ7x9f",
        "outputId": "44074073-e054-4171-8459-2e50287b6b43"
      },
      "execution_count": null,
      "outputs": [
        {
          "output_type": "execute_result",
          "data": {
            "text/plain": [
              "tensor([[ 7,  2,  1,  2,  0,  6,  2,  0,  2,  4,  8,  1,  4,  8,  7,  5,  6,  3,\n",
              "          1, 10],\n",
              "        [ 1,  0,  8,  0,  3,  5,  9,  0,  0, 10,  8,  1,  7,  9,  1,  8,  6,  5,\n",
              "          2, 10],\n",
              "        [ 2,  5,  5,  9,  1,  2,  9,  0,  0,  9,  7,  3,  9,  0,  4,  6,  6,  9,\n",
              "          2,  0],\n",
              "        [ 2,  4,  0, 10,  3,  6,  2,  3, 10,  8,  4,  8,  9,  1,  4,  9,  8,  8,\n",
              "          8,  8],\n",
              "        [10,  4,  2,  7,  1,  4,  3,  2,  4,  3,  5,  8,  2,  9,  5,  6,  4,  2,\n",
              "          4,  9],\n",
              "        [ 6,  4,  2, 10,  2,  2,  7,  1,  7, 10,  2, 10,  9,  8,  0,  9,  9, 10,\n",
              "          4,  9],\n",
              "        [ 7, 10,  8,  7,  3,  5,  4,  5,  4,  4,  7,  6,  1,  5,  0,  5,  3,  8,\n",
              "          2,  7],\n",
              "        [ 3,  3,  9,  5,  6,  6,  3,  6,  7,  2,  1,  4, 10,  7,  7,  3,  1,  9,\n",
              "          2,  2],\n",
              "        [ 9,  6,  1,  9,  9,  6, 10,  7,  4,  7,  8, 10,  9,  6,  9,  1,  5,  1,\n",
              "          1, 10],\n",
              "        [ 7,  0,  9,  8,  4, 10,  3,  7, 10,  9,  3,  2,  0,  9,  7,  0,  7,  8,\n",
              "          7,  0],\n",
              "        [ 4,  0,  6,  6,  3,  0,  4,  5,  5,  2,  0, 10, 10, 10,  6,  5,  3,  2,\n",
              "          5,  3],\n",
              "        [ 7,  1,  9,  3,  6,  3,  6,  4,  9,  5, 10,  2,  5,  5,  1,  5,  2,  8,\n",
              "          1,  3],\n",
              "        [ 4,  0,  6,  2,  9,  3,  3,  1,  1,  5,  1,  7,  8,  5,  3,  5,  0,  5,\n",
              "          0,  1],\n",
              "        [ 9,  5,  1,  0,  1,  1,  7,  4,  2,  6,  3,  6, 10, 10,  4,  0,  8,  4,\n",
              "          2,  8],\n",
              "        [ 6,  6,  5,  2,  4,  7,  3,  8,  9,  2,  8,  1,  4,  1,  6,  9,  6,  0,\n",
              "          2, 10],\n",
              "        [ 9,  0,  7,  3,  3,  2,  7,  1,  4,  1,  3,  1,  2,  6,  0,  8,  8,  0,\n",
              "          4,  0],\n",
              "        [ 0,  9,  3,  0,  4,  1,  4,  5,  1,  2, 10,  9,  2,  8,  5,  4,  4,  8,\n",
              "          0,  2],\n",
              "        [10,  9,  9,  5,  3,  3,  8, 10,  4,  1,  6,  3,  3, 10,  8, 10,  5,  7,\n",
              "         10,  6],\n",
              "        [ 3,  5,  1, 10,  2,  1,  4,  7,  7,  1,  4,  6, 10,  8,  0,  6,  4, 10,\n",
              "          1,  0],\n",
              "        [ 4,  6,  0, 10,  8,  9,  0,  7,  5,  2,  1,  0,  7,  6,  7,  6,  0,  8,\n",
              "          6,  8]])"
            ]
          },
          "metadata": {},
          "execution_count": 28
        }
      ]
    },
    {
      "cell_type": "code",
      "source": [
        "rows = torch.arange(19)\n",
        "columns = torch.arange(1,20)\n",
        "t[rows, columns]"
      ],
      "metadata": {
        "colab": {
          "base_uri": "https://localhost:8080/"
        },
        "id": "KE0iO9wr7065",
        "outputId": "283f0d7f-ace2-4e7d-e420-70eedb801e32"
      },
      "execution_count": null,
      "outputs": [
        {
          "output_type": "execute_result",
          "data": {
            "text/plain": [
              "tensor([ 2,  8,  9,  3,  4,  7,  5,  7,  7,  3, 10,  5,  5,  4,  9,  8,  8, 10,\n",
              "         0])"
            ]
          },
          "metadata": {},
          "execution_count": 29
        }
      ]
    },
    {
      "cell_type": "markdown",
      "metadata": {
        "id": "6M1lkfLp1RDJ"
      },
      "source": [
        "1.3.9 Задать два двухмерных тензора `ar1` и `ar2` размерности (5, 10), состоящих из случайных целых чисел в пределах от 0 до 10. Удвоить все значения `ar1`, которые совпадают со значениями `ar2`, расположенными на аналогичных позициях."
      ]
    },
    {
      "cell_type": "code",
      "source": [
        "ar1 = torch.randint(11, (5, 10))\n",
        "ar2 = torch.randint(11, (5, 10))\n",
        "print(ar1)\n",
        "print()\n",
        "print(ar2)"
      ],
      "metadata": {
        "colab": {
          "base_uri": "https://localhost:8080/"
        },
        "id": "XrQCVTs--nZN",
        "outputId": "1f61fa6c-b328-4254-a9d0-7da58f2ee906"
      },
      "execution_count": null,
      "outputs": [
        {
          "output_type": "stream",
          "name": "stdout",
          "text": [
            "tensor([[ 5,  7, 10,  3,  4,  0,  9,  0,  2,  2],\n",
            "        [ 6,  7,  4,  3,  0,  7,  1,  5,  3,  2],\n",
            "        [ 7,  5,  4,  9,  0,  3,  9,  6,  9,  9],\n",
            "        [ 6,  4,  2, 10,  1,  0,  6,  4,  3,  5],\n",
            "        [ 1, 10,  0,  7,  6,  3,  9,  4, 10,  7]])\n",
            "\n",
            "tensor([[ 0,  2,  6,  4,  4,  3,  2,  5,  0, 10],\n",
            "        [ 0,  5,  1,  7,  8,  1,  9,  6,  4,  3],\n",
            "        [ 8,  6,  7,  0,  2,  5,  5,  7,  3,  8],\n",
            "        [ 7,  9,  0,  5,  6, 10,  7,  6,  4,  0],\n",
            "        [ 9,  0, 10,  0,  8,  7, 10,  8,  5,  6]])\n"
          ]
        }
      ]
    },
    {
      "cell_type": "code",
      "source": [
        "ar1[ar1 == ar2] *= 2\n",
        "ar1"
      ],
      "metadata": {
        "colab": {
          "base_uri": "https://localhost:8080/"
        },
        "id": "j5H5_wJh-qXp",
        "outputId": "612d2bf8-22c9-447f-aa82-51d24a944b28"
      },
      "execution_count": null,
      "outputs": [
        {
          "output_type": "execute_result",
          "data": {
            "text/plain": [
              "tensor([[ 5,  7, 10,  3,  8,  0,  9,  0,  2,  2],\n",
              "        [ 6,  7,  4,  3,  0,  7,  1,  5,  3,  2],\n",
              "        [ 7,  5,  4,  9,  0,  3,  9,  6,  9,  9],\n",
              "        [ 6,  4,  2, 10,  1,  0,  6,  4,  3,  5],\n",
              "        [ 1, 10,  0,  7,  6,  3,  9,  4, 10,  7]])"
            ]
          },
          "metadata": {},
          "execution_count": 55
        }
      ]
    },
    {
      "cell_type": "markdown",
      "metadata": {
        "id": "Qe2oVr4p1RDJ"
      },
      "source": [
        "1.3.10 Заданы три двухмерных тензора `ar1`, `ar2` и `ar3` размерности (4, 7), состоящие из случайных целых чисел в пределах от 0 до 10. Обнулить все элементы `ar1`, которые больше соответствующих (находящихся в соответствующих позициях) элементов `ar2` и меньше соответствующих элементов `ar3`."
      ]
    },
    {
      "cell_type": "code",
      "source": [
        "ar1 = torch.randint(11, (4, 7))\n",
        "ar2 = torch.randint(11, (4, 7))\n",
        "ar3 = torch.randint(11, (4, 7))\n",
        "print(ar1)\n",
        "print()\n",
        "print(ar2)\n",
        "print()\n",
        "print(ar3)"
      ],
      "metadata": {
        "colab": {
          "base_uri": "https://localhost:8080/"
        },
        "id": "8SafypKo-h1m",
        "outputId": "1785f931-8352-4556-d056-421318dfc3ef"
      },
      "execution_count": null,
      "outputs": [
        {
          "output_type": "stream",
          "name": "stdout",
          "text": [
            "tensor([[ 0,  7, 10,  9,  6,  6,  3],\n",
            "        [ 7,  4,  1,  6,  1,  2, 10],\n",
            "        [ 7,  3,  5,  1,  4,  0,  5],\n",
            "        [ 1,  9,  6,  7,  5,  0,  1]])\n",
            "\n",
            "tensor([[ 2,  0,  2,  7,  7, 10,  5],\n",
            "        [ 0,  7,  9,  7,  6,  1,  1],\n",
            "        [ 1,  3,  8,  3,  1,  5,  9],\n",
            "        [ 8,  0,  2, 10, 10,  4,  5]])\n",
            "\n",
            "tensor([[ 6,  3,  7,  4,  2,  7,  6],\n",
            "        [ 8,  5,  6,  2, 10,  2,  3],\n",
            "        [ 0,  6,  6,  6,  9,  4,  3],\n",
            "        [ 2, 10,  3,  0,  4,  4,  3]])\n"
          ]
        }
      ]
    },
    {
      "cell_type": "code",
      "source": [
        "ar1[(ar1 > ar2) & (ar1 < ar3)] = 0 \n",
        "ar1"
      ],
      "metadata": {
        "colab": {
          "base_uri": "https://localhost:8080/"
        },
        "id": "edw8HRcS-j5c",
        "outputId": "0fadd826-4500-4d87-d666-d532d34f7b72"
      },
      "execution_count": null,
      "outputs": [
        {
          "output_type": "execute_result",
          "data": {
            "text/plain": [
              "tensor([[ 0,  7, 10,  9,  6,  6,  3],\n",
              "        [ 0,  4,  1,  6,  1,  2, 10],\n",
              "        [ 7,  3,  5,  1,  0,  0,  5],\n",
              "        [ 1,  0,  6,  7,  5,  0,  1]])"
            ]
          },
          "metadata": {},
          "execution_count": 53
        }
      ]
    },
    {
      "cell_type": "markdown",
      "metadata": {
        "id": "BTcRVeYh1RDK"
      },
      "source": [
        "1.3.11 Задан двумерный тензор `ar1` размерности (20, 5), состоящий из случайных целых чисел в пределах от 0 до 20. Определить, в каких столбцах не менее 5 раз встречается значение, максимальное по своей строке."
      ]
    },
    {
      "cell_type": "code",
      "source": [
        "a1 = torch.randint(0, 21, size=(20, 5))\n",
        "print(a1, \"\\n\")\n",
        "condition = (a1.T == a1.max(axis=1).values).T.sum(axis=0) > 5\n",
        "res = (condition).nonzero(as_tuple=True)\n",
        "res[0]"
      ],
      "metadata": {
        "colab": {
          "base_uri": "https://localhost:8080/"
        },
        "id": "2YDqIlDZmm8V",
        "outputId": "fe88244f-fe2e-4294-f636-8534e206eb97"
      },
      "execution_count": null,
      "outputs": [
        {
          "output_type": "stream",
          "name": "stdout",
          "text": [
            "tensor([[ 1,  7, 14, 16, 10],\n",
            "        [ 0,  9,  6, 20, 11],\n",
            "        [19, 19,  2, 12, 19],\n",
            "        [ 0,  0, 10,  7,  9],\n",
            "        [ 2,  1, 12,  5,  7],\n",
            "        [ 1,  7, 14, 20, 18],\n",
            "        [ 9, 19,  1,  1, 18],\n",
            "        [13, 20, 14, 14,  9],\n",
            "        [ 6, 19,  9, 17,  1],\n",
            "        [14, 14,  8, 15,  0],\n",
            "        [14,  7, 17, 13,  8],\n",
            "        [ 4, 13, 15, 13, 14],\n",
            "        [ 5, 12, 18,  0, 16],\n",
            "        [ 5,  7,  5, 18,  7],\n",
            "        [ 4,  7, 15, 13, 14],\n",
            "        [20,  2, 20, 12,  6],\n",
            "        [ 2, 11, 14,  1,  2],\n",
            "        [13, 16,  7, 13, 13],\n",
            "        [ 3,  1,  6,  1,  5],\n",
            "        [ 2,  6,  9, 11, 14]]) \n",
            "\n"
          ]
        },
        {
          "output_type": "execute_result",
          "data": {
            "text/plain": [
              "tensor([2])"
            ]
          },
          "metadata": {},
          "execution_count": 80
        }
      ]
    },
    {
      "cell_type": "markdown",
      "metadata": {
        "id": "ZeYlNWNE1RDK"
      },
      "source": [
        "1.3.12 Задан двумерный тензор `ar1` размерности (4, 7), состоящий из случайных  чисел в пределах от 0 до 1. Обнулить все значения в массиве, расположенные строго правее и ниже максимального элемента массива. "
      ]
    },
    {
      "cell_type": "code",
      "source": [
        "ar1 = torch.rand((4, 7))\n",
        "print(ar1)\n",
        "maximum = ar1.max().item()\n",
        "print(maximum)\n",
        "\n",
        "ar1[(ar1 == maximum).nonzero(as_tuple=True)[0][0] + 1:, (ar1 == maximum).nonzero(as_tuple=True)[1][0] + 1:] = 0\n",
        "ar1"
      ],
      "metadata": {
        "colab": {
          "base_uri": "https://localhost:8080/"
        },
        "id": "HPpFseWz-adC",
        "outputId": "8444421d-698b-4f46-a212-358bcbd94dc8"
      },
      "execution_count": null,
      "outputs": [
        {
          "output_type": "stream",
          "name": "stdout",
          "text": [
            "tensor([[0.0996, 0.7655, 0.5749, 0.7991, 0.8741, 0.0752, 0.4333],\n",
            "        [0.2060, 0.7965, 0.9568, 0.3966, 0.7007, 0.7827, 0.5314],\n",
            "        [0.9188, 0.1836, 0.2938, 0.9920, 0.6280, 0.1310, 0.2614],\n",
            "        [0.9234, 0.6579, 0.0954, 0.6366, 0.1418, 0.9083, 0.5201]])\n",
            "0.9919907450675964\n"
          ]
        },
        {
          "output_type": "execute_result",
          "data": {
            "text/plain": [
              "tensor([[0.0996, 0.7655, 0.5749, 0.7991, 0.8741, 0.0752, 0.4333],\n",
              "        [0.2060, 0.7965, 0.9568, 0.3966, 0.7007, 0.7827, 0.5314],\n",
              "        [0.9188, 0.1836, 0.2938, 0.9920, 0.6280, 0.1310, 0.2614],\n",
              "        [0.9234, 0.6579, 0.0954, 0.6366, 0.0000, 0.0000, 0.0000]])"
            ]
          },
          "metadata": {},
          "execution_count": 81
        }
      ]
    },
    {
      "cell_type": "markdown",
      "metadata": {
        "id": "pYxX90B11RDL"
      },
      "source": [
        "1.3.13 Построить \"one-hot encoding\" для одномерного тензора, содержащего целые числа (длина вектора заранее неизвестна, набор значений заранее неизвестен, при этом в итоговой матрице должны присутствовать столбцы для всех натуральных чисел вплоть до максимального встречающегося в исходном массиве).\n",
        "\n",
        "Пример:\n",
        "\n",
        "для тензора `torch.tensor([2, 3, 2, 2, 2, 1])`.\n",
        "\n",
        "Ожидается результат:\n",
        "\n",
        "```python\n",
        "tensor([[0., 1., 0.],\n",
        "        [0., 0., 1.],\n",
        "        [0., 1., 0.],\n",
        "        [0., 1., 0.],\n",
        "        [0., 1., 0.],\n",
        "        [1., 0., 0.]])\n",
        "```"
      ]
    },
    {
      "cell_type": "code",
      "source": [
        "arr = torch.tensor([2, 3, 2, 2, 2, 1])\n",
        "res = torch.zeros(arr.size()[0], arr.max())\n",
        "res[torch.arange(arr.size()[0]), arr-1] = 1\n",
        "res"
      ],
      "metadata": {
        "colab": {
          "base_uri": "https://localhost:8080/"
        },
        "id": "CX-vFtcVnF3S",
        "outputId": "a9be757d-9bb5-401e-9640-e3e22a2297f8"
      },
      "execution_count": null,
      "outputs": [
        {
          "output_type": "execute_result",
          "data": {
            "text/plain": [
              "tensor([[0., 1., 0.],\n",
              "        [0., 0., 1.],\n",
              "        [0., 1., 0.],\n",
              "        [0., 1., 0.],\n",
              "        [0., 1., 0.],\n",
              "        [1., 0., 0.]])"
            ]
          },
          "metadata": {},
          "execution_count": 82
        }
      ]
    },
    {
      "cell_type": "markdown",
      "metadata": {
        "id": "GYU8DmNTDLN8"
      },
      "source": [
        "1.3.14 Создать тензор `arr` из 20 случайных целых чисел от 0 до 100. Найти самое частое значение в тензоре. \n",
        "Найти индексы в тензоре, соответствующие самому частому значению. Проверить, как работет алгоритм при двух значениях, имеющих наибольшую встречаемость, предложить приемлемое поведение алгоритма для этого случая. "
      ]
    },
    {
      "cell_type": "code",
      "source": [
        "arr = torch.randint(0, 101, size=[20])\n",
        "print(arr)\n",
        "most_value = torch.mode(arr)[0]\n",
        "print(most_value)\n",
        "res = (arr == most_value).nonzero(as_tuple=True)[0].tolist()\n",
        "res"
      ],
      "metadata": {
        "colab": {
          "base_uri": "https://localhost:8080/"
        },
        "id": "2cFGzIDqnRm-",
        "outputId": "75c402b0-9781-49ff-a675-987e7b5468a4"
      },
      "execution_count": null,
      "outputs": [
        {
          "output_type": "stream",
          "name": "stdout",
          "text": [
            "tensor([ 77,   4,  49,  67,  27,  68,  52,  14,  14,  30,  85,  82,  42,  29,\n",
            "         89,  91,  72,  60,  81, 100])\n",
            "tensor(14)\n"
          ]
        },
        {
          "output_type": "execute_result",
          "data": {
            "text/plain": [
              "[7, 8]"
            ]
          },
          "metadata": {},
          "execution_count": 83
        }
      ]
    },
    {
      "cell_type": "markdown",
      "metadata": {
        "id": "UenAEfEG1RDN"
      },
      "source": [
        "## 1.4 Математические задачи"
      ]
    },
    {
      "cell_type": "markdown",
      "metadata": {
        "id": "6weDrqJR1RDN"
      },
      "source": [
        "1.4.1 Приблизительно (с погрешностью порядка 1%) рассчитать на какой части интервала от 0 до 10 значение функции x * sin(x) больше 0.5."
      ]
    },
    {
      "cell_type": "code",
      "source": [
        "x = torch.linspace(0, 10, steps=10000000)\n",
        "x"
      ],
      "metadata": {
        "colab": {
          "base_uri": "https://localhost:8080/"
        },
        "id": "s5RZlvY38lXA",
        "outputId": "cf18e597-9552-4df1-f5a5-2bc472dbefa9"
      },
      "execution_count": null,
      "outputs": [
        {
          "output_type": "execute_result",
          "data": {
            "text/plain": [
              "tensor([0.0000e+00, 1.0000e-06, 2.0000e-06,  ..., 1.0000e+01, 1.0000e+01,\n",
              "        1.0000e+01])"
            ]
          },
          "metadata": {},
          "execution_count": 30
        }
      ]
    },
    {
      "cell_type": "code",
      "source": [
        "interval = x[(torch.sin(x) * x) > 0.5]\n",
        "interval"
      ],
      "metadata": {
        "colab": {
          "base_uri": "https://localhost:8080/"
        },
        "id": "SutigVa28nfi",
        "outputId": "178e7a28-1f72-4794-92f0-b0f40cd18504"
      },
      "execution_count": null,
      "outputs": [
        {
          "output_type": "execute_result",
          "data": {
            "text/plain": [
              "tensor([0.7408, 0.7408, 0.7408,  ..., 9.3714, 9.3714, 9.3714])"
            ]
          },
          "metadata": {},
          "execution_count": 31
        }
      ]
    },
    {
      "cell_type": "markdown",
      "metadata": {
        "id": "B9xAv8TR1RDN"
      },
      "source": [
        "1.4.2 Найти все простые числа в пределах ста. (Для решения предлагается использовать Решето Эратосфена) Использовать не более 1 цикла (желательно)."
      ]
    },
    {
      "cell_type": "code",
      "source": [
        "t = torch.arange(2, 101)\n",
        "t"
      ],
      "metadata": {
        "colab": {
          "base_uri": "https://localhost:8080/"
        },
        "id": "jJEWeK9A8xfF",
        "outputId": "ab1b4b4b-2c29-477e-ef40-f15c3dcd1e40"
      },
      "execution_count": null,
      "outputs": [
        {
          "output_type": "execute_result",
          "data": {
            "text/plain": [
              "tensor([  2,   3,   4,   5,   6,   7,   8,   9,  10,  11,  12,  13,  14,  15,\n",
              "         16,  17,  18,  19,  20,  21,  22,  23,  24,  25,  26,  27,  28,  29,\n",
              "         30,  31,  32,  33,  34,  35,  36,  37,  38,  39,  40,  41,  42,  43,\n",
              "         44,  45,  46,  47,  48,  49,  50,  51,  52,  53,  54,  55,  56,  57,\n",
              "         58,  59,  60,  61,  62,  63,  64,  65,  66,  67,  68,  69,  70,  71,\n",
              "         72,  73,  74,  75,  76,  77,  78,  79,  80,  81,  82,  83,  84,  85,\n",
              "         86,  87,  88,  89,  90,  91,  92,  93,  94,  95,  96,  97,  98,  99,\n",
              "        100])"
            ]
          },
          "metadata": {},
          "execution_count": 32
        }
      ]
    },
    {
      "cell_type": "code",
      "source": [
        "for p in t:\n",
        "  if p != 0:\n",
        "    t[2*p-2::p] = 0\n",
        "    \n",
        "t"
      ],
      "metadata": {
        "colab": {
          "base_uri": "https://localhost:8080/"
        },
        "id": "yHydfx128y8G",
        "outputId": "40597a53-3633-422c-90b6-7f067ce7ce00"
      },
      "execution_count": null,
      "outputs": [
        {
          "output_type": "execute_result",
          "data": {
            "text/plain": [
              "tensor([ 2,  3,  0,  5,  0,  7,  0,  0,  0, 11,  0, 13,  0,  0,  0, 17,  0, 19,\n",
              "         0,  0,  0, 23,  0,  0,  0,  0,  0, 29,  0, 31,  0,  0,  0,  0,  0, 37,\n",
              "         0,  0,  0, 41,  0, 43,  0,  0,  0, 47,  0,  0,  0,  0,  0, 53,  0,  0,\n",
              "         0,  0,  0, 59,  0, 61,  0,  0,  0,  0,  0, 67,  0,  0,  0, 71,  0, 73,\n",
              "         0,  0,  0,  0,  0, 79,  0,  0,  0, 83,  0,  0,  0,  0,  0, 89,  0,  0,\n",
              "         0,  0,  0,  0,  0, 97,  0,  0,  0])"
            ]
          },
          "metadata": {},
          "execution_count": 33
        }
      ]
    },
    {
      "cell_type": "code",
      "source": [
        "t[t != 0] # простые числа в пределах ста"
      ],
      "metadata": {
        "colab": {
          "base_uri": "https://localhost:8080/"
        },
        "id": "JwMgx-_T8057",
        "outputId": "781f605d-9f6b-4831-c537-e46f6d626193"
      },
      "execution_count": null,
      "outputs": [
        {
          "output_type": "execute_result",
          "data": {
            "text/plain": [
              "tensor([ 2,  3,  5,  7, 11, 13, 17, 19, 23, 29, 31, 37, 41, 43, 47, 53, 59, 61,\n",
              "        67, 71, 73, 79, 83, 89, 97])"
            ]
          },
          "metadata": {},
          "execution_count": 34
        }
      ]
    },
    {
      "cell_type": "markdown",
      "metadata": {
        "id": "AHupFoTR1RDN"
      },
      "source": [
        "1.4.3 Найти евклидово расстояние между двумя одномерными тензорами одинаковой размерности, не используя готовые решения из библиотек."
      ]
    },
    {
      "cell_type": "code",
      "source": [
        "x = torch.tensor([2, 3, 4, 5, 6, 7, 8, 9, 10])\n",
        "y = torch.tensor([1, 2, 3, 4, 5, 6, 7, 8, 9])\n",
        "\n",
        "\n",
        "res = ((x - y) ** 2).sum().item()\n",
        "res"
      ],
      "metadata": {
        "colab": {
          "base_uri": "https://localhost:8080/"
        },
        "id": "8xvlwGoWnxzP",
        "outputId": "21ba8598-5523-4497-ce80-b806ea861748"
      },
      "execution_count": null,
      "outputs": [
        {
          "output_type": "execute_result",
          "data": {
            "text/plain": [
              "9"
            ]
          },
          "metadata": {},
          "execution_count": 84
        }
      ]
    },
    {
      "cell_type": "markdown",
      "metadata": {
        "id": "j-ZvjWDKDVMQ"
      },
      "source": [
        "1.4.4 Создать двумерный тензор 20 на 3, содержащий случайные целые числа от 0 до 100. \n",
        "Интерпретируя тензор как 20 векторов из 3х компонент, отсортировать его по длине векторов."
      ]
    },
    {
      "cell_type": "code",
      "source": [
        "arr = torch.randint(0, 101, size=[20, 3])\n",
        "print(arr,\"\\n\")\n",
        "\n",
        "mask = (arr ** 2).sum(axis=1).sort().indices\n",
        "print(\"mask:\\n\",mask)\n",
        "res = arr[mask]\n",
        "res"
      ],
      "metadata": {
        "colab": {
          "base_uri": "https://localhost:8080/"
        },
        "id": "yT7ohqJ3n0LI",
        "outputId": "abfc8827-ce29-41b5-fdee-440b8d3bbd47"
      },
      "execution_count": null,
      "outputs": [
        {
          "output_type": "stream",
          "name": "stdout",
          "text": [
            "tensor([[ 48,  66,  78],\n",
            "        [ 73,  62,  78],\n",
            "        [ 67,  95,  92],\n",
            "        [ 96,  95,  45],\n",
            "        [ 76,  42,  80],\n",
            "        [  3,  38,  86],\n",
            "        [ 43,  17,  41],\n",
            "        [ 70,  46,  25],\n",
            "        [ 87,  35,  93],\n",
            "        [  6,  86,  99],\n",
            "        [ 76,   1,  62],\n",
            "        [ 23, 100,  76],\n",
            "        [ 97,  97,  76],\n",
            "        [ 89,  53,  16],\n",
            "        [ 31,  36,  63],\n",
            "        [ 44,  75,  40],\n",
            "        [  0,  31,  32],\n",
            "        [ 40,   9,  28],\n",
            "        [ 61,  22,  91],\n",
            "        [ 19,  27,  99]]) \n",
            "\n",
            "mask:\n",
            " tensor([16, 17,  6, 14,  7,  5, 15, 10, 19, 13, 18,  0,  4,  1, 11,  9,  8,  3,\n",
            "         2, 12])\n"
          ]
        },
        {
          "output_type": "execute_result",
          "data": {
            "text/plain": [
              "tensor([[  0,  31,  32],\n",
              "        [ 40,   9,  28],\n",
              "        [ 43,  17,  41],\n",
              "        [ 31,  36,  63],\n",
              "        [ 70,  46,  25],\n",
              "        [  3,  38,  86],\n",
              "        [ 44,  75,  40],\n",
              "        [ 76,   1,  62],\n",
              "        [ 19,  27,  99],\n",
              "        [ 89,  53,  16],\n",
              "        [ 61,  22,  91],\n",
              "        [ 48,  66,  78],\n",
              "        [ 76,  42,  80],\n",
              "        [ 73,  62,  78],\n",
              "        [ 23, 100,  76],\n",
              "        [  6,  86,  99],\n",
              "        [ 87,  35,  93],\n",
              "        [ 96,  95,  45],\n",
              "        [ 67,  95,  92],\n",
              "        [ 97,  97,  76]])"
            ]
          },
          "metadata": {},
          "execution_count": 85
        }
      ]
    },
    {
      "cell_type": "markdown",
      "metadata": {
        "id": "IkBRFTKa1RDO"
      },
      "source": [
        "1.4.5 Найти \"локальные максимумы\" в одномерном тензоре (т.е. значения, большие предыдущего и последующего) `torch.tensor([1, 3, 7, 1, 2, 6, 0, 1])` и вывести их индексы."
      ]
    },
    {
      "cell_type": "code",
      "source": [
        "arr = torch.tensor([1, 3, 7, 10, 2, 6, 10, 1])\n",
        "print(arr)\n",
        "\n",
        "a = torch.diff(arr)[:-1]\n",
        "print(a)\n",
        "b = torch.diff(arr.flip(0)).flip(0)[ 1:]\n",
        "print(b)\n",
        "\n",
        "print(((a > 0) & (b > 0)).nonzero( as_tuple= True)[0] + 1)"
      ],
      "metadata": {
        "colab": {
          "base_uri": "https://localhost:8080/"
        },
        "id": "a0xKJAocoSGL",
        "outputId": "da9ca1f3-c814-4450-aeb8-362e2b3c8596"
      },
      "execution_count": null,
      "outputs": [
        {
          "output_type": "stream",
          "name": "stdout",
          "text": [
            "tensor([ 1,  3,  7, 10,  2,  6, 10,  1])\n",
            "tensor([ 2,  4,  3, -8,  4,  4])\n",
            "tensor([-4, -3,  8, -4, -4,  9])\n",
            "tensor([3, 6])\n"
          ]
        }
      ]
    },
    {
      "cell_type": "markdown",
      "metadata": {
        "id": "VXD58rlc1RDP"
      },
      "source": [
        "1.4.6 Задан произвольный массив torch (например массив из 100 случайных числе от 0 до 1). Необходимо найти в нем число наиболее близкое к заданному."
      ]
    },
    {
      "cell_type": "code",
      "source": [
        "t = torch.rand(100)\n",
        "t"
      ],
      "metadata": {
        "colab": {
          "base_uri": "https://localhost:8080/"
        },
        "id": "8PzO9q4f9sDI",
        "outputId": "b5b3f4ce-ac29-4edc-d55a-e225406a0fc3"
      },
      "execution_count": null,
      "outputs": [
        {
          "output_type": "execute_result",
          "data": {
            "text/plain": [
              "tensor([0.0716, 0.9270, 0.6044, 0.3370, 0.5429, 0.7933, 0.9674, 0.8162, 0.5141,\n",
              "        0.4160, 0.7041, 0.3621, 0.9100, 0.6412, 0.5583, 0.4085, 0.6969, 0.0169,\n",
              "        0.8293, 0.1934, 0.7445, 0.3698, 0.5144, 0.8878, 0.6623, 0.3602, 0.8807,\n",
              "        0.3242, 0.1666, 0.0123, 0.7293, 0.4500, 0.5961, 0.3782, 0.4000, 0.4969,\n",
              "        0.3932, 0.0303, 0.5758, 0.6440, 0.9352, 0.3990, 0.5478, 0.7469, 0.6054,\n",
              "        0.5666, 0.3144, 0.0596, 0.5608, 0.3584, 0.6410, 0.1659, 0.0790, 0.0738,\n",
              "        0.8566, 0.0972, 0.3140, 0.6924, 0.2949, 0.6060, 0.8148, 0.7343, 0.3752,\n",
              "        0.6304, 0.5714, 0.5512, 0.3890, 0.0228, 0.1911, 0.8863, 0.8078, 0.2421,\n",
              "        0.0460, 0.4530, 0.2244, 0.0058, 0.8806, 0.7302, 0.4098, 0.6909, 0.3214,\n",
              "        0.2515, 0.3644, 0.6051, 0.8355, 0.9349, 0.2414, 0.0224, 0.3838, 0.4820,\n",
              "        0.7456, 0.1376, 0.9239, 0.5392, 0.8075, 0.0686, 0.1210, 0.5871, 0.5626,\n",
              "        0.7348])"
            ]
          },
          "metadata": {},
          "execution_count": 88
        }
      ]
    },
    {
      "cell_type": "code",
      "source": [
        "number = float(input('Введите число: '))"
      ],
      "metadata": {
        "colab": {
          "base_uri": "https://localhost:8080/"
        },
        "id": "_3Qlmw4N9uUA",
        "outputId": "f8809b1a-e97e-405d-ca7a-0bddebb7c7fd"
      },
      "execution_count": null,
      "outputs": [
        {
          "name": "stdout",
          "output_type": "stream",
          "text": [
            "Введите число: 0.5\n"
          ]
        }
      ]
    },
    {
      "cell_type": "code",
      "source": [
        "max = t[t >= number].sort()\n",
        "max"
      ],
      "metadata": {
        "colab": {
          "base_uri": "https://localhost:8080/"
        },
        "id": "N42ZWTzC9yCo",
        "outputId": "b2a27103-b4fe-4e21-86c3-7eaea6b78cd0"
      },
      "execution_count": null,
      "outputs": [
        {
          "output_type": "execute_result",
          "data": {
            "text/plain": [
              "torch.return_types.sort(\n",
              "values=tensor([0.5141, 0.5144, 0.5392, 0.5429, 0.5478, 0.5512, 0.5583, 0.5608, 0.5626,\n",
              "        0.5666, 0.5714, 0.5758, 0.5871, 0.5961, 0.6044, 0.6051, 0.6054, 0.6060,\n",
              "        0.6304, 0.6410, 0.6412, 0.6440, 0.6623, 0.6909, 0.6924, 0.6969, 0.7041,\n",
              "        0.7293, 0.7302, 0.7343, 0.7348, 0.7445, 0.7456, 0.7469, 0.7933, 0.8075,\n",
              "        0.8078, 0.8148, 0.8162, 0.8293, 0.8355, 0.8566, 0.8806, 0.8807, 0.8863,\n",
              "        0.8878, 0.9100, 0.9239, 0.9270, 0.9349, 0.9352, 0.9674]),\n",
              "indices=tensor([ 6, 14, 47,  2, 23, 36, 10, 27, 50, 26, 35, 20, 49, 19,  1, 42, 25, 31,\n",
              "        34, 28,  9, 21, 16, 41, 30, 11,  7, 18, 40, 33, 51, 13, 45, 24,  3, 48,\n",
              "        38, 32,  5, 12, 43, 29, 39, 17, 37, 15,  8, 46,  0, 44, 22,  4]))"
            ]
          },
          "metadata": {},
          "execution_count": 90
        }
      ]
    },
    {
      "cell_type": "code",
      "source": [
        "min = t[t <= number].sort()\n",
        "min"
      ],
      "metadata": {
        "colab": {
          "base_uri": "https://localhost:8080/"
        },
        "id": "9t7V0UTA90Iz",
        "outputId": "c83df229-3a4c-49da-ffbc-614b6f80311b"
      },
      "execution_count": null,
      "outputs": [
        {
          "output_type": "execute_result",
          "data": {
            "text/plain": [
              "torch.return_types.sort(\n",
              "values=tensor([0.0058, 0.0123, 0.0169, 0.0224, 0.0228, 0.0303, 0.0460, 0.0596, 0.0686,\n",
              "        0.0716, 0.0738, 0.0790, 0.0972, 0.1210, 0.1376, 0.1659, 0.1666, 0.1911,\n",
              "        0.1934, 0.2244, 0.2414, 0.2421, 0.2515, 0.2949, 0.3140, 0.3144, 0.3214,\n",
              "        0.3242, 0.3370, 0.3584, 0.3602, 0.3621, 0.3644, 0.3698, 0.3752, 0.3782,\n",
              "        0.3838, 0.3890, 0.3932, 0.3990, 0.4000, 0.4085, 0.4098, 0.4160, 0.4500,\n",
              "        0.4530, 0.4820, 0.4969]),\n",
              "indices=tensor([36, 11,  5, 42, 30, 17, 33, 20, 46,  0, 24, 23, 25, 47, 45, 22, 10, 31,\n",
              "         6, 35, 41, 32, 39, 27, 26, 19, 38,  9,  1, 21,  8,  3, 40,  7, 28, 13,\n",
              "        43, 29, 16, 18, 14,  4, 37,  2, 12, 34, 44, 15]))"
            ]
          },
          "metadata": {},
          "execution_count": 91
        }
      ]
    },
    {
      "cell_type": "code",
      "source": [
        "max = max[0][0]\n",
        "min = min[0][-1]\n",
        "print(max, min)"
      ],
      "metadata": {
        "colab": {
          "base_uri": "https://localhost:8080/"
        },
        "id": "_BNTyMTu92SX",
        "outputId": "806085da-78dc-4b61-b203-f678ae8ed945"
      },
      "execution_count": null,
      "outputs": [
        {
          "output_type": "stream",
          "name": "stdout",
          "text": [
            "tensor(0.5141) tensor(0.4969)\n"
          ]
        }
      ]
    },
    {
      "cell_type": "code",
      "source": [
        "difference_max = max - number\n",
        "difference_min = number - min\n",
        "print('Число наиболее близкое к заданному:')\n",
        "if difference_max > difference_min:\n",
        "  print(min)\n",
        "else:\n",
        "  print(max)"
      ],
      "metadata": {
        "colab": {
          "base_uri": "https://localhost:8080/"
        },
        "id": "a585oyQM94BE",
        "outputId": "ecd884b1-a71c-4572-9c3f-e395df34de2b"
      },
      "execution_count": null,
      "outputs": [
        {
          "output_type": "stream",
          "name": "stdout",
          "text": [
            "Число наиболее близкое к заданному:\n",
            "tensor(0.4969)\n"
          ]
        }
      ]
    },
    {
      "cell_type": "markdown",
      "metadata": {
        "id": "81F_B2ij1RDP"
      },
      "source": [
        "1.4.7 Решить матричное уравнение `A*X*B=-C` - найти матрицу X. Где `A = [[-1, 2, 4], [-3, 1, 2], [-3, 0, 1]]`, `B=[[3, -1], [2, 1]]`, `C=[[7, 21], [11, 8], [8, 4]]`."
      ]
    },
    {
      "cell_type": "markdown",
      "source": [
        "**X = A^-1·(-C)·B^-1**"
      ],
      "metadata": {
        "id": "Plz-x_CU9AHf"
      }
    },
    {
      "cell_type": "code",
      "source": [
        "a = torch.tensor([[-1, 2, 4], [-3, 1, 2], [-3, 0, 1]]) * 1.0\n",
        "b = torch.tensor([[3, -1], [2, 1]]) * 1.0\n",
        "c = torch.tensor([[7, 21], [11, 8], [8, 4]]) * 1.0\n",
        "print(a)\n",
        "print()\n",
        "print(b)\n",
        "print()\n",
        "print(c)"
      ],
      "metadata": {
        "colab": {
          "base_uri": "https://localhost:8080/"
        },
        "id": "lOGSVFui9GKR",
        "outputId": "4a9ccfb5-d68f-4a36-8701-89ee863c4396"
      },
      "execution_count": null,
      "outputs": [
        {
          "output_type": "stream",
          "name": "stdout",
          "text": [
            "tensor([[-1.,  2.,  4.],\n",
            "        [-3.,  1.,  2.],\n",
            "        [-3.,  0.,  1.]])\n",
            "\n",
            "tensor([[ 3., -1.],\n",
            "        [ 2.,  1.]])\n",
            "\n",
            "tensor([[ 7., 21.],\n",
            "        [11.,  8.],\n",
            "        [ 8.,  4.]])\n"
          ]
        }
      ]
    },
    {
      "cell_type": "code",
      "source": [
        "a = torch.inverse(a)\n",
        "b = torch.inverse(b)\n",
        "x = a @ (-c) @ b\n",
        "x.round()"
      ],
      "metadata": {
        "colab": {
          "base_uri": "https://localhost:8080/"
        },
        "id": "ISWo0UFw9JYl",
        "outputId": "228c233e-d1ca-4278-ce74-2790cfdb77c2"
      },
      "execution_count": null,
      "outputs": [
        {
          "output_type": "execute_result",
          "data": {
            "text/plain": [
              "tensor([[ 1., -0.],\n",
              "        [-2.,  1.],\n",
              "        [ 3., -4.]])"
            ]
          },
          "metadata": {},
          "execution_count": 36
        }
      ]
    },
    {
      "cell_type": "markdown",
      "metadata": {
        "id": "1P7O19bj1RDP"
      },
      "source": [
        "1.4.8 Проверить, является ли система векторов a1 = (3; −3; 0; 7),\n",
        "a2 = (2; 2; 4; 7), a3 = (1; 2; 3; 4), a4 = (5; −4; 1; 3) линейно зависимой?"
      ]
    },
    {
      "cell_type": "code",
      "source": [
        "#Система векторов является линейно зависимой тогда и только тогда, \n",
        "#когда в ней найдется вектор, который линейно выражается через остальные векторы этой системы\n",
        "res_dict = {0: \"Вектора линейно зависимы\", 1: \"Вектора линейно независимы\"}\n",
        "a1 = [3., -3, 0, 7]\n",
        "a2 = [2, 2, 4, 7]\n",
        "a3 = [1, 2, 3, 4]\n",
        "a4 = [5, -4, 1, 3]\n",
        "\n",
        "res = torch.tensor([a1, a2, a3, a4])\n",
        "res_dict[int(res.det().round().tolist())]"
      ],
      "metadata": {
        "colab": {
          "base_uri": "https://localhost:8080/",
          "height": 36
        },
        "id": "JzR2tv2f9NlM",
        "outputId": "db03234c-7233-49ec-a10d-b3fe74d7e0e3"
      },
      "execution_count": null,
      "outputs": [
        {
          "output_type": "execute_result",
          "data": {
            "text/plain": [
              "'Вектора линейно зависимы'"
            ],
            "application/vnd.google.colaboratory.intrinsic+json": {
              "type": "string"
            }
          },
          "metadata": {},
          "execution_count": 97
        }
      ]
    },
    {
      "cell_type": "code",
      "source": [
        "a1 = [1.,1.,1.]\n",
        "a2 = [1.,2.,0.]\n",
        "a3 = [0.,-1.,1.]\n",
        "\n",
        "res = torch.tensor([a1, a2, a3])\n",
        "res_dict[int(res.det().round().tolist())]"
      ],
      "metadata": {
        "colab": {
          "base_uri": "https://localhost:8080/",
          "height": 36
        },
        "id": "HPSYP40T9Vow",
        "outputId": "834e86a4-ef7b-46df-bf7c-e4d0ecb1fc08"
      },
      "execution_count": null,
      "outputs": [
        {
          "output_type": "execute_result",
          "data": {
            "text/plain": [
              "'Вектора линейно зависимы'"
            ],
            "application/vnd.google.colaboratory.intrinsic+json": {
              "type": "string"
            }
          },
          "metadata": {},
          "execution_count": 95
        }
      ]
    },
    {
      "cell_type": "code",
      "source": [
        "a1 = [1.,1.,1.]\n",
        "a2 = [1.,2.,0.]\n",
        "a3 = [0.,-1.,2.]\n",
        "\n",
        "res = torch.tensor([a1, a2, a3])\n",
        "res_dict[int(res.det().round().tolist())]"
      ],
      "metadata": {
        "colab": {
          "base_uri": "https://localhost:8080/",
          "height": 36
        },
        "id": "dxdD9iO2orKZ",
        "outputId": "3444dd50-9871-49b7-9335-deed3c648090"
      },
      "execution_count": null,
      "outputs": [
        {
          "output_type": "execute_result",
          "data": {
            "text/plain": [
              "'Вектора линейно независимы'"
            ],
            "application/vnd.google.colaboratory.intrinsic+json": {
              "type": "string"
            }
          },
          "metadata": {},
          "execution_count": 96
        }
      ]
    },
    {
      "cell_type": "markdown",
      "metadata": {
        "id": "Jg_bzMVS1RDQ"
      },
      "source": [
        "1.4.9 Сгенирировать тензор из 200 случайных целых чисел, нормально распрделенных cо стандартным отклонением $\\sigma = 10$ и матожиданием $\\mu = 0$. Построить тензор гистограммы с 20 бинами. "
      ]
    }
  ],
  "metadata": {
    "colab": {
      "provenance": []
    },
    "kernelspec": {
      "display_name": "Python 3 (ipykernel)",
      "language": "python",
      "name": "python3"
    },
    "language_info": {
      "codemirror_mode": {
        "name": "ipython",
        "version": 3
      },
      "file_extension": ".py",
      "mimetype": "text/x-python",
      "name": "python",
      "nbconvert_exporter": "python",
      "pygments_lexer": "ipython3",
      "version": "3.9.13"
    }
  },
  "nbformat": 4,
  "nbformat_minor": 0
}