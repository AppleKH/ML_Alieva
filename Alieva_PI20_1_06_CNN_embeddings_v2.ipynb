{
  "nbformat": 4,
  "nbformat_minor": 0,
  "metadata": {
    "colab": {
      "provenance": []
    },
    "kernelspec": {
      "name": "python3",
      "display_name": "Python 3"
    },
    "language_info": {
      "name": "python"
    },
    "accelerator": "GPU"
  },
  "cells": [
    {
      "cell_type": "code",
      "metadata": {
        "id": "XtFQP3RNll3c",
        "colab": {
          "base_uri": "https://localhost:8080/"
        },
        "outputId": "0f79c9da-5281-4f73-f5b0-2b46e5183e42"
      },
      "source": [
        "import re\n",
        "import nltk\n",
        "import json\n",
        "\n",
        "import torch\n",
        "from torch.utils.data import Dataset, DataLoader\n",
        "import torch.nn as nn\n",
        "import torch.optim as optim\n",
        "\n",
        "import pandas as pd\n",
        "import numpy as np\n",
        "from typing import List, Dict\n",
        "from sklearn.model_selection import train_test_split\n",
        "from sklearn.metrics import accuracy_score\n",
        "from nltk.tokenize import word_tokenize, sent_tokenize\n",
        "from sklearn.preprocessing import LabelEncoder\n",
        "nltk.download('punkt')"
      ],
      "execution_count": 63,
      "outputs": [
        {
          "output_type": "stream",
          "name": "stderr",
          "text": [
            "[nltk_data] Downloading package punkt to /root/nltk_data...\n",
            "[nltk_data]   Package punkt is already up-to-date!\n"
          ]
        },
        {
          "output_type": "execute_result",
          "data": {
            "text/plain": [
              "True"
            ]
          },
          "metadata": {},
          "execution_count": 63
        }
      ]
    },
    {
      "cell_type": "code",
      "metadata": {
        "colab": {
          "base_uri": "https://localhost:8080/"
        },
        "id": "1aszp7KbOstY",
        "outputId": "9102f0b8-67a9-483c-bd6b-2ddbd5e82bed"
      },
      "source": [
        "from google.colab import drive\n",
        "drive.mount('/content/drive/')"
      ],
      "execution_count": 2,
      "outputs": [
        {
          "output_type": "stream",
          "name": "stdout",
          "text": [
            "Mounted at /content/drive/\n"
          ]
        }
      ]
    },
    {
      "cell_type": "markdown",
      "metadata": {
        "id": "tx75RigN8xIJ"
      },
      "source": [
        "## 1. Представление и предобработка текстовых данных в виде последовательностей"
      ]
    },
    {
      "cell_type": "markdown",
      "metadata": {
        "id": "LScKIAey9dAM"
      },
      "source": [
        "1.1 Представьте первое предложение из строки `text` как последовательность из индексов слов, входящих в это предложение"
      ]
    },
    {
      "cell_type": "code",
      "metadata": {
        "id": "phEw721T9SYW"
      },
      "source": [
        "text = 'Select your preferences and run the install command. Stable represents the most currently tested and supported version of PyTorch. Note that LibTorch is only available for C++'"
      ],
      "execution_count": 3,
      "outputs": []
    },
    {
      "cell_type": "code",
      "source": [
        "def text2vector(text: str, bag: Dict[str, int]) -> List[int]:\n",
        "    patched_words = text.lower().split(\" \")\n",
        "    return [bag[word] for word in patched_words]"
      ],
      "metadata": {
        "id": "qpPoitaLANwc"
      },
      "execution_count": 4,
      "outputs": []
    },
    {
      "cell_type": "code",
      "source": [
        "words_set = set(map(lambda x: x.lower(), text.split(\" \")))\n",
        "bag_router_dict = {word : index for index, word in enumerate(words_set)}\n",
        "bag_router_dict"
      ],
      "metadata": {
        "colab": {
          "base_uri": "https://localhost:8080/"
        },
        "id": "8sE1m6ASAbSH",
        "outputId": "afa2e399-411f-4e54-a292-938c5bafb6af"
      },
      "execution_count": 5,
      "outputs": [
        {
          "output_type": "execute_result",
          "data": {
            "text/plain": [
              "{'pytorch.': 0,\n",
              " 'supported': 1,\n",
              " 'that': 2,\n",
              " 'stable': 3,\n",
              " 'is': 4,\n",
              " 'the': 5,\n",
              " 'for': 6,\n",
              " 'run': 7,\n",
              " 'version': 8,\n",
              " 'most': 9,\n",
              " 'available': 10,\n",
              " 'c++': 11,\n",
              " 'and': 12,\n",
              " 'tested': 13,\n",
              " 'install': 14,\n",
              " 'preferences': 15,\n",
              " 'only': 16,\n",
              " 'currently': 17,\n",
              " 'represents': 18,\n",
              " 'note': 19,\n",
              " 'select': 20,\n",
              " 'libtorch': 21,\n",
              " 'of': 22,\n",
              " 'command.': 23,\n",
              " 'your': 24}"
            ]
          },
          "metadata": {},
          "execution_count": 5
        }
      ]
    },
    {
      "cell_type": "code",
      "source": [
        "text2vector(text, bag_router_dict)"
      ],
      "metadata": {
        "colab": {
          "base_uri": "https://localhost:8080/"
        },
        "id": "yUPfQFX2AeDn",
        "outputId": "a4d7a126-4bb9-4763-e3f3-de165c3899f9"
      },
      "execution_count": 6,
      "outputs": [
        {
          "output_type": "execute_result",
          "data": {
            "text/plain": [
              "[20,\n",
              " 24,\n",
              " 15,\n",
              " 12,\n",
              " 7,\n",
              " 5,\n",
              " 14,\n",
              " 23,\n",
              " 3,\n",
              " 18,\n",
              " 5,\n",
              " 9,\n",
              " 17,\n",
              " 13,\n",
              " 12,\n",
              " 1,\n",
              " 8,\n",
              " 22,\n",
              " 0,\n",
              " 19,\n",
              " 2,\n",
              " 21,\n",
              " 4,\n",
              " 16,\n",
              " 10,\n",
              " 6,\n",
              " 11]"
            ]
          },
          "metadata": {},
          "execution_count": 6
        }
      ]
    },
    {
      "cell_type": "markdown",
      "metadata": {
        "id": "pSFQCPtD9x5J"
      },
      "source": [
        "1.2 Представьте первое предложение из строки `text` как последовательность векторов, соответствующих индексам слов. Для представления индекса в виде вектора используйте унитарное кодирование. В результате должен получиться двумерный тензор размера `количество слов в предложении` x `количество уникальных слов`"
      ]
    },
    {
      "cell_type": "code",
      "metadata": {
        "id": "RZS4XLV0-buf"
      },
      "source": [
        "text = 'Select your preferences and run the install command. Stable represents the most currently tested and supported version of PyTorch. Note that LibTorch is only available for C++'"
      ],
      "execution_count": 7,
      "outputs": []
    },
    {
      "cell_type": "code",
      "source": [
        "text = text.lower()\n",
        "text"
      ],
      "metadata": {
        "colab": {
          "base_uri": "https://localhost:8080/",
          "height": 35
        },
        "id": "dOSCazCRAjv3",
        "outputId": "d800dbfd-6bed-4663-cdb8-4f566e1f9eaf"
      },
      "execution_count": 8,
      "outputs": [
        {
          "output_type": "execute_result",
          "data": {
            "text/plain": [
              "'select your preferences and run the install command. stable represents the most currently tested and supported version of pytorch. note that libtorch is only available for c++'"
            ],
            "application/vnd.google.colaboratory.intrinsic+json": {
              "type": "string"
            }
          },
          "metadata": {},
          "execution_count": 8
        }
      ]
    },
    {
      "cell_type": "code",
      "source": [
        "#Формируем dict с ассоциацией слово -> таргет (индекс)\n",
        "target = list(set(nltk.word_tokenize(text.replace(\".\", \"\"))))\n",
        "word2index = {word: count for count, word in enumerate(target)}\n",
        "word2index"
      ],
      "metadata": {
        "colab": {
          "base_uri": "https://localhost:8080/"
        },
        "id": "jfCbvwjGAmcc",
        "outputId": "f7e6b86b-35d3-4b17-914f-8ae975d72660"
      },
      "execution_count": 9,
      "outputs": [
        {
          "output_type": "execute_result",
          "data": {
            "text/plain": [
              "{'supported': 0,\n",
              " 'that': 1,\n",
              " 'stable': 2,\n",
              " 'is': 3,\n",
              " 'pytorch': 4,\n",
              " 'the': 5,\n",
              " 'command': 6,\n",
              " 'for': 7,\n",
              " 'run': 8,\n",
              " 'version': 9,\n",
              " 'most': 10,\n",
              " 'available': 11,\n",
              " 'c++': 12,\n",
              " 'and': 13,\n",
              " 'tested': 14,\n",
              " 'install': 15,\n",
              " 'preferences': 16,\n",
              " 'only': 17,\n",
              " 'currently': 18,\n",
              " 'represents': 19,\n",
              " 'note': 20,\n",
              " 'select': 21,\n",
              " 'libtorch': 22,\n",
              " 'of': 23,\n",
              " 'your': 24}"
            ]
          },
          "metadata": {},
          "execution_count": 9
        }
      ]
    },
    {
      "cell_type": "code",
      "source": [
        "#Берем первое предложение для процессинга\n",
        "sentence_str = nltk.sent_tokenize(text)[0].replace(\".\", \"\")\n",
        "sentence_str"
      ],
      "metadata": {
        "colab": {
          "base_uri": "https://localhost:8080/",
          "height": 35
        },
        "id": "rE_zdJzsAvuu",
        "outputId": "4d288f1e-f8ce-416b-88cb-658befc6a852"
      },
      "execution_count": 10,
      "outputs": [
        {
          "output_type": "execute_result",
          "data": {
            "text/plain": [
              "'select your preferences and run the install command'"
            ],
            "application/vnd.google.colaboratory.intrinsic+json": {
              "type": "string"
            }
          },
          "metadata": {},
          "execution_count": 10
        }
      ]
    },
    {
      "cell_type": "code",
      "source": [
        "#Получаем список слов в предложении\n",
        "words_list = nltk.word_tokenize(sentence_str)\n",
        "words_list"
      ],
      "metadata": {
        "colab": {
          "base_uri": "https://localhost:8080/"
        },
        "id": "h1-SDwbgAyBf",
        "outputId": "37938844-f8e8-4588-b8ed-6fb215c815cf"
      },
      "execution_count": 11,
      "outputs": [
        {
          "output_type": "execute_result",
          "data": {
            "text/plain": [
              "['select', 'your', 'preferences', 'and', 'run', 'the', 'install', 'command']"
            ]
          },
          "metadata": {},
          "execution_count": 11
        }
      ]
    },
    {
      "cell_type": "code",
      "source": [
        "#Создаем нулевой вектор по нашей длине\n",
        "vectors = torch.zeros(len(words_list), len(target))\n",
        "vectors"
      ],
      "metadata": {
        "colab": {
          "base_uri": "https://localhost:8080/"
        },
        "id": "SWBmLmCwA0Q4",
        "outputId": "c7b4d78c-79b2-4f1c-935d-840c7d70e3da"
      },
      "execution_count": 12,
      "outputs": [
        {
          "output_type": "execute_result",
          "data": {
            "text/plain": [
              "tensor([[0., 0., 0., 0., 0., 0., 0., 0., 0., 0., 0., 0., 0., 0., 0., 0., 0., 0., 0., 0., 0., 0., 0., 0.,\n",
              "         0.],\n",
              "        [0., 0., 0., 0., 0., 0., 0., 0., 0., 0., 0., 0., 0., 0., 0., 0., 0., 0., 0., 0., 0., 0., 0., 0.,\n",
              "         0.],\n",
              "        [0., 0., 0., 0., 0., 0., 0., 0., 0., 0., 0., 0., 0., 0., 0., 0., 0., 0., 0., 0., 0., 0., 0., 0.,\n",
              "         0.],\n",
              "        [0., 0., 0., 0., 0., 0., 0., 0., 0., 0., 0., 0., 0., 0., 0., 0., 0., 0., 0., 0., 0., 0., 0., 0.,\n",
              "         0.],\n",
              "        [0., 0., 0., 0., 0., 0., 0., 0., 0., 0., 0., 0., 0., 0., 0., 0., 0., 0., 0., 0., 0., 0., 0., 0.,\n",
              "         0.],\n",
              "        [0., 0., 0., 0., 0., 0., 0., 0., 0., 0., 0., 0., 0., 0., 0., 0., 0., 0., 0., 0., 0., 0., 0., 0.,\n",
              "         0.],\n",
              "        [0., 0., 0., 0., 0., 0., 0., 0., 0., 0., 0., 0., 0., 0., 0., 0., 0., 0., 0., 0., 0., 0., 0., 0.,\n",
              "         0.],\n",
              "        [0., 0., 0., 0., 0., 0., 0., 0., 0., 0., 0., 0., 0., 0., 0., 0., 0., 0., 0., 0., 0., 0., 0., 0.,\n",
              "         0.]])"
            ]
          },
          "metadata": {},
          "execution_count": 12
        }
      ]
    },
    {
      "cell_type": "code",
      "source": [
        "#Получаем список, содержащий индекс слова и его закодированную цифру\n",
        "indices = [(index, word2index[word]) for index, word in enumerate(words_list)]\n",
        "indices"
      ],
      "metadata": {
        "colab": {
          "base_uri": "https://localhost:8080/"
        },
        "id": "fYwDp3UcA2xL",
        "outputId": "582a8048-6d40-4d5b-aca8-93ee1021c88d"
      },
      "execution_count": 13,
      "outputs": [
        {
          "output_type": "execute_result",
          "data": {
            "text/plain": [
              "[(0, 21), (1, 24), (2, 16), (3, 13), (4, 8), (5, 5), (6, 15), (7, 6)]"
            ]
          },
          "metadata": {},
          "execution_count": 13
        }
      ]
    },
    {
      "cell_type": "code",
      "source": [
        "#Формируем маску, по которой будем вставлять единицу в тензор\n",
        "current_mask = list(zip(*indices))\n",
        "current_mask"
      ],
      "metadata": {
        "colab": {
          "base_uri": "https://localhost:8080/"
        },
        "id": "auvvtKiPA5ES",
        "outputId": "72d6463c-c6a6-45be-a28e-ce46d79a0db5"
      },
      "execution_count": 14,
      "outputs": [
        {
          "output_type": "execute_result",
          "data": {
            "text/plain": [
              "[(0, 1, 2, 3, 4, 5, 6, 7), (21, 24, 16, 13, 8, 5, 15, 6)]"
            ]
          },
          "metadata": {},
          "execution_count": 14
        }
      ]
    },
    {
      "cell_type": "code",
      "source": [
        "#Получаем итоговый результат \n",
        "vectors[current_mask] = 1\n",
        "vectors"
      ],
      "metadata": {
        "colab": {
          "base_uri": "https://localhost:8080/"
        },
        "id": "orjnQUzAA7at",
        "outputId": "2b8a534f-a9ab-474b-a64e-374d42f8ae95"
      },
      "execution_count": 15,
      "outputs": [
        {
          "output_type": "execute_result",
          "data": {
            "text/plain": [
              "tensor([[0., 0., 0., 0., 0., 0., 0., 0., 0., 0., 0., 0., 0., 0., 0., 0., 0., 0.,\n",
              "         0., 0., 0., 1., 0., 0., 0.],\n",
              "        [0., 0., 0., 0., 0., 0., 0., 0., 0., 0., 0., 0., 0., 0., 0., 0., 0., 0.,\n",
              "         0., 0., 0., 0., 0., 0., 1.],\n",
              "        [0., 0., 0., 0., 0., 0., 0., 0., 0., 0., 0., 0., 0., 0., 0., 0., 1., 0.,\n",
              "         0., 0., 0., 0., 0., 0., 0.],\n",
              "        [0., 0., 0., 0., 0., 0., 0., 0., 0., 0., 0., 0., 0., 1., 0., 0., 0., 0.,\n",
              "         0., 0., 0., 0., 0., 0., 0.],\n",
              "        [0., 0., 0., 0., 0., 0., 0., 0., 1., 0., 0., 0., 0., 0., 0., 0., 0., 0.,\n",
              "         0., 0., 0., 0., 0., 0., 0.],\n",
              "        [0., 0., 0., 0., 0., 1., 0., 0., 0., 0., 0., 0., 0., 0., 0., 0., 0., 0.,\n",
              "         0., 0., 0., 0., 0., 0., 0.],\n",
              "        [0., 0., 0., 0., 0., 0., 0., 0., 0., 0., 0., 0., 0., 0., 0., 1., 0., 0.,\n",
              "         0., 0., 0., 0., 0., 0., 0.],\n",
              "        [0., 0., 0., 0., 0., 0., 1., 0., 0., 0., 0., 0., 0., 0., 0., 0., 0., 0.,\n",
              "         0., 0., 0., 0., 0., 0., 0.]])"
            ]
          },
          "metadata": {},
          "execution_count": 15
        }
      ]
    },
    {
      "cell_type": "code",
      "source": [
        "indices_old = indices"
      ],
      "metadata": {
        "id": "OfwS-9KMA9vq"
      },
      "execution_count": 16,
      "outputs": []
    },
    {
      "cell_type": "markdown",
      "metadata": {
        "id": "9ZvQKHYA-mJN"
      },
      "source": [
        "1.3 Решите задачу 1.2, используя модуль `nn.Embedding`"
      ]
    },
    {
      "cell_type": "code",
      "source": [
        "#чтоб случайного фактора не было и рандомных значений\n",
        "torch.manual_seed(0)"
      ],
      "metadata": {
        "colab": {
          "base_uri": "https://localhost:8080/"
        },
        "id": "csioSo8RBB3R",
        "outputId": "56691ebe-a6ad-42c2-9b30-392449c32df5"
      },
      "execution_count": 17,
      "outputs": [
        {
          "output_type": "execute_result",
          "data": {
            "text/plain": [
              "<torch._C.Generator at 0x7fe17f3acbd0>"
            ]
          },
          "metadata": {},
          "execution_count": 17
        }
      ]
    },
    {
      "cell_type": "code",
      "source": [
        "len(target)"
      ],
      "metadata": {
        "colab": {
          "base_uri": "https://localhost:8080/"
        },
        "id": "r4ADKuWmBHWS",
        "outputId": "8f5e740f-5ab2-469b-b4ba-a68a245fb1d0"
      },
      "execution_count": 18,
      "outputs": [
        {
          "output_type": "execute_result",
          "data": {
            "text/plain": [
              "25"
            ]
          },
          "metadata": {},
          "execution_count": 18
        }
      ]
    },
    {
      "cell_type": "code",
      "source": [
        "#Создаем объект эмбединга\n",
        "embeds = nn.Embedding(num_embeddings=len(target), embedding_dim=len(target))\n",
        "embeds"
      ],
      "metadata": {
        "colab": {
          "base_uri": "https://localhost:8080/"
        },
        "id": "nVgwDyanBLI4",
        "outputId": "cb5f0435-7b17-4e7b-ad6e-96d320bf6225"
      },
      "execution_count": 19,
      "outputs": [
        {
          "output_type": "execute_result",
          "data": {
            "text/plain": [
              "Embedding(25, 25)"
            ]
          },
          "metadata": {},
          "execution_count": 19
        }
      ]
    },
    {
      "cell_type": "code",
      "source": [
        "indices = torch.tensor([word2index[w] for w in nltk.word_tokenize(sentence_str)])\n",
        "indices"
      ],
      "metadata": {
        "colab": {
          "base_uri": "https://localhost:8080/"
        },
        "id": "oHkE1gI5BOEg",
        "outputId": "d95118c1-0161-416d-d0e6-bdfba97edbd4"
      },
      "execution_count": 20,
      "outputs": [
        {
          "output_type": "execute_result",
          "data": {
            "text/plain": [
              "tensor([21, 24, 16, 13,  8,  5, 15,  6])"
            ]
          },
          "metadata": {},
          "execution_count": 20
        }
      ]
    },
    {
      "cell_type": "code",
      "source": [
        "assert list(map(lambda x: x[1], indices_old)) == list(map(lambda x: x.item(), indices))"
      ],
      "metadata": {
        "id": "9nSB5yQHBQnw"
      },
      "execution_count": 21,
      "outputs": []
    },
    {
      "cell_type": "code",
      "source": [
        "#Получаем эмбединги по нашим индексам\n",
        "embeds(indices)"
      ],
      "metadata": {
        "colab": {
          "base_uri": "https://localhost:8080/"
        },
        "id": "FfC-LbQVBTSn",
        "outputId": "9a0ea98d-33e0-4399-fb4b-83a189414c0e"
      },
      "execution_count": 22,
      "outputs": [
        {
          "output_type": "execute_result",
          "data": {
            "text/plain": [
              "tensor([[ 1.2532, -0.4445,  0.8185, -0.8180,  0.3603, -1.6146, -2.4734,  0.0362,\n",
              "         -0.3422, -0.3817, -0.0569,  0.8436,  0.6829,  3.3944, -1.6688,  0.5109,\n",
              "         -0.2860,  0.3351,  1.1719,  1.2955,  0.8909, -0.4898, -1.1727, -0.6870,\n",
              "         -2.3349],\n",
              "        [ 0.1483,  2.4187,  1.3279, -0.2639,  0.3645,  2.5440, -2.6895,  2.4426,\n",
              "          0.0104, -0.5644, -0.9184, -0.7496, -0.0949,  1.1009,  1.3105, -0.2928,\n",
              "          0.4181, -0.1695, -2.1749,  0.7202,  0.2854,  0.2290,  1.2833, -1.3792,\n",
              "          1.4042],\n",
              "        [-0.7645,  0.2408,  0.1664, -2.2318,  1.3892, -0.5023,  1.6797, -1.0240,\n",
              "          1.6859, -1.2177,  0.7650,  1.1971, -0.7128, -0.0656,  2.2050,  1.7852,\n",
              "         -0.0118,  0.9797, -1.0661,  1.7720, -0.2793, -0.2769,  0.7489, -0.6435,\n",
              "         -0.9518],\n",
              "        [ 1.0077,  1.0046, -0.4335, -1.2426,  1.2846,  0.2438,  0.5304, -0.0145,\n",
              "         -2.2357,  1.4660, -1.2191,  0.6442,  3.9300, -0.1244,  0.2953,  0.3827,\n",
              "         -0.5497, -0.9940,  1.3459,  1.9457, -1.2904, -2.3495, -2.0689,  0.9094,\n",
              "         -0.6946],\n",
              "        [-0.0744, -1.0922,  0.3920,  0.5945,  0.6623, -1.2063,  0.6074, -0.5472,\n",
              "          1.1711,  0.0975,  0.9634,  0.8403, -1.2537,  0.9868, -0.4947, -1.2830,\n",
              "          0.9552,  1.2836, -0.6659,  0.5651,  0.2877, -0.0334, -1.0619, -0.1144,\n",
              "         -0.3433],\n",
              "        [ 1.1648,  0.9234,  1.3873, -0.8834, -0.4189, -0.8048,  0.5656,  0.6104,\n",
              "          0.4669,  1.9507, -1.0631, -0.0773,  0.1164, -0.5940, -1.2439, -0.1021,\n",
              "         -1.0335, -0.3126,  0.2458, -0.2596,  0.1183,  0.2440,  1.1646,  0.2886,\n",
              "          0.3866],\n",
              "        [ 0.6573, -0.3112, -0.5620, -0.4835, -1.2721, -0.1740,  0.5541, -0.1817,\n",
              "         -0.2345,  0.2942,  0.7973,  1.2642,  0.9355,  0.5455, -1.5374,  0.3124,\n",
              "          0.7401,  1.4502,  4.1015,  1.1182, -1.5668, -0.6990,  0.5744,  1.2381,\n",
              "         -0.6405],\n",
              "        [-0.2011, -0.1179,  0.1922, -0.7722, -1.9003,  0.1307, -0.7043,  0.3147,\n",
              "          0.1574,  0.3854,  0.9671, -0.9911,  0.3016, -0.1073,  0.9985, -0.4987,\n",
              "          0.7611,  0.6183,  0.3140,  0.2133, -0.1201,  0.3605, -0.3140, -1.0787,\n",
              "          0.2408]], grad_fn=<EmbeddingBackward0>)"
            ]
          },
          "metadata": {},
          "execution_count": 22
        }
      ]
    },
    {
      "cell_type": "markdown",
      "metadata": {
        "id": "TXjM7qEUNFY_"
      },
      "source": [
        "## 2. Классификация фамилий по национальности (ConvNet)\n",
        "\n",
        "Датасет: https://disk.yandex.ru/d/owHew8hzPc7X9Q?w=1\n",
        "\n",
        "2.1 Считать файл `surnames/surnames.csv`. \n",
        "\n",
        "2.2 Закодировать национальности числами, начиная с 0.\n",
        "\n",
        "2.3 Разбить датасет на обучающую и тестовую выборку\n",
        "\n",
        "2.4 Реализовать класс `Vocab` (токен = __символ__)\n",
        "  * добавьте в словарь специальный токен `<PAD>` с индексом 0\n",
        "  * при создании словаря сохраните длину самой длинной последовательности из набора данных в виде атрибута `max_seq_len`\n",
        "\n",
        "2.5 Реализовать класс `SurnamesDataset`\n",
        "  * метод `__getitem__` возвращает пару: <последовательность индексов токенов (см. 1.1 ), номер класса> \n",
        "  * длина каждой такой последовательности должна быть одинаковой и равной `vocab.max_seq_len`. Чтобы добиться этого, дополните последовательность справа индексом токена `<PAD>` до нужной длины\n",
        "\n",
        "2.6. Обучить классификатор.\n",
        "  \n",
        "  * Для преобразования последовательности индексов в последовательность векторов используйте `nn.Embedding`. Рассмотрите два варианта: \n",
        "    - когда токен представляется в виде унитарного вектора и модуль `nn.Embedding` не обучается\n",
        "    - когда токен представляется в виде вектора небольшой размерности (меньше, чем размер словаря) и модуль `nn.Embedding` обучается\n",
        "\n",
        "  * Используйте одномерные свертки и пулинг (`nn.Conv1d`, `nn.MaxPool1d`)\n",
        "    - обратите внимание, что `nn.Conv1d` ожидает на вход трехмерный тензор размерности `(batch, embedding_dim, seq_len)`\n",
        "\n",
        "2.7 Измерить точность на тестовой выборке. Проверить работоспособность модели: прогнать несколько фамилий студентов группы через модели и проверить результат. Для каждой фамилии выводить 3 наиболее вероятных предсказания."
      ]
    },
    {
      "cell_type": "code",
      "source": [
        "#2.1 Считать файл surnames/surnames.csv.\n",
        "df = pd.read_csv(\"/content/drive/MyDrive/Colab Notebooks/surnames/surnames.csv\")\n",
        "df"
      ],
      "metadata": {
        "colab": {
          "base_uri": "https://localhost:8080/",
          "height": 424
        },
        "id": "F4vlJUDxCnP-",
        "outputId": "7744f018-bc1f-4d2c-db98-5049ae6e6d21"
      },
      "execution_count": 23,
      "outputs": [
        {
          "output_type": "execute_result",
          "data": {
            "text/plain": [
              "        surname nationality\n",
              "0      Woodford     English\n",
              "1          Coté      French\n",
              "2          Kore     English\n",
              "3         Koury      Arabic\n",
              "4        Lebzak     Russian\n",
              "...         ...         ...\n",
              "10975  Quraishi      Arabic\n",
              "10976   Innalls     English\n",
              "10977      Król      Polish\n",
              "10978    Purvis     English\n",
              "10979  Messerli      German\n",
              "\n",
              "[10980 rows x 2 columns]"
            ],
            "text/html": [
              "\n",
              "  <div id=\"df-0f3dafb4-9de1-4b74-bdad-a6afab3fa14b\">\n",
              "    <div class=\"colab-df-container\">\n",
              "      <div>\n",
              "<style scoped>\n",
              "    .dataframe tbody tr th:only-of-type {\n",
              "        vertical-align: middle;\n",
              "    }\n",
              "\n",
              "    .dataframe tbody tr th {\n",
              "        vertical-align: top;\n",
              "    }\n",
              "\n",
              "    .dataframe thead th {\n",
              "        text-align: right;\n",
              "    }\n",
              "</style>\n",
              "<table border=\"1\" class=\"dataframe\">\n",
              "  <thead>\n",
              "    <tr style=\"text-align: right;\">\n",
              "      <th></th>\n",
              "      <th>surname</th>\n",
              "      <th>nationality</th>\n",
              "    </tr>\n",
              "  </thead>\n",
              "  <tbody>\n",
              "    <tr>\n",
              "      <th>0</th>\n",
              "      <td>Woodford</td>\n",
              "      <td>English</td>\n",
              "    </tr>\n",
              "    <tr>\n",
              "      <th>1</th>\n",
              "      <td>Coté</td>\n",
              "      <td>French</td>\n",
              "    </tr>\n",
              "    <tr>\n",
              "      <th>2</th>\n",
              "      <td>Kore</td>\n",
              "      <td>English</td>\n",
              "    </tr>\n",
              "    <tr>\n",
              "      <th>3</th>\n",
              "      <td>Koury</td>\n",
              "      <td>Arabic</td>\n",
              "    </tr>\n",
              "    <tr>\n",
              "      <th>4</th>\n",
              "      <td>Lebzak</td>\n",
              "      <td>Russian</td>\n",
              "    </tr>\n",
              "    <tr>\n",
              "      <th>...</th>\n",
              "      <td>...</td>\n",
              "      <td>...</td>\n",
              "    </tr>\n",
              "    <tr>\n",
              "      <th>10975</th>\n",
              "      <td>Quraishi</td>\n",
              "      <td>Arabic</td>\n",
              "    </tr>\n",
              "    <tr>\n",
              "      <th>10976</th>\n",
              "      <td>Innalls</td>\n",
              "      <td>English</td>\n",
              "    </tr>\n",
              "    <tr>\n",
              "      <th>10977</th>\n",
              "      <td>Król</td>\n",
              "      <td>Polish</td>\n",
              "    </tr>\n",
              "    <tr>\n",
              "      <th>10978</th>\n",
              "      <td>Purvis</td>\n",
              "      <td>English</td>\n",
              "    </tr>\n",
              "    <tr>\n",
              "      <th>10979</th>\n",
              "      <td>Messerli</td>\n",
              "      <td>German</td>\n",
              "    </tr>\n",
              "  </tbody>\n",
              "</table>\n",
              "<p>10980 rows × 2 columns</p>\n",
              "</div>\n",
              "      <button class=\"colab-df-convert\" onclick=\"convertToInteractive('df-0f3dafb4-9de1-4b74-bdad-a6afab3fa14b')\"\n",
              "              title=\"Convert this dataframe to an interactive table.\"\n",
              "              style=\"display:none;\">\n",
              "        \n",
              "  <svg xmlns=\"http://www.w3.org/2000/svg\" height=\"24px\"viewBox=\"0 0 24 24\"\n",
              "       width=\"24px\">\n",
              "    <path d=\"M0 0h24v24H0V0z\" fill=\"none\"/>\n",
              "    <path d=\"M18.56 5.44l.94 2.06.94-2.06 2.06-.94-2.06-.94-.94-2.06-.94 2.06-2.06.94zm-11 1L8.5 8.5l.94-2.06 2.06-.94-2.06-.94L8.5 2.5l-.94 2.06-2.06.94zm10 10l.94 2.06.94-2.06 2.06-.94-2.06-.94-.94-2.06-.94 2.06-2.06.94z\"/><path d=\"M17.41 7.96l-1.37-1.37c-.4-.4-.92-.59-1.43-.59-.52 0-1.04.2-1.43.59L10.3 9.45l-7.72 7.72c-.78.78-.78 2.05 0 2.83L4 21.41c.39.39.9.59 1.41.59.51 0 1.02-.2 1.41-.59l7.78-7.78 2.81-2.81c.8-.78.8-2.07 0-2.86zM5.41 20L4 18.59l7.72-7.72 1.47 1.35L5.41 20z\"/>\n",
              "  </svg>\n",
              "      </button>\n",
              "      \n",
              "  <style>\n",
              "    .colab-df-container {\n",
              "      display:flex;\n",
              "      flex-wrap:wrap;\n",
              "      gap: 12px;\n",
              "    }\n",
              "\n",
              "    .colab-df-convert {\n",
              "      background-color: #E8F0FE;\n",
              "      border: none;\n",
              "      border-radius: 50%;\n",
              "      cursor: pointer;\n",
              "      display: none;\n",
              "      fill: #1967D2;\n",
              "      height: 32px;\n",
              "      padding: 0 0 0 0;\n",
              "      width: 32px;\n",
              "    }\n",
              "\n",
              "    .colab-df-convert:hover {\n",
              "      background-color: #E2EBFA;\n",
              "      box-shadow: 0px 1px 2px rgba(60, 64, 67, 0.3), 0px 1px 3px 1px rgba(60, 64, 67, 0.15);\n",
              "      fill: #174EA6;\n",
              "    }\n",
              "\n",
              "    [theme=dark] .colab-df-convert {\n",
              "      background-color: #3B4455;\n",
              "      fill: #D2E3FC;\n",
              "    }\n",
              "\n",
              "    [theme=dark] .colab-df-convert:hover {\n",
              "      background-color: #434B5C;\n",
              "      box-shadow: 0px 1px 3px 1px rgba(0, 0, 0, 0.15);\n",
              "      filter: drop-shadow(0px 1px 2px rgba(0, 0, 0, 0.3));\n",
              "      fill: #FFFFFF;\n",
              "    }\n",
              "  </style>\n",
              "\n",
              "      <script>\n",
              "        const buttonEl =\n",
              "          document.querySelector('#df-0f3dafb4-9de1-4b74-bdad-a6afab3fa14b button.colab-df-convert');\n",
              "        buttonEl.style.display =\n",
              "          google.colab.kernel.accessAllowed ? 'block' : 'none';\n",
              "\n",
              "        async function convertToInteractive(key) {\n",
              "          const element = document.querySelector('#df-0f3dafb4-9de1-4b74-bdad-a6afab3fa14b');\n",
              "          const dataTable =\n",
              "            await google.colab.kernel.invokeFunction('convertToInteractive',\n",
              "                                                     [key], {});\n",
              "          if (!dataTable) return;\n",
              "\n",
              "          const docLinkHtml = 'Like what you see? Visit the ' +\n",
              "            '<a target=\"_blank\" href=https://colab.research.google.com/notebooks/data_table.ipynb>data table notebook</a>'\n",
              "            + ' to learn more about interactive tables.';\n",
              "          element.innerHTML = '';\n",
              "          dataTable['output_type'] = 'display_data';\n",
              "          await google.colab.output.renderOutput(dataTable, element);\n",
              "          const docLink = document.createElement('div');\n",
              "          docLink.innerHTML = docLinkHtml;\n",
              "          element.appendChild(docLink);\n",
              "        }\n",
              "      </script>\n",
              "    </div>\n",
              "  </div>\n",
              "  "
            ]
          },
          "metadata": {},
          "execution_count": 23
        }
      ]
    },
    {
      "cell_type": "code",
      "source": [
        "#2.2 Закодировать национальности числами, начиная с 0.\n",
        "#Используем LabelEncoder\n",
        "\n",
        "#создаем объект класса LabelEncoder из библиотеки Scikit-learn и сохраняем в переменной label_encoder. (Объект LabelEncoder позволяет преобразовывать категориальные данные в числовые метки.)\n",
        "label_encoder = LabelEncoder()\n",
        "\n",
        "#далее создаем новый столбец \"label\" в DataFrame \"df\", который будет содержать числовые метки, соответствующие значениям в столбце \"nationality\".\n",
        "#Метод fit_transform() из объекта label_encoder преобразует значения в столбце \"nationality\" из категориальных строк в числовые метки и сохраняет результат в новом столбце \"label\" DataFrame \"df\". \n",
        "#В результате каждое уникальное значение в столбце \"nationality\" будет иметь свой уникальный числовой эквивалент в столбце \"label\".\n",
        "df[\"label\"] = label_encoder.fit_transform(df[\"nationality\"])\n",
        "\n",
        "#выводим содержимое DataFrame\n",
        "df"
      ],
      "metadata": {
        "colab": {
          "base_uri": "https://localhost:8080/",
          "height": 424
        },
        "id": "-hX71_lOCwt9",
        "outputId": "b0cad4b0-51ea-4224-bb77-dd4c7063f12d"
      },
      "execution_count": 24,
      "outputs": [
        {
          "output_type": "execute_result",
          "data": {
            "text/plain": [
              "        surname nationality  label\n",
              "0      Woodford     English      4\n",
              "1          Coté      French      5\n",
              "2          Kore     English      4\n",
              "3         Koury      Arabic      0\n",
              "4        Lebzak     Russian     14\n",
              "...         ...         ...    ...\n",
              "10975  Quraishi      Arabic      0\n",
              "10976   Innalls     English      4\n",
              "10977      Król      Polish     12\n",
              "10978    Purvis     English      4\n",
              "10979  Messerli      German      6\n",
              "\n",
              "[10980 rows x 3 columns]"
            ],
            "text/html": [
              "\n",
              "  <div id=\"df-8b0da438-ee68-456b-ac6f-5e825f894407\">\n",
              "    <div class=\"colab-df-container\">\n",
              "      <div>\n",
              "<style scoped>\n",
              "    .dataframe tbody tr th:only-of-type {\n",
              "        vertical-align: middle;\n",
              "    }\n",
              "\n",
              "    .dataframe tbody tr th {\n",
              "        vertical-align: top;\n",
              "    }\n",
              "\n",
              "    .dataframe thead th {\n",
              "        text-align: right;\n",
              "    }\n",
              "</style>\n",
              "<table border=\"1\" class=\"dataframe\">\n",
              "  <thead>\n",
              "    <tr style=\"text-align: right;\">\n",
              "      <th></th>\n",
              "      <th>surname</th>\n",
              "      <th>nationality</th>\n",
              "      <th>label</th>\n",
              "    </tr>\n",
              "  </thead>\n",
              "  <tbody>\n",
              "    <tr>\n",
              "      <th>0</th>\n",
              "      <td>Woodford</td>\n",
              "      <td>English</td>\n",
              "      <td>4</td>\n",
              "    </tr>\n",
              "    <tr>\n",
              "      <th>1</th>\n",
              "      <td>Coté</td>\n",
              "      <td>French</td>\n",
              "      <td>5</td>\n",
              "    </tr>\n",
              "    <tr>\n",
              "      <th>2</th>\n",
              "      <td>Kore</td>\n",
              "      <td>English</td>\n",
              "      <td>4</td>\n",
              "    </tr>\n",
              "    <tr>\n",
              "      <th>3</th>\n",
              "      <td>Koury</td>\n",
              "      <td>Arabic</td>\n",
              "      <td>0</td>\n",
              "    </tr>\n",
              "    <tr>\n",
              "      <th>4</th>\n",
              "      <td>Lebzak</td>\n",
              "      <td>Russian</td>\n",
              "      <td>14</td>\n",
              "    </tr>\n",
              "    <tr>\n",
              "      <th>...</th>\n",
              "      <td>...</td>\n",
              "      <td>...</td>\n",
              "      <td>...</td>\n",
              "    </tr>\n",
              "    <tr>\n",
              "      <th>10975</th>\n",
              "      <td>Quraishi</td>\n",
              "      <td>Arabic</td>\n",
              "      <td>0</td>\n",
              "    </tr>\n",
              "    <tr>\n",
              "      <th>10976</th>\n",
              "      <td>Innalls</td>\n",
              "      <td>English</td>\n",
              "      <td>4</td>\n",
              "    </tr>\n",
              "    <tr>\n",
              "      <th>10977</th>\n",
              "      <td>Król</td>\n",
              "      <td>Polish</td>\n",
              "      <td>12</td>\n",
              "    </tr>\n",
              "    <tr>\n",
              "      <th>10978</th>\n",
              "      <td>Purvis</td>\n",
              "      <td>English</td>\n",
              "      <td>4</td>\n",
              "    </tr>\n",
              "    <tr>\n",
              "      <th>10979</th>\n",
              "      <td>Messerli</td>\n",
              "      <td>German</td>\n",
              "      <td>6</td>\n",
              "    </tr>\n",
              "  </tbody>\n",
              "</table>\n",
              "<p>10980 rows × 3 columns</p>\n",
              "</div>\n",
              "      <button class=\"colab-df-convert\" onclick=\"convertToInteractive('df-8b0da438-ee68-456b-ac6f-5e825f894407')\"\n",
              "              title=\"Convert this dataframe to an interactive table.\"\n",
              "              style=\"display:none;\">\n",
              "        \n",
              "  <svg xmlns=\"http://www.w3.org/2000/svg\" height=\"24px\"viewBox=\"0 0 24 24\"\n",
              "       width=\"24px\">\n",
              "    <path d=\"M0 0h24v24H0V0z\" fill=\"none\"/>\n",
              "    <path d=\"M18.56 5.44l.94 2.06.94-2.06 2.06-.94-2.06-.94-.94-2.06-.94 2.06-2.06.94zm-11 1L8.5 8.5l.94-2.06 2.06-.94-2.06-.94L8.5 2.5l-.94 2.06-2.06.94zm10 10l.94 2.06.94-2.06 2.06-.94-2.06-.94-.94-2.06-.94 2.06-2.06.94z\"/><path d=\"M17.41 7.96l-1.37-1.37c-.4-.4-.92-.59-1.43-.59-.52 0-1.04.2-1.43.59L10.3 9.45l-7.72 7.72c-.78.78-.78 2.05 0 2.83L4 21.41c.39.39.9.59 1.41.59.51 0 1.02-.2 1.41-.59l7.78-7.78 2.81-2.81c.8-.78.8-2.07 0-2.86zM5.41 20L4 18.59l7.72-7.72 1.47 1.35L5.41 20z\"/>\n",
              "  </svg>\n",
              "      </button>\n",
              "      \n",
              "  <style>\n",
              "    .colab-df-container {\n",
              "      display:flex;\n",
              "      flex-wrap:wrap;\n",
              "      gap: 12px;\n",
              "    }\n",
              "\n",
              "    .colab-df-convert {\n",
              "      background-color: #E8F0FE;\n",
              "      border: none;\n",
              "      border-radius: 50%;\n",
              "      cursor: pointer;\n",
              "      display: none;\n",
              "      fill: #1967D2;\n",
              "      height: 32px;\n",
              "      padding: 0 0 0 0;\n",
              "      width: 32px;\n",
              "    }\n",
              "\n",
              "    .colab-df-convert:hover {\n",
              "      background-color: #E2EBFA;\n",
              "      box-shadow: 0px 1px 2px rgba(60, 64, 67, 0.3), 0px 1px 3px 1px rgba(60, 64, 67, 0.15);\n",
              "      fill: #174EA6;\n",
              "    }\n",
              "\n",
              "    [theme=dark] .colab-df-convert {\n",
              "      background-color: #3B4455;\n",
              "      fill: #D2E3FC;\n",
              "    }\n",
              "\n",
              "    [theme=dark] .colab-df-convert:hover {\n",
              "      background-color: #434B5C;\n",
              "      box-shadow: 0px 1px 3px 1px rgba(0, 0, 0, 0.15);\n",
              "      filter: drop-shadow(0px 1px 2px rgba(0, 0, 0, 0.3));\n",
              "      fill: #FFFFFF;\n",
              "    }\n",
              "  </style>\n",
              "\n",
              "      <script>\n",
              "        const buttonEl =\n",
              "          document.querySelector('#df-8b0da438-ee68-456b-ac6f-5e825f894407 button.colab-df-convert');\n",
              "        buttonEl.style.display =\n",
              "          google.colab.kernel.accessAllowed ? 'block' : 'none';\n",
              "\n",
              "        async function convertToInteractive(key) {\n",
              "          const element = document.querySelector('#df-8b0da438-ee68-456b-ac6f-5e825f894407');\n",
              "          const dataTable =\n",
              "            await google.colab.kernel.invokeFunction('convertToInteractive',\n",
              "                                                     [key], {});\n",
              "          if (!dataTable) return;\n",
              "\n",
              "          const docLinkHtml = 'Like what you see? Visit the ' +\n",
              "            '<a target=\"_blank\" href=https://colab.research.google.com/notebooks/data_table.ipynb>data table notebook</a>'\n",
              "            + ' to learn more about interactive tables.';\n",
              "          element.innerHTML = '';\n",
              "          dataTable['output_type'] = 'display_data';\n",
              "          await google.colab.output.renderOutput(dataTable, element);\n",
              "          const docLink = document.createElement('div');\n",
              "          docLink.innerHTML = docLinkHtml;\n",
              "          element.appendChild(docLink);\n",
              "        }\n",
              "      </script>\n",
              "    </div>\n",
              "  </div>\n",
              "  "
            ]
          },
          "metadata": {},
          "execution_count": 24
        }
      ]
    },
    {
      "cell_type": "code",
      "source": [
        "#Кол-во классов:\n",
        "#далее мы вычисляем количество уникальных значений в столбце \"label\"\n",
        "#unique() - возвращаем массив всех уникальных значений в столбце \"label\", т.е. все числовые метки, которые были присвоены категориальным данным.\n",
        "#set() - преобразуем этот массив в множество, чтобы удалить дубликаты.\n",
        "#len() - возвращаем длину этого множества, т.е. количество уникальных числовых меток в столбце \"label\".\n",
        "len(set(df[\"label\"].unique()))"
      ],
      "metadata": {
        "colab": {
          "base_uri": "https://localhost:8080/"
        },
        "id": "6veq4NqxC7yg",
        "outputId": "1faa8ac3-5e0a-4e62-db15-21bd45625dea"
      },
      "execution_count": 25,
      "outputs": [
        {
          "output_type": "execute_result",
          "data": {
            "text/plain": [
              "18"
            ]
          },
          "metadata": {},
          "execution_count": 25
        }
      ]
    },
    {
      "cell_type": "code",
      "source": [
        "#проверяем корректность преобразования категориальных данных в числовые метки, выполненного с помощью объекта LabelEncoder.\n",
        "#наш код проверяет, что количество уникальных значений в множестве числовых меток, возвращенном с помощью set(df[\"label\"].unique()), соответствует длине массива уникальных значений, возвращенных с помощью label_encoder.classes_.\n",
        "#и если это условие выполняется, то преобразование категориальных данных в числовые метки должно было выполнено корректно.\n",
        "#(Функция assert используется для проверки выполнения условия. Если условие не выполняется, то возникает исключение AssertionError и программа останавливается с сообщением об ошибке.)\n",
        "assert len(set(df[\"label\"].unique())) == len(label_encoder.classes_)"
      ],
      "metadata": {
        "id": "7BOjz4fSDVsr"
      },
      "execution_count": 26,
      "outputs": []
    },
    {
      "cell_type": "code",
      "metadata": {
        "id": "ZGfJX2NP1sw4"
      },
      "source": [
        "#2.4 Реализовать класс Vocab (токен = символ)\n",
        "# добавьте в словарь специальный токен <PAD> с индексом 0\n",
        "# при создании словаря сохраните длину самой длинной последовательности из набора данных в виде атрибута max_seq_len\n",
        "\n",
        "class Vocab:\n",
        "    \n",
        "    #Строка, которая символизирует отступ\n",
        "    PAD = \"<PAD>\"\n",
        "\n",
        "    def __init__(self, series):\n",
        "        \n",
        "        \n",
        "        #Нужен, чтоб хранить уникальные слова\n",
        "        items_set = set()\n",
        "        \n",
        "        #Штука, которая нужна, чтоб определить макс вектор, чтоб потом заполнить pad ами\n",
        "        max_len = 0\n",
        "        \n",
        "        #Формируем список слов + ищем max_len\n",
        "        for word in map(str.lower, series):\n",
        "            items_set.update(word)\n",
        "            \n",
        "            if len(word) > max_len:\n",
        "                max_len = len(word)\n",
        "                \n",
        "        #Общий алфавит\n",
        "        self.alphabet = [self.PAD, *items_set]\n",
        "        \n",
        "        self.max_len = max_len\n",
        "        \n",
        "        #Формируем транслятор слово -> таргет\n",
        "        self.word_to_number_router = {item: number for number, item in enumerate(self.alphabet)}\n",
        "        \n",
        "    def decode(self, indices):\n",
        "        \"\"\"Метод декодинга\"\"\"\n",
        "        \n",
        "        #Маска по индексам-заглушкам\n",
        "        mask = indices == self.word_to_number_router[self.PAD]\n",
        "        \n",
        "        #Сами индексы заглушек\n",
        "        pad_indices = torch.nonzero(mask, as_tuple=True)[0]\n",
        "        \n",
        "        if len(pad_indices) != 0:\n",
        "            indices = indices[:pad_indices[0]]  # отрезаем служебные символы\n",
        "        \n",
        "        return \"\".join(self.alphabet[i] for i in indices)\n",
        "        \n",
        "    def encode(self, word):\n",
        "        \"\"\"Метод енкодинга\"\"\"\n",
        "        \n",
        "        #Список индексов\n",
        "        indices_list = [self.word_to_number_router[item] for item in word]\n",
        "        \n",
        "        #Индекс заглушки\n",
        "        pad_index = self.word_to_number_router[self.PAD]\n",
        "        \n",
        "        #Разница, на которую надо дополнить слово\n",
        "        len_diff = self.max_len - len(indices_list)\n",
        "        \n",
        "        # дополняем до одинакового размера индексом служебного символа\n",
        "        indices_list +=  len_diff * [pad_index]\n",
        "        \n",
        "        return torch.tensor(indices_list, dtype=torch.long)\n",
        "\n",
        "    def __repr__(self) -> str:\n",
        "        return json.dumps(self.word_to_number_router, ensure_ascii=False)\n",
        "    \n",
        "    def __len__(self):\n",
        "          return len(self.word_to_number_router)"
      ],
      "execution_count": 28,
      "outputs": []
    },
    {
      "cell_type": "code",
      "source": [
        "vocab = Vocab(df[\"surname\"])"
      ],
      "metadata": {
        "id": "7HVG67ywyJoq"
      },
      "execution_count": 29,
      "outputs": []
    },
    {
      "cell_type": "code",
      "source": [
        "vocab.word_to_number_router"
      ],
      "metadata": {
        "colab": {
          "base_uri": "https://localhost:8080/"
        },
        "id": "dyLosk7IyOu1",
        "outputId": "2fc1ea12-d4b3-4614-9c07-a260b5565964"
      },
      "execution_count": 30,
      "outputs": [
        {
          "output_type": "execute_result",
          "data": {
            "text/plain": [
              "{'<PAD>': 0,\n",
              " 'd': 1,\n",
              " 'ä': 2,\n",
              " 'c': 3,\n",
              " 'f': 4,\n",
              " '1': 5,\n",
              " '-': 6,\n",
              " 'ú': 7,\n",
              " 'v': 8,\n",
              " 'b': 9,\n",
              " 'a': 10,\n",
              " 's': 11,\n",
              " 'ù': 12,\n",
              " '/': 13,\n",
              " 'g': 14,\n",
              " 'e': 15,\n",
              " 'ê': 16,\n",
              " 'j': 17,\n",
              " 'ó': 18,\n",
              " 'u': 19,\n",
              " 'ã': 20,\n",
              " 'ą': 21,\n",
              " 'ń': 22,\n",
              " 'ö': 23,\n",
              " 'w': 24,\n",
              " 'n': 25,\n",
              " 'ç': 26,\n",
              " 'ñ': 27,\n",
              " 't': 28,\n",
              " 'ż': 29,\n",
              " 'k': 30,\n",
              " 'õ': 31,\n",
              " ':': 32,\n",
              " 'ì': 33,\n",
              " 'p': 34,\n",
              " 'o': 35,\n",
              " 'ü': 36,\n",
              " 'z': 37,\n",
              " 'è': 38,\n",
              " 'm': 39,\n",
              " 'l': 40,\n",
              " 'q': 41,\n",
              " 'á': 42,\n",
              " 'é': 43,\n",
              " 'i': 44,\n",
              " \"'\": 45,\n",
              " 'ł': 46,\n",
              " 'ò': 47,\n",
              " 'x': 48,\n",
              " 'à': 49,\n",
              " 'r': 50,\n",
              " 'ß': 51,\n",
              " 'ś': 52,\n",
              " 'y': 53,\n",
              " 'í': 54,\n",
              " 'h': 55}"
            ]
          },
          "metadata": {},
          "execution_count": 30
        }
      ]
    },
    {
      "cell_type": "code",
      "source": [
        "len(vocab)"
      ],
      "metadata": {
        "colab": {
          "base_uri": "https://localhost:8080/"
        },
        "id": "oOBF-knsySYX",
        "outputId": "c78441ac-1275-4a20-adbb-43f563a4a598"
      },
      "execution_count": 31,
      "outputs": [
        {
          "output_type": "execute_result",
          "data": {
            "text/plain": [
              "56"
            ]
          },
          "metadata": {},
          "execution_count": 31
        }
      ]
    },
    {
      "cell_type": "code",
      "source": [
        "print(vocab)"
      ],
      "metadata": {
        "colab": {
          "base_uri": "https://localhost:8080/"
        },
        "id": "Z3NG1K-syV2u",
        "outputId": "8d87cba5-43a8-46bf-c62c-54ae49eb4ff8"
      },
      "execution_count": 32,
      "outputs": [
        {
          "output_type": "stream",
          "name": "stdout",
          "text": [
            "{\"<PAD>\": 0, \"d\": 1, \"ä\": 2, \"c\": 3, \"f\": 4, \"1\": 5, \"-\": 6, \"ú\": 7, \"v\": 8, \"b\": 9, \"a\": 10, \"s\": 11, \"ù\": 12, \"/\": 13, \"g\": 14, \"e\": 15, \"ê\": 16, \"j\": 17, \"ó\": 18, \"u\": 19, \"ã\": 20, \"ą\": 21, \"ń\": 22, \"ö\": 23, \"w\": 24, \"n\": 25, \"ç\": 26, \"ñ\": 27, \"t\": 28, \"ż\": 29, \"k\": 30, \"õ\": 31, \":\": 32, \"ì\": 33, \"p\": 34, \"o\": 35, \"ü\": 36, \"z\": 37, \"è\": 38, \"m\": 39, \"l\": 40, \"q\": 41, \"á\": 42, \"é\": 43, \"i\": 44, \"'\": 45, \"ł\": 46, \"ò\": 47, \"x\": 48, \"à\": 49, \"r\": 50, \"ß\": 51, \"ś\": 52, \"y\": 53, \"í\": 54, \"h\": 55}\n"
          ]
        }
      ]
    },
    {
      "cell_type": "code",
      "source": [
        "#проверим с дополнениями PADами\n",
        "#энкодинг\n",
        "test_str = \"test\"\n",
        "encode_result = vocab.encode(test_str)\n",
        "encode_result"
      ],
      "metadata": {
        "colab": {
          "base_uri": "https://localhost:8080/"
        },
        "id": "6V_-sbBfy_Xb",
        "outputId": "ac7c0795-0587-4ea4-c812-e33f955d08e1"
      },
      "execution_count": 33,
      "outputs": [
        {
          "output_type": "execute_result",
          "data": {
            "text/plain": [
              "tensor([28, 15, 11, 28,  0,  0,  0,  0,  0,  0,  0,  0,  0,  0,  0,  0,  0])"
            ]
          },
          "metadata": {},
          "execution_count": 33
        }
      ]
    },
    {
      "cell_type": "code",
      "source": [
        "#декодинг\n",
        "decode_result = vocab.decode(encode_result)\n",
        "decode_result"
      ],
      "metadata": {
        "colab": {
          "base_uri": "https://localhost:8080/",
          "height": 35
        },
        "id": "nPGszE4UzJPk",
        "outputId": "33f69f54-ff5e-43b0-e406-1adee1e54624"
      },
      "execution_count": 34,
      "outputs": [
        {
          "output_type": "execute_result",
          "data": {
            "text/plain": [
              "'test'"
            ],
            "application/vnd.google.colaboratory.intrinsic+json": {
              "type": "string"
            }
          },
          "metadata": {},
          "execution_count": 34
        }
      ]
    },
    {
      "cell_type": "code",
      "source": [
        "assert test_str == decode_result"
      ],
      "metadata": {
        "id": "XmM4_EMxzQiF"
      },
      "execution_count": 35,
      "outputs": []
    },
    {
      "cell_type": "code",
      "source": [
        "#проверим без дополнений PADами\n",
        "#энкодинг\n",
        "test_str = \"test\"* 5\n",
        "encode_result = vocab.encode(test_str)\n",
        "encode_result"
      ],
      "metadata": {
        "colab": {
          "base_uri": "https://localhost:8080/"
        },
        "id": "GuNhcVopzXKJ",
        "outputId": "40d5f064-7334-43e4-89bf-e40f67de76e1"
      },
      "execution_count": 36,
      "outputs": [
        {
          "output_type": "execute_result",
          "data": {
            "text/plain": [
              "tensor([28, 15, 11, 28, 28, 15, 11, 28, 28, 15, 11, 28, 28, 15, 11, 28, 28, 15,\n",
              "        11, 28])"
            ]
          },
          "metadata": {},
          "execution_count": 36
        }
      ]
    },
    {
      "cell_type": "code",
      "source": [
        "#декодинг\n",
        "decode_result = vocab.decode(encode_result)\n",
        "decode_result"
      ],
      "metadata": {
        "colab": {
          "base_uri": "https://localhost:8080/",
          "height": 35
        },
        "id": "6DGaaWMyzfY9",
        "outputId": "0690def4-8c7c-466a-968b-0b6288dc394c"
      },
      "execution_count": 37,
      "outputs": [
        {
          "output_type": "execute_result",
          "data": {
            "text/plain": [
              "'testtesttesttesttest'"
            ],
            "application/vnd.google.colaboratory.intrinsic+json": {
              "type": "string"
            }
          },
          "metadata": {},
          "execution_count": 37
        }
      ]
    },
    {
      "cell_type": "code",
      "source": [
        "assert test_str == decode_result"
      ],
      "metadata": {
        "id": "XtQyVmUdzkpA"
      },
      "execution_count": 38,
      "outputs": []
    },
    {
      "cell_type": "code",
      "metadata": {
        "id": "GHjCRqQg1sw5"
      },
      "source": [
        "#2.5 Реализовать класс SurnamesDataset\n",
        "# метод __getitem__ возвращает пару: <последовательность индексов токенов (см. 1.1 ), номер класса>\n",
        "# длина каждой такой последовательности должна быть одинаковой и равной vocab.max_seq_len. Чтобы добиться этого, дополните последовательность справа индексом токена <PAD> до нужной длины\n",
        "class SurnamesDatasetIndices(Dataset):\n",
        "    def __init__(self, X, y, vocab):\n",
        "            self.X = X\n",
        "            self.y = y\n",
        "            self.vocab = vocab\n",
        "\n",
        "    def processing(self, surname):\n",
        "        res = [self.vocab.word_to_number_router[token] for token in surname]\n",
        "        if len(res) != self.vocab.max_len: \n",
        "            res.extend([self.vocab.word_to_number_router[\"<PAD>\"]]*(self.vocab.max_len-len(res)))    \n",
        "        return res\n",
        "    \n",
        "    def __len__(self):\n",
        "        return len(self.X)\n",
        "  \n",
        "    def __getitem__(self, idx):\n",
        "        return torch.LongTensor(self.processing(self.X.iloc[idx])), self.y.iloc[idx]"
      ],
      "execution_count": 39,
      "outputs": []
    },
    {
      "cell_type": "code",
      "source": [
        "class SurnamesDatasetOnehot(Dataset):\n",
        "    def __init__(self, X, y, vocab):\n",
        "            self.X = X\n",
        "            self.y = y\n",
        "            self.vocab = vocab\n",
        "            \n",
        "    def processing(self, surname):\n",
        "        res = [nn.functional.one_hot(torch.arange(0, len(self.vocab)))[self.vocab.word_to_number_router[token]] for token in surname]\n",
        "        while len(res) < self.vocab.max_len:\n",
        "            res.append(nn.functional.one_hot(torch.arange(0, len(self.vocab)))[self.vocab.word_to_number_router[\"<PAD>\"]])\n",
        "        return torch.stack(res)\n",
        "    \n",
        "    def __len__(self):\n",
        "        return len(self.X)\n",
        "    \n",
        "    def __getitem__(self, idx):\n",
        "        return torch.LongTensor(self.processing(self.X.iloc[idx])), self.y.iloc[idx]"
      ],
      "metadata": {
        "id": "Y-NWkEi10Jvn"
      },
      "execution_count": 40,
      "outputs": []
    },
    {
      "cell_type": "code",
      "source": [
        "#2.3 Разбить датасет на обучающую и тестовую выборку\n",
        "X = df['surname'].str.lower()\n",
        "y = df['label']\n",
        "n_classes = y.nunique()\n",
        "X_train, X_test, y_train, y_test = train_test_split(X, y, test_size=0.2, random_state=0)\n",
        "df"
      ],
      "metadata": {
        "colab": {
          "base_uri": "https://localhost:8080/",
          "height": 424
        },
        "id": "Pw9KpDGo0ZsL",
        "outputId": "e3508e8c-37f2-4ad2-d829-751d81b3bef8"
      },
      "execution_count": 41,
      "outputs": [
        {
          "output_type": "execute_result",
          "data": {
            "text/plain": [
              "        surname nationality  label\n",
              "0      Woodford     English      4\n",
              "1          Coté      French      5\n",
              "2          Kore     English      4\n",
              "3         Koury      Arabic      0\n",
              "4        Lebzak     Russian     14\n",
              "...         ...         ...    ...\n",
              "10975  Quraishi      Arabic      0\n",
              "10976   Innalls     English      4\n",
              "10977      Król      Polish     12\n",
              "10978    Purvis     English      4\n",
              "10979  Messerli      German      6\n",
              "\n",
              "[10980 rows x 3 columns]"
            ],
            "text/html": [
              "\n",
              "  <div id=\"df-b2806ced-c4ec-4bfa-a163-0e8c248eb990\">\n",
              "    <div class=\"colab-df-container\">\n",
              "      <div>\n",
              "<style scoped>\n",
              "    .dataframe tbody tr th:only-of-type {\n",
              "        vertical-align: middle;\n",
              "    }\n",
              "\n",
              "    .dataframe tbody tr th {\n",
              "        vertical-align: top;\n",
              "    }\n",
              "\n",
              "    .dataframe thead th {\n",
              "        text-align: right;\n",
              "    }\n",
              "</style>\n",
              "<table border=\"1\" class=\"dataframe\">\n",
              "  <thead>\n",
              "    <tr style=\"text-align: right;\">\n",
              "      <th></th>\n",
              "      <th>surname</th>\n",
              "      <th>nationality</th>\n",
              "      <th>label</th>\n",
              "    </tr>\n",
              "  </thead>\n",
              "  <tbody>\n",
              "    <tr>\n",
              "      <th>0</th>\n",
              "      <td>Woodford</td>\n",
              "      <td>English</td>\n",
              "      <td>4</td>\n",
              "    </tr>\n",
              "    <tr>\n",
              "      <th>1</th>\n",
              "      <td>Coté</td>\n",
              "      <td>French</td>\n",
              "      <td>5</td>\n",
              "    </tr>\n",
              "    <tr>\n",
              "      <th>2</th>\n",
              "      <td>Kore</td>\n",
              "      <td>English</td>\n",
              "      <td>4</td>\n",
              "    </tr>\n",
              "    <tr>\n",
              "      <th>3</th>\n",
              "      <td>Koury</td>\n",
              "      <td>Arabic</td>\n",
              "      <td>0</td>\n",
              "    </tr>\n",
              "    <tr>\n",
              "      <th>4</th>\n",
              "      <td>Lebzak</td>\n",
              "      <td>Russian</td>\n",
              "      <td>14</td>\n",
              "    </tr>\n",
              "    <tr>\n",
              "      <th>...</th>\n",
              "      <td>...</td>\n",
              "      <td>...</td>\n",
              "      <td>...</td>\n",
              "    </tr>\n",
              "    <tr>\n",
              "      <th>10975</th>\n",
              "      <td>Quraishi</td>\n",
              "      <td>Arabic</td>\n",
              "      <td>0</td>\n",
              "    </tr>\n",
              "    <tr>\n",
              "      <th>10976</th>\n",
              "      <td>Innalls</td>\n",
              "      <td>English</td>\n",
              "      <td>4</td>\n",
              "    </tr>\n",
              "    <tr>\n",
              "      <th>10977</th>\n",
              "      <td>Król</td>\n",
              "      <td>Polish</td>\n",
              "      <td>12</td>\n",
              "    </tr>\n",
              "    <tr>\n",
              "      <th>10978</th>\n",
              "      <td>Purvis</td>\n",
              "      <td>English</td>\n",
              "      <td>4</td>\n",
              "    </tr>\n",
              "    <tr>\n",
              "      <th>10979</th>\n",
              "      <td>Messerli</td>\n",
              "      <td>German</td>\n",
              "      <td>6</td>\n",
              "    </tr>\n",
              "  </tbody>\n",
              "</table>\n",
              "<p>10980 rows × 3 columns</p>\n",
              "</div>\n",
              "      <button class=\"colab-df-convert\" onclick=\"convertToInteractive('df-b2806ced-c4ec-4bfa-a163-0e8c248eb990')\"\n",
              "              title=\"Convert this dataframe to an interactive table.\"\n",
              "              style=\"display:none;\">\n",
              "        \n",
              "  <svg xmlns=\"http://www.w3.org/2000/svg\" height=\"24px\"viewBox=\"0 0 24 24\"\n",
              "       width=\"24px\">\n",
              "    <path d=\"M0 0h24v24H0V0z\" fill=\"none\"/>\n",
              "    <path d=\"M18.56 5.44l.94 2.06.94-2.06 2.06-.94-2.06-.94-.94-2.06-.94 2.06-2.06.94zm-11 1L8.5 8.5l.94-2.06 2.06-.94-2.06-.94L8.5 2.5l-.94 2.06-2.06.94zm10 10l.94 2.06.94-2.06 2.06-.94-2.06-.94-.94-2.06-.94 2.06-2.06.94z\"/><path d=\"M17.41 7.96l-1.37-1.37c-.4-.4-.92-.59-1.43-.59-.52 0-1.04.2-1.43.59L10.3 9.45l-7.72 7.72c-.78.78-.78 2.05 0 2.83L4 21.41c.39.39.9.59 1.41.59.51 0 1.02-.2 1.41-.59l7.78-7.78 2.81-2.81c.8-.78.8-2.07 0-2.86zM5.41 20L4 18.59l7.72-7.72 1.47 1.35L5.41 20z\"/>\n",
              "  </svg>\n",
              "      </button>\n",
              "      \n",
              "  <style>\n",
              "    .colab-df-container {\n",
              "      display:flex;\n",
              "      flex-wrap:wrap;\n",
              "      gap: 12px;\n",
              "    }\n",
              "\n",
              "    .colab-df-convert {\n",
              "      background-color: #E8F0FE;\n",
              "      border: none;\n",
              "      border-radius: 50%;\n",
              "      cursor: pointer;\n",
              "      display: none;\n",
              "      fill: #1967D2;\n",
              "      height: 32px;\n",
              "      padding: 0 0 0 0;\n",
              "      width: 32px;\n",
              "    }\n",
              "\n",
              "    .colab-df-convert:hover {\n",
              "      background-color: #E2EBFA;\n",
              "      box-shadow: 0px 1px 2px rgba(60, 64, 67, 0.3), 0px 1px 3px 1px rgba(60, 64, 67, 0.15);\n",
              "      fill: #174EA6;\n",
              "    }\n",
              "\n",
              "    [theme=dark] .colab-df-convert {\n",
              "      background-color: #3B4455;\n",
              "      fill: #D2E3FC;\n",
              "    }\n",
              "\n",
              "    [theme=dark] .colab-df-convert:hover {\n",
              "      background-color: #434B5C;\n",
              "      box-shadow: 0px 1px 3px 1px rgba(0, 0, 0, 0.15);\n",
              "      filter: drop-shadow(0px 1px 2px rgba(0, 0, 0, 0.3));\n",
              "      fill: #FFFFFF;\n",
              "    }\n",
              "  </style>\n",
              "\n",
              "      <script>\n",
              "        const buttonEl =\n",
              "          document.querySelector('#df-b2806ced-c4ec-4bfa-a163-0e8c248eb990 button.colab-df-convert');\n",
              "        buttonEl.style.display =\n",
              "          google.colab.kernel.accessAllowed ? 'block' : 'none';\n",
              "\n",
              "        async function convertToInteractive(key) {\n",
              "          const element = document.querySelector('#df-b2806ced-c4ec-4bfa-a163-0e8c248eb990');\n",
              "          const dataTable =\n",
              "            await google.colab.kernel.invokeFunction('convertToInteractive',\n",
              "                                                     [key], {});\n",
              "          if (!dataTable) return;\n",
              "\n",
              "          const docLinkHtml = 'Like what you see? Visit the ' +\n",
              "            '<a target=\"_blank\" href=https://colab.research.google.com/notebooks/data_table.ipynb>data table notebook</a>'\n",
              "            + ' to learn more about interactive tables.';\n",
              "          element.innerHTML = '';\n",
              "          dataTable['output_type'] = 'display_data';\n",
              "          await google.colab.output.renderOutput(dataTable, element);\n",
              "          const docLink = document.createElement('div');\n",
              "          docLink.innerHTML = docLinkHtml;\n",
              "          element.appendChild(docLink);\n",
              "        }\n",
              "      </script>\n",
              "    </div>\n",
              "  </div>\n",
              "  "
            ]
          },
          "metadata": {},
          "execution_count": 41
        }
      ]
    },
    {
      "cell_type": "code",
      "source": [
        "torch.manual_seed(0)"
      ],
      "metadata": {
        "colab": {
          "base_uri": "https://localhost:8080/"
        },
        "id": "sP8rNm2W0hCb",
        "outputId": "d8101a93-8576-425d-ec85-008bdac55724"
      },
      "execution_count": 42,
      "outputs": [
        {
          "output_type": "execute_result",
          "data": {
            "text/plain": [
              "<torch._C.Generator at 0x7fe17f3acbd0>"
            ]
          },
          "metadata": {},
          "execution_count": 42
        }
      ]
    },
    {
      "cell_type": "code",
      "source": [
        "X_train"
      ],
      "metadata": {
        "colab": {
          "base_uri": "https://localhost:8080/"
        },
        "id": "HRdgYqrZ0jKL",
        "outputId": "3c9b67b1-592f-4681-f266-b8286217e1ac"
      },
      "execution_count": 43,
      "outputs": [
        {
          "output_type": "execute_result",
          "data": {
            "text/plain": [
              "8996         leese\n",
              "7868       evdakov\n",
              "6109      severins\n",
              "5417           zhu\n",
              "5194        copley\n",
              "           ...    \n",
              "4859     terranova\n",
              "3264          ruiz\n",
              "9845         gagin\n",
              "10799    crossland\n",
              "2732        hoteev\n",
              "Name: surname, Length: 8784, dtype: object"
            ]
          },
          "metadata": {},
          "execution_count": 43
        }
      ]
    },
    {
      "cell_type": "code",
      "source": [
        "y_train"
      ],
      "metadata": {
        "colab": {
          "base_uri": "https://localhost:8080/"
        },
        "id": "qlBddebK0l-5",
        "outputId": "66e169b2-0145-4a95-c05c-4ae815bab2d4"
      },
      "execution_count": 44,
      "outputs": [
        {
          "output_type": "execute_result",
          "data": {
            "text/plain": [
              "8996      4\n",
              "7868     14\n",
              "6109      3\n",
              "5417      1\n",
              "5194      4\n",
              "         ..\n",
              "4859      9\n",
              "3264     16\n",
              "9845     14\n",
              "10799     4\n",
              "2732     14\n",
              "Name: label, Length: 8784, dtype: int64"
            ]
          },
          "metadata": {},
          "execution_count": 44
        }
      ]
    },
    {
      "cell_type": "code",
      "source": [
        "train_dataset = SurnamesDatasetIndices(X_train, y_train, vocab)\n",
        "test_dataset = SurnamesDatasetIndices(X_test, y_test, vocab)\n",
        "train_loader = DataLoader(train_dataset, batch_size=128, shuffle=True)\n",
        "test_loader = DataLoader(test_dataset, batch_size=128, shuffle=True)\n",
        "\n",
        "print(f\"Train dataset: {len(train_dataset)}\")\n",
        "print(f\"Test dataset: {len(test_dataset)}\")"
      ],
      "metadata": {
        "colab": {
          "base_uri": "https://localhost:8080/"
        },
        "id": "jjQ3aiiY0pBG",
        "outputId": "ed78834a-902f-4784-c37d-34453f76befc"
      },
      "execution_count": 45,
      "outputs": [
        {
          "output_type": "stream",
          "name": "stdout",
          "text": [
            "Train dataset: 8784\n",
            "Test dataset: 2196\n"
          ]
        }
      ]
    },
    {
      "cell_type": "code",
      "source": [
        "train_dataset_onehot = SurnamesDatasetOnehot(X_train, y_train, vocab)\n",
        "test_dataset_onehot = SurnamesDatasetOnehot(X_test, y_test, vocab)\n",
        "train_loader_onehot = DataLoader(train_dataset_onehot, batch_size=128, shuffle=True)\n",
        "test_loader_onehot = DataLoader(test_dataset_onehot, batch_size=128, shuffle=True)\n",
        "print(f\"Train dataset: {len(train_dataset_onehot)}\")\n",
        "print(f\"Test dataset: {len(test_dataset_onehot)}\")"
      ],
      "metadata": {
        "colab": {
          "base_uri": "https://localhost:8080/"
        },
        "id": "wkT07hjV0sOH",
        "outputId": "c1e6eb76-a18a-4717-b9d3-2d4a758eca05"
      },
      "execution_count": 46,
      "outputs": [
        {
          "output_type": "stream",
          "name": "stdout",
          "text": [
            "Train dataset: 8784\n",
            "Test dataset: 2196\n"
          ]
        }
      ]
    },
    {
      "cell_type": "code",
      "source": [
        "#2.6. Обучить классификатор.\n",
        "# Для преобразования последовательности индексов в последовательность векторов используйте nn.Embedding. Рассмотрите два варианта:\n",
        "#  когда токен представляется в виде унитарного вектора и модуль nn.Embedding не обучается\n",
        "#  когда токен представляется в виде вектора небольшой размерности (меньше, чем размер словаря) и модуль nn.Embedding обучается\n",
        "# Используйте одномерные свертки и пулинг (nn.Conv1d, nn.MaxPool1d)\n",
        "#  обратите внимание, что nn.Conv1d ожидает на вход трехмерный тензор размерности (batch, embedding_dim, seq_len)\n",
        "class SurnameModel(nn.Module):\n",
        "    def __init__(self, embed_num, embed_dim, classes_num, seq_len, use_embed=True):\n",
        "        super(SurnameModel, self).__init__()\n",
        "\n",
        "        self.embed_dim = embed_dim\n",
        "        self.use_embed = use_embed\n",
        "        self.seq_len = seq_len\n",
        "        \n",
        "        if self.use_embed:\n",
        "            self.embed = nn.Embedding(embed_num, embed_dim)\n",
        "        \n",
        "        self.relu = nn.ReLU()\n",
        "        self.conv1 = nn.Conv1d(in_channels=embed_dim, out_channels=128, kernel_size=3)\n",
        "        self.pool1 = nn.MaxPool1d(2)\n",
        "\n",
        "        self.conv2 = nn.Conv1d(in_channels=128, out_channels=64, kernel_size=3)\n",
        "        self.pool2 = nn.MaxPool1d(2)\n",
        "\n",
        "        self.fc1 = nn.Linear(64, classes_num)\n",
        "\n",
        "    def forward(self, x):\n",
        "        if self.use_embed:\n",
        "            x = self.embed(x)\n",
        "        # print(x.shape)\n",
        "        x = x.reshape(len(x), self.embed_dim, self.seq_len).type(torch.FloatTensor)\n",
        "        x = self.pool1(self.relu(self.conv1(x)))\n",
        "        x = self.pool2(self.relu(self.conv2(x)))\n",
        "        x, _ = x.max(dim=-1)\n",
        "\n",
        "        return self.fc1(x)"
      ],
      "metadata": {
        "id": "MglWXses1LHu"
      },
      "execution_count": 47,
      "outputs": []
    },
    {
      "cell_type": "code",
      "source": [
        "#используем SurnamesDatasetOneHot\n",
        "model = SurnameModel(\n",
        "    len(vocab), len(vocab), n_classes, vocab.max_len, use_embed=False\n",
        ")\n",
        "criterion = nn.CrossEntropyLoss()\n",
        "optimizer = optim.Adam(model.parameters(), lr=0.001)\n",
        "n_epochs = 20\n",
        "\n",
        "losses_plt = []\n",
        "val_loss_plt = []\n",
        "\n",
        "for epoch in range(n_epochs):\n",
        "    print(f\"\\n-------------------------------\\nEpoch {epoch+1}\")\n",
        "    epoch_loss = 0\n",
        "    for X_batch, y_batch in train_loader_onehot:\n",
        "        predictions = model(X_batch)\n",
        "        loss = criterion(predictions, y_batch)\n",
        "        loss.backward()\n",
        "        optimizer.step()\n",
        "        optimizer.zero_grad()\n",
        "        epoch_loss += loss.item()\n",
        "\n",
        "    with torch.no_grad():\n",
        "        val_loss, val_acc = 0, 0\n",
        "        for X_batch, y_batch in test_loader_onehot:\n",
        "            \n",
        "            predictions = model(X_batch)\n",
        "            loss = criterion(predictions, y_batch).item()\n",
        "            acc = accuracy_score(\n",
        "                y_batch, predictions.argmax(dim=1).cpu().detach()\n",
        "            ).item()\n",
        "            \n",
        "            train_loss = epoch_loss / len(train_loader)\n",
        "            \n",
        "            val_loss += loss\n",
        "            val_acc += acc\n",
        "\n",
        "            print(\n",
        "                f\"Training loss: {train_loss:>7f} val_loss: {val_loss:>7f}\"\n",
        "            )\n",
        "    val_loss_plt.append(loss)\n",
        "    losses_plt.append(train_loss)"
      ],
      "metadata": {
        "colab": {
          "base_uri": "https://localhost:8080/"
        },
        "id": "0S80dH2V1qcb",
        "outputId": "72cf80b8-3a9f-42c7-e44d-fd1990653ac0"
      },
      "execution_count": 51,
      "outputs": [
        {
          "output_type": "stream",
          "name": "stdout",
          "text": [
            "\n",
            "-------------------------------\n",
            "Epoch 1\n",
            "Training loss: 2.303617 val_loss: 2.120545\n",
            "Training loss: 2.303617 val_loss: 4.233297\n",
            "Training loss: 2.303617 val_loss: 6.425376\n",
            "Training loss: 2.303617 val_loss: 8.632074\n",
            "Training loss: 2.303617 val_loss: 10.870218\n",
            "Training loss: 2.303617 val_loss: 13.171686\n",
            "Training loss: 2.303617 val_loss: 15.307151\n",
            "Training loss: 2.303617 val_loss: 17.434554\n",
            "Training loss: 2.303617 val_loss: 19.540849\n",
            "Training loss: 2.303617 val_loss: 21.738057\n",
            "Training loss: 2.303617 val_loss: 23.906198\n",
            "Training loss: 2.303617 val_loss: 26.067714\n",
            "Training loss: 2.303617 val_loss: 28.297296\n",
            "Training loss: 2.303617 val_loss: 30.439110\n",
            "Training loss: 2.303617 val_loss: 32.577837\n",
            "Training loss: 2.303617 val_loss: 34.728623\n",
            "Training loss: 2.303617 val_loss: 36.718646\n",
            "Training loss: 2.303617 val_loss: 39.214416\n",
            "\n",
            "-------------------------------\n",
            "Epoch 2\n",
            "Training loss: 2.097405 val_loss: 1.910163\n",
            "Training loss: 2.097405 val_loss: 3.942185\n",
            "Training loss: 2.097405 val_loss: 6.015831\n",
            "Training loss: 2.097405 val_loss: 7.959162\n",
            "Training loss: 2.097405 val_loss: 9.878603\n",
            "Training loss: 2.097405 val_loss: 11.806273\n",
            "Training loss: 2.097405 val_loss: 13.717929\n",
            "Training loss: 2.097405 val_loss: 15.795629\n",
            "Training loss: 2.097405 val_loss: 17.771427\n",
            "Training loss: 2.097405 val_loss: 19.625040\n",
            "Training loss: 2.097405 val_loss: 21.624606\n",
            "Training loss: 2.097405 val_loss: 23.668026\n",
            "Training loss: 2.097405 val_loss: 25.835085\n",
            "Training loss: 2.097405 val_loss: 27.975782\n",
            "Training loss: 2.097405 val_loss: 29.877454\n",
            "Training loss: 2.097405 val_loss: 31.758372\n",
            "Training loss: 2.097405 val_loss: 33.791421\n",
            "Training loss: 2.097405 val_loss: 36.459605\n",
            "\n",
            "-------------------------------\n",
            "Epoch 3\n",
            "Training loss: 1.903916 val_loss: 1.655155\n",
            "Training loss: 1.903916 val_loss: 3.429096\n",
            "Training loss: 1.903916 val_loss: 5.248304\n",
            "Training loss: 1.903916 val_loss: 6.924451\n",
            "Training loss: 1.903916 val_loss: 8.822295\n",
            "Training loss: 1.903916 val_loss: 10.708735\n",
            "Training loss: 1.903916 val_loss: 12.520628\n",
            "Training loss: 1.903916 val_loss: 14.454676\n",
            "Training loss: 1.903916 val_loss: 16.201953\n",
            "Training loss: 1.903916 val_loss: 17.824392\n",
            "Training loss: 1.903916 val_loss: 19.698754\n",
            "Training loss: 1.903916 val_loss: 21.502273\n",
            "Training loss: 1.903916 val_loss: 23.195083\n",
            "Training loss: 1.903916 val_loss: 25.095577\n",
            "Training loss: 1.903916 val_loss: 27.031105\n",
            "Training loss: 1.903916 val_loss: 28.853381\n",
            "Training loss: 1.903916 val_loss: 30.713513\n",
            "Training loss: 1.903916 val_loss: 33.050018\n",
            "\n",
            "-------------------------------\n",
            "Epoch 4\n",
            "Training loss: 1.752137 val_loss: 1.761760\n",
            "Training loss: 1.752137 val_loss: 3.487233\n",
            "Training loss: 1.752137 val_loss: 5.134456\n",
            "Training loss: 1.752137 val_loss: 6.817097\n",
            "Training loss: 1.752137 val_loss: 8.265144\n",
            "Training loss: 1.752137 val_loss: 10.048473\n",
            "Training loss: 1.752137 val_loss: 11.637436\n",
            "Training loss: 1.752137 val_loss: 13.293034\n",
            "Training loss: 1.752137 val_loss: 15.020170\n",
            "Training loss: 1.752137 val_loss: 16.810596\n",
            "Training loss: 1.752137 val_loss: 18.460253\n",
            "Training loss: 1.752137 val_loss: 20.078599\n",
            "Training loss: 1.752137 val_loss: 21.741593\n",
            "Training loss: 1.752137 val_loss: 23.570697\n",
            "Training loss: 1.752137 val_loss: 25.323970\n",
            "Training loss: 1.752137 val_loss: 27.014434\n",
            "Training loss: 1.752137 val_loss: 28.790603\n",
            "Training loss: 1.752137 val_loss: 30.851275\n",
            "\n",
            "-------------------------------\n",
            "Epoch 5\n",
            "Training loss: 1.641009 val_loss: 1.481443\n",
            "Training loss: 1.641009 val_loss: 3.311455\n",
            "Training loss: 1.641009 val_loss: 4.971608\n",
            "Training loss: 1.641009 val_loss: 6.458765\n",
            "Training loss: 1.641009 val_loss: 8.056904\n",
            "Training loss: 1.641009 val_loss: 9.510025\n",
            "Training loss: 1.641009 val_loss: 10.987236\n",
            "Training loss: 1.641009 val_loss: 12.636616\n",
            "Training loss: 1.641009 val_loss: 14.211167\n",
            "Training loss: 1.641009 val_loss: 15.611738\n",
            "Training loss: 1.641009 val_loss: 17.334274\n",
            "Training loss: 1.641009 val_loss: 19.134476\n",
            "Training loss: 1.641009 val_loss: 20.690318\n",
            "Training loss: 1.641009 val_loss: 22.365047\n",
            "Training loss: 1.641009 val_loss: 24.041614\n",
            "Training loss: 1.641009 val_loss: 25.760496\n",
            "Training loss: 1.641009 val_loss: 27.368610\n",
            "Training loss: 1.641009 val_loss: 28.892340\n",
            "\n",
            "-------------------------------\n",
            "Epoch 6\n",
            "Training loss: 1.552236 val_loss: 1.553465\n",
            "Training loss: 1.552236 val_loss: 3.108623\n",
            "Training loss: 1.552236 val_loss: 4.554421\n",
            "Training loss: 1.552236 val_loss: 6.087028\n",
            "Training loss: 1.552236 val_loss: 7.751056\n",
            "Training loss: 1.552236 val_loss: 9.298083\n",
            "Training loss: 1.552236 val_loss: 10.819551\n",
            "Training loss: 1.552236 val_loss: 12.304016\n",
            "Training loss: 1.552236 val_loss: 13.887078\n",
            "Training loss: 1.552236 val_loss: 15.326061\n",
            "Training loss: 1.552236 val_loss: 16.867060\n",
            "Training loss: 1.552236 val_loss: 18.363669\n",
            "Training loss: 1.552236 val_loss: 20.022174\n",
            "Training loss: 1.552236 val_loss: 21.607242\n",
            "Training loss: 1.552236 val_loss: 23.129543\n",
            "Training loss: 1.552236 val_loss: 24.684566\n",
            "Training loss: 1.552236 val_loss: 26.229981\n",
            "Training loss: 1.552236 val_loss: 28.038954\n",
            "\n",
            "-------------------------------\n",
            "Epoch 7\n",
            "Training loss: 1.484053 val_loss: 1.527151\n",
            "Training loss: 1.484053 val_loss: 3.340711\n",
            "Training loss: 1.484053 val_loss: 4.839413\n",
            "Training loss: 1.484053 val_loss: 6.360320\n",
            "Training loss: 1.484053 val_loss: 7.937996\n",
            "Training loss: 1.484053 val_loss: 9.260512\n",
            "Training loss: 1.484053 val_loss: 10.682135\n",
            "Training loss: 1.484053 val_loss: 12.090363\n",
            "Training loss: 1.484053 val_loss: 13.558160\n",
            "Training loss: 1.484053 val_loss: 15.246451\n",
            "Training loss: 1.484053 val_loss: 16.582584\n",
            "Training loss: 1.484053 val_loss: 18.113530\n",
            "Training loss: 1.484053 val_loss: 19.419208\n",
            "Training loss: 1.484053 val_loss: 20.788680\n",
            "Training loss: 1.484053 val_loss: 22.254147\n",
            "Training loss: 1.484053 val_loss: 23.896728\n",
            "Training loss: 1.484053 val_loss: 25.498628\n",
            "Training loss: 1.484053 val_loss: 27.438532\n",
            "\n",
            "-------------------------------\n",
            "Epoch 8\n",
            "Training loss: 1.419759 val_loss: 1.497294\n",
            "Training loss: 1.419759 val_loss: 2.816072\n",
            "Training loss: 1.419759 val_loss: 4.132006\n",
            "Training loss: 1.419759 val_loss: 5.462040\n",
            "Training loss: 1.419759 val_loss: 6.837742\n",
            "Training loss: 1.419759 val_loss: 8.389291\n",
            "Training loss: 1.419759 val_loss: 9.980063\n",
            "Training loss: 1.419759 val_loss: 11.348514\n",
            "Training loss: 1.419759 val_loss: 12.821071\n",
            "Training loss: 1.419759 val_loss: 14.122515\n",
            "Training loss: 1.419759 val_loss: 15.595242\n",
            "Training loss: 1.419759 val_loss: 17.041731\n",
            "Training loss: 1.419759 val_loss: 18.419299\n",
            "Training loss: 1.419759 val_loss: 19.895827\n",
            "Training loss: 1.419759 val_loss: 21.475753\n",
            "Training loss: 1.419759 val_loss: 22.893192\n",
            "Training loss: 1.419759 val_loss: 24.459747\n",
            "Training loss: 1.419759 val_loss: 26.070281\n",
            "\n",
            "-------------------------------\n",
            "Epoch 9\n",
            "Training loss: 1.363984 val_loss: 1.355045\n",
            "Training loss: 1.363984 val_loss: 2.619780\n",
            "Training loss: 1.363984 val_loss: 3.810001\n",
            "Training loss: 1.363984 val_loss: 5.261078\n",
            "Training loss: 1.363984 val_loss: 6.744205\n",
            "Training loss: 1.363984 val_loss: 8.158584\n",
            "Training loss: 1.363984 val_loss: 9.599601\n",
            "Training loss: 1.363984 val_loss: 10.996240\n",
            "Training loss: 1.363984 val_loss: 12.373871\n",
            "Training loss: 1.363984 val_loss: 13.572569\n",
            "Training loss: 1.363984 val_loss: 14.944722\n",
            "Training loss: 1.363984 val_loss: 16.638226\n",
            "Training loss: 1.363984 val_loss: 18.196864\n",
            "Training loss: 1.363984 val_loss: 19.678300\n",
            "Training loss: 1.363984 val_loss: 21.143461\n",
            "Training loss: 1.363984 val_loss: 22.289090\n",
            "Training loss: 1.363984 val_loss: 23.788083\n",
            "Training loss: 1.363984 val_loss: 25.136191\n",
            "\n",
            "-------------------------------\n",
            "Epoch 10\n",
            "Training loss: 1.319260 val_loss: 1.448117\n",
            "Training loss: 1.319260 val_loss: 2.747143\n",
            "Training loss: 1.319260 val_loss: 4.146308\n",
            "Training loss: 1.319260 val_loss: 5.469744\n",
            "Training loss: 1.319260 val_loss: 6.919908\n",
            "Training loss: 1.319260 val_loss: 8.302307\n",
            "Training loss: 1.319260 val_loss: 9.651952\n",
            "Training loss: 1.319260 val_loss: 11.124714\n",
            "Training loss: 1.319260 val_loss: 12.283098\n",
            "Training loss: 1.319260 val_loss: 13.712993\n",
            "Training loss: 1.319260 val_loss: 14.949962\n",
            "Training loss: 1.319260 val_loss: 16.406966\n",
            "Training loss: 1.319260 val_loss: 17.933298\n",
            "Training loss: 1.319260 val_loss: 19.401453\n",
            "Training loss: 1.319260 val_loss: 20.780670\n",
            "Training loss: 1.319260 val_loss: 22.002360\n",
            "Training loss: 1.319260 val_loss: 23.222375\n",
            "Training loss: 1.319260 val_loss: 24.492423\n",
            "\n",
            "-------------------------------\n",
            "Epoch 11\n",
            "Training loss: 1.272580 val_loss: 1.239334\n",
            "Training loss: 1.272580 val_loss: 2.736176\n",
            "Training loss: 1.272580 val_loss: 4.050849\n",
            "Training loss: 1.272580 val_loss: 5.449883\n",
            "Training loss: 1.272580 val_loss: 6.737215\n",
            "Training loss: 1.272580 val_loss: 8.132178\n",
            "Training loss: 1.272580 val_loss: 9.452465\n",
            "Training loss: 1.272580 val_loss: 10.739118\n",
            "Training loss: 1.272580 val_loss: 11.974587\n",
            "Training loss: 1.272580 val_loss: 13.459868\n",
            "Training loss: 1.272580 val_loss: 14.907749\n",
            "Training loss: 1.272580 val_loss: 16.159466\n",
            "Training loss: 1.272580 val_loss: 17.573273\n",
            "Training loss: 1.272580 val_loss: 18.925062\n",
            "Training loss: 1.272580 val_loss: 20.317600\n",
            "Training loss: 1.272580 val_loss: 21.725258\n",
            "Training loss: 1.272580 val_loss: 23.117648\n",
            "Training loss: 1.272580 val_loss: 25.163759\n",
            "\n",
            "-------------------------------\n",
            "Epoch 12\n",
            "Training loss: 1.241473 val_loss: 1.422982\n",
            "Training loss: 1.241473 val_loss: 2.741649\n",
            "Training loss: 1.241473 val_loss: 4.118078\n",
            "Training loss: 1.241473 val_loss: 5.390505\n",
            "Training loss: 1.241473 val_loss: 6.695004\n",
            "Training loss: 1.241473 val_loss: 7.879138\n",
            "Training loss: 1.241473 val_loss: 9.233147\n",
            "Training loss: 1.241473 val_loss: 10.662466\n",
            "Training loss: 1.241473 val_loss: 11.883202\n",
            "Training loss: 1.241473 val_loss: 13.175512\n",
            "Training loss: 1.241473 val_loss: 14.479819\n",
            "Training loss: 1.241473 val_loss: 15.862670\n",
            "Training loss: 1.241473 val_loss: 17.177340\n",
            "Training loss: 1.241473 val_loss: 18.330929\n",
            "Training loss: 1.241473 val_loss: 19.847054\n",
            "Training loss: 1.241473 val_loss: 21.022440\n",
            "Training loss: 1.241473 val_loss: 22.330703\n",
            "Training loss: 1.241473 val_loss: 23.665934\n",
            "\n",
            "-------------------------------\n",
            "Epoch 13\n",
            "Training loss: 1.200373 val_loss: 1.218669\n",
            "Training loss: 1.200373 val_loss: 2.565995\n",
            "Training loss: 1.200373 val_loss: 3.900222\n",
            "Training loss: 1.200373 val_loss: 5.140684\n",
            "Training loss: 1.200373 val_loss: 6.467727\n",
            "Training loss: 1.200373 val_loss: 7.710539\n",
            "Training loss: 1.200373 val_loss: 8.903625\n",
            "Training loss: 1.200373 val_loss: 10.162366\n",
            "Training loss: 1.200373 val_loss: 11.323131\n",
            "Training loss: 1.200373 val_loss: 12.797046\n",
            "Training loss: 1.200373 val_loss: 14.043162\n",
            "Training loss: 1.200373 val_loss: 15.243847\n",
            "Training loss: 1.200373 val_loss: 16.635174\n",
            "Training loss: 1.200373 val_loss: 18.099786\n",
            "Training loss: 1.200373 val_loss: 19.621001\n",
            "Training loss: 1.200373 val_loss: 20.829387\n",
            "Training loss: 1.200373 val_loss: 21.996770\n",
            "Training loss: 1.200373 val_loss: 22.981809\n",
            "\n",
            "-------------------------------\n",
            "Epoch 14\n",
            "Training loss: 1.168719 val_loss: 1.299747\n",
            "Training loss: 1.168719 val_loss: 2.310808\n",
            "Training loss: 1.168719 val_loss: 3.502474\n",
            "Training loss: 1.168719 val_loss: 4.893060\n",
            "Training loss: 1.168719 val_loss: 6.134532\n",
            "Training loss: 1.168719 val_loss: 7.540301\n",
            "Training loss: 1.168719 val_loss: 8.716566\n",
            "Training loss: 1.168719 val_loss: 10.183957\n",
            "Training loss: 1.168719 val_loss: 11.419000\n",
            "Training loss: 1.168719 val_loss: 12.703653\n",
            "Training loss: 1.168719 val_loss: 13.894094\n",
            "Training loss: 1.168719 val_loss: 15.250781\n",
            "Training loss: 1.168719 val_loss: 16.455336\n",
            "Training loss: 1.168719 val_loss: 17.809662\n",
            "Training loss: 1.168719 val_loss: 19.148790\n",
            "Training loss: 1.168719 val_loss: 20.369654\n",
            "Training loss: 1.168719 val_loss: 21.670772\n",
            "Training loss: 1.168719 val_loss: 23.357444\n",
            "\n",
            "-------------------------------\n",
            "Epoch 15\n",
            "Training loss: 1.133749 val_loss: 1.199178\n",
            "Training loss: 1.133749 val_loss: 2.474347\n",
            "Training loss: 1.133749 val_loss: 3.770277\n",
            "Training loss: 1.133749 val_loss: 5.001086\n",
            "Training loss: 1.133749 val_loss: 6.291234\n",
            "Training loss: 1.133749 val_loss: 7.562851\n",
            "Training loss: 1.133749 val_loss: 8.794190\n",
            "Training loss: 1.133749 val_loss: 10.093172\n",
            "Training loss: 1.133749 val_loss: 11.282156\n",
            "Training loss: 1.133749 val_loss: 12.722448\n",
            "Training loss: 1.133749 val_loss: 14.066087\n",
            "Training loss: 1.133749 val_loss: 15.196409\n",
            "Training loss: 1.133749 val_loss: 16.385688\n",
            "Training loss: 1.133749 val_loss: 17.669756\n",
            "Training loss: 1.133749 val_loss: 19.028508\n",
            "Training loss: 1.133749 val_loss: 20.307264\n",
            "Training loss: 1.133749 val_loss: 21.433577\n",
            "Training loss: 1.133749 val_loss: 22.441008\n",
            "\n",
            "-------------------------------\n",
            "Epoch 16\n",
            "Training loss: 1.101565 val_loss: 1.170545\n",
            "Training loss: 1.101565 val_loss: 2.489663\n",
            "Training loss: 1.101565 val_loss: 3.576647\n",
            "Training loss: 1.101565 val_loss: 4.936110\n",
            "Training loss: 1.101565 val_loss: 6.058050\n",
            "Training loss: 1.101565 val_loss: 7.179095\n",
            "Training loss: 1.101565 val_loss: 8.355145\n",
            "Training loss: 1.101565 val_loss: 9.445154\n",
            "Training loss: 1.101565 val_loss: 10.772135\n",
            "Training loss: 1.101565 val_loss: 12.308313\n",
            "Training loss: 1.101565 val_loss: 13.534225\n",
            "Training loss: 1.101565 val_loss: 14.838468\n",
            "Training loss: 1.101565 val_loss: 16.116480\n",
            "Training loss: 1.101565 val_loss: 17.277377\n",
            "Training loss: 1.101565 val_loss: 18.732190\n",
            "Training loss: 1.101565 val_loss: 20.093525\n",
            "Training loss: 1.101565 val_loss: 21.151161\n",
            "Training loss: 1.101565 val_loss: 22.528141\n",
            "\n",
            "-------------------------------\n",
            "Epoch 17\n",
            "Training loss: 1.076947 val_loss: 1.037766\n",
            "Training loss: 1.076947 val_loss: 2.298391\n",
            "Training loss: 1.076947 val_loss: 3.329398\n",
            "Training loss: 1.076947 val_loss: 4.537278\n",
            "Training loss: 1.076947 val_loss: 5.700383\n",
            "Training loss: 1.076947 val_loss: 6.873485\n",
            "Training loss: 1.076947 val_loss: 8.117530\n",
            "Training loss: 1.076947 val_loss: 9.390746\n",
            "Training loss: 1.076947 val_loss: 10.846544\n",
            "Training loss: 1.076947 val_loss: 11.984756\n",
            "Training loss: 1.076947 val_loss: 13.030232\n",
            "Training loss: 1.076947 val_loss: 14.500988\n",
            "Training loss: 1.076947 val_loss: 15.855558\n",
            "Training loss: 1.076947 val_loss: 17.131681\n",
            "Training loss: 1.076947 val_loss: 18.293510\n",
            "Training loss: 1.076947 val_loss: 19.563849\n",
            "Training loss: 1.076947 val_loss: 20.788451\n",
            "Training loss: 1.076947 val_loss: 22.424045\n",
            "\n",
            "-------------------------------\n",
            "Epoch 18\n",
            "Training loss: 1.052322 val_loss: 1.465093\n",
            "Training loss: 1.052322 val_loss: 2.435644\n",
            "Training loss: 1.052322 val_loss: 3.582335\n",
            "Training loss: 1.052322 val_loss: 4.880048\n",
            "Training loss: 1.052322 val_loss: 6.196594\n",
            "Training loss: 1.052322 val_loss: 7.286210\n",
            "Training loss: 1.052322 val_loss: 8.731463\n",
            "Training loss: 1.052322 val_loss: 9.841251\n",
            "Training loss: 1.052322 val_loss: 10.989973\n",
            "Training loss: 1.052322 val_loss: 12.228383\n",
            "Training loss: 1.052322 val_loss: 13.374895\n",
            "Training loss: 1.052322 val_loss: 14.510373\n",
            "Training loss: 1.052322 val_loss: 15.524690\n",
            "Training loss: 1.052322 val_loss: 16.759036\n",
            "Training loss: 1.052322 val_loss: 18.037896\n",
            "Training loss: 1.052322 val_loss: 19.351810\n",
            "Training loss: 1.052322 val_loss: 20.726775\n",
            "Training loss: 1.052322 val_loss: 22.066650\n",
            "\n",
            "-------------------------------\n",
            "Epoch 19\n",
            "Training loss: 1.026013 val_loss: 1.093011\n",
            "Training loss: 1.026013 val_loss: 2.450127\n",
            "Training loss: 1.026013 val_loss: 3.651679\n",
            "Training loss: 1.026013 val_loss: 5.287631\n",
            "Training loss: 1.026013 val_loss: 6.315065\n",
            "Training loss: 1.026013 val_loss: 7.672846\n",
            "Training loss: 1.026013 val_loss: 8.709400\n",
            "Training loss: 1.026013 val_loss: 10.015976\n",
            "Training loss: 1.026013 val_loss: 11.302407\n",
            "Training loss: 1.026013 val_loss: 12.377488\n",
            "Training loss: 1.026013 val_loss: 13.575493\n",
            "Training loss: 1.026013 val_loss: 14.742027\n",
            "Training loss: 1.026013 val_loss: 16.052725\n",
            "Training loss: 1.026013 val_loss: 17.211632\n",
            "Training loss: 1.026013 val_loss: 18.358852\n",
            "Training loss: 1.026013 val_loss: 19.430459\n",
            "Training loss: 1.026013 val_loss: 20.650687\n",
            "Training loss: 1.026013 val_loss: 21.624674\n",
            "\n",
            "-------------------------------\n",
            "Epoch 20\n",
            "Training loss: 1.004813 val_loss: 1.287079\n",
            "Training loss: 1.004813 val_loss: 2.870097\n",
            "Training loss: 1.004813 val_loss: 3.948641\n",
            "Training loss: 1.004813 val_loss: 4.917641\n",
            "Training loss: 1.004813 val_loss: 6.152450\n",
            "Training loss: 1.004813 val_loss: 7.333434\n",
            "Training loss: 1.004813 val_loss: 8.668033\n",
            "Training loss: 1.004813 val_loss: 9.723460\n",
            "Training loss: 1.004813 val_loss: 10.825167\n",
            "Training loss: 1.004813 val_loss: 12.005797\n",
            "Training loss: 1.004813 val_loss: 13.290841\n",
            "Training loss: 1.004813 val_loss: 14.387209\n",
            "Training loss: 1.004813 val_loss: 15.619731\n",
            "Training loss: 1.004813 val_loss: 17.023122\n",
            "Training loss: 1.004813 val_loss: 18.255965\n",
            "Training loss: 1.004813 val_loss: 19.354324\n",
            "Training loss: 1.004813 val_loss: 20.554046\n",
            "Training loss: 1.004813 val_loss: 21.473005\n"
          ]
        }
      ]
    },
    {
      "cell_type": "code",
      "source": [
        "import matplotlib.pyplot as plt\n",
        "plt.plot(torch.arange(len(losses_plt)), losses_plt)"
      ],
      "metadata": {
        "colab": {
          "base_uri": "https://localhost:8080/",
          "height": 452
        },
        "id": "yqS5D7x718UC",
        "outputId": "0efb417a-d175-4eb0-d83f-e3c3b4049851"
      },
      "execution_count": 49,
      "outputs": [
        {
          "output_type": "execute_result",
          "data": {
            "text/plain": [
              "[<matplotlib.lines.Line2D at 0x7fe173000b80>]"
            ]
          },
          "metadata": {},
          "execution_count": 49
        },
        {
          "output_type": "display_data",
          "data": {
            "text/plain": [
              "<Figure size 640x480 with 1 Axes>"
            ],
            "image/png": "[encoded data removed]"
          },
          "metadata": {}
        }
      ]
    },
    {
      "cell_type": "code",
      "source": [
        "plt.plot(torch.arange(len(val_loss_plt)), val_loss_plt)"
      ],
      "metadata": {
        "colab": {
          "base_uri": "https://localhost:8080/",
          "height": 447
        },
        "id": "nu1-BIRW2BNt",
        "outputId": "c5db9ab5-0f5c-4cec-b48a-0980c3b80fe3"
      },
      "execution_count": 50,
      "outputs": [
        {
          "output_type": "execute_result",
          "data": {
            "text/plain": [
              "[<matplotlib.lines.Line2D at 0x7fe16744d8b0>]"
            ]
          },
          "metadata": {},
          "execution_count": 50
        },
        {
          "output_type": "display_data",
          "data": {
            "text/plain": [
              "<Figure size 640x480 with 1 Axes>"
            ],
            "image/png": "[encoded data removed]"
          },
          "metadata": {}
        }
      ]
    },
    {
      "cell_type": "code",
      "source": [
        "#2.7 Измерить точность на тестовой выборке. Проверить работоспособность модели: прогнать несколько фамилий студентов группы через модели и проверить результат. \n",
        "#Для каждой фамилии выводить 3 наиболее вероятных предсказания.\n",
        "from sklearn.metrics import confusion_matrix, classification_report, roc_auc_score\n",
        "\n",
        "test_loader_onehot_2 = DataLoader(\n",
        "    test_dataset_onehot, batch_size=len(test_dataset_onehot), shuffle=True\n",
        ")\n",
        "X_batch, y_batch = next(iter(test_loader_onehot_2))\n",
        "predictions = model(X_batch).argmax(dim=1).cpu().detach()\n",
        "print(classification_report(y_batch, predictions))"
      ],
      "metadata": {
        "colab": {
          "base_uri": "https://localhost:8080/"
        },
        "id": "qjbp-ALC2bLj",
        "outputId": "3532cc9f-351a-4e51-a97c-28d2e9997026"
      },
      "execution_count": 52,
      "outputs": [
        {
          "output_type": "stream",
          "name": "stdout",
          "text": [
            "              precision    recall  f1-score   support\n",
            "\n",
            "           0       0.91      1.00      0.95       330\n",
            "           1       0.38      0.56      0.45        32\n",
            "           2       0.39      0.08      0.13        87\n",
            "           3       0.33      0.02      0.04        49\n",
            "           4       0.55      0.88      0.68       572\n",
            "           5       0.14      0.03      0.04        38\n",
            "           6       0.53      0.26      0.35       117\n",
            "           7       0.50      0.26      0.34        27\n",
            "           8       0.00      0.00      0.00        39\n",
            "           9       0.40      0.49      0.44       120\n",
            "          10       0.69      0.61      0.65       153\n",
            "          11       0.00      0.00      0.00         8\n",
            "          12       1.00      0.04      0.07        27\n",
            "          13       0.00      0.00      0.00         9\n",
            "          14       0.77      0.75      0.76       502\n",
            "          15       0.00      0.00      0.00        23\n",
            "          16       0.00      0.00      0.00        46\n",
            "          17       0.00      0.00      0.00        17\n",
            "\n",
            "    accuracy                           0.65      2196\n",
            "   macro avg       0.37      0.28      0.27      2196\n",
            "weighted avg       0.60      0.65      0.60      2196\n",
            "\n"
          ]
        },
        {
          "output_type": "stream",
          "name": "stderr",
          "text": [
            "/usr/local/lib/python3.9/dist-packages/sklearn/metrics/_classification.py:1344: UndefinedMetricWarning: Precision and F-score are ill-defined and being set to 0.0 in labels with no predicted samples. Use `zero_division` parameter to control this behavior.\n",
            "  _warn_prf(average, modifier, msg_start, len(result))\n",
            "/usr/local/lib/python3.9/dist-packages/sklearn/metrics/_classification.py:1344: UndefinedMetricWarning: Precision and F-score are ill-defined and being set to 0.0 in labels with no predicted samples. Use `zero_division` parameter to control this behavior.\n",
            "  _warn_prf(average, modifier, msg_start, len(result))\n",
            "/usr/local/lib/python3.9/dist-packages/sklearn/metrics/_classification.py:1344: UndefinedMetricWarning: Precision and F-score are ill-defined and being set to 0.0 in labels with no predicted samples. Use `zero_division` parameter to control this behavior.\n",
            "  _warn_prf(average, modifier, msg_start, len(result))\n"
          ]
        }
      ]
    },
    {
      "cell_type": "code",
      "source": [
        "# Проверяем работу модели на наших данных\n",
        "names_list = [\n",
        "    \"Demenchuk\",\n",
        "    \"Baranov\",\n",
        "    \"Fogel\",\n",
        "    \"Newman\"\n",
        "]\n",
        "\n",
        "targets_list = [\"Russian\",\"Russian\", \"German\", \"English\"]\n",
        "\n",
        "for name, target in zip(map(lambda x: x.lower(), names_list), targets_list):\n",
        "    x = torch.LongTensor(train_dataset_onehot.processing(name)).unsqueeze(0)\n",
        "    output = model(x).cpu().detach().numpy()\n",
        "    predictions = output.argsort()[0][-3:][::-1]\n",
        "    predictions_names = label_encoder.inverse_transform(predictions)\n",
        "    print(f\"Surname : {name}\")\n",
        "    print(f\"True    : {target}\")\n",
        "    print(f\"Predicts: {predictions}\")\n",
        "    print(f\"Predicts names: {predictions_names}\\n\")"
      ],
      "metadata": {
        "colab": {
          "base_uri": "https://localhost:8080/"
        },
        "id": "Z87_ddqw2uOb",
        "outputId": "5141b5a1-430c-4274-b30e-f4164ef673b9"
      },
      "execution_count": 53,
      "outputs": [
        {
          "output_type": "stream",
          "name": "stdout",
          "text": [
            "Surname : demenchuk\n",
            "True    : Russian\n",
            "Predicts: [14  4 12]\n",
            "Predicts names: ['Russian' 'English' 'Polish']\n",
            "\n",
            "Surname : baranov\n",
            "True    : Russian\n",
            "Predicts: [14  4  2]\n",
            "Predicts names: ['Russian' 'English' 'Czech']\n",
            "\n",
            "Surname : fogel\n",
            "True    : German\n",
            "Predicts: [4 9 5]\n",
            "Predicts names: ['English' 'Italian' 'French']\n",
            "\n",
            "Surname : newman\n",
            "True    : English\n",
            "Predicts: [4 2 9]\n",
            "Predicts names: ['English' 'Czech' 'Italian']\n",
            "\n"
          ]
        }
      ]
    },
    {
      "cell_type": "code",
      "source": [
        "#используем OneHot\n",
        "model = SurnameModel(len(vocab), 30, n_classes, vocab.max_len, use_embed=True)\n",
        "criterion = nn.CrossEntropyLoss()\n",
        "optimizer = optim.Adam(model.parameters(), lr=0.001)\n",
        "n_epochs = 20\n",
        "\n",
        "losses_plt = []\n",
        "val_loss_plt = []\n",
        "\n",
        "for epoch in range(n_epochs):\n",
        "    print(f\"\\n-------------------------------\\nEpoch {epoch+1}\")\n",
        "    epoch_loss = 0\n",
        "    for X_batch, y_batch in train_loader:\n",
        "        predictions = model(X_batch)\n",
        "        loss = criterion(predictions, y_batch)\n",
        "        loss.backward()\n",
        "        optimizer.step()\n",
        "        optimizer.zero_grad()\n",
        "        epoch_loss += loss.item()\n",
        "\n",
        "    with torch.no_grad():\n",
        "        val_loss, val_acc = 0, 0\n",
        "        for X_batch, y_batch in test_loader:\n",
        "            predictions = model(X_batch)\n",
        "            loss = criterion(predictions, y_batch).item()\n",
        "            acc = accuracy_score(\n",
        "                y_batch, predictions.argmax(dim=1).cpu().detach()\n",
        "            ).item()\n",
        "            \n",
        "            train_loss = epoch_loss / len(train_loader)\n",
        "            \n",
        "            val_loss += loss\n",
        "            val_acc += acc\n",
        "            print(\n",
        "                f\"Training loss: {train_loss:>7f} val_loss: {val_loss:>7f}\"\n",
        "            )\n",
        "    val_loss_plt.append(loss)\n",
        "    losses_plt.append(train_loss)"
      ],
      "metadata": {
        "colab": {
          "base_uri": "https://localhost:8080/"
        },
        "id": "F1s83hf12568",
        "outputId": "7bb76335-9307-4adb-9ef5-a3728d24c1e3"
      },
      "execution_count": 54,
      "outputs": [
        {
          "output_type": "stream",
          "name": "stdout",
          "text": [
            "\n",
            "-------------------------------\n",
            "Epoch 1\n",
            "Training loss: 2.152228 val_loss: 1.784964\n",
            "Training loss: 2.152228 val_loss: 3.840508\n",
            "Training loss: 2.152228 val_loss: 5.736606\n",
            "Training loss: 2.152228 val_loss: 7.843234\n",
            "Training loss: 2.152228 val_loss: 9.531550\n",
            "Training loss: 2.152228 val_loss: 11.490921\n",
            "Training loss: 2.152228 val_loss: 13.470773\n",
            "Training loss: 2.152228 val_loss: 15.411937\n",
            "Training loss: 2.152228 val_loss: 17.328085\n",
            "Training loss: 2.152228 val_loss: 19.181583\n",
            "Training loss: 2.152228 val_loss: 21.269930\n",
            "Training loss: 2.152228 val_loss: 23.237136\n",
            "Training loss: 2.152228 val_loss: 25.197743\n",
            "Training loss: 2.152228 val_loss: 27.153448\n",
            "Training loss: 2.152228 val_loss: 28.963575\n",
            "Training loss: 2.152228 val_loss: 30.976113\n",
            "Training loss: 2.152228 val_loss: 32.906573\n",
            "Training loss: 2.152228 val_loss: 34.809253\n",
            "\n",
            "-------------------------------\n",
            "Epoch 2\n",
            "Training loss: 1.799917 val_loss: 1.874840\n",
            "Training loss: 1.799917 val_loss: 3.558446\n",
            "Training loss: 1.799917 val_loss: 5.137635\n",
            "Training loss: 1.799917 val_loss: 6.831846\n",
            "Training loss: 1.799917 val_loss: 8.499263\n",
            "Training loss: 1.799917 val_loss: 10.195904\n",
            "Training loss: 1.799917 val_loss: 11.823128\n",
            "Training loss: 1.799917 val_loss: 13.523988\n",
            "Training loss: 1.799917 val_loss: 15.045035\n",
            "Training loss: 1.799917 val_loss: 16.835544\n",
            "Training loss: 1.799917 val_loss: 18.412286\n",
            "Training loss: 1.799917 val_loss: 20.165528\n",
            "Training loss: 1.799917 val_loss: 21.819852\n",
            "Training loss: 1.799917 val_loss: 23.561604\n",
            "Training loss: 1.799917 val_loss: 25.219849\n",
            "Training loss: 1.799917 val_loss: 26.975781\n",
            "Training loss: 1.799917 val_loss: 28.727071\n",
            "Training loss: 1.799917 val_loss: 30.636459\n",
            "\n",
            "-------------------------------\n",
            "Epoch 3\n",
            "Training loss: 1.588548 val_loss: 1.583166\n",
            "Training loss: 1.588548 val_loss: 3.083314\n",
            "Training loss: 1.588548 val_loss: 4.663868\n",
            "Training loss: 1.588548 val_loss: 6.209067\n",
            "Training loss: 1.588548 val_loss: 7.821442\n",
            "Training loss: 1.588548 val_loss: 9.312005\n",
            "Training loss: 1.588548 val_loss: 10.804701\n",
            "Training loss: 1.588548 val_loss: 12.309942\n",
            "Training loss: 1.588548 val_loss: 13.933533\n",
            "Training loss: 1.588548 val_loss: 15.572834\n",
            "Training loss: 1.588548 val_loss: 16.929815\n",
            "Training loss: 1.588548 val_loss: 18.803709\n",
            "Training loss: 1.588548 val_loss: 20.343722\n",
            "Training loss: 1.588548 val_loss: 21.980405\n",
            "Training loss: 1.588548 val_loss: 23.342061\n",
            "Training loss: 1.588548 val_loss: 24.750966\n",
            "Training loss: 1.588548 val_loss: 26.053217\n",
            "Training loss: 1.588548 val_loss: 27.316434\n",
            "\n",
            "-------------------------------\n",
            "Epoch 4\n",
            "Training loss: 1.430823 val_loss: 1.531832\n",
            "Training loss: 1.430823 val_loss: 2.883669\n",
            "Training loss: 1.430823 val_loss: 4.225980\n",
            "Training loss: 1.430823 val_loss: 5.512955\n",
            "Training loss: 1.430823 val_loss: 7.186927\n",
            "Training loss: 1.430823 val_loss: 8.498597\n",
            "Training loss: 1.430823 val_loss: 9.840631\n",
            "Training loss: 1.430823 val_loss: 11.057662\n",
            "Training loss: 1.430823 val_loss: 12.640204\n",
            "Training loss: 1.430823 val_loss: 14.010157\n",
            "Training loss: 1.430823 val_loss: 15.479967\n",
            "Training loss: 1.430823 val_loss: 16.944685\n",
            "Training loss: 1.430823 val_loss: 18.432980\n",
            "Training loss: 1.430823 val_loss: 19.980844\n",
            "Training loss: 1.430823 val_loss: 21.418662\n",
            "Training loss: 1.430823 val_loss: 22.785326\n",
            "Training loss: 1.430823 val_loss: 24.148032\n",
            "Training loss: 1.430823 val_loss: 26.002987\n",
            "\n",
            "-------------------------------\n",
            "Epoch 5\n",
            "Training loss: 1.318213 val_loss: 1.543873\n",
            "Training loss: 1.318213 val_loss: 2.896323\n",
            "Training loss: 1.318213 val_loss: 4.267461\n",
            "Training loss: 1.318213 val_loss: 5.437079\n",
            "Training loss: 1.318213 val_loss: 6.722485\n",
            "Training loss: 1.318213 val_loss: 7.921293\n",
            "Training loss: 1.318213 val_loss: 9.429825\n",
            "Training loss: 1.318213 val_loss: 10.962934\n",
            "Training loss: 1.318213 val_loss: 12.217213\n",
            "Training loss: 1.318213 val_loss: 13.550037\n",
            "Training loss: 1.318213 val_loss: 14.967189\n",
            "Training loss: 1.318213 val_loss: 16.076038\n",
            "Training loss: 1.318213 val_loss: 17.397906\n",
            "Training loss: 1.318213 val_loss: 18.768011\n",
            "Training loss: 1.318213 val_loss: 20.313290\n",
            "Training loss: 1.318213 val_loss: 21.668252\n",
            "Training loss: 1.318213 val_loss: 22.885108\n",
            "Training loss: 1.318213 val_loss: 24.336667\n",
            "\n",
            "-------------------------------\n",
            "Epoch 6\n",
            "Training loss: 1.220313 val_loss: 1.251963\n",
            "Training loss: 1.220313 val_loss: 2.637904\n",
            "Training loss: 1.220313 val_loss: 3.918689\n",
            "Training loss: 1.220313 val_loss: 5.087743\n",
            "Training loss: 1.220313 val_loss: 6.345687\n",
            "Training loss: 1.220313 val_loss: 7.637561\n",
            "Training loss: 1.220313 val_loss: 9.013779\n",
            "Training loss: 1.220313 val_loss: 10.185570\n",
            "Training loss: 1.220313 val_loss: 11.460156\n",
            "Training loss: 1.220313 val_loss: 12.716029\n",
            "Training loss: 1.220313 val_loss: 13.906651\n",
            "Training loss: 1.220313 val_loss: 15.265027\n",
            "Training loss: 1.220313 val_loss: 16.608996\n",
            "Training loss: 1.220313 val_loss: 17.755117\n",
            "Training loss: 1.220313 val_loss: 18.897891\n",
            "Training loss: 1.220313 val_loss: 20.121573\n",
            "Training loss: 1.220313 val_loss: 21.624019\n",
            "Training loss: 1.220313 val_loss: 23.145460\n",
            "\n",
            "-------------------------------\n",
            "Epoch 7\n",
            "Training loss: 1.143920 val_loss: 1.300608\n",
            "Training loss: 1.143920 val_loss: 2.559579\n",
            "Training loss: 1.143920 val_loss: 3.815357\n",
            "Training loss: 1.143920 val_loss: 5.038236\n",
            "Training loss: 1.143920 val_loss: 6.324802\n",
            "Training loss: 1.143920 val_loss: 7.625921\n",
            "Training loss: 1.143920 val_loss: 8.718545\n",
            "Training loss: 1.143920 val_loss: 9.857560\n",
            "Training loss: 1.143920 val_loss: 11.113430\n",
            "Training loss: 1.143920 val_loss: 12.403989\n",
            "Training loss: 1.143920 val_loss: 13.688490\n",
            "Training loss: 1.143920 val_loss: 15.130888\n",
            "Training loss: 1.143920 val_loss: 16.238288\n",
            "Training loss: 1.143920 val_loss: 17.488530\n",
            "Training loss: 1.143920 val_loss: 18.477288\n",
            "Training loss: 1.143920 val_loss: 19.831313\n",
            "Training loss: 1.143920 val_loss: 20.950294\n",
            "Training loss: 1.143920 val_loss: 22.157222\n",
            "\n",
            "-------------------------------\n",
            "Epoch 8\n",
            "Training loss: 1.074611 val_loss: 0.986263\n",
            "Training loss: 1.074611 val_loss: 2.233063\n",
            "Training loss: 1.074611 val_loss: 3.495793\n",
            "Training loss: 1.074611 val_loss: 4.615441\n",
            "Training loss: 1.074611 val_loss: 5.474646\n",
            "Training loss: 1.074611 val_loss: 6.901259\n",
            "Training loss: 1.074611 val_loss: 8.015641\n",
            "Training loss: 1.074611 val_loss: 8.938507\n",
            "Training loss: 1.074611 val_loss: 10.249441\n",
            "Training loss: 1.074611 val_loss: 11.435492\n",
            "Training loss: 1.074611 val_loss: 12.635805\n",
            "Training loss: 1.074611 val_loss: 13.956976\n",
            "Training loss: 1.074611 val_loss: 15.227556\n",
            "Training loss: 1.074611 val_loss: 16.402938\n",
            "Training loss: 1.074611 val_loss: 17.595894\n",
            "Training loss: 1.074611 val_loss: 18.934360\n",
            "Training loss: 1.074611 val_loss: 19.907739\n",
            "Training loss: 1.074611 val_loss: 21.158196\n",
            "\n",
            "-------------------------------\n",
            "Epoch 9\n",
            "Training loss: 1.004649 val_loss: 1.125823\n",
            "Training loss: 1.004649 val_loss: 2.405657\n",
            "Training loss: 1.004649 val_loss: 3.536687\n",
            "Training loss: 1.004649 val_loss: 4.635153\n",
            "Training loss: 1.004649 val_loss: 5.879301\n",
            "Training loss: 1.004649 val_loss: 6.969886\n",
            "Training loss: 1.004649 val_loss: 8.187121\n",
            "Training loss: 1.004649 val_loss: 9.398486\n",
            "Training loss: 1.004649 val_loss: 10.531059\n",
            "Training loss: 1.004649 val_loss: 11.837019\n",
            "Training loss: 1.004649 val_loss: 12.920744\n",
            "Training loss: 1.004649 val_loss: 13.909818\n",
            "Training loss: 1.004649 val_loss: 15.192911\n",
            "Training loss: 1.004649 val_loss: 16.160572\n",
            "Training loss: 1.004649 val_loss: 17.186635\n",
            "Training loss: 1.004649 val_loss: 18.264188\n",
            "Training loss: 1.004649 val_loss: 19.412210\n",
            "Training loss: 1.004649 val_loss: 20.878185\n",
            "\n",
            "-------------------------------\n",
            "Epoch 10\n",
            "Training loss: 0.947428 val_loss: 0.927454\n",
            "Training loss: 0.947428 val_loss: 1.948637\n",
            "Training loss: 0.947428 val_loss: 3.348141\n",
            "Training loss: 0.947428 val_loss: 4.565772\n",
            "Training loss: 0.947428 val_loss: 5.645612\n",
            "Training loss: 0.947428 val_loss: 6.727592\n",
            "Training loss: 0.947428 val_loss: 7.760245\n",
            "Training loss: 0.947428 val_loss: 8.705874\n",
            "Training loss: 0.947428 val_loss: 9.674852\n",
            "Training loss: 0.947428 val_loss: 10.856121\n",
            "Training loss: 0.947428 val_loss: 11.998196\n",
            "Training loss: 0.947428 val_loss: 13.263490\n",
            "Training loss: 0.947428 val_loss: 14.495775\n",
            "Training loss: 0.947428 val_loss: 15.839566\n",
            "Training loss: 0.947428 val_loss: 16.771412\n",
            "Training loss: 0.947428 val_loss: 18.190548\n",
            "Training loss: 0.947428 val_loss: 19.164343\n",
            "Training loss: 0.947428 val_loss: 20.438620\n",
            "\n",
            "-------------------------------\n",
            "Epoch 11\n",
            "Training loss: 0.901397 val_loss: 1.288404\n",
            "Training loss: 0.901397 val_loss: 2.428448\n",
            "Training loss: 0.901397 val_loss: 3.512971\n",
            "Training loss: 0.901397 val_loss: 4.701872\n",
            "Training loss: 0.901397 val_loss: 5.938923\n",
            "Training loss: 0.901397 val_loss: 7.032719\n",
            "Training loss: 0.901397 val_loss: 8.276161\n",
            "Training loss: 0.901397 val_loss: 9.211212\n",
            "Training loss: 0.901397 val_loss: 10.091702\n",
            "Training loss: 0.901397 val_loss: 11.000197\n",
            "Training loss: 0.901397 val_loss: 12.381382\n",
            "Training loss: 0.901397 val_loss: 13.341261\n",
            "Training loss: 0.901397 val_loss: 14.372961\n",
            "Training loss: 0.901397 val_loss: 15.302115\n",
            "Training loss: 0.901397 val_loss: 16.543544\n",
            "Training loss: 0.901397 val_loss: 17.762197\n",
            "Training loss: 0.901397 val_loss: 18.761843\n",
            "Training loss: 0.901397 val_loss: 20.134454\n",
            "\n",
            "-------------------------------\n",
            "Epoch 12\n",
            "Training loss: 0.849100 val_loss: 1.090686\n",
            "Training loss: 0.849100 val_loss: 2.099350\n",
            "Training loss: 0.849100 val_loss: 3.199214\n",
            "Training loss: 0.849100 val_loss: 4.226123\n",
            "Training loss: 0.849100 val_loss: 5.232740\n",
            "Training loss: 0.849100 val_loss: 6.280866\n",
            "Training loss: 0.849100 val_loss: 7.561862\n",
            "Training loss: 0.849100 val_loss: 8.630096\n",
            "Training loss: 0.849100 val_loss: 9.810643\n",
            "Training loss: 0.849100 val_loss: 10.819558\n",
            "Training loss: 0.849100 val_loss: 11.804263\n",
            "Training loss: 0.849100 val_loss: 12.980781\n",
            "Training loss: 0.849100 val_loss: 14.012691\n",
            "Training loss: 0.849100 val_loss: 15.177181\n",
            "Training loss: 0.849100 val_loss: 16.253937\n",
            "Training loss: 0.849100 val_loss: 17.353753\n",
            "Training loss: 0.849100 val_loss: 18.425295\n",
            "Training loss: 0.849100 val_loss: 19.540701\n",
            "\n",
            "-------------------------------\n",
            "Epoch 13\n",
            "Training loss: 0.814351 val_loss: 1.007057\n",
            "Training loss: 0.814351 val_loss: 2.037164\n",
            "Training loss: 0.814351 val_loss: 2.990768\n",
            "Training loss: 0.814351 val_loss: 4.352113\n",
            "Training loss: 0.814351 val_loss: 5.299723\n",
            "Training loss: 0.814351 val_loss: 6.376686\n",
            "Training loss: 0.814351 val_loss: 7.351726\n",
            "Training loss: 0.814351 val_loss: 8.479798\n",
            "Training loss: 0.814351 val_loss: 9.651148\n",
            "Training loss: 0.814351 val_loss: 10.655964\n",
            "Training loss: 0.814351 val_loss: 11.779637\n",
            "Training loss: 0.814351 val_loss: 12.648093\n",
            "Training loss: 0.814351 val_loss: 13.841434\n",
            "Training loss: 0.814351 val_loss: 15.087637\n",
            "Training loss: 0.814351 val_loss: 16.423851\n",
            "Training loss: 0.814351 val_loss: 17.754459\n",
            "Training loss: 0.814351 val_loss: 18.671871\n",
            "Training loss: 0.814351 val_loss: 19.658957\n",
            "\n",
            "-------------------------------\n",
            "Epoch 14\n",
            "Training loss: 0.780673 val_loss: 1.294127\n",
            "Training loss: 0.780673 val_loss: 2.466944\n",
            "Training loss: 0.780673 val_loss: 3.616326\n",
            "Training loss: 0.780673 val_loss: 4.711674\n",
            "Training loss: 0.780673 val_loss: 6.032611\n",
            "Training loss: 0.780673 val_loss: 7.062243\n",
            "Training loss: 0.780673 val_loss: 8.193917\n",
            "Training loss: 0.780673 val_loss: 9.199362\n",
            "Training loss: 0.780673 val_loss: 10.293334\n",
            "Training loss: 0.780673 val_loss: 11.288496\n",
            "Training loss: 0.780673 val_loss: 12.332892\n",
            "Training loss: 0.780673 val_loss: 13.228838\n",
            "Training loss: 0.780673 val_loss: 14.297315\n",
            "Training loss: 0.780673 val_loss: 15.366381\n",
            "Training loss: 0.780673 val_loss: 16.636379\n",
            "Training loss: 0.780673 val_loss: 17.859844\n",
            "Training loss: 0.780673 val_loss: 18.799971\n",
            "Training loss: 0.780673 val_loss: 20.366390\n",
            "\n",
            "-------------------------------\n",
            "Epoch 15\n",
            "Training loss: 0.756063 val_loss: 1.184292\n",
            "Training loss: 0.756063 val_loss: 2.172884\n",
            "Training loss: 0.756063 val_loss: 3.184280\n",
            "Training loss: 0.756063 val_loss: 4.030737\n",
            "Training loss: 0.756063 val_loss: 5.194006\n",
            "Training loss: 0.756063 val_loss: 6.346038\n",
            "Training loss: 0.756063 val_loss: 7.586871\n",
            "Training loss: 0.756063 val_loss: 8.390123\n",
            "Training loss: 0.756063 val_loss: 9.295825\n",
            "Training loss: 0.756063 val_loss: 10.350675\n",
            "Training loss: 0.756063 val_loss: 11.442642\n",
            "Training loss: 0.756063 val_loss: 12.415436\n",
            "Training loss: 0.756063 val_loss: 13.650424\n",
            "Training loss: 0.756063 val_loss: 14.703491\n",
            "Training loss: 0.756063 val_loss: 15.831028\n",
            "Training loss: 0.756063 val_loss: 16.939340\n",
            "Training loss: 0.756063 val_loss: 18.002676\n",
            "Training loss: 0.756063 val_loss: 19.111907\n",
            "\n",
            "-------------------------------\n",
            "Epoch 16\n",
            "Training loss: 0.714459 val_loss: 0.975911\n",
            "Training loss: 0.714459 val_loss: 2.176321\n",
            "Training loss: 0.714459 val_loss: 3.456096\n",
            "Training loss: 0.714459 val_loss: 4.299812\n",
            "Training loss: 0.714459 val_loss: 5.093685\n",
            "Training loss: 0.714459 val_loss: 6.269796\n",
            "Training loss: 0.714459 val_loss: 7.232212\n",
            "Training loss: 0.714459 val_loss: 8.375180\n",
            "Training loss: 0.714459 val_loss: 9.465610\n",
            "Training loss: 0.714459 val_loss: 10.429751\n",
            "Training loss: 0.714459 val_loss: 11.623595\n",
            "Training loss: 0.714459 val_loss: 12.753152\n",
            "Training loss: 0.714459 val_loss: 13.895854\n",
            "Training loss: 0.714459 val_loss: 14.991327\n",
            "Training loss: 0.714459 val_loss: 15.836378\n",
            "Training loss: 0.714459 val_loss: 16.943705\n",
            "Training loss: 0.714459 val_loss: 17.964731\n",
            "Training loss: 0.714459 val_loss: 19.561358\n",
            "\n",
            "-------------------------------\n",
            "Epoch 17\n",
            "Training loss: 0.678127 val_loss: 1.061787\n",
            "Training loss: 0.678127 val_loss: 2.154361\n",
            "Training loss: 0.678127 val_loss: 3.406212\n",
            "Training loss: 0.678127 val_loss: 4.590285\n",
            "Training loss: 0.678127 val_loss: 5.605560\n",
            "Training loss: 0.678127 val_loss: 6.593610\n",
            "Training loss: 0.678127 val_loss: 7.558455\n",
            "Training loss: 0.678127 val_loss: 8.402532\n",
            "Training loss: 0.678127 val_loss: 9.599002\n",
            "Training loss: 0.678127 val_loss: 10.493575\n",
            "Training loss: 0.678127 val_loss: 11.498833\n",
            "Training loss: 0.678127 val_loss: 12.514805\n",
            "Training loss: 0.678127 val_loss: 13.872023\n",
            "Training loss: 0.678127 val_loss: 15.209430\n",
            "Training loss: 0.678127 val_loss: 16.156520\n",
            "Training loss: 0.678127 val_loss: 17.135143\n",
            "Training loss: 0.678127 val_loss: 18.159483\n",
            "Training loss: 0.678127 val_loss: 18.845040\n",
            "\n",
            "-------------------------------\n",
            "Epoch 18\n",
            "Training loss: 0.653325 val_loss: 0.883098\n",
            "Training loss: 0.653325 val_loss: 1.634761\n",
            "Training loss: 0.653325 val_loss: 2.685242\n",
            "Training loss: 0.653325 val_loss: 3.707782\n",
            "Training loss: 0.653325 val_loss: 5.093836\n",
            "Training loss: 0.653325 val_loss: 6.067770\n",
            "Training loss: 0.653325 val_loss: 7.227906\n",
            "Training loss: 0.653325 val_loss: 8.260960\n",
            "Training loss: 0.653325 val_loss: 9.103652\n",
            "Training loss: 0.653325 val_loss: 10.285308\n",
            "Training loss: 0.653325 val_loss: 11.489278\n",
            "Training loss: 0.653325 val_loss: 12.437611\n",
            "Training loss: 0.653325 val_loss: 13.659550\n",
            "Training loss: 0.653325 val_loss: 14.482445\n",
            "Training loss: 0.653325 val_loss: 15.606974\n",
            "Training loss: 0.653325 val_loss: 16.693995\n",
            "Training loss: 0.653325 val_loss: 17.942538\n",
            "Training loss: 0.653325 val_loss: 18.843404\n",
            "\n",
            "-------------------------------\n",
            "Epoch 19\n",
            "Training loss: 0.639927 val_loss: 0.907595\n",
            "Training loss: 0.639927 val_loss: 2.087061\n",
            "Training loss: 0.639927 val_loss: 3.113207\n",
            "Training loss: 0.639927 val_loss: 4.265506\n",
            "Training loss: 0.639927 val_loss: 5.279043\n",
            "Training loss: 0.639927 val_loss: 6.514555\n",
            "Training loss: 0.639927 val_loss: 7.665770\n",
            "Training loss: 0.639927 val_loss: 8.580145\n",
            "Training loss: 0.639927 val_loss: 9.947633\n",
            "Training loss: 0.639927 val_loss: 11.296517\n",
            "Training loss: 0.639927 val_loss: 12.588475\n",
            "Training loss: 0.639927 val_loss: 13.648031\n",
            "Training loss: 0.639927 val_loss: 14.322121\n",
            "Training loss: 0.639927 val_loss: 15.526799\n",
            "Training loss: 0.639927 val_loss: 16.449563\n",
            "Training loss: 0.639927 val_loss: 17.447000\n",
            "Training loss: 0.639927 val_loss: 18.344869\n",
            "Training loss: 0.639927 val_loss: 19.425809\n",
            "\n",
            "-------------------------------\n",
            "Epoch 20\n",
            "Training loss: 0.602064 val_loss: 0.934791\n",
            "Training loss: 0.602064 val_loss: 1.832180\n",
            "Training loss: 0.602064 val_loss: 2.978460\n",
            "Training loss: 0.602064 val_loss: 4.333663\n",
            "Training loss: 0.602064 val_loss: 5.551803\n",
            "Training loss: 0.602064 val_loss: 6.583511\n",
            "Training loss: 0.602064 val_loss: 7.774125\n",
            "Training loss: 0.602064 val_loss: 8.870432\n",
            "Training loss: 0.602064 val_loss: 9.921493\n",
            "Training loss: 0.602064 val_loss: 10.922480\n",
            "Training loss: 0.602064 val_loss: 12.111235\n",
            "Training loss: 0.602064 val_loss: 13.081677\n",
            "Training loss: 0.602064 val_loss: 13.900918\n",
            "Training loss: 0.602064 val_loss: 14.991995\n",
            "Training loss: 0.602064 val_loss: 15.866686\n",
            "Training loss: 0.602064 val_loss: 16.914936\n",
            "Training loss: 0.602064 val_loss: 18.003050\n",
            "Training loss: 0.602064 val_loss: 19.203609\n"
          ]
        }
      ]
    },
    {
      "cell_type": "code",
      "source": [
        "plt.plot(torch.arange(len(losses_plt)), losses_plt)"
      ],
      "metadata": {
        "colab": {
          "base_uri": "https://localhost:8080/",
          "height": 447
        },
        "id": "MNopp31P3tqX",
        "outputId": "e44419d7-4a5c-433d-c057-05a30a247b8b"
      },
      "execution_count": 55,
      "outputs": [
        {
          "output_type": "execute_result",
          "data": {
            "text/plain": [
              "[<matplotlib.lines.Line2D at 0x7fe16736e0a0>]"
            ]
          },
          "metadata": {},
          "execution_count": 55
        },
        {
          "output_type": "display_data",
          "data": {
            "text/plain": [
              "<Figure size 640x480 with 1 Axes>"
            ],
            "image/png": "[encoded data removed]"
          },
          "metadata": {}
        }
      ]
    },
    {
      "cell_type": "code",
      "source": [
        "plt.plot(torch.arange(len(val_loss_plt)), val_loss_plt)"
      ],
      "metadata": {
        "colab": {
          "base_uri": "https://localhost:8080/",
          "height": 447
        },
        "id": "EyPA8uKQ3wH_",
        "outputId": "04f0dfd6-7c0f-4e98-c67a-6a3b85761bc8"
      },
      "execution_count": 56,
      "outputs": [
        {
          "output_type": "execute_result",
          "data": {
            "text/plain": [
              "[<matplotlib.lines.Line2D at 0x7fe16712da90>]"
            ]
          },
          "metadata": {},
          "execution_count": 56
        },
        {
          "output_type": "display_data",
          "data": {
            "text/plain": [
              "<Figure size 640x480 with 1 Axes>"
            ],
            "image/png": "[encoded data removed]"
          },
          "metadata": {}
        }
      ]
    },
    {
      "cell_type": "code",
      "source": [
        "test_loader_2 = DataLoader(test_dataset, batch_size=len(test_dataset), shuffle=True)\n",
        "X_batch, y_batch = next(iter(test_loader_2))\n",
        "predictions = model(X_batch).argmax(dim=1).cpu().detach()\n",
        "print(classification_report(y_batch, predictions))"
      ],
      "metadata": {
        "colab": {
          "base_uri": "https://localhost:8080/"
        },
        "id": "xBLxGg3D4nbB",
        "outputId": "de87bfef-958f-45c6-a612-aa3cbb5fa2e9"
      },
      "execution_count": 57,
      "outputs": [
        {
          "output_type": "stream",
          "name": "stdout",
          "text": [
            "              precision    recall  f1-score   support\n",
            "\n",
            "           0       0.95      1.00      0.98       330\n",
            "           1       0.54      0.78      0.64        32\n",
            "           2       0.50      0.15      0.23        87\n",
            "           3       0.40      0.24      0.30        49\n",
            "           4       0.63      0.86      0.73       572\n",
            "           5       0.29      0.05      0.09        38\n",
            "           6       0.62      0.36      0.45       117\n",
            "           7       0.69      0.33      0.45        27\n",
            "           8       0.75      0.23      0.35        39\n",
            "           9       0.58      0.55      0.56       120\n",
            "          10       0.80      0.76      0.78       153\n",
            "          11       0.00      0.00      0.00         8\n",
            "          12       0.50      0.04      0.07        27\n",
            "          13       0.00      0.00      0.00         9\n",
            "          14       0.77      0.85      0.81       502\n",
            "          15       0.00      0.00      0.00        23\n",
            "          16       0.36      0.26      0.30        46\n",
            "          17       0.67      0.12      0.20        17\n",
            "\n",
            "    accuracy                           0.71      2196\n",
            "   macro avg       0.50      0.37      0.39      2196\n",
            "weighted avg       0.68      0.71      0.68      2196\n",
            "\n"
          ]
        },
        {
          "output_type": "stream",
          "name": "stderr",
          "text": [
            "/usr/local/lib/python3.9/dist-packages/sklearn/metrics/_classification.py:1344: UndefinedMetricWarning: Precision and F-score are ill-defined and being set to 0.0 in labels with no predicted samples. Use `zero_division` parameter to control this behavior.\n",
            "  _warn_prf(average, modifier, msg_start, len(result))\n",
            "/usr/local/lib/python3.9/dist-packages/sklearn/metrics/_classification.py:1344: UndefinedMetricWarning: Precision and F-score are ill-defined and being set to 0.0 in labels with no predicted samples. Use `zero_division` parameter to control this behavior.\n",
            "  _warn_prf(average, modifier, msg_start, len(result))\n",
            "/usr/local/lib/python3.9/dist-packages/sklearn/metrics/_classification.py:1344: UndefinedMetricWarning: Precision and F-score are ill-defined and being set to 0.0 in labels with no predicted samples. Use `zero_division` parameter to control this behavior.\n",
            "  _warn_prf(average, modifier, msg_start, len(result))\n"
          ]
        }
      ]
    },
    {
      "cell_type": "code",
      "source": [
        "# Проверяем работу модели на наших данных\n",
        "names_list = [\n",
        "    \"Demenchuk\",\n",
        "    \"Baranov\",\n",
        "    \"Fogel\",\n",
        "    \"Newman\"\n",
        "]\n",
        "\n",
        "targets_list = [\"Russian\",\"Russian\", \"German\", \"English\"]\n",
        "\n",
        "for name, target in zip(map(lambda x: x.lower(), names_list), targets_list):\n",
        "    x = torch.LongTensor(train_dataset.processing(name)).unsqueeze(0)\n",
        "    output = model(x).cpu().detach().numpy()\n",
        "    predictions = output.argsort()[0][-3:][::-1]\n",
        "    predictions_names = label_encoder.inverse_transform(predictions)\n",
        "    print(f\"Surname : {name}\")\n",
        "    print(f\"True    : {target}\")\n",
        "    print(f\"Predicts: {predictions}\")\n",
        "    print(f\"Predicts names: {predictions_names}\\n\")"
      ],
      "metadata": {
        "colab": {
          "base_uri": "https://localhost:8080/"
        },
        "id": "ainzJqT04rOk",
        "outputId": "b52fce78-a2e0-49d3-94e7-e0c4aacaeb0d"
      },
      "execution_count": 58,
      "outputs": [
        {
          "output_type": "stream",
          "name": "stdout",
          "text": [
            "Surname : demenchuk\n",
            "True    : Russian\n",
            "Predicts: [14  6  2]\n",
            "Predicts names: ['Russian' 'German' 'Czech']\n",
            "\n",
            "Surname : baranov\n",
            "True    : Russian\n",
            "Predicts: [14  9  2]\n",
            "Predicts names: ['Russian' 'Italian' 'Czech']\n",
            "\n",
            "Surname : fogel\n",
            "True    : German\n",
            "Predicts: [ 4 14  2]\n",
            "Predicts names: ['English' 'Russian' 'Czech']\n",
            "\n",
            "Surname : newman\n",
            "True    : English\n",
            "Predicts: [4 6 8]\n",
            "Predicts names: ['English' 'German' 'Irish']\n",
            "\n"
          ]
        }
      ]
    },
    {
      "cell_type": "markdown",
      "metadata": {
        "id": "uo-hf5CQ0iWv"
      },
      "source": [
        "## 3. Классификация обзоров на фильмы (ConvNet)\n",
        "\n",
        "Датасет: https://disk.yandex.ru/d/tdinpb0nN_Dsrg\n",
        "\n",
        "2.1 Создайте набор данных на основе файлов polarity/positive_reviews.csv (положительные отзывы) и polarity/negative_reviews.csv (отрицательные отзывы). Разбейте на обучающую и тестовую выборку.\n",
        "  * токен = __слово__\n",
        "  * данные для обучения в датасете представляются в виде последовательности индексов токенов\n",
        "  * словарь создается на основе _только_ обучающей выборки. Для корректной обработки ситуаций, когда в тестовой выборке встретится токен, который не хранится в словаре, добавьте в словарь специальный токен `<UNK>`\n",
        "  * добавьте предобработку текста\n",
        "\n",
        "2.2. Обучите классификатор.\n",
        "  \n",
        "  * Для преобразования последовательности индексов в последовательность векторов используйте `nn.Embedding` \n",
        "    - подберите адекватную размерность вектора эмбеддинга: \n",
        "    - модуль `nn.Embedding` обучается\n",
        "\n",
        "  * Используйте одномерные свертки и пулинг (`nn.Conv1d`, `nn.MaxPool1d`)\n",
        "    - обратите внимание, что `nn.Conv1d` ожидает на вход трехмерный тензор размерности `(batch, embedding_dim, seq_len)`\n",
        "\n",
        "\n",
        "2.7 Измерить точность на тестовой выборке. Проверить работоспособность модели: придумать небольшой отзыв, прогнать его через модель и вывести номер предсказанного класса (сделать это для явно позитивного и явно негативного отзыва)\n",
        "* Целевое значение accuracy на валидации - 70+%"
      ]
    },
    {
      "cell_type": "code",
      "source": [
        "#3.1 Создайте набор данных на основе файлов polarity/positive_reviews.csv (положительные отзывы) и polarity/negative_reviews.csv (отрицательные отзывы). Разбейте на обучающую и тестовую выборку.\n",
        "# токен = слово\n",
        "# данные для обучения в датасете представляются в виде последовательности индексов токенов\n",
        "# словарь создается на основе только обучающей выборки. Для корректной обработки ситуаций, когда в тестовой выборке встретится токен, который не хранится в словаре, добавьте в словарь специальный токен <UNK>\n",
        "# добавьте предобработку текста\n",
        "\n",
        "#читаем данные с файлов\n",
        "def file_reader(path) -> list:\n",
        "    data = []\n",
        "    with open(path) as f:\n",
        "        for line in f.readlines():\n",
        "            if line is not None:\n",
        "                data.append(line)\n",
        "    return data       "
      ],
      "metadata": {
        "id": "OKq3vObR6IlO"
      },
      "execution_count": 64,
      "outputs": []
    },
    {
      "cell_type": "code",
      "source": [
        "reviews_negative = file_reader(\"/content/drive/MyDrive/Colab Notebooks/polarity/negative_reviews.txt\")\n",
        "labels_negative = np.zeros(shape=len(reviews_negative), dtype=int)\n",
        "labels_negative[-1]"
      ],
      "metadata": {
        "colab": {
          "base_uri": "https://localhost:8080/"
        },
        "id": "3ObE6mHl6_ZK",
        "outputId": "cbdefab2-6a32-4108-8497-acbb09efd2c5"
      },
      "execution_count": 65,
      "outputs": [
        {
          "output_type": "execute_result",
          "data": {
            "text/plain": [
              "0"
            ]
          },
          "metadata": {},
          "execution_count": 65
        }
      ]
    },
    {
      "cell_type": "code",
      "source": [
        "len(reviews_negative)"
      ],
      "metadata": {
        "colab": {
          "base_uri": "https://localhost:8080/"
        },
        "id": "jk4LQR3B7eK5",
        "outputId": "8e28798d-f92f-4323-9bdd-c02e64c1a975"
      },
      "execution_count": 66,
      "outputs": [
        {
          "output_type": "execute_result",
          "data": {
            "text/plain": [
              "5331"
            ]
          },
          "metadata": {},
          "execution_count": 66
        }
      ]
    },
    {
      "cell_type": "code",
      "source": [
        "len(labels_negative)"
      ],
      "metadata": {
        "colab": {
          "base_uri": "https://localhost:8080/"
        },
        "id": "grxdfQBy7hin",
        "outputId": "74f42f70-a6db-4713-9719-ed9526aa121c"
      },
      "execution_count": 67,
      "outputs": [
        {
          "output_type": "execute_result",
          "data": {
            "text/plain": [
              "5331"
            ]
          },
          "metadata": {},
          "execution_count": 67
        }
      ]
    },
    {
      "cell_type": "code",
      "source": [
        "reviews_positive = file_reader(\"/content/drive/MyDrive/Colab Notebooks/polarity/positive_reviews.txt\")\n",
        "labels_positive = np.zeros(shape=len(reviews_positive), dtype=int)\n",
        "labels_positive.fill(1)\n",
        "labels_positive[-1]"
      ],
      "metadata": {
        "colab": {
          "base_uri": "https://localhost:8080/"
        },
        "id": "DRSBFe2I7k_V",
        "outputId": "865fe412-e8d9-4d49-f5ba-e1ee6ccf78bc"
      },
      "execution_count": 68,
      "outputs": [
        {
          "output_type": "execute_result",
          "data": {
            "text/plain": [
              "1"
            ]
          },
          "metadata": {},
          "execution_count": 68
        }
      ]
    },
    {
      "cell_type": "code",
      "source": [
        "len(reviews_positive)"
      ],
      "metadata": {
        "colab": {
          "base_uri": "https://localhost:8080/"
        },
        "id": "L_AZSfh07r93",
        "outputId": "b4203ad5-02ed-45d7-8eae-0a2f1b218278"
      },
      "execution_count": 69,
      "outputs": [
        {
          "output_type": "execute_result",
          "data": {
            "text/plain": [
              "5331"
            ]
          },
          "metadata": {},
          "execution_count": 69
        }
      ]
    },
    {
      "cell_type": "code",
      "source": [
        "len(labels_positive)"
      ],
      "metadata": {
        "colab": {
          "base_uri": "https://localhost:8080/"
        },
        "id": "s82D84rn7uw2",
        "outputId": "ae53cab8-4bbd-4a51-a341-c4184bfface0"
      },
      "execution_count": 70,
      "outputs": [
        {
          "output_type": "execute_result",
          "data": {
            "text/plain": [
              "5331"
            ]
          },
          "metadata": {},
          "execution_count": 70
        }
      ]
    },
    {
      "cell_type": "code",
      "source": [
        "reviews = reviews_negative + reviews_positive\n",
        "labels = np.concatenate((labels_negative, labels_positive), axis=0)"
      ],
      "metadata": {
        "id": "jUcwlqmc7xg2"
      },
      "execution_count": 71,
      "outputs": []
    },
    {
      "cell_type": "code",
      "source": [
        "len(reviews)"
      ],
      "metadata": {
        "colab": {
          "base_uri": "https://localhost:8080/"
        },
        "id": "ltMXDUcN70PI",
        "outputId": "e322ae1e-f113-4d61-d165-354d701b0372"
      },
      "execution_count": 72,
      "outputs": [
        {
          "output_type": "execute_result",
          "data": {
            "text/plain": [
              "10662"
            ]
          },
          "metadata": {},
          "execution_count": 72
        }
      ]
    },
    {
      "cell_type": "code",
      "source": [
        "len(labels)"
      ],
      "metadata": {
        "colab": {
          "base_uri": "https://localhost:8080/"
        },
        "id": "YCBTt0sN72ok",
        "outputId": "6557453d-5d2a-4efc-c3ea-e7f5cdc23333"
      },
      "execution_count": 73,
      "outputs": [
        {
          "output_type": "execute_result",
          "data": {
            "text/plain": [
              "10662"
            ]
          },
          "metadata": {},
          "execution_count": 73
        }
      ]
    },
    {
      "cell_type": "code",
      "source": [
        "n_classes = 2\n",
        "X_train, X_test, y_train, y_test = train_test_split(reviews, labels, test_size=0.2, random_state=0)"
      ],
      "metadata": {
        "id": "hOvCVnXS75ye"
      },
      "execution_count": 74,
      "outputs": []
    },
    {
      "cell_type": "code",
      "source": [
        "class Vocab:\n",
        "    def __init__(self, data, unk_token: str = \"<UNK>\"):\n",
        "        self.max_seq_len = 0\n",
        "        tokens = set()\n",
        "        for item in data:\n",
        "            words = [word for word in word_tokenize(self.preprocess_text(item))]\n",
        "            if len(words) > self.max_seq_len:\n",
        "                self.max_seq_len = len(words)\n",
        "            tokens.update(words)\n",
        "        if unk_token is not None:\n",
        "            tokens.add(unk_token)\n",
        "        self.idx_to_token = dict(enumerate(tokens, 1))\n",
        "        self.idx_to_token[0] = \"<PAD>\"\n",
        "        self.token_to_idx = {token: idx for idx, token in self.idx_to_token.items()}\n",
        "        self.vocab_len = len(self.idx_to_token)\n",
        "\n",
        "    def preprocess_text(self, text):\n",
        "        return re.sub(r\"[^a-zA-Z,!?\\.]\", \" \", text.lower())"
      ],
      "metadata": {
        "id": "59_laT-I8CLF"
      },
      "execution_count": 75,
      "outputs": []
    },
    {
      "cell_type": "code",
      "source": [
        "class ReviewsDataset(Dataset):\n",
        "    def __init__(self, X, y, vocab):\n",
        "        self.X = X\n",
        "        self.y = y\n",
        "        self.vocab = vocab\n",
        "\n",
        "    def to_indices(self, review):\n",
        "        seq = [\n",
        "            self.vocab.token_to_idx[token]\n",
        "            if token in self.vocab.token_to_idx.keys()\n",
        "            else self.vocab.token_to_idx[\"<PAD>\"]\n",
        "            for token in word_tokenize(review)\n",
        "        ]\n",
        "        if len(seq) < self.vocab.max_seq_len:\n",
        "            seq.extend(\n",
        "                [self.vocab.token_to_idx[\"<PAD>\"]] * (self.vocab.max_seq_len - len(seq))\n",
        "            )\n",
        "        else:\n",
        "            seq = seq[: self.vocab.max_seq_len]\n",
        "        return torch.LongTensor(seq)\n",
        "\n",
        "    def __len__(self):\n",
        "        return len(self.X)\n",
        "\n",
        "    def __getitem__(self, idx):\n",
        "        return self.to_indices(self.X[idx]), self.y[idx]"
      ],
      "metadata": {
        "id": "BQ1aeIF98KHw"
      },
      "execution_count": 76,
      "outputs": []
    },
    {
      "cell_type": "code",
      "source": [
        "vocab = Vocab(X_train)\n",
        "print(vocab.vocab_len)"
      ],
      "metadata": {
        "colab": {
          "base_uri": "https://localhost:8080/"
        },
        "id": "UC1t-jJd8Qoh",
        "outputId": "6339f2ae-6728-4b8f-bef3-3533acb886f1"
      },
      "execution_count": 77,
      "outputs": [
        {
          "output_type": "stream",
          "name": "stdout",
          "text": [
            "16368\n"
          ]
        }
      ]
    },
    {
      "cell_type": "code",
      "source": [
        "train_dataset = ReviewsDataset(X_train, y_train, vocab)\n",
        "test_dataset = ReviewsDataset(X_test, y_test, vocab)\n",
        "train_loader = DataLoader(train_dataset, batch_size=128, shuffle=True)\n",
        "test_loader = DataLoader(test_dataset, batch_size=128, shuffle=True)"
      ],
      "metadata": {
        "id": "SpeCGHt88XVl"
      },
      "execution_count": 78,
      "outputs": []
    },
    {
      "cell_type": "code",
      "source": [
        "#3.2. Обучите классификатор.\n",
        "# Для преобразования последовательности индексов в последовательность векторов используйте nn.Embedding\n",
        "#  подберите адекватную размерность вектора эмбеддинга:\n",
        "#  модуль nn.Embedding обучается\n",
        "# Используйте одномерные свертки и пулинг (nn.Conv1d, nn.MaxPool1d)\n",
        "#  обратите внимание, что nn.Conv1d ожидает на вход трехмерный тензор размерности (batch, embedding_dim, seq_len)\n",
        "class ReviewModel(nn.Module):\n",
        "    def __init__(self, embed_num, embed_dim, classes_num, seq_len, use_embed=True):\n",
        "        super(ReviewModel, self).__init__()\n",
        "\n",
        "        self.embed_dim = embed_dim\n",
        "        self.use_embed = use_embed\n",
        "        self.seq_len = seq_len\n",
        "        if self.use_embed:\n",
        "            self.embed = nn.Embedding(embed_num, embed_dim)\n",
        "        self.relu = nn.ReLU()\n",
        "\n",
        "        self.conv1 = nn.Conv1d(in_channels=embed_dim, out_channels=256, kernel_size=2)\n",
        "        self.bn1 = nn.BatchNorm1d(256)\n",
        "        self.pool1 = nn.MaxPool1d(2)\n",
        "\n",
        "        self.conv2 = nn.Conv1d(in_channels=256, out_channels=128, kernel_size=2)\n",
        "        self.bn2 = nn.BatchNorm1d(128)\n",
        "        self.pool2 = nn.MaxPool1d(2)\n",
        "\n",
        "        self.conv3 = nn.Conv1d(in_channels=128, out_channels=64, kernel_size=2)\n",
        "        self.bn3 = nn.BatchNorm1d(64)\n",
        "        self.pool3 = nn.MaxPool1d(2)\n",
        "\n",
        "        self.fc1 = nn.Linear(64, classes_num)\n",
        "\n",
        "    def forward(self, x):\n",
        "        if self.use_embed:\n",
        "            x = self.embed(x)\n",
        "\n",
        "        x = x.reshape(len(x), self.embed_dim, self.seq_len).type(torch.FloatTensor)\n",
        "        x = self.pool1(self.relu(self.bn1(self.conv1(x))))\n",
        "        x = self.pool2(self.relu(self.bn2(self.conv2(x))))\n",
        "        x = self.pool3(self.relu(self.bn3(self.conv3(x))))\n",
        "        x, _ = x.max(dim=-1)\n",
        "\n",
        "        return self.fc1(x)"
      ],
      "metadata": {
        "id": "gQjwkCjZ8ayN"
      },
      "execution_count": 79,
      "outputs": []
    },
    {
      "cell_type": "code",
      "source": [
        "model = ReviewModel(vocab.vocab_len, 180, n_classes, vocab.max_seq_len, use_embed=True)\n",
        "criterion = nn.CrossEntropyLoss()\n",
        "optimizer = optim.Adam(model.parameters(), lr=0.00001)\n",
        "n_epochs = 20\n",
        "\n",
        "losses_plt = []\n",
        "val_loss_plt = []\n",
        "\n",
        "for epoch in range(n_epochs):\n",
        "    print(f\"\\n-------------------------------\\nEpoch {epoch+1}\")\n",
        "    epoch_loss = 0\n",
        "    for X_batch, y_batch in train_loader:\n",
        "        predictions = model(X_batch)\n",
        "        loss = criterion(predictions, y_batch)\n",
        "        loss.backward()\n",
        "        optimizer.step()\n",
        "        optimizer.zero_grad()\n",
        "        epoch_loss += loss.item()\n",
        "\n",
        "    with torch.no_grad():\n",
        "        val_loss, val_acc = 0, 0\n",
        "        for X_batch, y_batch in test_loader:\n",
        "            predictions = model(X_batch)\n",
        "            loss = criterion(predictions, y_batch).item()\n",
        "            acc = accuracy_score(\n",
        "                y_batch, predictions.argmax(dim=1).cpu().detach()\n",
        "            ).item()\n",
        "            \n",
        "            train_loss = epoch_loss / len(train_loader)\n",
        "            val_loss += loss\n",
        "            val_acc += acc\n",
        "            print(\n",
        "                f\"Training loss: {train_loss:>7f} val_loss: {val_loss:>7f}\"\n",
        "            )\n",
        "            \n",
        "    val_loss_plt.append(loss)\n",
        "    losses_plt.append(train_loss)"
      ],
      "metadata": {
        "colab": {
          "base_uri": "https://localhost:8080/"
        },
        "id": "VYMUK0nh8tIt",
        "outputId": "ad8beeca-11e1-4874-9598-4ca42ca07de8"
      },
      "execution_count": 80,
      "outputs": [
        {
          "output_type": "stream",
          "name": "stdout",
          "text": [
            "\n",
            "-------------------------------\n",
            "Epoch 1\n",
            "Training loss: 0.725259 val_loss: 0.713486\n",
            "Training loss: 0.725259 val_loss: 1.441846\n",
            "Training loss: 0.725259 val_loss: 2.169858\n",
            "Training loss: 0.725259 val_loss: 2.893047\n",
            "Training loss: 0.725259 val_loss: 3.620548\n",
            "Training loss: 0.725259 val_loss: 4.338111\n",
            "Training loss: 0.725259 val_loss: 5.066967\n",
            "Training loss: 0.725259 val_loss: 5.792242\n",
            "Training loss: 0.725259 val_loss: 6.493328\n",
            "Training loss: 0.725259 val_loss: 7.202235\n",
            "Training loss: 0.725259 val_loss: 7.884042\n",
            "Training loss: 0.725259 val_loss: 8.580047\n",
            "Training loss: 0.725259 val_loss: 9.304958\n",
            "Training loss: 0.725259 val_loss: 9.985581\n",
            "Training loss: 0.725259 val_loss: 10.666090\n",
            "Training loss: 0.725259 val_loss: 11.390405\n",
            "Training loss: 0.725259 val_loss: 12.090725\n",
            "\n",
            "-------------------------------\n",
            "Epoch 2\n",
            "Training loss: 0.700339 val_loss: 0.696563\n",
            "Training loss: 0.700339 val_loss: 1.434928\n",
            "Training loss: 0.700339 val_loss: 2.128156\n",
            "Training loss: 0.700339 val_loss: 2.841552\n",
            "Training loss: 0.700339 val_loss: 3.571338\n",
            "Training loss: 0.700339 val_loss: 4.282404\n",
            "Training loss: 0.700339 val_loss: 5.003736\n",
            "Training loss: 0.700339 val_loss: 5.725823\n",
            "Training loss: 0.700339 val_loss: 6.396303\n",
            "Training loss: 0.700339 val_loss: 7.104428\n",
            "Training loss: 0.700339 val_loss: 7.816303\n",
            "Training loss: 0.700339 val_loss: 8.555950\n",
            "Training loss: 0.700339 val_loss: 9.253205\n",
            "Training loss: 0.700339 val_loss: 9.978059\n",
            "Training loss: 0.700339 val_loss: 10.689565\n",
            "Training loss: 0.700339 val_loss: 11.390162\n",
            "Training loss: 0.700339 val_loss: 12.072036\n",
            "\n",
            "-------------------------------\n",
            "Epoch 3\n",
            "Training loss: 0.688404 val_loss: 0.720194\n",
            "Training loss: 0.688404 val_loss: 1.445471\n",
            "Training loss: 0.688404 val_loss: 2.144685\n",
            "Training loss: 0.688404 val_loss: 2.832201\n",
            "Training loss: 0.688404 val_loss: 3.535607\n",
            "Training loss: 0.688404 val_loss: 4.244745\n",
            "Training loss: 0.688404 val_loss: 4.967414\n",
            "Training loss: 0.688404 val_loss: 5.703638\n",
            "Training loss: 0.688404 val_loss: 6.385677\n",
            "Training loss: 0.688404 val_loss: 7.083191\n",
            "Training loss: 0.688404 val_loss: 7.760573\n",
            "Training loss: 0.688404 val_loss: 8.486617\n",
            "Training loss: 0.688404 val_loss: 9.217329\n",
            "Training loss: 0.688404 val_loss: 9.937622\n",
            "Training loss: 0.688404 val_loss: 10.641366\n",
            "Training loss: 0.688404 val_loss: 11.338914\n",
            "Training loss: 0.688404 val_loss: 12.043962\n",
            "\n",
            "-------------------------------\n",
            "Epoch 4\n",
            "Training loss: 0.678485 val_loss: 0.755877\n",
            "Training loss: 0.678485 val_loss: 1.472330\n",
            "Training loss: 0.678485 val_loss: 2.177796\n",
            "Training loss: 0.678485 val_loss: 2.879864\n",
            "Training loss: 0.678485 val_loss: 3.624888\n",
            "Training loss: 0.678485 val_loss: 4.294779\n",
            "Training loss: 0.678485 val_loss: 5.008372\n",
            "Training loss: 0.678485 val_loss: 5.722883\n",
            "Training loss: 0.678485 val_loss: 6.407596\n",
            "Training loss: 0.678485 val_loss: 7.095348\n",
            "Training loss: 0.678485 val_loss: 7.817217\n",
            "Training loss: 0.678485 val_loss: 8.512362\n",
            "Training loss: 0.678485 val_loss: 9.220902\n",
            "Training loss: 0.678485 val_loss: 9.925696\n",
            "Training loss: 0.678485 val_loss: 10.647228\n",
            "Training loss: 0.678485 val_loss: 11.349359\n",
            "Training loss: 0.678485 val_loss: 12.046665\n",
            "\n",
            "-------------------------------\n",
            "Epoch 5\n",
            "Training loss: 0.670278 val_loss: 0.694960\n",
            "Training loss: 0.670278 val_loss: 1.408382\n",
            "Training loss: 0.670278 val_loss: 2.111069\n",
            "Training loss: 0.670278 val_loss: 2.819270\n",
            "Training loss: 0.670278 val_loss: 3.531606\n",
            "Training loss: 0.670278 val_loss: 4.219813\n",
            "Training loss: 0.670278 val_loss: 4.937821\n",
            "Training loss: 0.670278 val_loss: 5.636504\n",
            "Training loss: 0.670278 val_loss: 6.335398\n",
            "Training loss: 0.670278 val_loss: 7.054689\n",
            "Training loss: 0.670278 val_loss: 7.767296\n",
            "Training loss: 0.670278 val_loss: 8.467280\n",
            "Training loss: 0.670278 val_loss: 9.204311\n",
            "Training loss: 0.670278 val_loss: 9.917182\n",
            "Training loss: 0.670278 val_loss: 10.633077\n",
            "Training loss: 0.670278 val_loss: 11.328576\n",
            "Training loss: 0.670278 val_loss: 12.019772\n",
            "\n",
            "-------------------------------\n",
            "Epoch 6\n",
            "Training loss: 0.662123 val_loss: 0.706408\n",
            "Training loss: 0.662123 val_loss: 1.422273\n",
            "Training loss: 0.662123 val_loss: 2.157283\n",
            "Training loss: 0.662123 val_loss: 2.838534\n",
            "Training loss: 0.662123 val_loss: 3.587069\n",
            "Training loss: 0.662123 val_loss: 4.272183\n",
            "Training loss: 0.662123 val_loss: 4.963690\n",
            "Training loss: 0.662123 val_loss: 5.641167\n",
            "Training loss: 0.662123 val_loss: 6.347699\n",
            "Training loss: 0.662123 val_loss: 7.038076\n",
            "Training loss: 0.662123 val_loss: 7.762948\n",
            "Training loss: 0.662123 val_loss: 8.486993\n",
            "Training loss: 0.662123 val_loss: 9.179321\n",
            "Training loss: 0.662123 val_loss: 9.875032\n",
            "Training loss: 0.662123 val_loss: 10.610966\n",
            "Training loss: 0.662123 val_loss: 11.335442\n",
            "Training loss: 0.662123 val_loss: 12.011734\n",
            "\n",
            "-------------------------------\n",
            "Epoch 7\n",
            "Training loss: 0.654415 val_loss: 0.734990\n",
            "Training loss: 0.654415 val_loss: 1.456447\n",
            "Training loss: 0.654415 val_loss: 2.162081\n",
            "Training loss: 0.654415 val_loss: 2.846649\n",
            "Training loss: 0.654415 val_loss: 3.553360\n",
            "Training loss: 0.654415 val_loss: 4.228799\n",
            "Training loss: 0.654415 val_loss: 4.939960\n",
            "Training loss: 0.654415 val_loss: 5.651946\n",
            "Training loss: 0.654415 val_loss: 6.380091\n",
            "Training loss: 0.654415 val_loss: 7.109453\n",
            "Training loss: 0.654415 val_loss: 7.800172\n",
            "Training loss: 0.654415 val_loss: 8.520579\n",
            "Training loss: 0.654415 val_loss: 9.210829\n",
            "Training loss: 0.654415 val_loss: 9.888799\n",
            "Training loss: 0.654415 val_loss: 10.593331\n",
            "Training loss: 0.654415 val_loss: 11.315093\n",
            "Training loss: 0.654415 val_loss: 12.015302\n",
            "\n",
            "-------------------------------\n",
            "Epoch 8\n",
            "Training loss: 0.647448 val_loss: 0.699060\n",
            "Training loss: 0.647448 val_loss: 1.401918\n",
            "Training loss: 0.647448 val_loss: 2.115928\n",
            "Training loss: 0.647448 val_loss: 2.803384\n",
            "Training loss: 0.647448 val_loss: 3.516828\n",
            "Training loss: 0.647448 val_loss: 4.236540\n",
            "Training loss: 0.647448 val_loss: 4.947218\n",
            "Training loss: 0.647448 val_loss: 5.657482\n",
            "Training loss: 0.647448 val_loss: 6.349728\n",
            "Training loss: 0.647448 val_loss: 7.067763\n",
            "Training loss: 0.647448 val_loss: 7.806342\n",
            "Training loss: 0.647448 val_loss: 8.484291\n",
            "Training loss: 0.647448 val_loss: 9.168594\n",
            "Training loss: 0.647448 val_loss: 9.878573\n",
            "Training loss: 0.647448 val_loss: 10.574400\n",
            "Training loss: 0.647448 val_loss: 11.292304\n",
            "Training loss: 0.647448 val_loss: 12.012741\n",
            "\n",
            "-------------------------------\n",
            "Epoch 9\n",
            "Training loss: 0.640140 val_loss: 0.727366\n",
            "Training loss: 0.640140 val_loss: 1.428301\n",
            "Training loss: 0.640140 val_loss: 2.120165\n",
            "Training loss: 0.640140 val_loss: 2.832294\n",
            "Training loss: 0.640140 val_loss: 3.539122\n",
            "Training loss: 0.640140 val_loss: 4.250281\n",
            "Training loss: 0.640140 val_loss: 4.938481\n",
            "Training loss: 0.640140 val_loss: 5.661662\n",
            "Training loss: 0.640140 val_loss: 6.378614\n",
            "Training loss: 0.640140 val_loss: 7.078315\n",
            "Training loss: 0.640140 val_loss: 7.776711\n",
            "Training loss: 0.640140 val_loss: 8.468095\n",
            "Training loss: 0.640140 val_loss: 9.192370\n",
            "Training loss: 0.640140 val_loss: 9.910477\n",
            "Training loss: 0.640140 val_loss: 10.617796\n",
            "Training loss: 0.640140 val_loss: 11.326562\n",
            "Training loss: 0.640140 val_loss: 12.009613\n",
            "\n",
            "-------------------------------\n",
            "Epoch 10\n",
            "Training loss: 0.632948 val_loss: 0.686729\n",
            "Training loss: 0.632948 val_loss: 1.438202\n",
            "Training loss: 0.632948 val_loss: 2.179606\n",
            "Training loss: 0.632948 val_loss: 2.889540\n",
            "Training loss: 0.632948 val_loss: 3.587914\n",
            "Training loss: 0.632948 val_loss: 4.317717\n",
            "Training loss: 0.632948 val_loss: 5.009662\n",
            "Training loss: 0.632948 val_loss: 5.717719\n",
            "Training loss: 0.632948 val_loss: 6.408178\n",
            "Training loss: 0.632948 val_loss: 7.095193\n",
            "Training loss: 0.632948 val_loss: 7.783971\n",
            "Training loss: 0.632948 val_loss: 8.497776\n",
            "Training loss: 0.632948 val_loss: 9.188213\n",
            "Training loss: 0.632948 val_loss: 9.891263\n",
            "Training loss: 0.632948 val_loss: 10.570132\n",
            "Training loss: 0.632948 val_loss: 11.287260\n",
            "Training loss: 0.632948 val_loss: 12.006803\n",
            "\n",
            "-------------------------------\n",
            "Epoch 11\n",
            "Training loss: 0.625907 val_loss: 0.691570\n",
            "Training loss: 0.625907 val_loss: 1.364341\n",
            "Training loss: 0.625907 val_loss: 2.067069\n",
            "Training loss: 0.625907 val_loss: 2.750104\n",
            "Training loss: 0.625907 val_loss: 3.461450\n",
            "Training loss: 0.625907 val_loss: 4.148827\n",
            "Training loss: 0.625907 val_loss: 4.860647\n",
            "Training loss: 0.625907 val_loss: 5.552279\n",
            "Training loss: 0.625907 val_loss: 6.258311\n",
            "Training loss: 0.625907 val_loss: 7.013752\n",
            "Training loss: 0.625907 val_loss: 7.747653\n",
            "Training loss: 0.625907 val_loss: 8.445462\n",
            "Training loss: 0.625907 val_loss: 9.166214\n",
            "Training loss: 0.625907 val_loss: 9.878812\n",
            "Training loss: 0.625907 val_loss: 10.593838\n",
            "Training loss: 0.625907 val_loss: 11.299879\n",
            "Training loss: 0.625907 val_loss: 12.005432\n",
            "\n",
            "-------------------------------\n",
            "Epoch 12\n",
            "Training loss: 0.619542 val_loss: 0.689348\n",
            "Training loss: 0.619542 val_loss: 1.379367\n",
            "Training loss: 0.619542 val_loss: 2.056476\n",
            "Training loss: 0.619542 val_loss: 2.776249\n",
            "Training loss: 0.619542 val_loss: 3.484179\n",
            "Training loss: 0.619542 val_loss: 4.229192\n",
            "Training loss: 0.619542 val_loss: 4.951030\n",
            "Training loss: 0.619542 val_loss: 5.633568\n",
            "Training loss: 0.619542 val_loss: 6.319196\n",
            "Training loss: 0.619542 val_loss: 7.021344\n",
            "Training loss: 0.619542 val_loss: 7.724543\n",
            "Training loss: 0.619542 val_loss: 8.429008\n",
            "Training loss: 0.619542 val_loss: 9.127190\n",
            "Training loss: 0.619542 val_loss: 9.876166\n",
            "Training loss: 0.619542 val_loss: 10.598644\n",
            "Training loss: 0.619542 val_loss: 11.289206\n",
            "Training loss: 0.619542 val_loss: 11.980356\n",
            "\n",
            "-------------------------------\n",
            "Epoch 13\n",
            "Training loss: 0.613402 val_loss: 0.670597\n",
            "Training loss: 0.613402 val_loss: 1.381598\n",
            "Training loss: 0.613402 val_loss: 2.069431\n",
            "Training loss: 0.613402 val_loss: 2.781822\n",
            "Training loss: 0.613402 val_loss: 3.523771\n",
            "Training loss: 0.613402 val_loss: 4.232858\n",
            "Training loss: 0.613402 val_loss: 4.924859\n",
            "Training loss: 0.613402 val_loss: 5.638178\n",
            "Training loss: 0.613402 val_loss: 6.356539\n",
            "Training loss: 0.613402 val_loss: 7.043816\n",
            "Training loss: 0.613402 val_loss: 7.766396\n",
            "Training loss: 0.613402 val_loss: 8.466637\n",
            "Training loss: 0.613402 val_loss: 9.183328\n",
            "Training loss: 0.613402 val_loss: 9.856056\n",
            "Training loss: 0.613402 val_loss: 10.565124\n",
            "Training loss: 0.613402 val_loss: 11.293981\n",
            "Training loss: 0.613402 val_loss: 12.013163\n",
            "\n",
            "-------------------------------\n",
            "Epoch 14\n",
            "Training loss: 0.606823 val_loss: 0.719586\n",
            "Training loss: 0.606823 val_loss: 1.423746\n",
            "Training loss: 0.606823 val_loss: 2.111943\n",
            "Training loss: 0.606823 val_loss: 2.825172\n",
            "Training loss: 0.606823 val_loss: 3.530018\n",
            "Training loss: 0.606823 val_loss: 4.235751\n",
            "Training loss: 0.606823 val_loss: 4.953129\n",
            "Training loss: 0.606823 val_loss: 5.640248\n",
            "Training loss: 0.606823 val_loss: 6.319628\n",
            "Training loss: 0.606823 val_loss: 7.052659\n",
            "Training loss: 0.606823 val_loss: 7.765300\n",
            "Training loss: 0.606823 val_loss: 8.467367\n",
            "Training loss: 0.606823 val_loss: 9.168898\n",
            "Training loss: 0.606823 val_loss: 9.898897\n",
            "Training loss: 0.606823 val_loss: 10.581613\n",
            "Training loss: 0.606823 val_loss: 11.285124\n",
            "Training loss: 0.606823 val_loss: 12.019650\n",
            "\n",
            "-------------------------------\n",
            "Epoch 15\n",
            "Training loss: 0.600998 val_loss: 0.689301\n",
            "Training loss: 0.600998 val_loss: 1.377430\n",
            "Training loss: 0.600998 val_loss: 2.076481\n",
            "Training loss: 0.600998 val_loss: 2.772292\n",
            "Training loss: 0.600998 val_loss: 3.492261\n",
            "Training loss: 0.600998 val_loss: 4.235979\n",
            "Training loss: 0.600998 val_loss: 4.955326\n",
            "Training loss: 0.600998 val_loss: 5.669924\n",
            "Training loss: 0.600998 val_loss: 6.367548\n",
            "Training loss: 0.600998 val_loss: 7.051384\n",
            "Training loss: 0.600998 val_loss: 7.757469\n",
            "Training loss: 0.600998 val_loss: 8.482419\n",
            "Training loss: 0.600998 val_loss: 9.173896\n",
            "Training loss: 0.600998 val_loss: 9.876966\n",
            "Training loss: 0.600998 val_loss: 10.585846\n",
            "Training loss: 0.600998 val_loss: 11.279382\n",
            "Training loss: 0.600998 val_loss: 12.009136\n",
            "\n",
            "-------------------------------\n",
            "Epoch 16\n",
            "Training loss: 0.594260 val_loss: 0.682059\n",
            "Training loss: 0.594260 val_loss: 1.394433\n",
            "Training loss: 0.594260 val_loss: 2.079366\n",
            "Training loss: 0.594260 val_loss: 2.822794\n",
            "Training loss: 0.594260 val_loss: 3.529929\n",
            "Training loss: 0.594260 val_loss: 4.199358\n",
            "Training loss: 0.594260 val_loss: 4.907428\n",
            "Training loss: 0.594260 val_loss: 5.598356\n",
            "Training loss: 0.594260 val_loss: 6.345521\n",
            "Training loss: 0.594260 val_loss: 7.053644\n",
            "Training loss: 0.594260 val_loss: 7.754634\n",
            "Training loss: 0.594260 val_loss: 8.493834\n",
            "Training loss: 0.594260 val_loss: 9.181724\n",
            "Training loss: 0.594260 val_loss: 9.880115\n",
            "Training loss: 0.594260 val_loss: 10.577175\n",
            "Training loss: 0.594260 val_loss: 11.267042\n",
            "Training loss: 0.594260 val_loss: 11.995586\n",
            "\n",
            "-------------------------------\n",
            "Epoch 17\n",
            "Training loss: 0.588186 val_loss: 0.716770\n",
            "Training loss: 0.588186 val_loss: 1.424020\n",
            "Training loss: 0.588186 val_loss: 2.145779\n",
            "Training loss: 0.588186 val_loss: 2.834259\n",
            "Training loss: 0.588186 val_loss: 3.535540\n",
            "Training loss: 0.588186 val_loss: 4.235922\n",
            "Training loss: 0.588186 val_loss: 4.947182\n",
            "Training loss: 0.588186 val_loss: 5.662771\n",
            "Training loss: 0.588186 val_loss: 6.371614\n",
            "Training loss: 0.588186 val_loss: 7.089427\n",
            "Training loss: 0.588186 val_loss: 7.788001\n",
            "Training loss: 0.588186 val_loss: 8.490289\n",
            "Training loss: 0.588186 val_loss: 9.214000\n",
            "Training loss: 0.588186 val_loss: 9.905119\n",
            "Training loss: 0.588186 val_loss: 10.615304\n",
            "Training loss: 0.588186 val_loss: 11.290363\n",
            "Training loss: 0.588186 val_loss: 12.009459\n",
            "\n",
            "-------------------------------\n",
            "Epoch 18\n",
            "Training loss: 0.583029 val_loss: 0.758152\n",
            "Training loss: 0.583029 val_loss: 1.434949\n",
            "Training loss: 0.583029 val_loss: 2.117064\n",
            "Training loss: 0.583029 val_loss: 2.818880\n",
            "Training loss: 0.583029 val_loss: 3.528426\n",
            "Training loss: 0.583029 val_loss: 4.252930\n",
            "Training loss: 0.583029 val_loss: 4.954873\n",
            "Training loss: 0.583029 val_loss: 5.651657\n",
            "Training loss: 0.583029 val_loss: 6.343105\n",
            "Training loss: 0.583029 val_loss: 7.054090\n",
            "Training loss: 0.583029 val_loss: 7.736967\n",
            "Training loss: 0.583029 val_loss: 8.453349\n",
            "Training loss: 0.583029 val_loss: 9.173386\n",
            "Training loss: 0.583029 val_loss: 9.882399\n",
            "Training loss: 0.583029 val_loss: 10.602024\n",
            "Training loss: 0.583029 val_loss: 11.334143\n",
            "Training loss: 0.583029 val_loss: 11.990737\n",
            "\n",
            "-------------------------------\n",
            "Epoch 19\n",
            "Training loss: 0.576794 val_loss: 0.722271\n",
            "Training loss: 0.576794 val_loss: 1.423729\n",
            "Training loss: 0.576794 val_loss: 2.138600\n",
            "Training loss: 0.576794 val_loss: 2.866058\n",
            "Training loss: 0.576794 val_loss: 3.569839\n",
            "Training loss: 0.576794 val_loss: 4.281663\n",
            "Training loss: 0.576794 val_loss: 5.000004\n",
            "Training loss: 0.576794 val_loss: 5.713808\n",
            "Training loss: 0.576794 val_loss: 6.455371\n",
            "Training loss: 0.576794 val_loss: 7.132431\n",
            "Training loss: 0.576794 val_loss: 7.852350\n",
            "Training loss: 0.576794 val_loss: 8.548398\n",
            "Training loss: 0.576794 val_loss: 9.233599\n",
            "Training loss: 0.576794 val_loss: 9.924703\n",
            "Training loss: 0.576794 val_loss: 10.589006\n",
            "Training loss: 0.576794 val_loss: 11.302462\n",
            "Training loss: 0.576794 val_loss: 12.002891\n",
            "\n",
            "-------------------------------\n",
            "Epoch 20\n",
            "Training loss: 0.571195 val_loss: 0.677111\n",
            "Training loss: 0.571195 val_loss: 1.380138\n",
            "Training loss: 0.571195 val_loss: 2.077410\n",
            "Training loss: 0.571195 val_loss: 2.773332\n",
            "Training loss: 0.571195 val_loss: 3.492697\n",
            "Training loss: 0.571195 val_loss: 4.182815\n",
            "Training loss: 0.571195 val_loss: 4.886204\n",
            "Training loss: 0.571195 val_loss: 5.598733\n",
            "Training loss: 0.571195 val_loss: 6.356163\n",
            "Training loss: 0.571195 val_loss: 7.051769\n",
            "Training loss: 0.571195 val_loss: 7.787713\n",
            "Training loss: 0.571195 val_loss: 8.477548\n",
            "Training loss: 0.571195 val_loss: 9.190816\n",
            "Training loss: 0.571195 val_loss: 9.905215\n",
            "Training loss: 0.571195 val_loss: 10.624235\n",
            "Training loss: 0.571195 val_loss: 11.327221\n",
            "Training loss: 0.571195 val_loss: 12.017171\n"
          ]
        }
      ]
    },
    {
      "cell_type": "code",
      "source": [
        "plt.plot(torch.arange(len(losses_plt)), losses_plt)"
      ],
      "metadata": {
        "colab": {
          "base_uri": "https://localhost:8080/",
          "height": 447
        },
        "id": "md09NjI18yLf",
        "outputId": "6e13fc9e-fa72-46e0-cb1e-f6ac08796ae6"
      },
      "execution_count": 81,
      "outputs": [
        {
          "output_type": "execute_result",
          "data": {
            "text/plain": [
              "[<matplotlib.lines.Line2D at 0x7fe164e51640>]"
            ]
          },
          "metadata": {},
          "execution_count": 81
        },
        {
          "output_type": "display_data",
          "data": {
            "text/plain": [
              "<Figure size 640x480 with 1 Axes>"
            ],
            "image/png": "[encoded data removed]"
          },
          "metadata": {}
        }
      ]
    },
    {
      "cell_type": "code",
      "source": [
        "plt.plot(torch.arange(len(val_loss_plt)), val_loss_plt)"
      ],
      "metadata": {
        "colab": {
          "base_uri": "https://localhost:8080/",
          "height": 447
        },
        "id": "dkvaELDz80wW",
        "outputId": "3c0eacc8-6f89-47fb-c434-1252b5da1516"
      },
      "execution_count": 82,
      "outputs": [
        {
          "output_type": "execute_result",
          "data": {
            "text/plain": [
              "[<matplotlib.lines.Line2D at 0x7fe164dd6220>]"
            ]
          },
          "metadata": {},
          "execution_count": 82
        },
        {
          "output_type": "display_data",
          "data": {
            "text/plain": [
              "<Figure size 640x480 with 1 Axes>"
            ],
            "image/png": "[encoded data removed]"
          },
          "metadata": {}
        }
      ]
    },
    {
      "cell_type": "code",
      "source": [
        "#3.3 Измерить точность на тестовой выборке. Проверить работоспособность модели: придумать небольшой отзыв, \n",
        "#прогнать его через модель и вывести номер предсказанного класса (сделать это для явно позитивного и явно негативного отзыва)\n",
        "# Целевое значение accuracy на валидации - 70+%\n",
        "test_loader_2 = DataLoader(test_dataset, batch_size=len(test_dataset), shuffle=True)\n",
        "X_batch, y_batch = next(iter(test_loader_2))\n",
        "predictions = model(X_batch).argmax(dim=1).cpu().detach()\n",
        "print(classification_report(y_batch, predictions))"
      ],
      "metadata": {
        "colab": {
          "base_uri": "https://localhost:8080/"
        },
        "id": "UeejRZoU8381",
        "outputId": "f7ca4bee-e4b5-4e5f-f87a-2582a0ca312d"
      },
      "execution_count": 83,
      "outputs": [
        {
          "output_type": "stream",
          "name": "stdout",
          "text": [
            "              precision    recall  f1-score   support\n",
            "\n",
            "           0       0.51      0.53      0.52      1022\n",
            "           1       0.55      0.52      0.54      1111\n",
            "\n",
            "    accuracy                           0.53      2133\n",
            "   macro avg       0.53      0.53      0.53      2133\n",
            "weighted avg       0.53      0.53      0.53      2133\n",
            "\n"
          ]
        }
      ]
    },
    {
      "cell_type": "code",
      "source": [
        "reviews_list = [\n",
        "    \"\"\"WOW! this was amazing!\n",
        "normally i don’t do reviews but i’m just so blown away. from the casting to the acting to the set design to the plot and storyline, wednesday has completely left me speechless in the best way! i grew up watching the addams family movies and loving them for how weird and odd and endearing they were, this fits right in.\n",
        "spoilers from here on just in case anyone hasn’t seen it! please please PLEASE go watch it, i promise you won’t be disappointed :)\n",
        "    \"\"\",\n",
        "\n",
        "    \n",
        "\"\"\"This is a poor CW teen drama show. The quirkiness of the family is gone and in its stead is a dramatic mystery with relationship woes and attempts at suspenseful foreshadowing. While Thing is animated wonderfully, the prosthetics are far below par for even for a budget TV show, and animation for anything they plan to show for less than a minute is of a painful quality. The characters are rewritten in what seems like an attempt to make them fit with a teen drama dynamic. Rather than Morticia and Wednesday's loving yet at times adversarial relationship that still comes across as being very close to each other, they've cranked the adversarial part to 11 and turned both Gomez and Morticia into a type of \"The adults you must rebel against\". With this you no longer have the Addams family vs. The world, but rather Wednesday and her band of misfits Vs. The non understanding adults and the mean kids at school (I.E. Every Teen Drama). Speaking of her family, we also have Pugsly. Pugsly and Wednesday have always gotten into shared antics with Wednesday usually coming out on top. These were ways to highlight both of their near invulnerability while also having fun and showing their sadistic side in a cooky and zany way. Well, now Pugsly is instead this squeamish incapable child, who is mostly just used as a catalyst to have Wednesday unleash her wrath upon someone. \"\"\",\n",
        "]\n",
        "\n",
        "\n",
        "targets_list = [\"Positive\", \"Negative\"]\n",
        "targets_dict = {1:\"Positive\", 0: \"Negative\"}\n",
        "\n",
        "\n",
        "for review, target in zip(reviews_list, targets_list):\n",
        "\n",
        "    x = train_dataset.to_indices(review).unsqueeze(0)\n",
        "    predictions = model(x).argmax(dim=1).cpu().detach()\n",
        "    predictions_str = targets_dict[predictions.item()]\n",
        "    \n",
        "    print(f\"Review: \\n{review[:100]}..\")\n",
        "    print(f\"True    : {target}\")\n",
        "    print(f\"Predicts: {predictions}\")\n",
        "    print(f\"Predicts string: {predictions_str}\\n\")"
      ],
      "metadata": {
        "colab": {
          "base_uri": "https://localhost:8080/"
        },
        "id": "y71U6Bor87W-",
        "outputId": "7bd8d162-befe-4153-9d9f-3053125462b7"
      },
      "execution_count": 84,
      "outputs": [
        {
          "output_type": "stream",
          "name": "stdout",
          "text": [
            "Review: \n",
            "WOW! this was amazing!\n",
            "normally i don’t do reviews but i’m just so blown away. from the casting to t..\n",
            "True    : Positive\n",
            "Predicts: tensor([0])\n",
            "Predicts string: Negative\n",
            "\n",
            "Review: \n",
            "This is a poor CW teen drama show. The quirkiness of the family is gone and in its stead is a dramat..\n",
            "True    : Negative\n",
            "Predicts: tensor([1])\n",
            "Predicts string: Positive\n",
            "\n"
          ]
        }
      ]
    }
  ]
}