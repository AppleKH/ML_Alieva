{
  "cells": [
    {
      "cell_type": "code",
      "execution_count": null,
      "metadata": {
        "colab": {
          "base_uri": "https://localhost:8080/"
        },
        "id": "zKMq7dp2W15Y",
        "outputId": "12511293-9350-4d47-cbd9-b94bc3ad4554"
      },
      "outputs": [
        {
          "output_type": "stream",
          "name": "stderr",
          "text": [
            "[nltk_data] Downloading package punkt to /root/nltk_data...\n",
            "[nltk_data]   Unzipping tokenizers/punkt.zip.\n"
          ]
        },
        {
          "output_type": "execute_result",
          "data": {
            "text/plain": [
              "True"
            ]
          },
          "metadata": {},
          "execution_count": 1
        }
      ],
      "source": [
        "import re\n",
        "import nltk\n",
        "\n",
        "import torch\n",
        "from torch.utils.data import Dataset, DataLoader\n",
        "import torch.nn as nn\n",
        "import torch.optim as optim\n",
        "import csv\n",
        "\n",
        "import pandas as pd\n",
        "import numpy as np\n",
        "from sklearn.model_selection import train_test_split\n",
        "from sklearn.metrics import accuracy_score\n",
        "from nltk.tokenize import word_tokenize\n",
        "from sklearn.preprocessing import LabelEncoder\n",
        "from nltk.corpus import stopwords \n",
        "nltk.download('punkt')"
      ]
    },
    {
      "cell_type": "code",
      "source": [
        "#проверяем наличие доступного графического процессора (GPU)\n",
        "device = 'cuda' if torch.cuda.is_available() else 'cpu'"
      ],
      "metadata": {
        "id": "ANYrcge9R0iA"
      },
      "execution_count": null,
      "outputs": []
    },
    {
      "cell_type": "markdown",
      "source": [
        "Если GPU доступен, переменной device присваивается значение 'cuda', что означает использование GPU для вычислений. \n",
        "Если GPU недоступен, переменной device присваивается значение 'cpu', что означает использование центрального процессора (CPU) для вычислений."
      ],
      "metadata": {
        "id": "IIQzotVLo7Qf"
      }
    },
    {
      "cell_type": "code",
      "source": [
        "device"
      ],
      "metadata": {
        "colab": {
          "base_uri": "https://localhost:8080/",
          "height": 36
        },
        "id": "56R-8bDfR3DL",
        "outputId": "107fe843-260b-4bac-fca0-2166d0761531"
      },
      "execution_count": null,
      "outputs": [
        {
          "output_type": "execute_result",
          "data": {
            "text/plain": [
              "'cuda'"
            ],
            "application/vnd.google.colaboratory.intrinsic+json": {
              "type": "string"
            }
          },
          "metadata": {},
          "execution_count": 3
        }
      ]
    },
    {
      "cell_type": "code",
      "execution_count": null,
      "metadata": {
        "colab": {
          "base_uri": "https://localhost:8080/"
        },
        "id": "hBkqaK5bawXN",
        "outputId": "35cafa9e-07f9-416d-bb52-913c8532f145"
      },
      "outputs": [
        {
          "output_type": "stream",
          "name": "stdout",
          "text": [
            "Mounted at /content/drive/\n"
          ]
        }
      ],
      "source": [
        "from google.colab import drive\n",
        "drive.mount('/content/drive/')"
      ]
    },
    {
      "cell_type": "markdown",
      "metadata": {
        "id": "Jm-QilGISxkt"
      },
      "source": [
        "## 1. Классификация фамилий (RNN)\n",
        "\n",
        "Датасет: https://disk.yandex.ru/d/frNchuaBQVLxyA?w=1"
      ]
    },
    {
      "cell_type": "markdown",
      "source": [
        "Рекуррентный — значит возвращающийся. RNN угадывает следующие слова в тексте или ноты в мелодии, возвращаясь к своим прошлым догадкам. Прошлые догадки нейросеть хранит как вектор активации нейронов и передает с шага на шаг."
      ],
      "metadata": {
        "id": "XrIA7QBivUlH"
      }
    },
    {
      "cell_type": "code",
      "source": [
        "#Считать файл surnames/surnames.csv.\n",
        "surnames = pd.read_csv('/content/drive/MyDrive/Colab Notebooks/surnames/surnames.csv')\n",
        "surnames"
      ],
      "metadata": {
        "colab": {
          "base_uri": "https://localhost:8080/",
          "height": 423
        },
        "id": "06D1hZM-SIsv",
        "outputId": "81414a10-f95d-4b12-c1b7-534063682aa0"
      },
      "execution_count": null,
      "outputs": [
        {
          "output_type": "execute_result",
          "data": {
            "text/plain": [
              "        surname nationality\n",
              "0      Woodford     English\n",
              "1          Coté      French\n",
              "2          Kore     English\n",
              "3         Koury      Arabic\n",
              "4        Lebzak     Russian\n",
              "...         ...         ...\n",
              "10975  Quraishi      Arabic\n",
              "10976   Innalls     English\n",
              "10977      Król      Polish\n",
              "10978    Purvis     English\n",
              "10979  Messerli      German\n",
              "\n",
              "[10980 rows x 2 columns]"
            ],
            "text/html": [
              "\n",
              "  <div id=\"df-bac52ee6-05be-438b-99b5-edfc73c72626\">\n",
              "    <div class=\"colab-df-container\">\n",
              "      <div>\n",
              "<style scoped>\n",
              "    .dataframe tbody tr th:only-of-type {\n",
              "        vertical-align: middle;\n",
              "    }\n",
              "\n",
              "    .dataframe tbody tr th {\n",
              "        vertical-align: top;\n",
              "    }\n",
              "\n",
              "    .dataframe thead th {\n",
              "        text-align: right;\n",
              "    }\n",
              "</style>\n",
              "<table border=\"1\" class=\"dataframe\">\n",
              "  <thead>\n",
              "    <tr style=\"text-align: right;\">\n",
              "      <th></th>\n",
              "      <th>surname</th>\n",
              "      <th>nationality</th>\n",
              "    </tr>\n",
              "  </thead>\n",
              "  <tbody>\n",
              "    <tr>\n",
              "      <th>0</th>\n",
              "      <td>Woodford</td>\n",
              "      <td>English</td>\n",
              "    </tr>\n",
              "    <tr>\n",
              "      <th>1</th>\n",
              "      <td>Coté</td>\n",
              "      <td>French</td>\n",
              "    </tr>\n",
              "    <tr>\n",
              "      <th>2</th>\n",
              "      <td>Kore</td>\n",
              "      <td>English</td>\n",
              "    </tr>\n",
              "    <tr>\n",
              "      <th>3</th>\n",
              "      <td>Koury</td>\n",
              "      <td>Arabic</td>\n",
              "    </tr>\n",
              "    <tr>\n",
              "      <th>4</th>\n",
              "      <td>Lebzak</td>\n",
              "      <td>Russian</td>\n",
              "    </tr>\n",
              "    <tr>\n",
              "      <th>...</th>\n",
              "      <td>...</td>\n",
              "      <td>...</td>\n",
              "    </tr>\n",
              "    <tr>\n",
              "      <th>10975</th>\n",
              "      <td>Quraishi</td>\n",
              "      <td>Arabic</td>\n",
              "    </tr>\n",
              "    <tr>\n",
              "      <th>10976</th>\n",
              "      <td>Innalls</td>\n",
              "      <td>English</td>\n",
              "    </tr>\n",
              "    <tr>\n",
              "      <th>10977</th>\n",
              "      <td>Król</td>\n",
              "      <td>Polish</td>\n",
              "    </tr>\n",
              "    <tr>\n",
              "      <th>10978</th>\n",
              "      <td>Purvis</td>\n",
              "      <td>English</td>\n",
              "    </tr>\n",
              "    <tr>\n",
              "      <th>10979</th>\n",
              "      <td>Messerli</td>\n",
              "      <td>German</td>\n",
              "    </tr>\n",
              "  </tbody>\n",
              "</table>\n",
              "<p>10980 rows × 2 columns</p>\n",
              "</div>\n",
              "      <button class=\"colab-df-convert\" onclick=\"convertToInteractive('df-bac52ee6-05be-438b-99b5-edfc73c72626')\"\n",
              "              title=\"Convert this dataframe to an interactive table.\"\n",
              "              style=\"display:none;\">\n",
              "        \n",
              "  <svg xmlns=\"http://www.w3.org/2000/svg\" height=\"24px\"viewBox=\"0 0 24 24\"\n",
              "       width=\"24px\">\n",
              "    <path d=\"M0 0h24v24H0V0z\" fill=\"none\"/>\n",
              "    <path d=\"M18.56 5.44l.94 2.06.94-2.06 2.06-.94-2.06-.94-.94-2.06-.94 2.06-2.06.94zm-11 1L8.5 8.5l.94-2.06 2.06-.94-2.06-.94L8.5 2.5l-.94 2.06-2.06.94zm10 10l.94 2.06.94-2.06 2.06-.94-2.06-.94-.94-2.06-.94 2.06-2.06.94z\"/><path d=\"M17.41 7.96l-1.37-1.37c-.4-.4-.92-.59-1.43-.59-.52 0-1.04.2-1.43.59L10.3 9.45l-7.72 7.72c-.78.78-.78 2.05 0 2.83L4 21.41c.39.39.9.59 1.41.59.51 0 1.02-.2 1.41-.59l7.78-7.78 2.81-2.81c.8-.78.8-2.07 0-2.86zM5.41 20L4 18.59l7.72-7.72 1.47 1.35L5.41 20z\"/>\n",
              "  </svg>\n",
              "      </button>\n",
              "      \n",
              "  <style>\n",
              "    .colab-df-container {\n",
              "      display:flex;\n",
              "      flex-wrap:wrap;\n",
              "      gap: 12px;\n",
              "    }\n",
              "\n",
              "    .colab-df-convert {\n",
              "      background-color: #E8F0FE;\n",
              "      border: none;\n",
              "      border-radius: 50%;\n",
              "      cursor: pointer;\n",
              "      display: none;\n",
              "      fill: #1967D2;\n",
              "      height: 32px;\n",
              "      padding: 0 0 0 0;\n",
              "      width: 32px;\n",
              "    }\n",
              "\n",
              "    .colab-df-convert:hover {\n",
              "      background-color: #E2EBFA;\n",
              "      box-shadow: 0px 1px 2px rgba(60, 64, 67, 0.3), 0px 1px 3px 1px rgba(60, 64, 67, 0.15);\n",
              "      fill: #174EA6;\n",
              "    }\n",
              "\n",
              "    [theme=dark] .colab-df-convert {\n",
              "      background-color: #3B4455;\n",
              "      fill: #D2E3FC;\n",
              "    }\n",
              "\n",
              "    [theme=dark] .colab-df-convert:hover {\n",
              "      background-color: #434B5C;\n",
              "      box-shadow: 0px 1px 3px 1px rgba(0, 0, 0, 0.15);\n",
              "      filter: drop-shadow(0px 1px 2px rgba(0, 0, 0, 0.3));\n",
              "      fill: #FFFFFF;\n",
              "    }\n",
              "  </style>\n",
              "\n",
              "      <script>\n",
              "        const buttonEl =\n",
              "          document.querySelector('#df-bac52ee6-05be-438b-99b5-edfc73c72626 button.colab-df-convert');\n",
              "        buttonEl.style.display =\n",
              "          google.colab.kernel.accessAllowed ? 'block' : 'none';\n",
              "\n",
              "        async function convertToInteractive(key) {\n",
              "          const element = document.querySelector('#df-bac52ee6-05be-438b-99b5-edfc73c72626');\n",
              "          const dataTable =\n",
              "            await google.colab.kernel.invokeFunction('convertToInteractive',\n",
              "                                                     [key], {});\n",
              "          if (!dataTable) return;\n",
              "\n",
              "          const docLinkHtml = 'Like what you see? Visit the ' +\n",
              "            '<a target=\"_blank\" href=https://colab.research.google.com/notebooks/data_table.ipynb>data table notebook</a>'\n",
              "            + ' to learn more about interactive tables.';\n",
              "          element.innerHTML = '';\n",
              "          dataTable['output_type'] = 'display_data';\n",
              "          await google.colab.output.renderOutput(dataTable, element);\n",
              "          const docLink = document.createElement('div');\n",
              "          docLink.innerHTML = docLinkHtml;\n",
              "          element.appendChild(docLink);\n",
              "        }\n",
              "      </script>\n",
              "    </div>\n",
              "  </div>\n",
              "  "
            ]
          },
          "metadata": {},
          "execution_count": 5
        }
      ]
    },
    {
      "cell_type": "code",
      "source": [
        "# Закодировать национальности числами, начиная с 0\n",
        "# преобразование представляет собой однозначное соответствие число - уникальное значение категориального признака\n",
        "\n",
        "labelencoder = LabelEncoder()\n",
        "surnames['nationality class'] = labelencoder.fit_transform(surnames['nationality'])\n",
        "# обучаем кодировщик на уникальных значениях в столбце 'nationality' и затем преобразуем эти значения в числовые метки классов\n",
        "surnames"
      ],
      "metadata": {
        "colab": {
          "base_uri": "https://localhost:8080/",
          "height": 423
        },
        "id": "X5jUn3O9SzQv",
        "outputId": "0a486826-2d20-46fc-ef21-224d284749a2"
      },
      "execution_count": null,
      "outputs": [
        {
          "output_type": "execute_result",
          "data": {
            "text/plain": [
              "        surname nationality  nationality class\n",
              "0      Woodford     English                  4\n",
              "1          Coté      French                  5\n",
              "2          Kore     English                  4\n",
              "3         Koury      Arabic                  0\n",
              "4        Lebzak     Russian                 14\n",
              "...         ...         ...                ...\n",
              "10975  Quraishi      Arabic                  0\n",
              "10976   Innalls     English                  4\n",
              "10977      Król      Polish                 12\n",
              "10978    Purvis     English                  4\n",
              "10979  Messerli      German                  6\n",
              "\n",
              "[10980 rows x 3 columns]"
            ],
            "text/html": [
              "\n",
              "  <div id=\"df-f5c029cd-7c77-4062-91aa-1019dd7512ad\">\n",
              "    <div class=\"colab-df-container\">\n",
              "      <div>\n",
              "<style scoped>\n",
              "    .dataframe tbody tr th:only-of-type {\n",
              "        vertical-align: middle;\n",
              "    }\n",
              "\n",
              "    .dataframe tbody tr th {\n",
              "        vertical-align: top;\n",
              "    }\n",
              "\n",
              "    .dataframe thead th {\n",
              "        text-align: right;\n",
              "    }\n",
              "</style>\n",
              "<table border=\"1\" class=\"dataframe\">\n",
              "  <thead>\n",
              "    <tr style=\"text-align: right;\">\n",
              "      <th></th>\n",
              "      <th>surname</th>\n",
              "      <th>nationality</th>\n",
              "      <th>nationality class</th>\n",
              "    </tr>\n",
              "  </thead>\n",
              "  <tbody>\n",
              "    <tr>\n",
              "      <th>0</th>\n",
              "      <td>Woodford</td>\n",
              "      <td>English</td>\n",
              "      <td>4</td>\n",
              "    </tr>\n",
              "    <tr>\n",
              "      <th>1</th>\n",
              "      <td>Coté</td>\n",
              "      <td>French</td>\n",
              "      <td>5</td>\n",
              "    </tr>\n",
              "    <tr>\n",
              "      <th>2</th>\n",
              "      <td>Kore</td>\n",
              "      <td>English</td>\n",
              "      <td>4</td>\n",
              "    </tr>\n",
              "    <tr>\n",
              "      <th>3</th>\n",
              "      <td>Koury</td>\n",
              "      <td>Arabic</td>\n",
              "      <td>0</td>\n",
              "    </tr>\n",
              "    <tr>\n",
              "      <th>4</th>\n",
              "      <td>Lebzak</td>\n",
              "      <td>Russian</td>\n",
              "      <td>14</td>\n",
              "    </tr>\n",
              "    <tr>\n",
              "      <th>...</th>\n",
              "      <td>...</td>\n",
              "      <td>...</td>\n",
              "      <td>...</td>\n",
              "    </tr>\n",
              "    <tr>\n",
              "      <th>10975</th>\n",
              "      <td>Quraishi</td>\n",
              "      <td>Arabic</td>\n",
              "      <td>0</td>\n",
              "    </tr>\n",
              "    <tr>\n",
              "      <th>10976</th>\n",
              "      <td>Innalls</td>\n",
              "      <td>English</td>\n",
              "      <td>4</td>\n",
              "    </tr>\n",
              "    <tr>\n",
              "      <th>10977</th>\n",
              "      <td>Król</td>\n",
              "      <td>Polish</td>\n",
              "      <td>12</td>\n",
              "    </tr>\n",
              "    <tr>\n",
              "      <th>10978</th>\n",
              "      <td>Purvis</td>\n",
              "      <td>English</td>\n",
              "      <td>4</td>\n",
              "    </tr>\n",
              "    <tr>\n",
              "      <th>10979</th>\n",
              "      <td>Messerli</td>\n",
              "      <td>German</td>\n",
              "      <td>6</td>\n",
              "    </tr>\n",
              "  </tbody>\n",
              "</table>\n",
              "<p>10980 rows × 3 columns</p>\n",
              "</div>\n",
              "      <button class=\"colab-df-convert\" onclick=\"convertToInteractive('df-f5c029cd-7c77-4062-91aa-1019dd7512ad')\"\n",
              "              title=\"Convert this dataframe to an interactive table.\"\n",
              "              style=\"display:none;\">\n",
              "        \n",
              "  <svg xmlns=\"http://www.w3.org/2000/svg\" height=\"24px\"viewBox=\"0 0 24 24\"\n",
              "       width=\"24px\">\n",
              "    <path d=\"M0 0h24v24H0V0z\" fill=\"none\"/>\n",
              "    <path d=\"M18.56 5.44l.94 2.06.94-2.06 2.06-.94-2.06-.94-.94-2.06-.94 2.06-2.06.94zm-11 1L8.5 8.5l.94-2.06 2.06-.94-2.06-.94L8.5 2.5l-.94 2.06-2.06.94zm10 10l.94 2.06.94-2.06 2.06-.94-2.06-.94-.94-2.06-.94 2.06-2.06.94z\"/><path d=\"M17.41 7.96l-1.37-1.37c-.4-.4-.92-.59-1.43-.59-.52 0-1.04.2-1.43.59L10.3 9.45l-7.72 7.72c-.78.78-.78 2.05 0 2.83L4 21.41c.39.39.9.59 1.41.59.51 0 1.02-.2 1.41-.59l7.78-7.78 2.81-2.81c.8-.78.8-2.07 0-2.86zM5.41 20L4 18.59l7.72-7.72 1.47 1.35L5.41 20z\"/>\n",
              "  </svg>\n",
              "      </button>\n",
              "      \n",
              "  <style>\n",
              "    .colab-df-container {\n",
              "      display:flex;\n",
              "      flex-wrap:wrap;\n",
              "      gap: 12px;\n",
              "    }\n",
              "\n",
              "    .colab-df-convert {\n",
              "      background-color: #E8F0FE;\n",
              "      border: none;\n",
              "      border-radius: 50%;\n",
              "      cursor: pointer;\n",
              "      display: none;\n",
              "      fill: #1967D2;\n",
              "      height: 32px;\n",
              "      padding: 0 0 0 0;\n",
              "      width: 32px;\n",
              "    }\n",
              "\n",
              "    .colab-df-convert:hover {\n",
              "      background-color: #E2EBFA;\n",
              "      box-shadow: 0px 1px 2px rgba(60, 64, 67, 0.3), 0px 1px 3px 1px rgba(60, 64, 67, 0.15);\n",
              "      fill: #174EA6;\n",
              "    }\n",
              "\n",
              "    [theme=dark] .colab-df-convert {\n",
              "      background-color: #3B4455;\n",
              "      fill: #D2E3FC;\n",
              "    }\n",
              "\n",
              "    [theme=dark] .colab-df-convert:hover {\n",
              "      background-color: #434B5C;\n",
              "      box-shadow: 0px 1px 3px 1px rgba(0, 0, 0, 0.15);\n",
              "      filter: drop-shadow(0px 1px 2px rgba(0, 0, 0, 0.3));\n",
              "      fill: #FFFFFF;\n",
              "    }\n",
              "  </style>\n",
              "\n",
              "      <script>\n",
              "        const buttonEl =\n",
              "          document.querySelector('#df-f5c029cd-7c77-4062-91aa-1019dd7512ad button.colab-df-convert');\n",
              "        buttonEl.style.display =\n",
              "          google.colab.kernel.accessAllowed ? 'block' : 'none';\n",
              "\n",
              "        async function convertToInteractive(key) {\n",
              "          const element = document.querySelector('#df-f5c029cd-7c77-4062-91aa-1019dd7512ad');\n",
              "          const dataTable =\n",
              "            await google.colab.kernel.invokeFunction('convertToInteractive',\n",
              "                                                     [key], {});\n",
              "          if (!dataTable) return;\n",
              "\n",
              "          const docLinkHtml = 'Like what you see? Visit the ' +\n",
              "            '<a target=\"_blank\" href=https://colab.research.google.com/notebooks/data_table.ipynb>data table notebook</a>'\n",
              "            + ' to learn more about interactive tables.';\n",
              "          element.innerHTML = '';\n",
              "          dataTable['output_type'] = 'display_data';\n",
              "          await google.colab.output.renderOutput(dataTable, element);\n",
              "          const docLink = document.createElement('div');\n",
              "          docLink.innerHTML = docLinkHtml;\n",
              "          element.appendChild(docLink);\n",
              "        }\n",
              "      </script>\n",
              "    </div>\n",
              "  </div>\n",
              "  "
            ]
          },
          "metadata": {},
          "execution_count": 6
        }
      ]
    },
    {
      "cell_type": "code",
      "source": [
        "# Разбить датасет на обучающую и тестовую выборку\n",
        "X = surnames['surname']\n",
        "y = surnames['nationality class']\n",
        "X_train, X_test, y_train, y_test = train_test_split(\n",
        "    X, y, test_size=0.2)"
      ],
      "metadata": {
        "id": "pgd3yRhRTKat"
      },
      "execution_count": null,
      "outputs": []
    },
    {
      "cell_type": "code",
      "source": [
        "# Реализовать класс Vocab (токен = символ)\n",
        "# класс который предоставляет словарные объекты для обработки естественного языка\n",
        "class Vocab:\n",
        "    def __init__(self, data):\n",
        "        #это словарь, где ключами являются токены (буквы или символы), а значениями - их индексы\n",
        "        self.token_to_idx = {'<PAD>': 0} #в словарь добавляется специальный токен <PAD> с индексом 0\n",
        "        self.max_seq_len = 0 #атрибут, который хранит длину самой длинной последовательности из набора данных\n",
        "        index = 1\n",
        "        for surname in data['surname']: #происходит итерация по каждой фамилии\n",
        "            if len(surname) > self.max_seq_len:\n",
        "                self.max_seq_len = len(surname)\n",
        "            for letter in surname: #происходит вложенная итерация по каждой букве в фамилии\n",
        "                if letter not in self.token_to_idx:\n",
        "                    self.token_to_idx[letter] = index #добавляется в словарь с индексом index\n",
        "                    index += 1\n",
        "        self.vocab_len = index #self.vocab_len получает значение index, что является общим количеством уникальных токенов (букв и символов) в словаре"
      ],
      "metadata": {
        "id": "ESb_1YgXTNkd"
      },
      "execution_count": null,
      "outputs": []
    },
    {
      "cell_type": "code",
      "source": [
        "vocabulary = Vocab(surnames)\n",
        "vocabulary.token_to_idx['W'] # возвращает индекс, связанный с токеном 'W'"
      ],
      "metadata": {
        "colab": {
          "base_uri": "https://localhost:8080/"
        },
        "id": "J7wTaJXuTP0l",
        "outputId": "08a5744a-8222-4fb9-d218-a7645bf960eb"
      },
      "execution_count": null,
      "outputs": [
        {
          "output_type": "execute_result",
          "data": {
            "text/plain": [
              "1"
            ]
          },
          "metadata": {},
          "execution_count": 9
        }
      ]
    },
    {
      "cell_type": "code",
      "source": [
        "# Реализовать класс SurnamesDataset\n",
        "class SurnamesDataset(Dataset):\n",
        "    def __init__(self, X, y, vocab: Vocab): #конструктор класса\n",
        "        self.X = X #признаки\n",
        "        self.y = y #метки\n",
        "        self.vocab = vocab\n",
        "\n",
        "    def vectorize(self, surname): #метод, который преобразует фамилию в последовательность индексов токенов\n",
        "        indexes = []\n",
        "        pad_index = self.vocab.token_to_idx['<PAD>'] #тут 0\n",
        "        count_pad = self.vocab.max_seq_len - len(surname) #длина каждой такой последовательности должна быть одинаковой и равной vocab.max_seq_len.\n",
        "        #итерирует по каждой букве в фамилии и использует словарь self.vocab для получения соответствующего индекса каждого токена\n",
        "        for letter in surname:\n",
        "            index = self.vocab.token_to_idx[letter]\n",
        "            indexes.append(index)\n",
        "        for i in range(count_pad): #Чтобы добиться этого, дополните последовательность справа индексом токена <PAD> до нужной длины\n",
        "            indexes.append(pad_index)\n",
        "        return indexes\n",
        "    \n",
        "    def __len__(self): #метод, который возвращает общее количество элементов в наборе данных\n",
        "        return len(self.X)\n",
        "\n",
        "    def __getitem__(self, idx): #метод, который возвращает элемент набора данных по индексу idx\n",
        "        x_surname = torch.tensor(self.vectorize(self.X.iloc[idx])) #преобразует фамилии (self.X.iloc[idx]) в последовательность индексов токенов\n",
        "        y_surname = torch.tensor(self.y.iloc[idx]) #преобразует соответствующую метку (self.y.iloc[idx]) в тензоры PyTorch\n",
        "        return (x_surname, y_surname)"
      ],
      "metadata": {
        "id": "GXYgmc0kTTtN"
      },
      "execution_count": null,
      "outputs": []
    },
    {
      "cell_type": "code",
      "source": [
        "#создаем экземпляры класса SurnamesDataset для обучающего и тестового наборов данных\n",
        "surnames_dataset_train = SurnamesDataset(X_train, y_train, vocabulary)\n",
        "surnames_dataset_test = SurnamesDataset(X_test, y_test, vocabulary)"
      ],
      "metadata": {
        "id": "1riUGumOTcXD"
      },
      "execution_count": null,
      "outputs": []
    },
    {
      "cell_type": "code",
      "source": [
        "print(list(vocabulary.token_to_idx)) #выводим список токенов, которые были добавлены в словарь\n",
        "print()\n",
        "print(surnames_dataset_train.X.iloc[0]) #обращаемся к первой фамилии в обучающем наборе данных surnames_dataset_train.X и выводим ее значение\n",
        "surnames_dataset_train[0] #возввращаем пару значений (x_surname, y_surname), выводя тензор"
      ],
      "metadata": {
        "colab": {
          "base_uri": "https://localhost:8080/"
        },
        "id": "wUT4BAiNTev3",
        "outputId": "1afbf9cc-53e5-4937-b7ff-204e62ee0382"
      },
      "execution_count": null,
      "outputs": [
        {
          "output_type": "stream",
          "name": "stdout",
          "text": [
            "['<PAD>', 'W', 'o', 'd', 'f', 'r', 'C', 't', 'é', 'K', 'e', 'u', 'y', 'L', 'b', 'z', 'a', 'k', 'O', 'i', 'n', 'R', 'h', 'l', 'Z', 'A', 'c', 'M', 's', 'v', 'E', 'p', 'm', 'V', 'I', 'G', 'S', 'B', 'J', 'D', 'g', 'P', 'H', 'w', 'Y', 'T', 'j', 'F', \"'\", 'N', 'q', 'U', 'Q', 'à', 'x', 'ü', '-', 'í', 'ú', 'ä', 'X', 'ö', 'ó', '1', 'ò', 'ñ', 'Ż', 'ß', 'á', 'è', 'ã', 'ê', 'ì', 'Ś', 'É', 'ż', 'ń', 'ù', 'ç', '/', 'Á', 'õ', 'ą', 'ł', ':']\n",
            "\n",
            "Lowe\n"
          ]
        },
        {
          "output_type": "execute_result",
          "data": {
            "text/plain": [
              "(tensor([13,  2, 43, 10,  0,  0,  0,  0,  0,  0,  0,  0,  0,  0,  0,  0,  0]),\n",
              " tensor(4))"
            ]
          },
          "metadata": {},
          "execution_count": 12
        }
      ]
    },
    {
      "cell_type": "code",
      "source": [
        "batch_size = 64 #задаем размер пакета, то есть количество примеров, которые будут загружены одновременно на каждой итерации обучения или оценки модели\n",
        "train_loader = DataLoader(surnames_dataset_train, shuffle=True, batch_size=batch_size) #создаем загрузчик данных для обучающего набора данных\n",
        "#shuffle=True (случайное перемешивание данных перед каждой эпохой обучения)\n",
        "test_loader = DataLoader(surnames_dataset_test, shuffle=True, batch_size=batch_size) #создаем загрузчик данных для тестового набора данных"
      ],
      "metadata": {
        "id": "UYfASNF3TjDr"
      },
      "execution_count": null,
      "outputs": []
    },
    {
      "cell_type": "markdown",
      "metadata": {
        "id": "YdPr92i6k-If"
      },
      "source": [
        "1.1 Используя класс `nn.RNNCell` (абстракцию для отдельного временного шага RNN), реализуйте простейшую рекуррентную сеть Элмана в виде класса `RNN`. Используя созданный класс `RNN`, решите задачу классификации фамилий. \n"
      ]
    },
    {
      "cell_type": "code",
      "source": [
        "class RNN(nn.Module):\n",
        "    def __init__(self, input_size, hidden_size): #конструктор класса, который принимает два аргумента: размер входных данных и размер скрытого состояния RNN\n",
        "        super(RNN, self).__init__() #вызываем конструктор родительского класса nn.Module\n",
        "        self.rnn_cell = nn.RNNCell(input_size, hidden_size) #инициализируем атрибут rnn_cell\n",
        "\n",
        "    def forward(self, x, h=None): #метод, который определяет прямой проход (forward pass) модели\n",
        "        x = x.transpose(1, 0) #тензор x транспонируется\n",
        "        all_h = []\n",
        "        for batch_character in x:\n",
        "            # проходим по каждому элементу последовательности в пакете и обновляем скрытое состояние h\n",
        "            h = self.rnn_cell.forward(batch_character, h)\n",
        "            all_h.append(h) #добавляем в список \n",
        "\n",
        "        return torch.stack(all_h, dim=0).transpose(1, 0), h # метод возвращает тензор всех наблюдавшихся скрытых состояний\n",
        "        # torch.stack(all_h, dim=0) объединяет все скрытые состояния вдоль измерения 0, создавая тензор размера (seq_len, batch_size, hidden_size)\n",
        "        # transpose(1, 0) транспонирует размерности 0 и 1, чтобы получить размерность (batch_size, seq_len, hidden_size)\n",
        "        \n",
        "        '''\n",
        "        x.shape = (batch_size, seq_len, feature_size) - тензор входных данных до transpose\n",
        "        h.shape = (batch_size, hidden_size) - тензор со скрытым состоянием RNN \n",
        "        '''"
      ],
      "metadata": {
        "id": "5ItSyoflTqCQ"
      },
      "execution_count": null,
      "outputs": []
    },
    {
      "cell_type": "code",
      "source": [
        "n_classes = surnames['nationality class'].nunique() #определяет количество уникальных значений в столбце\n",
        "\n",
        "class SurnamesNet(nn.Module):\n",
        "    def __init__(self, embedding_dim, hidden_size):\n",
        "        super(SurnamesNet, self).__init__()\n",
        "        #слой эмбеддингов (nn.Embedding) с размером словаря num_embeddings=vocabulary.vocab_len и размерностью эмбеддингов embedding_dim\n",
        "        self.emb = nn.Embedding(num_embeddings=vocabulary.vocab_len, embedding_dim=embedding_dim) \n",
        "        self.rnn = RNN(input_size=embedding_dim, hidden_size=hidden_size) #экземпляр класса RNN, созданный с параметрами input_size=embedding_dim и hidden_size=hidden_size\n",
        "        self.fc = torch.nn.Linear(hidden_size, n_classes) #полносвязный слой (nn.Linear) с размерностью входа hidden_size и размерностью вывода n_classes\n",
        "        \n",
        "    def forward(self, x):\n",
        "        x = self.emb(x) #x проходит через слой эмбеддингов self.emb, где каждый индекс токена заменяется на соответствующий эмбеддинг\n",
        "        \n",
        "        #полученные эмбеддинги передаются в рекуррентную нейронную сеть self.rnn\n",
        "        output, h_n = self.rnn(x) #output представляет собой тензор всех скрытых состояний на каждом временном шаге, а h_n - последнее скрытое состояние RNN\n",
        "        \n",
        "        #последние скрытые состояния передаются через полносвязный слой self.fc\n",
        "        x = self.fc(output[:, -1]) #извлекаем только последнее скрытое состояние для каждого примера в пакете\n",
        "        return x"
      ],
      "metadata": {
        "id": "Ctur9vXjTsa7"
      },
      "execution_count": null,
      "outputs": []
    },
    {
      "cell_type": "code",
      "source": [
        "#создаем объект модели SurnamesNet с размерностью эмбеддингов 256 и размером скрытого состояния 512\n",
        "net = SurnamesNet(256, 512)\n",
        "net = net.to(device) #перемещаем модель на указанное устройство "
      ],
      "metadata": {
        "id": "2CPPVj5rTuwE"
      },
      "execution_count": null,
      "outputs": []
    },
    {
      "cell_type": "code",
      "source": [
        "loss = nn.CrossEntropyLoss() #создаем объект функции потерь, которая будет использоваться для вычисления потери модели \n",
        "optimizer = optim.Adam(net.parameters(), lr=0.0001) #создаем оптимизатор Adam, который будет использоваться для обновления параметров модели в процессе обучения\n",
        "\n",
        "n_epochs = 100\n",
        "losses = []\n",
        "for epoch in range(n_epochs): #происходит итерация по эпохам обучения\n",
        "    loss_value = 0\n",
        "    for X, y in train_loader:\n",
        "        #перемещаем входные данные и метки классов\n",
        "        X = X.to(device)\n",
        "        y = y.to(device)\n",
        "        y_pred = net.forward(X) #вызываем метод forward модели net для выполнения прямого прохода и получения предсказаний модели y_pred\n",
        "        loss_tensor = loss.forward(y_pred, y) #вычисляем значение функции потерь между предсказаниями модели y_pred и истинными метками классов y\n",
        "        loss_tensor.backward() #вычисляем градиенты функции потерь по параметрам модели\n",
        "        optimizer.step() #обновляет параметры модели, применение градиента\n",
        "        optimizer.zero_grad() #обнуляем градиенты всех параметров модели перед следующей итерацией обновления\n",
        "        loss_value += loss_tensor.item() #накапливаем значение функции потерь для текущего пакета в переменной\n",
        "    losses.append(loss_value) #сохраняем значение функции потерь на текущей эпохе в список losses\n",
        "    print(f'epoch {epoch} loss {loss_value}') #выводим текущий номер эпохи и значение функции потерь на этой эпохе"
      ],
      "metadata": {
        "id": "3dggrFieTxMW",
        "colab": {
          "base_uri": "https://localhost:8080/"
        },
        "outputId": "e338a43e-3936-41b2-d1d4-33e12391c78c"
      },
      "execution_count": null,
      "outputs": [
        {
          "output_type": "stream",
          "name": "stdout",
          "text": [
            "epoch 0 loss 313.52623188495636\n",
            "epoch 1 loss 309.17796564102173\n",
            "epoch 2 loss 276.9112069606781\n",
            "epoch 3 loss 255.5772670507431\n",
            "epoch 4 loss 236.7849110364914\n",
            "epoch 5 loss 228.03531742095947\n",
            "epoch 6 loss 221.48516654968262\n",
            "epoch 7 loss 213.34253704547882\n",
            "epoch 8 loss 203.07772970199585\n",
            "epoch 9 loss 198.81135392189026\n",
            "epoch 10 loss 189.2820245027542\n",
            "epoch 11 loss 179.21442914009094\n",
            "epoch 12 loss 173.3301859498024\n",
            "epoch 13 loss 170.94306582212448\n",
            "epoch 14 loss 161.16221034526825\n",
            "epoch 15 loss 162.8452318906784\n",
            "epoch 16 loss 154.93923836946487\n",
            "epoch 17 loss 152.5479421019554\n",
            "epoch 18 loss 148.65941905975342\n",
            "epoch 19 loss 143.35241055488586\n",
            "epoch 20 loss 142.00183981657028\n",
            "epoch 21 loss 138.84430420398712\n",
            "epoch 22 loss 134.73604935407639\n",
            "epoch 23 loss 134.7004622220993\n",
            "epoch 24 loss 131.50443315505981\n",
            "epoch 25 loss 125.67422837018967\n",
            "epoch 26 loss 124.53834873437881\n",
            "epoch 27 loss 121.80015552043915\n",
            "epoch 28 loss 124.96033817529678\n",
            "epoch 29 loss 118.42075419425964\n",
            "epoch 30 loss 117.43902850151062\n",
            "epoch 31 loss 113.45629355311394\n",
            "epoch 32 loss 111.14829760789871\n",
            "epoch 33 loss 111.00257527828217\n",
            "epoch 34 loss 108.02693957090378\n",
            "epoch 35 loss 108.49989518523216\n",
            "epoch 36 loss 104.60538998246193\n",
            "epoch 37 loss 105.85291582345963\n",
            "epoch 38 loss 106.29531076550484\n",
            "epoch 39 loss 99.6558867096901\n",
            "epoch 40 loss 99.4333211183548\n",
            "epoch 41 loss 95.52124333381653\n",
            "epoch 42 loss 93.64301452040672\n",
            "epoch 43 loss 91.9044064283371\n",
            "epoch 44 loss 89.42897763848305\n",
            "epoch 45 loss 90.42038211226463\n",
            "epoch 46 loss 89.27518653869629\n",
            "epoch 47 loss 90.3054187297821\n",
            "epoch 48 loss 90.07786628603935\n",
            "epoch 49 loss 82.5283995270729\n",
            "epoch 50 loss 81.2201856970787\n",
            "epoch 51 loss 81.62125182151794\n",
            "epoch 52 loss 79.01121252775192\n",
            "epoch 53 loss 76.58938203752041\n",
            "epoch 54 loss 74.51400263607502\n",
            "epoch 55 loss 72.20653949677944\n",
            "epoch 56 loss 72.2805226445198\n",
            "epoch 57 loss 71.85293644666672\n",
            "epoch 58 loss 67.2293675839901\n",
            "epoch 59 loss 68.02841879427433\n",
            "epoch 60 loss 67.2851257622242\n",
            "epoch 61 loss 67.99611672759056\n",
            "epoch 62 loss 63.96096061170101\n",
            "epoch 63 loss 62.978835597634315\n",
            "epoch 64 loss 62.89024591445923\n",
            "epoch 65 loss 59.94023177027702\n",
            "epoch 66 loss 58.31691639125347\n",
            "epoch 67 loss 62.023961424827576\n",
            "epoch 68 loss 61.58984190225601\n",
            "epoch 69 loss 61.18101951479912\n",
            "epoch 70 loss 56.40671579539776\n",
            "epoch 71 loss 56.66670701652765\n",
            "epoch 72 loss 51.34325537085533\n",
            "epoch 73 loss 54.767123490571976\n",
            "epoch 74 loss 50.14100979268551\n",
            "epoch 75 loss 57.54566892981529\n",
            "epoch 76 loss 54.15740084648132\n",
            "epoch 77 loss 50.2550340667367\n",
            "epoch 78 loss 46.87505015730858\n",
            "epoch 79 loss 48.94650311768055\n",
            "epoch 80 loss 49.06055747717619\n",
            "epoch 81 loss 47.81261287629604\n",
            "epoch 82 loss 45.24934421479702\n",
            "epoch 83 loss 49.1463667973876\n",
            "epoch 84 loss 58.61102433502674\n",
            "epoch 85 loss 44.526308223605156\n",
            "epoch 86 loss 43.95135194063187\n",
            "epoch 87 loss 42.23943718522787\n",
            "epoch 88 loss 42.31394309550524\n",
            "epoch 89 loss 40.71249856799841\n",
            "epoch 90 loss 39.16250371187925\n",
            "epoch 91 loss 45.28068847209215\n",
            "epoch 92 loss 41.568051010370255\n",
            "epoch 93 loss 39.11148530989885\n",
            "epoch 94 loss 39.73487242311239\n",
            "epoch 95 loss 38.14853210002184\n",
            "epoch 96 loss 36.90219425410032\n",
            "epoch 97 loss 39.58009681105614\n",
            "epoch 98 loss 35.1832031160593\n",
            "epoch 99 loss 37.358254976570606\n"
          ]
        }
      ]
    },
    {
      "cell_type": "code",
      "source": [
        "import matplotlib.pyplot as plt\n",
        "plt.plot(losses)\n",
        "plt.xlabel('Эпоха')\n",
        "plt.ylabel('Потеря')\n",
        "plt.show()"
      ],
      "metadata": {
        "colab": {
          "base_uri": "https://localhost:8080/",
          "height": 449
        },
        "id": "qZAHcyinT6aY",
        "outputId": "a3e2b76c-162e-44cc-c97b-2c8a74844396"
      },
      "execution_count": null,
      "outputs": [
        {
          "output_type": "display_data",
          "data": {
            "text/plain": [
              "<Figure size 640x480 with 1 Axes>"
            ],
            "image/png": "[encoded data removed]"
          },
          "metadata": {}
        }
      ]
    },
    {
      "cell_type": "code",
      "source": [
        "# Проверить работоспособность модели\n",
        "correct = 0\n",
        "for X, y in test_loader:\n",
        "    X = X.to(device)\n",
        "    y = y.to(device)\n",
        "    #вызываем метод forward модели net для выполнения прямого прохода и получения предсказаний модели label_pred\n",
        "    label_pred = net.forward(X).argmax(dim=1) #метод argmax(dim=1) выбирает индекс класса с наибольшей вероятностью для каждого примера\n",
        "    #увеличиваем значение переменной correct на количество правильно классифицированных примеров в текущем пакете данных\n",
        "    correct += (label_pred == y).sum()\n",
        "\n",
        "#вычисляем точность модели, разделив общее количество правильно классифицированных примеров (correct) на размер тестового набора данных (len(surnames_dataset_test))\n",
        "accuracy = correct / len(surnames_dataset_test)\n",
        "print('значение accuracy на тестовом множестве:', accuracy)"
      ],
      "metadata": {
        "colab": {
          "base_uri": "https://localhost:8080/"
        },
        "id": "YecqX3UcT89Q",
        "outputId": "5cfacdc3-7493-4635-9c38-7b341b30c551"
      },
      "execution_count": null,
      "outputs": [
        {
          "output_type": "stream",
          "name": "stdout",
          "text": [
            "значение accuracy на тестовом множестве: tensor(0.7127, device='cuda:0')\n"
          ]
        }
      ]
    },
    {
      "cell_type": "markdown",
      "metadata": {
        "id": "a2MIErKTo9aO"
      },
      "source": [
        "1.2 Замените модуль `RNN` из 1.1 на модули `nn.RNN`, `nn.LSTM` и `nn.GRU` (не забудьте указать аргумент `batch_first=True`). Сравните результаты работы."
      ]
    },
    {
      "cell_type": "code",
      "source": [
        "#nn.RNN\n",
        "n_classes = surnames['nationality class'].nunique()\n",
        "\n",
        "class SurnamesNet(nn.Module):\n",
        "    def __init__(self, embedding_dim, hidden_size):\n",
        "        super(SurnamesNet, self).__init__()\n",
        "        self.emb = nn.Embedding(num_embeddings=vocabulary.vocab_len, embedding_dim=embedding_dim)\n",
        "        self.rnn = nn.RNN(input_size=embedding_dim, hidden_size=hidden_size, batch_first=True) \n",
        "        self.fc = torch.nn.Linear(hidden_size, n_classes)\n",
        "        \n",
        "    def forward(self, x):\n",
        "        x = self.emb(x)\n",
        "        output, h_n = self.rnn(x)\n",
        "        x = self.fc(output[:, -1])\n",
        "        return x"
      ],
      "metadata": {
        "id": "uWMwcWMnUZWR"
      },
      "execution_count": null,
      "outputs": []
    },
    {
      "cell_type": "code",
      "source": [
        "net = SurnamesNet(256, 512)\n",
        "net = net.to(device)"
      ],
      "metadata": {
        "id": "KTGhHOHaUbbI"
      },
      "execution_count": null,
      "outputs": []
    },
    {
      "cell_type": "code",
      "source": [
        "loss = nn.CrossEntropyLoss()\n",
        "optimizer = optim.Adam(net.parameters(), lr=0.0001)\n",
        "\n",
        "n_epochs = 100\n",
        "losses = []\n",
        "for epoch in range(n_epochs):\n",
        "    loss_value = 0\n",
        "    for X, y in train_loader:\n",
        "        X = X.to(device)\n",
        "        y = y.to(device)\n",
        "        y_pred = net.forward(X)\n",
        "        loss_tensor = loss.forward(y_pred, y)\n",
        "        loss_tensor.backward() #градиент\n",
        "        optimizer.step() #применение градиента\n",
        "        optimizer.zero_grad()\n",
        "        loss_value += loss_tensor.item()\n",
        "    losses.append(loss_value)\n",
        "    print(f'epoch {epoch} loss {loss_value}')"
      ],
      "metadata": {
        "colab": {
          "base_uri": "https://localhost:8080/"
        },
        "id": "7jXf7NvHUd6w",
        "outputId": "edd6190e-14d0-4ca8-8611-25ddd3408712"
      },
      "execution_count": null,
      "outputs": [
        {
          "output_type": "stream",
          "name": "stdout",
          "text": [
            "epoch 0 loss 310.9856264591217\n",
            "epoch 1 loss 298.84139800071716\n",
            "epoch 2 loss 270.5870393514633\n",
            "epoch 3 loss 254.55175924301147\n",
            "epoch 4 loss 235.82371616363525\n",
            "epoch 5 loss 222.76350486278534\n",
            "epoch 6 loss 213.78754913806915\n",
            "epoch 7 loss 205.44985562562943\n",
            "epoch 8 loss 191.1575562953949\n",
            "epoch 9 loss 183.68300604820251\n",
            "epoch 10 loss 178.3667431473732\n",
            "epoch 11 loss 172.50378823280334\n",
            "epoch 12 loss 168.1871336698532\n",
            "epoch 13 loss 159.09910184144974\n",
            "epoch 14 loss 153.24533760547638\n",
            "epoch 15 loss 147.20483124256134\n",
            "epoch 16 loss 145.17016077041626\n",
            "epoch 17 loss 138.66525602340698\n",
            "epoch 18 loss 137.21004974842072\n",
            "epoch 19 loss 131.90712070465088\n",
            "epoch 20 loss 131.14268362522125\n",
            "epoch 21 loss 125.0638080239296\n",
            "epoch 22 loss 120.9915561079979\n",
            "epoch 23 loss 119.54565992951393\n",
            "epoch 24 loss 121.91791558265686\n",
            "epoch 25 loss 115.95699322223663\n",
            "epoch 26 loss 111.38488560914993\n",
            "epoch 27 loss 111.94583135843277\n",
            "epoch 28 loss 108.70161566138268\n",
            "epoch 29 loss 109.59748202562332\n",
            "epoch 30 loss 105.2690300643444\n",
            "epoch 31 loss 101.61266341805458\n",
            "epoch 32 loss 99.88473352789879\n",
            "epoch 33 loss 98.69838145375252\n",
            "epoch 34 loss 99.47959893941879\n",
            "epoch 35 loss 95.10596665740013\n",
            "epoch 36 loss 93.19156956672668\n",
            "epoch 37 loss 90.84143662452698\n",
            "epoch 38 loss 88.07527151703835\n",
            "epoch 39 loss 87.26014944911003\n",
            "epoch 40 loss 84.42013669013977\n",
            "epoch 41 loss 88.27219930291176\n",
            "epoch 42 loss 82.65133699774742\n",
            "epoch 43 loss 79.32069823145866\n",
            "epoch 44 loss 75.95615202188492\n",
            "epoch 45 loss 78.9558583945036\n",
            "epoch 46 loss 79.13002508878708\n",
            "epoch 47 loss 80.11864463984966\n",
            "epoch 48 loss 73.29733841121197\n",
            "epoch 49 loss 69.9483282417059\n",
            "epoch 50 loss 69.46602329611778\n",
            "epoch 51 loss 66.68486700952053\n",
            "epoch 52 loss 65.603739798069\n",
            "epoch 53 loss 64.31035456061363\n",
            "epoch 54 loss 64.63889002799988\n",
            "epoch 55 loss 64.39603738486767\n",
            "epoch 56 loss 65.19273662567139\n",
            "epoch 57 loss 63.23567673563957\n",
            "epoch 58 loss 59.54374558478594\n",
            "epoch 59 loss 58.422234281897545\n",
            "epoch 60 loss 60.73269747197628\n",
            "epoch 61 loss 56.677004620432854\n",
            "epoch 62 loss 57.109469428658485\n",
            "epoch 63 loss 51.795562371611595\n",
            "epoch 64 loss 54.08511866629124\n",
            "epoch 65 loss 49.33845800161362\n",
            "epoch 66 loss 49.759880520403385\n",
            "epoch 67 loss 50.56666021794081\n",
            "epoch 68 loss 49.855860747396946\n",
            "epoch 69 loss 50.6524119079113\n",
            "epoch 70 loss 48.835341580212116\n",
            "epoch 71 loss 44.418106727302074\n",
            "epoch 72 loss 45.99894440174103\n",
            "epoch 73 loss 45.15280841290951\n",
            "epoch 74 loss 46.02543190866709\n",
            "epoch 75 loss 41.94615462422371\n",
            "epoch 76 loss 41.9768228456378\n",
            "epoch 77 loss 48.15200246870518\n",
            "epoch 78 loss 46.73303609341383\n",
            "epoch 79 loss 41.77504460513592\n",
            "epoch 80 loss 39.07072566449642\n",
            "epoch 81 loss 41.62368572503328\n",
            "epoch 82 loss 38.61822563409805\n",
            "epoch 83 loss 39.49822951853275\n",
            "epoch 84 loss 41.93204826116562\n",
            "epoch 85 loss 35.47700583189726\n",
            "epoch 86 loss 35.758510023355484\n",
            "epoch 87 loss 38.069967322051525\n",
            "epoch 88 loss 35.92148444801569\n",
            "epoch 89 loss 37.787719666957855\n",
            "epoch 90 loss 34.16841220110655\n",
            "epoch 91 loss 33.224445693194866\n",
            "epoch 92 loss 34.26450042426586\n",
            "epoch 93 loss 33.08127557113767\n",
            "epoch 94 loss 31.901085149496794\n",
            "epoch 95 loss 35.55305480957031\n",
            "epoch 96 loss 33.22044089436531\n",
            "epoch 97 loss 31.28937728703022\n",
            "epoch 98 loss 29.59188180603087\n",
            "epoch 99 loss 33.94156512245536\n"
          ]
        }
      ]
    },
    {
      "cell_type": "code",
      "source": [
        "import matplotlib.pyplot as plt\n",
        "plt.plot(losses)\n",
        "plt.xlabel('Эпоха')\n",
        "plt.ylabel('Потеря')\n",
        "plt.show()"
      ],
      "metadata": {
        "colab": {
          "base_uri": "https://localhost:8080/",
          "height": 449
        },
        "id": "U_hRJMK-UvIO",
        "outputId": "739bf1f5-47ad-4633-f65c-096c841925a8"
      },
      "execution_count": null,
      "outputs": [
        {
          "output_type": "display_data",
          "data": {
            "text/plain": [
              "<Figure size 640x480 with 1 Axes>"
            ],
            "image/png": "[encoded data removed]"
          },
          "metadata": {}
        }
      ]
    },
    {
      "cell_type": "code",
      "source": [
        "# Проверить работоспособность модели\n",
        "correct = 0\n",
        "for X, y in test_loader:\n",
        "    X = X.to(device)\n",
        "    y = y.to(device)\n",
        "    label_pred = net.forward(X).argmax(dim=1)\n",
        "    correct += (label_pred == y).sum()\n",
        "\n",
        "accuracy = correct / len(surnames_dataset_test)\n",
        "print('значение accuracy на тестовом множестве:', accuracy)"
      ],
      "metadata": {
        "colab": {
          "base_uri": "https://localhost:8080/"
        },
        "id": "h2u8YtiRUxXW",
        "outputId": "2e7efe10-0cf9-4e54-c11a-016b82c8dcc5"
      },
      "execution_count": null,
      "outputs": [
        {
          "output_type": "stream",
          "name": "stdout",
          "text": [
            "значение accuracy на тестовом множестве: tensor(0.7186, device='cuda:0')\n"
          ]
        }
      ]
    },
    {
      "cell_type": "markdown",
      "source": [
        "LSTM специально разработаны для устранения проблемы долгосрочной зависимости."
      ],
      "metadata": {
        "id": "ok0mr4WG5_9Q"
      }
    },
    {
      "cell_type": "code",
      "source": [
        "#nn.LSTM\n",
        "n_classes = surnames['nationality class'].nunique()\n",
        "\n",
        "class SurnamesNetLSTM(nn.Module):\n",
        "    def __init__(self, embedding_dim, hidden_size):\n",
        "        super(SurnamesNetLSTM, self).__init__()\n",
        "        self.emb = nn.Embedding(num_embeddings=vocabulary.vocab_len, embedding_dim=embedding_dim)\n",
        "        self.lstm = nn.LSTM(input_size=embedding_dim, hidden_size=hidden_size, batch_first=True) \n",
        "        self.fc = torch.nn.Linear(hidden_size, n_classes)\n",
        "        \n",
        "    def forward(self, x):\n",
        "        x = self.emb(x)\n",
        "        output, (h_n, c_n) = self.lstm(x)\n",
        "        x = self.fc(output[:, -1])\n",
        "        return x"
      ],
      "metadata": {
        "id": "GvVlasRRU3SA"
      },
      "execution_count": null,
      "outputs": []
    },
    {
      "cell_type": "code",
      "source": [
        "net1 = SurnamesNetLSTM(256, 512)\n",
        "net1 = net1.to(device)"
      ],
      "metadata": {
        "id": "HLsDgbC0U5wl"
      },
      "execution_count": null,
      "outputs": []
    },
    {
      "cell_type": "code",
      "source": [
        "loss = nn.CrossEntropyLoss()\n",
        "optimizer = optim.Adam(net1.parameters(), lr=0.0001)\n",
        "\n",
        "n_epochs = 100\n",
        "losses = []\n",
        "for epoch in range(n_epochs):\n",
        "    loss_value = 0\n",
        "    for X, y in train_loader:\n",
        "        X = X.to(device)\n",
        "        y = y.to(device)\n",
        "        y_pred = net1.forward(X)\n",
        "        loss_tensor = loss.forward(y_pred, y)\n",
        "        loss_tensor.backward() #градиент\n",
        "        optimizer.step() #применение градиента\n",
        "        optimizer.zero_grad()\n",
        "        loss_value += loss_tensor.item()\n",
        "    losses.append(loss_value)\n",
        "    print(f'epoch {epoch} loss {loss_value}')"
      ],
      "metadata": {
        "colab": {
          "base_uri": "https://localhost:8080/"
        },
        "id": "73NlyMRDU8Tl",
        "outputId": "9d6b8d7e-a8d2-43f6-9058-ce4b052d0ff4"
      },
      "execution_count": null,
      "outputs": [
        {
          "output_type": "stream",
          "name": "stdout",
          "text": [
            "epoch 0 loss 309.0698297023773\n",
            "epoch 1 loss 250.42533361911774\n",
            "epoch 2 loss 206.66878777742386\n",
            "epoch 3 loss 173.41102278232574\n",
            "epoch 4 loss 151.3469745516777\n",
            "epoch 5 loss 139.3511860370636\n",
            "epoch 6 loss 127.4844462275505\n",
            "epoch 7 loss 118.8945614695549\n",
            "epoch 8 loss 112.67226701974869\n",
            "epoch 9 loss 106.19201213121414\n",
            "epoch 10 loss 99.94139191508293\n",
            "epoch 11 loss 96.72630649805069\n",
            "epoch 12 loss 91.19594100117683\n",
            "epoch 13 loss 85.8362523317337\n",
            "epoch 14 loss 82.08691334724426\n",
            "epoch 15 loss 79.10549333691597\n",
            "epoch 16 loss 73.92024083435535\n",
            "epoch 17 loss 70.3706046640873\n",
            "epoch 18 loss 69.80093486607075\n",
            "epoch 19 loss 64.19397175312042\n",
            "epoch 20 loss 60.54816776514053\n",
            "epoch 21 loss 58.57301799952984\n",
            "epoch 22 loss 53.488182842731476\n",
            "epoch 23 loss 50.63859222829342\n",
            "epoch 24 loss 48.94947624206543\n",
            "epoch 25 loss 45.525938898324966\n",
            "epoch 26 loss 43.030924156308174\n",
            "epoch 27 loss 41.426648303866386\n",
            "epoch 28 loss 37.71593526750803\n",
            "epoch 29 loss 38.02233873307705\n",
            "epoch 30 loss 33.496336199343204\n",
            "epoch 31 loss 31.427351519465446\n",
            "epoch 32 loss 31.212976276874542\n",
            "epoch 33 loss 28.62629885226488\n",
            "epoch 34 loss 27.022824212908745\n",
            "epoch 35 loss 24.7432621717453\n",
            "epoch 36 loss 23.299325939267874\n",
            "epoch 37 loss 22.88180474564433\n",
            "epoch 38 loss 23.73596751317382\n",
            "epoch 39 loss 21.12014450132847\n",
            "epoch 40 loss 19.44107771292329\n",
            "epoch 41 loss 19.059159198775887\n",
            "epoch 42 loss 16.8605741802603\n",
            "epoch 43 loss 18.927560579031706\n",
            "epoch 44 loss 17.394373727962375\n",
            "epoch 45 loss 15.982817105948925\n",
            "epoch 46 loss 14.6959636695683\n",
            "epoch 47 loss 15.098448010161519\n",
            "epoch 48 loss 17.261778499931097\n",
            "epoch 49 loss 14.488401640206575\n",
            "epoch 50 loss 12.93344222009182\n",
            "epoch 51 loss 13.162319147959352\n",
            "epoch 52 loss 18.98122481442988\n",
            "epoch 53 loss 12.665210729464889\n",
            "epoch 54 loss 11.158126744441688\n",
            "epoch 55 loss 11.474224279634655\n",
            "epoch 56 loss 11.692298861220479\n",
            "epoch 57 loss 12.361055424436927\n",
            "epoch 58 loss 11.295570882037282\n",
            "epoch 59 loss 10.6079330611974\n",
            "epoch 60 loss 10.718990113586187\n",
            "epoch 61 loss 10.42255598679185\n",
            "epoch 62 loss 10.971201620995998\n",
            "epoch 63 loss 14.961554937064648\n",
            "epoch 64 loss 14.303727772086859\n",
            "epoch 65 loss 12.613721964880824\n",
            "epoch 66 loss 10.634600784163922\n",
            "epoch 67 loss 9.225953819230199\n",
            "epoch 68 loss 9.011709738522768\n",
            "epoch 69 loss 9.225545809604228\n",
            "epoch 70 loss 9.295858557801694\n",
            "epoch 71 loss 9.824253016384318\n",
            "epoch 72 loss 10.200813996605575\n",
            "epoch 73 loss 9.225072339642793\n",
            "epoch 74 loss 8.73093168437481\n",
            "epoch 75 loss 11.641301398165524\n",
            "epoch 76 loss 16.151101976633072\n",
            "epoch 77 loss 13.848529007285833\n",
            "epoch 78 loss 11.490857432130724\n",
            "epoch 79 loss 8.76246169861406\n",
            "epoch 80 loss 8.308928648242727\n",
            "epoch 81 loss 8.039503432810307\n",
            "epoch 82 loss 7.960248976480216\n",
            "epoch 83 loss 7.804018703522161\n",
            "epoch 84 loss 7.595662611536682\n",
            "epoch 85 loss 7.646167436963879\n",
            "epoch 86 loss 7.848556149750948\n",
            "epoch 87 loss 7.940373505814932\n",
            "epoch 88 loss 8.148635403253138\n",
            "epoch 89 loss 9.466922773513943\n",
            "epoch 90 loss 16.764260835945606\n",
            "epoch 91 loss 17.193335527554154\n",
            "epoch 92 loss 10.40629150159657\n",
            "epoch 93 loss 8.290691871661693\n",
            "epoch 94 loss 7.7457082907203585\n",
            "epoch 95 loss 7.507818256737664\n",
            "epoch 96 loss 7.26324430166278\n",
            "epoch 97 loss 7.640311170136556\n",
            "epoch 98 loss 7.589278516592458\n",
            "epoch 99 loss 7.379715505754575\n"
          ]
        }
      ]
    },
    {
      "cell_type": "code",
      "source": [
        "import matplotlib.pyplot as plt\n",
        "plt.plot(losses)\n",
        "plt.xlabel('Эпоха')\n",
        "plt.ylabel('Потеря')\n",
        "plt.show()"
      ],
      "metadata": {
        "colab": {
          "base_uri": "https://localhost:8080/",
          "height": 449
        },
        "id": "rkaKyOanVA68",
        "outputId": "c4eceb9a-685d-445a-d91b-9bdc80a4c58c"
      },
      "execution_count": null,
      "outputs": [
        {
          "output_type": "display_data",
          "data": {
            "text/plain": [
              "<Figure size 640x480 with 1 Axes>"
            ],
            "image/png": "[encoded data removed]"
          },
          "metadata": {}
        }
      ]
    },
    {
      "cell_type": "code",
      "source": [
        "# Проверить работоспособность модели\n",
        "correct = 0\n",
        "for X, y in test_loader:\n",
        "    X = X.to(device)\n",
        "    y = y.to(device)\n",
        "    label_pred = net1.forward(X).argmax(dim=1)\n",
        "    correct += (label_pred == y).sum()\n",
        "\n",
        "accuracy = correct / len(surnames_dataset_test)\n",
        "print('значение accuracy на тестовом множестве:', accuracy)"
      ],
      "metadata": {
        "colab": {
          "base_uri": "https://localhost:8080/"
        },
        "id": "edmKM_cvVDG2",
        "outputId": "d4246e15-aedc-4155-b8e5-3071aba3b612"
      },
      "execution_count": null,
      "outputs": [
        {
          "output_type": "stream",
          "name": "stdout",
          "text": [
            "значение accuracy на тестовом множестве: tensor(0.7623, device='cuda:0')\n"
          ]
        }
      ]
    },
    {
      "cell_type": "markdown",
      "source": [
        "GRU является одной из архитектур рекуррентных нейронных сетей (RNN) и используется для моделирования последовательностей данных.\n",
        "\n",
        "GRU является модификацией стандартной рекуррентной нейронной сети LSTM (Long Short-Term Memory). Он имеет более простую структуру, но сохраняет способность моделировать долгосрочные зависимости в последовательностях. GRU состоит из нескольких гейтов (ворот) и состояния скрытого слоя, которые позволяют управлять информацией, сохраняемой и передаваемой внутри сети."
      ],
      "metadata": {
        "id": "22FrCP3J6S6Z"
      }
    },
    {
      "cell_type": "code",
      "source": [
        "#nn.GRU\n",
        "n_classes = surnames['nationality class'].nunique()\n",
        "\n",
        "class SurnamesNet(nn.Module):\n",
        "    def __init__(self, embedding_dim, hidden_size):\n",
        "        super(SurnamesNet, self).__init__()\n",
        "        self.emb = nn.Embedding(num_embeddings=vocabulary.vocab_len, embedding_dim=embedding_dim)\n",
        "        self.gru = nn.GRU(input_size=embedding_dim, hidden_size=hidden_size, batch_first=True) \n",
        "        self.fc = torch.nn.Linear(hidden_size, n_classes)\n",
        "        \n",
        "    def forward(self, x):\n",
        "        x = self.emb(x)\n",
        "        output, h_n = self.gru(x)\n",
        "        x = self.fc(output[:, -1])\n",
        "        return x"
      ],
      "metadata": {
        "id": "rDKvbZoYVIvp"
      },
      "execution_count": null,
      "outputs": []
    },
    {
      "cell_type": "code",
      "source": [
        "net = SurnamesNet(256, 512)\n",
        "net = net.to(device)"
      ],
      "metadata": {
        "id": "pfR6GxrnVXt0"
      },
      "execution_count": null,
      "outputs": []
    },
    {
      "cell_type": "code",
      "source": [
        "loss = nn.CrossEntropyLoss()\n",
        "optimizer = optim.Adam(net.parameters(), lr=0.0001)\n",
        "\n",
        "n_epochs = 100\n",
        "losses = []\n",
        "for epoch in range(n_epochs):\n",
        "    loss_value = 0\n",
        "    for X, y in train_loader:\n",
        "        X = X.to(device)\n",
        "        y = y.to(device)\n",
        "        y_pred = net.forward(X)\n",
        "        loss_tensor = loss.forward(y_pred, y)\n",
        "        loss_tensor.backward() #градиент\n",
        "        optimizer.step() #применение градиента\n",
        "        optimizer.zero_grad()\n",
        "        loss_value += loss_tensor.item()\n",
        "    losses.append(loss_value)\n",
        "    print(f'epoch {epoch} loss {loss_value}')"
      ],
      "metadata": {
        "colab": {
          "base_uri": "https://localhost:8080/"
        },
        "id": "KVZy2gXBVacV",
        "outputId": "224f9b4a-e896-4418-b65b-f713fc8e9bf5"
      },
      "execution_count": null,
      "outputs": [
        {
          "output_type": "stream",
          "name": "stdout",
          "text": [
            "epoch 0 loss 291.50634038448334\n",
            "epoch 1 loss 220.73912674188614\n",
            "epoch 2 loss 181.36855340003967\n",
            "epoch 3 loss 159.27288883924484\n",
            "epoch 4 loss 142.673137485981\n",
            "epoch 5 loss 129.45703744888306\n",
            "epoch 6 loss 120.0987120270729\n",
            "epoch 7 loss 113.01150700449944\n",
            "epoch 8 loss 105.68203416466713\n",
            "epoch 9 loss 100.47231814265251\n",
            "epoch 10 loss 95.60120105743408\n",
            "epoch 11 loss 93.2699670791626\n",
            "epoch 12 loss 87.43329134583473\n",
            "epoch 13 loss 83.11268693208694\n",
            "epoch 14 loss 79.64660856127739\n",
            "epoch 15 loss 76.70251634716988\n",
            "epoch 16 loss 72.78783364593983\n",
            "epoch 17 loss 69.29758179187775\n",
            "epoch 18 loss 67.50647160410881\n",
            "epoch 19 loss 63.56234276294708\n",
            "epoch 20 loss 60.12532365322113\n",
            "epoch 21 loss 58.35708098113537\n",
            "epoch 22 loss 55.375110283493996\n",
            "epoch 23 loss 52.67520093917847\n",
            "epoch 24 loss 50.17065070569515\n",
            "epoch 25 loss 47.48181387037039\n",
            "epoch 26 loss 45.28787298500538\n",
            "epoch 27 loss 44.16473979502916\n",
            "epoch 28 loss 41.07553696632385\n",
            "epoch 29 loss 39.8750833645463\n",
            "epoch 30 loss 38.188206017017365\n",
            "epoch 31 loss 36.69467867910862\n",
            "epoch 32 loss 34.99318639934063\n",
            "epoch 33 loss 32.48145415633917\n",
            "epoch 34 loss 33.43077939748764\n",
            "epoch 35 loss 30.65861728042364\n",
            "epoch 36 loss 30.25861346721649\n",
            "epoch 37 loss 29.38959790766239\n",
            "epoch 38 loss 27.169009633362293\n",
            "epoch 39 loss 26.36936530098319\n",
            "epoch 40 loss 25.757402800023556\n",
            "epoch 41 loss 24.672435220330954\n",
            "epoch 42 loss 23.003454737365246\n",
            "epoch 43 loss 21.36499920859933\n",
            "epoch 44 loss 21.156105702742934\n",
            "epoch 45 loss 21.44323030859232\n",
            "epoch 46 loss 21.295236349105835\n",
            "epoch 47 loss 19.720569219440222\n",
            "epoch 48 loss 19.27214346267283\n",
            "epoch 49 loss 18.558410432189703\n",
            "epoch 50 loss 21.179050439037383\n",
            "epoch 51 loss 20.53817747347057\n",
            "epoch 52 loss 17.833695862442255\n",
            "epoch 53 loss 16.50661724805832\n",
            "epoch 54 loss 15.943065801635385\n",
            "epoch 55 loss 15.273621876724064\n",
            "epoch 56 loss 16.12119885161519\n",
            "epoch 57 loss 15.681533487513661\n",
            "epoch 58 loss 15.325671019032598\n",
            "epoch 59 loss 14.359742412343621\n",
            "epoch 60 loss 14.52945114299655\n",
            "epoch 61 loss 14.740140510722995\n",
            "epoch 62 loss 14.289201959967613\n",
            "epoch 63 loss 13.654161563143134\n",
            "epoch 64 loss 13.34204369969666\n",
            "epoch 65 loss 13.053672494366765\n",
            "epoch 66 loss 12.561292613856494\n",
            "epoch 67 loss 12.951950705610216\n",
            "epoch 68 loss 12.101067652460188\n",
            "epoch 69 loss 12.885275209322572\n",
            "epoch 70 loss 12.26315553439781\n",
            "epoch 71 loss 11.459110171534121\n",
            "epoch 72 loss 10.986284270882607\n",
            "epoch 73 loss 13.113391429185867\n",
            "epoch 74 loss 13.968017002567649\n",
            "epoch 75 loss 11.336364391259849\n",
            "epoch 76 loss 10.354891426861286\n",
            "epoch 77 loss 10.523921908810735\n",
            "epoch 78 loss 10.334540099371225\n",
            "epoch 79 loss 10.325527055189013\n",
            "epoch 80 loss 10.388384732650593\n",
            "epoch 81 loss 10.613083253614604\n",
            "epoch 82 loss 9.97062340285629\n",
            "epoch 83 loss 9.826325400732458\n",
            "epoch 84 loss 10.389323219656944\n",
            "epoch 85 loss 10.683904298115522\n",
            "epoch 86 loss 13.924215342849493\n",
            "epoch 87 loss 11.923623905982822\n",
            "epoch 88 loss 10.184632459189743\n",
            "epoch 89 loss 9.641610296443105\n",
            "epoch 90 loss 9.464955694973469\n",
            "epoch 91 loss 9.276480490807444\n",
            "epoch 92 loss 9.079440462403\n",
            "epoch 93 loss 8.912711637560278\n",
            "epoch 94 loss 9.17831423599273\n",
            "epoch 95 loss 10.420886367559433\n",
            "epoch 96 loss 10.301108343526721\n",
            "epoch 97 loss 9.356133595574647\n",
            "epoch 98 loss 9.022744867252186\n",
            "epoch 99 loss 8.676403053570539\n"
          ]
        }
      ]
    },
    {
      "cell_type": "code",
      "source": [
        "import matplotlib.pyplot as plt\n",
        "plt.plot(losses)\n",
        "plt.xlabel('Эпоха')\n",
        "plt.ylabel('Потеря')\n",
        "plt.show()"
      ],
      "metadata": {
        "colab": {
          "base_uri": "https://localhost:8080/",
          "height": 449
        },
        "id": "yqrpaUHKVfLb",
        "outputId": "6fe495f5-ce79-4360-d810-5be20851aa48"
      },
      "execution_count": null,
      "outputs": [
        {
          "output_type": "display_data",
          "data": {
            "text/plain": [
              "<Figure size 640x480 with 1 Axes>"
            ],
            "image/png": "[encoded data removed]"
          },
          "metadata": {}
        }
      ]
    },
    {
      "cell_type": "code",
      "source": [
        "# Проверить работоспособность модели\n",
        "correct = 0\n",
        "for X, y in test_loader:\n",
        "    X = X.to(device)\n",
        "    y = y.to(device)\n",
        "    label_pred = net.forward(X).argmax(dim=1)\n",
        "    correct += (label_pred == y).sum()\n",
        "\n",
        "accuracy = correct / len(surnames_dataset_test)\n",
        "print('значение accuracy на тестовом множестве:', accuracy)"
      ],
      "metadata": {
        "colab": {
          "base_uri": "https://localhost:8080/"
        },
        "id": "sO9P4M47Vh1u",
        "outputId": "026e019b-852c-4c88-f61f-2b12f22be54a"
      },
      "execution_count": null,
      "outputs": [
        {
          "output_type": "stream",
          "name": "stdout",
          "text": [
            "значение accuracy на тестовом множестве: tensor(0.7559, device='cuda:0')\n"
          ]
        }
      ]
    },
    {
      "cell_type": "markdown",
      "metadata": {
        "id": "_6YBam_3t-fO"
      },
      "source": [
        "1.3 Загрузите предобученные эмбеддинги (https://disk.yandex.ru/d/BHuT2tEXr_yBOQ?w=1) в модуль `nn.Embedding` и обучите модели из 1.2."
      ]
    },
    {
      "cell_type": "code",
      "source": [
        "# Путь к файлу\n",
        "file_path = '/content/drive/MyDrive/Colab Notebooks/embeddings/glove.6B.50d.txt'\n",
        "# Считываем файл\n",
        "embeddings = pd.read_csv(file_path, sep=\" \", header=None, quoting=3, encoding='utf-8', engine='python')\n",
        "print(embeddings)"
      ],
      "metadata": {
        "colab": {
          "base_uri": "https://localhost:8080/"
        },
        "id": "YfxHVRK-V6rN",
        "outputId": "01cc58fb-fd13-41d9-caf1-c0a82550d9bc"
      },
      "execution_count": null,
      "outputs": [
        {
          "output_type": "stream",
          "name": "stdout",
          "text": [
            "                0         1         2        3         4        5         6   \\\n",
            "0              the  0.418000  0.249680 -0.41242  0.121700  0.34527 -0.044457   \n",
            "1                ,  0.013441  0.236820 -0.16899  0.409510  0.63812  0.477090   \n",
            "2                .  0.151640  0.301770 -0.16763  0.176840  0.31719  0.339730   \n",
            "3               of  0.708530  0.570880 -0.47160  0.180480  0.54449  0.726030   \n",
            "4               to  0.680470 -0.039263  0.30186 -0.177920  0.42962  0.032246   \n",
            "...            ...       ...       ...      ...       ...      ...       ...   \n",
            "399995      chanty  0.232040  0.025672 -0.70699 -0.045465  0.13989 -0.628070   \n",
            "399996      kronik -0.609210 -0.672180  0.23521 -0.111950 -0.46094 -0.007462   \n",
            "399997     rolonda -0.511810  0.058706  1.09130 -0.551630 -0.10249 -0.126500   \n",
            "399998     zsombor -0.758980 -0.474260  0.47370  0.772500 -0.78064  0.232330   \n",
            "399999  sandberger  0.072617 -0.513930  0.47280 -0.522020 -0.35534  0.346290   \n",
            "\n",
            "              7         8         9   ...        41        42        43  \\\n",
            "0      -0.496880 -0.178620 -0.000660  ... -0.298710 -0.157490 -0.347580   \n",
            "1      -0.428520 -0.556410 -0.364000  ... -0.080262  0.630030  0.321110   \n",
            "2      -0.434780 -0.310860 -0.449990  ... -0.000064  0.068987  0.087939   \n",
            "3       0.181570 -0.523930  0.103810  ... -0.347270  0.284830  0.075693   \n",
            "4      -0.413760  0.132280 -0.298470  ... -0.094375  0.018324  0.210480   \n",
            "...          ...       ...       ...  ...       ...       ...       ...   \n",
            "399995  0.726250  0.341080  0.446140  ... -0.095526 -0.296050  0.385670   \n",
            "399996  0.255780  0.856320  0.055977  ...  0.672050 -0.598220 -0.202590   \n",
            "399997  0.995030  0.079711 -0.162460  ...  0.024747  0.200920 -1.085100   \n",
            "399998  0.046114  0.840140  0.243710  ...  0.454390 -0.842540  0.106500   \n",
            "399999  0.232110  0.230960  0.266940  ...  0.688800 -0.179860 -0.066569   \n",
            "\n",
            "              44        45        46        47        48        49        50  \n",
            "0      -0.045637 -0.442510  0.187850  0.002785 -0.184110 -0.115140 -0.785810  \n",
            "1      -0.467650  0.227860  0.360340 -0.378180 -0.566570  0.044691  0.303920  \n",
            "2      -0.102850 -0.139310  0.223140 -0.080803 -0.356520  0.016413  0.102160  \n",
            "3      -0.062178 -0.389880  0.229020 -0.216170 -0.225620 -0.093918 -0.803750  \n",
            "4      -0.030880 -0.197220  0.082279 -0.094340 -0.073297 -0.064699 -0.260440  \n",
            "...          ...       ...       ...       ...       ...       ...       ...  \n",
            "399995  0.136840  0.593310 -0.694860  0.124100 -0.180690 -0.258300 -0.039673  \n",
            "399996  0.392430  0.028873  0.030003 -0.106170 -0.114110 -0.249010 -0.120260  \n",
            "399997 -0.136260  0.350520 -0.858910  0.067858 -0.250030 -1.125000  1.586300  \n",
            "399998 -0.059397  0.090449  0.305810 -0.614240  0.789540 -0.014116  0.644800  \n",
            "399999 -0.480440 -0.559460 -0.275940  0.056072 -0.189070 -0.590210  0.555590  \n",
            "\n",
            "[400000 rows x 51 columns]\n"
          ]
        }
      ]
    },
    {
      "cell_type": "code",
      "source": [
        "rows = vocabulary.vocab_len\n",
        "columns = 50\n",
        "embeddings_surnames = torch.zeros(rows, columns) #создаем тензор заданного размера, заполненный нулями\n",
        "embeddings_surnames"
      ],
      "metadata": {
        "colab": {
          "base_uri": "https://localhost:8080/"
        },
        "id": "OpxJbPWsaZAe",
        "outputId": "92cfbd4d-7da2-4ea7-d398-b70045153e16"
      },
      "execution_count": null,
      "outputs": [
        {
          "output_type": "execute_result",
          "data": {
            "text/plain": [
              "tensor([[0., 0., 0.,  ..., 0., 0., 0.],\n",
              "        [0., 0., 0.,  ..., 0., 0., 0.],\n",
              "        [0., 0., 0.,  ..., 0., 0., 0.],\n",
              "        ...,\n",
              "        [0., 0., 0.,  ..., 0., 0., 0.],\n",
              "        [0., 0., 0.,  ..., 0., 0., 0.],\n",
              "        [0., 0., 0.,  ..., 0., 0., 0.]])"
            ]
          },
          "metadata": {},
          "execution_count": 51
        }
      ]
    },
    {
      "cell_type": "code",
      "source": [
        "for i, token in enumerate(embeddings[0]):\n",
        "    if token in vocabulary.token_to_idx: \n",
        "        embeddings_surnames[vocabulary.token_to_idx[token]] = torch.tensor(embeddings.iloc[i, 1:].tolist())\n",
        "embeddings_surnames"
      ],
      "metadata": {
        "colab": {
          "base_uri": "https://localhost:8080/"
        },
        "id": "sXYS__fGabYU",
        "outputId": "8da90f6f-ed6c-496b-9dbb-0e3e6a2514d2"
      },
      "execution_count": null,
      "outputs": [
        {
          "output_type": "execute_result",
          "data": {
            "text/plain": [
              "tensor([[ 0.0000,  0.0000,  0.0000,  ...,  0.0000,  0.0000,  0.0000],\n",
              "        [ 0.0000,  0.0000,  0.0000,  ...,  0.0000,  0.0000,  0.0000],\n",
              "        [-0.0439,  1.3183, -0.0371,  ..., -0.8627,  1.2377,  0.8743],\n",
              "        ...,\n",
              "        [-0.7893,  0.1091, -0.5975,  ...,  0.6855, -0.3955,  0.5643],\n",
              "        [ 0.4479, -0.1347,  0.7468,  ...,  0.7457,  0.5642,  0.3913],\n",
              "        [-0.1759,  1.3508, -0.1816,  ...,  0.1562,  0.5665,  0.6138]])"
            ]
          },
          "metadata": {},
          "execution_count": 52
        }
      ]
    },
    {
      "cell_type": "code",
      "source": [
        "#rnn\n",
        "n_classes = surnames['nationality class'].nunique()\n",
        "\n",
        "class SurnamesNet(nn.Module):\n",
        "    def __init__(self, embedding_dim, hidden_size):\n",
        "        super(SurnamesNet, self).__init__()\n",
        "        self.emb = nn.Embedding.from_pretrained(embeddings_surnames)\n",
        "        self.rnn = nn.RNN(input_size=columns, hidden_size=hidden_size, batch_first=True) \n",
        "        self.fc = torch.nn.Linear(hidden_size, n_classes)\n",
        "        \n",
        "    def forward(self, x):\n",
        "        x = self.emb(x)\n",
        "        output, h_n = self.rnn(x)\n",
        "        x = self.fc(output[:, -1])\n",
        "        return x"
      ],
      "metadata": {
        "id": "8xnGQKsnad4C"
      },
      "execution_count": null,
      "outputs": []
    },
    {
      "cell_type": "code",
      "source": [
        "net = SurnamesNet(256, 512)\n",
        "net = net.to(device)"
      ],
      "metadata": {
        "id": "xJVKih1uaf_7"
      },
      "execution_count": null,
      "outputs": []
    },
    {
      "cell_type": "code",
      "source": [
        "loss = nn.CrossEntropyLoss()\n",
        "optimizer = optim.Adam(net.parameters(), lr=0.0005)\n",
        "\n",
        "n_epochs = 100\n",
        "losses = []\n",
        "for epoch in range(n_epochs):\n",
        "    loss_value = 0\n",
        "    for X, y in train_loader:\n",
        "        X = X.to(device)\n",
        "        y = y.to(device)\n",
        "        y_pred = net.forward(X)\n",
        "        loss_tensor = loss.forward(y_pred, y)\n",
        "        loss_tensor.backward() #градиент\n",
        "        optimizer.step() #применение градиента\n",
        "        optimizer.zero_grad()\n",
        "        loss_value += loss_tensor.item()\n",
        "    losses.append(loss_value)\n",
        "    print(f'epoch {epoch} loss {loss_value}')"
      ],
      "metadata": {
        "colab": {
          "base_uri": "https://localhost:8080/"
        },
        "id": "RZmbtuN3aiS6",
        "outputId": "3ff7e1ff-01b3-4533-a6d8-78705979b411"
      },
      "execution_count": null,
      "outputs": [
        {
          "output_type": "stream",
          "name": "stdout",
          "text": [
            "epoch 0 loss 297.11079919338226\n",
            "epoch 1 loss 271.21585726737976\n",
            "epoch 2 loss 252.3176691532135\n",
            "epoch 3 loss 244.73892724514008\n",
            "epoch 4 loss 226.32346105575562\n",
            "epoch 5 loss 213.21365630626678\n",
            "epoch 6 loss 206.74296629428864\n",
            "epoch 7 loss 192.41034322977066\n",
            "epoch 8 loss 179.02780175209045\n",
            "epoch 9 loss 169.9899365901947\n",
            "epoch 10 loss 163.34293925762177\n",
            "epoch 11 loss 153.20813238620758\n",
            "epoch 12 loss 146.20519387722015\n",
            "epoch 13 loss 138.62689888477325\n",
            "epoch 14 loss 135.26209884881973\n",
            "epoch 15 loss 130.63138949871063\n",
            "epoch 16 loss 122.33755600452423\n",
            "epoch 17 loss 116.75938358902931\n",
            "epoch 18 loss 111.57283279299736\n",
            "epoch 19 loss 108.53970646858215\n",
            "epoch 20 loss 101.64951729774475\n",
            "epoch 21 loss 97.67732095718384\n",
            "epoch 22 loss 91.93297165632248\n",
            "epoch 23 loss 88.6213566660881\n",
            "epoch 24 loss 83.51178649067879\n",
            "epoch 25 loss 78.34497585892677\n",
            "epoch 26 loss 76.70754784345627\n",
            "epoch 27 loss 67.73756454885006\n",
            "epoch 28 loss 65.67450308799744\n",
            "epoch 29 loss 61.12728200852871\n",
            "epoch 30 loss 57.73344914615154\n",
            "epoch 31 loss 57.9139746427536\n",
            "epoch 32 loss 53.71150666475296\n",
            "epoch 33 loss 55.22151853144169\n",
            "epoch 34 loss 49.01392664015293\n",
            "epoch 35 loss 43.84295987337828\n",
            "epoch 36 loss 41.60547957569361\n",
            "epoch 37 loss 42.02909255772829\n",
            "epoch 38 loss 37.22769384086132\n",
            "epoch 39 loss 37.24707304686308\n",
            "epoch 40 loss 37.09992665797472\n",
            "epoch 41 loss 39.136937469244\n",
            "epoch 42 loss 38.74455728381872\n",
            "epoch 43 loss 35.5871564745903\n",
            "epoch 44 loss 35.92994283139706\n",
            "epoch 45 loss 31.54269665107131\n",
            "epoch 46 loss 30.480534955859184\n",
            "epoch 47 loss 30.753058344125748\n",
            "epoch 48 loss 29.893361914902925\n",
            "epoch 49 loss 28.940086217597127\n",
            "epoch 50 loss 27.297596191987395\n",
            "epoch 51 loss 31.54120560735464\n",
            "epoch 52 loss 37.82502228021622\n",
            "epoch 53 loss 27.338783092796803\n",
            "epoch 54 loss 27.28542748466134\n",
            "epoch 55 loss 29.809234838932753\n",
            "epoch 56 loss 27.15033581107855\n",
            "epoch 57 loss 25.273278061300516\n",
            "epoch 58 loss 24.765940833836794\n",
            "epoch 59 loss 26.235967211425304\n",
            "epoch 60 loss 30.509843692183495\n",
            "epoch 61 loss 25.802256487309933\n",
            "epoch 62 loss 24.782535083591938\n",
            "epoch 63 loss 26.207026712596416\n",
            "epoch 64 loss 25.253511250019073\n",
            "epoch 65 loss 23.470141638070345\n",
            "epoch 66 loss 23.974490240216255\n",
            "epoch 67 loss 22.761048067361116\n",
            "epoch 68 loss 22.53811753168702\n",
            "epoch 69 loss 24.409876193851233\n",
            "epoch 70 loss 21.63099154084921\n",
            "epoch 71 loss 24.509309243410826\n",
            "epoch 72 loss 29.941925387829542\n",
            "epoch 73 loss 26.48443291708827\n",
            "epoch 74 loss 33.07134214043617\n",
            "epoch 75 loss 28.679483346641064\n",
            "epoch 76 loss 22.87700328975916\n",
            "epoch 77 loss 20.362071875482798\n",
            "epoch 78 loss 19.19350614771247\n",
            "epoch 79 loss 19.261325487866998\n",
            "epoch 80 loss 18.842422445304692\n",
            "epoch 81 loss 18.76934738084674\n",
            "epoch 82 loss 17.868619290180504\n",
            "epoch 83 loss 18.345648316899315\n",
            "epoch 84 loss 18.3771344833076\n",
            "epoch 85 loss 22.26367107965052\n",
            "epoch 86 loss 34.88585810735822\n",
            "epoch 87 loss 38.50304327905178\n",
            "epoch 88 loss 28.408886574208736\n",
            "epoch 89 loss 23.2524354159832\n",
            "epoch 90 loss 19.398091005161405\n",
            "epoch 91 loss 18.700843239203095\n",
            "epoch 92 loss 17.800471549853683\n",
            "epoch 93 loss 17.722564394120127\n",
            "epoch 94 loss 17.12047426775098\n",
            "epoch 95 loss 18.400913370773196\n",
            "epoch 96 loss 17.638064767234027\n",
            "epoch 97 loss 17.643693147227168\n",
            "epoch 98 loss 22.09125172160566\n",
            "epoch 99 loss 28.542786352336407\n"
          ]
        }
      ]
    },
    {
      "cell_type": "code",
      "source": [
        "import matplotlib.pyplot as plt\n",
        "plt.plot(losses)\n",
        "plt.xlabel('Эпоха')\n",
        "plt.ylabel('Потеря')\n",
        "plt.show()"
      ],
      "metadata": {
        "colab": {
          "base_uri": "https://localhost:8080/",
          "height": 449
        },
        "id": "jMckeWQ9avqR",
        "outputId": "5442a671-87bd-44e2-f60f-ad1b678812ea"
      },
      "execution_count": null,
      "outputs": [
        {
          "output_type": "display_data",
          "data": {
            "text/plain": [
              "<Figure size 640x480 with 1 Axes>"
            ],
            "image/png": "[encoded data removed]"
          },
          "metadata": {}
        }
      ]
    },
    {
      "cell_type": "code",
      "source": [
        "# Проверить работоспособность модели\n",
        "correct = 0\n",
        "for X, y in test_loader:\n",
        "    X = X.to(device)\n",
        "    y = y.to(device)\n",
        "    label_pred = net.forward(X).argmax(dim=1)\n",
        "    correct += (label_pred == y).sum()\n",
        "\n",
        "accuracy = correct / len(surnames_dataset_test)\n",
        "print('значение accuracy на тестовом множестве:', accuracy)"
      ],
      "metadata": {
        "colab": {
          "base_uri": "https://localhost:8080/"
        },
        "id": "-Y4PyVcfa7dl",
        "outputId": "6b49f560-d38a-4f8a-9424-feea537f7f4b"
      },
      "execution_count": null,
      "outputs": [
        {
          "output_type": "stream",
          "name": "stdout",
          "text": [
            "значение accuracy на тестовом множестве: tensor(0.6799, device='cuda:0')\n"
          ]
        }
      ]
    },
    {
      "cell_type": "code",
      "source": [
        "#lstm\n",
        "n_classes = surnames['nationality class'].nunique()\n",
        "\n",
        "class SurnamesNetLSTM(nn.Module):\n",
        "    def __init__(self, embedding_dim, hidden_size):\n",
        "        super(SurnamesNetLSTM, self).__init__()\n",
        "        self.emb = nn.Embedding.from_pretrained(embeddings_surnames)\n",
        "        self.lstm = nn.LSTM(input_size=columns, hidden_size=hidden_size, batch_first=True) \n",
        "        self.fc = torch.nn.Linear(hidden_size, n_classes)\n",
        "        \n",
        "    def forward(self, x):\n",
        "        x = self.emb(x)\n",
        "        output, (h_n, c_n) = self.lstm(x)\n",
        "        x = self.fc(output[:, -1])\n",
        "        return x"
      ],
      "metadata": {
        "id": "Y2J8UUMta_Mj"
      },
      "execution_count": null,
      "outputs": []
    },
    {
      "cell_type": "code",
      "source": [
        "net1 = SurnamesNetLSTM(256, 512)\n",
        "net1 = net1.to(device)"
      ],
      "metadata": {
        "id": "OjNo9hCxbBQP"
      },
      "execution_count": null,
      "outputs": []
    },
    {
      "cell_type": "code",
      "source": [
        "loss = nn.CrossEntropyLoss()\n",
        "optimizer = optim.Adam(net1.parameters(), lr=0.0005)\n",
        "\n",
        "n_epochs = 100\n",
        "losses = []\n",
        "for epoch in range(n_epochs):\n",
        "    loss_value = 0\n",
        "    for X, y in train_loader:\n",
        "        X = X.to(device)\n",
        "        y = y.to(device)\n",
        "        y_pred = net1.forward(X)\n",
        "        loss_tensor = loss.forward(y_pred, y)\n",
        "        loss_tensor.backward() #градиент\n",
        "        optimizer.step() #применение градиента\n",
        "        optimizer.zero_grad()\n",
        "        loss_value += loss_tensor.item()\n",
        "    losses.append(loss_value)\n",
        "    print(f'epoch {epoch} loss {loss_value}')"
      ],
      "metadata": {
        "colab": {
          "base_uri": "https://localhost:8080/"
        },
        "id": "-uqFw2eKbDe6",
        "outputId": "38ec3160-f9bc-40d1-ed4d-9974d022ab93"
      },
      "execution_count": null,
      "outputs": [
        {
          "output_type": "stream",
          "name": "stdout",
          "text": [
            "epoch 0 loss 298.1499878168106\n",
            "epoch 1 loss 253.74227607250214\n",
            "epoch 2 loss 229.8868477344513\n",
            "epoch 3 loss 210.89027178287506\n",
            "epoch 4 loss 194.3723651766777\n",
            "epoch 5 loss 179.69610029459\n",
            "epoch 6 loss 169.6045036315918\n",
            "epoch 7 loss 162.01863187551498\n",
            "epoch 8 loss 154.74884116649628\n",
            "epoch 9 loss 147.98527950048447\n",
            "epoch 10 loss 140.79692602157593\n",
            "epoch 11 loss 136.54393154382706\n",
            "epoch 12 loss 129.7289143204689\n",
            "epoch 13 loss 125.76828372478485\n",
            "epoch 14 loss 120.23964434862137\n",
            "epoch 15 loss 114.993477165699\n",
            "epoch 16 loss 109.50804632902145\n",
            "epoch 17 loss 105.8410673737526\n",
            "epoch 18 loss 101.13223227858543\n",
            "epoch 19 loss 98.32847771048546\n",
            "epoch 20 loss 93.45580184459686\n",
            "epoch 21 loss 88.78430673480034\n",
            "epoch 22 loss 83.1267671585083\n",
            "epoch 23 loss 80.32852736115456\n",
            "epoch 24 loss 77.8062951862812\n",
            "epoch 25 loss 74.15064150094986\n",
            "epoch 26 loss 69.1035795211792\n",
            "epoch 27 loss 66.1878747344017\n",
            "epoch 28 loss 65.21332415938377\n",
            "epoch 29 loss 59.9241199195385\n",
            "epoch 30 loss 59.189297184348106\n",
            "epoch 31 loss 54.33630181849003\n",
            "epoch 32 loss 50.989007487893105\n",
            "epoch 33 loss 48.263207256793976\n",
            "epoch 34 loss 44.78673665225506\n",
            "epoch 35 loss 44.8409118950367\n",
            "epoch 36 loss 43.22204349189997\n",
            "epoch 37 loss 39.07214540988207\n",
            "epoch 38 loss 35.88013857230544\n",
            "epoch 39 loss 34.18586089462042\n",
            "epoch 40 loss 34.99456965178251\n",
            "epoch 41 loss 32.89127177000046\n",
            "epoch 42 loss 28.0192248262465\n",
            "epoch 43 loss 28.61238583922386\n",
            "epoch 44 loss 30.255282070487738\n",
            "epoch 45 loss 28.49983574822545\n",
            "epoch 46 loss 28.281407728791237\n",
            "epoch 47 loss 26.513280656188726\n",
            "epoch 48 loss 26.06677132844925\n",
            "epoch 49 loss 26.15714690834284\n",
            "epoch 50 loss 23.832524087280035\n",
            "epoch 51 loss 21.96595199406147\n",
            "epoch 52 loss 22.499997535720468\n",
            "epoch 53 loss 23.885010696947575\n",
            "epoch 54 loss 25.102809265255928\n",
            "epoch 55 loss 23.33534087613225\n",
            "epoch 56 loss 19.869893595576286\n",
            "epoch 57 loss 19.84086635708809\n",
            "epoch 58 loss 18.766325064003468\n",
            "epoch 59 loss 18.794505778700113\n",
            "epoch 60 loss 19.32710643671453\n",
            "epoch 61 loss 18.274439979344606\n",
            "epoch 62 loss 18.61026667058468\n",
            "epoch 63 loss 25.578543696552515\n",
            "epoch 64 loss 25.379363104701042\n",
            "epoch 65 loss 22.873075652867556\n",
            "epoch 66 loss 18.812947515398264\n",
            "epoch 67 loss 17.87806272506714\n",
            "epoch 68 loss 17.24777927622199\n",
            "epoch 69 loss 16.895696222782135\n",
            "epoch 70 loss 18.17531300149858\n",
            "epoch 71 loss 19.204195798374712\n",
            "epoch 72 loss 18.52160158753395\n",
            "epoch 73 loss 18.925230192020535\n",
            "epoch 74 loss 19.590217117220163\n",
            "epoch 75 loss 20.34525641426444\n",
            "epoch 76 loss 18.192573149688542\n",
            "epoch 77 loss 18.895740321837366\n",
            "epoch 78 loss 17.717378582805395\n",
            "epoch 79 loss 16.395543256774545\n",
            "epoch 80 loss 16.073662221431732\n",
            "epoch 81 loss 15.65815884526819\n",
            "epoch 82 loss 15.223910256288946\n",
            "epoch 83 loss 17.390814093872905\n",
            "epoch 84 loss 25.98282615095377\n",
            "epoch 85 loss 22.159218683838844\n",
            "epoch 86 loss 18.461184836924076\n",
            "epoch 87 loss 17.705190705135465\n",
            "epoch 88 loss 16.094911754131317\n",
            "epoch 89 loss 14.961911222431809\n",
            "epoch 90 loss 14.459101995336823\n",
            "epoch 91 loss 14.929173582233489\n",
            "epoch 92 loss 14.779389461036772\n",
            "epoch 93 loss 14.74330816604197\n",
            "epoch 94 loss 14.769238388165832\n",
            "epoch 95 loss 14.563052970916033\n",
            "epoch 96 loss 14.446919605135918\n",
            "epoch 97 loss 15.063098958693445\n",
            "epoch 98 loss 15.435257762670517\n",
            "epoch 99 loss 27.37623805552721\n"
          ]
        }
      ]
    },
    {
      "cell_type": "code",
      "source": [
        "import matplotlib.pyplot as plt\n",
        "plt.plot(losses)\n",
        "plt.xlabel('Эпоха')\n",
        "plt.ylabel('Потеря')\n",
        "plt.show()"
      ],
      "metadata": {
        "colab": {
          "base_uri": "https://localhost:8080/",
          "height": 449
        },
        "id": "CtTP5cpMbHEv",
        "outputId": "f0b38e16-a5b1-4481-98ac-103424f8975e"
      },
      "execution_count": null,
      "outputs": [
        {
          "output_type": "display_data",
          "data": {
            "text/plain": [
              "<Figure size 640x480 with 1 Axes>"
            ],
            "image/png": "[encoded data removed]"
          },
          "metadata": {}
        }
      ]
    },
    {
      "cell_type": "code",
      "source": [
        "# Проверить работоспособность модели\n",
        "correct = 0\n",
        "for X, y in test_loader:\n",
        "    X = X.to(device)\n",
        "    y = y.to(device)\n",
        "    label_pred = net1.forward(X).argmax(dim=1)\n",
        "    correct += (label_pred == y).sum()\n",
        "\n",
        "accuracy = correct / len(surnames_dataset_test)\n",
        "print('значение accuracy на тестовом множестве:', accuracy)"
      ],
      "metadata": {
        "colab": {
          "base_uri": "https://localhost:8080/"
        },
        "id": "Ud3QCAK_bJLx",
        "outputId": "82a2fd27-41c6-48c1-a2b7-b3ae9127865f"
      },
      "execution_count": null,
      "outputs": [
        {
          "output_type": "stream",
          "name": "stdout",
          "text": [
            "значение accuracy на тестовом множестве: tensor(0.7127, device='cuda:0')\n"
          ]
        }
      ]
    },
    {
      "cell_type": "code",
      "source": [
        "#gru\n",
        "n_classes = surnames['nationality class'].nunique()\n",
        "\n",
        "class SurnamesNet(nn.Module):\n",
        "    def __init__(self, embedding_dim, hidden_size):\n",
        "        super(SurnamesNet, self).__init__()\n",
        "        self.emb = nn.Embedding.from_pretrained(embeddings_surnames)\n",
        "        self.gru = nn.GRU(input_size=columns, hidden_size=hidden_size, batch_first=True) \n",
        "        self.fc = torch.nn.Linear(hidden_size, n_classes)\n",
        "        \n",
        "    def forward(self, x):\n",
        "        x = self.emb(x)\n",
        "        output, h_n = self.gru(x)\n",
        "        x = self.fc(output[:, -1])\n",
        "        return x"
      ],
      "metadata": {
        "id": "IfplmBf0bL_Q"
      },
      "execution_count": null,
      "outputs": []
    },
    {
      "cell_type": "code",
      "source": [
        "net = SurnamesNet(256, 512)\n",
        "net = net.to(device)"
      ],
      "metadata": {
        "id": "Or_qnc_7bOZd"
      },
      "execution_count": null,
      "outputs": []
    },
    {
      "cell_type": "code",
      "source": [
        "loss = nn.CrossEntropyLoss()\n",
        "optimizer = optim.Adam(net.parameters(), lr=0.0005)\n",
        "\n",
        "n_epochs = 100\n",
        "losses = []\n",
        "for epoch in range(n_epochs):\n",
        "    loss_value = 0\n",
        "    for X, y in train_loader:\n",
        "        X = X.to(device)\n",
        "        y = y.to(device)\n",
        "        y_pred = net.forward(X)\n",
        "        loss_tensor = loss.forward(y_pred, y)\n",
        "        loss_tensor.backward() #градиент\n",
        "        optimizer.step() #применение градиента\n",
        "        optimizer.zero_grad()\n",
        "        loss_value += loss_tensor.item()\n",
        "    losses.append(loss_value)\n",
        "    print(f'epoch {epoch} loss {loss_value}')"
      ],
      "metadata": {
        "colab": {
          "base_uri": "https://localhost:8080/"
        },
        "id": "Ok_sHTocbQrD",
        "outputId": "f506f3e3-6ee7-4835-e358-2ba52265f2c8"
      },
      "execution_count": null,
      "outputs": [
        {
          "output_type": "stream",
          "name": "stdout",
          "text": [
            "epoch 0 loss 290.7554486989975\n",
            "epoch 1 loss 228.84792983531952\n",
            "epoch 2 loss 197.68473982810974\n",
            "epoch 3 loss 175.28827995061874\n",
            "epoch 4 loss 157.38133937120438\n",
            "epoch 5 loss 143.6804113984108\n",
            "epoch 6 loss 132.251240670681\n",
            "epoch 7 loss 121.88329562544823\n",
            "epoch 8 loss 113.962089240551\n",
            "epoch 9 loss 106.10971626639366\n",
            "epoch 10 loss 99.55238291621208\n",
            "epoch 11 loss 92.15098166465759\n",
            "epoch 12 loss 86.91747851669788\n",
            "epoch 13 loss 82.25554564595222\n",
            "epoch 14 loss 75.78136746585369\n",
            "epoch 15 loss 69.0919264703989\n",
            "epoch 16 loss 64.77722090482712\n",
            "epoch 17 loss 59.906564593315125\n",
            "epoch 18 loss 54.91014739871025\n",
            "epoch 19 loss 49.55950402468443\n",
            "epoch 20 loss 44.79938495159149\n",
            "epoch 21 loss 40.63127140700817\n",
            "epoch 22 loss 37.89363020658493\n",
            "epoch 23 loss 34.74929217994213\n",
            "epoch 24 loss 32.085287153720856\n",
            "epoch 25 loss 30.112624518573284\n",
            "epoch 26 loss 28.26552814617753\n",
            "epoch 27 loss 27.766968488693237\n",
            "epoch 28 loss 26.614876989275217\n",
            "epoch 29 loss 25.466297147795558\n",
            "epoch 30 loss 24.398621194064617\n",
            "epoch 31 loss 23.562610611319542\n",
            "epoch 32 loss 22.5519439317286\n",
            "epoch 33 loss 21.58212822303176\n",
            "epoch 34 loss 20.925099844112992\n",
            "epoch 35 loss 20.109835719689727\n",
            "epoch 36 loss 20.143231021240354\n",
            "epoch 37 loss 20.06283864751458\n",
            "epoch 38 loss 20.1795476898551\n",
            "epoch 39 loss 20.139272645115852\n",
            "epoch 40 loss 19.447750110179186\n",
            "epoch 41 loss 21.42529598623514\n",
            "epoch 42 loss 18.961505211889744\n",
            "epoch 43 loss 19.327213406562805\n",
            "epoch 44 loss 18.522619400173426\n",
            "epoch 45 loss 18.17084418889135\n",
            "epoch 46 loss 18.568043304607272\n",
            "epoch 47 loss 18.805082926526666\n",
            "epoch 48 loss 17.782842626795173\n",
            "epoch 49 loss 17.812786551192403\n",
            "epoch 50 loss 17.956986285746098\n",
            "epoch 51 loss 17.547368807718158\n",
            "epoch 52 loss 17.301993659697473\n",
            "epoch 53 loss 16.982753213495016\n",
            "epoch 54 loss 17.775072110816836\n",
            "epoch 55 loss 19.846985897049308\n",
            "epoch 56 loss 18.477642249315977\n",
            "epoch 57 loss 17.075337382033467\n",
            "epoch 58 loss 16.258717376738787\n",
            "epoch 59 loss 16.321399782784283\n",
            "epoch 60 loss 15.819279799237847\n",
            "epoch 61 loss 15.887985142413527\n",
            "epoch 62 loss 15.741422418504953\n",
            "epoch 63 loss 17.292103219777346\n",
            "epoch 64 loss 19.086570614017546\n",
            "epoch 65 loss 18.28351505473256\n",
            "epoch 66 loss 18.24704639054835\n",
            "epoch 67 loss 17.689705384895205\n",
            "epoch 68 loss 15.835299915634096\n",
            "epoch 69 loss 15.334121281281114\n",
            "epoch 70 loss 15.276152059435844\n",
            "epoch 71 loss 15.270936951041222\n",
            "epoch 72 loss 15.01524014165625\n",
            "epoch 73 loss 15.192642679903656\n",
            "epoch 74 loss 15.042318028397858\n",
            "epoch 75 loss 14.976805748417974\n",
            "epoch 76 loss 16.49724451894872\n",
            "epoch 77 loss 18.738602682948112\n",
            "epoch 78 loss 17.407508224248886\n",
            "epoch 79 loss 18.227672995999455\n",
            "epoch 80 loss 16.437814474105835\n",
            "epoch 81 loss 15.734767166897655\n",
            "epoch 82 loss 15.031025417149067\n",
            "epoch 83 loss 14.672528926283121\n",
            "epoch 84 loss 14.597688827197999\n",
            "epoch 85 loss 14.59812307683751\n",
            "epoch 86 loss 14.457210628315806\n",
            "epoch 87 loss 14.808503213571385\n",
            "epoch 88 loss 14.657219886779785\n",
            "epoch 89 loss 14.547299626050517\n",
            "epoch 90 loss 14.859563525766134\n",
            "epoch 91 loss 16.889468770474195\n",
            "epoch 92 loss 17.422429656609893\n",
            "epoch 93 loss 20.006175324320793\n",
            "epoch 94 loss 16.23742013424635\n",
            "epoch 95 loss 14.51379927340895\n",
            "epoch 96 loss 14.394034177064896\n",
            "epoch 97 loss 14.117789139971137\n",
            "epoch 98 loss 14.230583547614515\n",
            "epoch 99 loss 14.326302332803607\n"
          ]
        }
      ]
    },
    {
      "cell_type": "code",
      "source": [
        "import matplotlib.pyplot as plt\n",
        "plt.plot(losses)\n",
        "plt.xlabel('Эпоха')\n",
        "plt.ylabel('Потеря')\n",
        "plt.show()"
      ],
      "metadata": {
        "colab": {
          "base_uri": "https://localhost:8080/",
          "height": 449
        },
        "id": "2MChs8iVbTkh",
        "outputId": "fbb9e27f-2396-4e2c-bf37-31431550b5a3"
      },
      "execution_count": null,
      "outputs": [
        {
          "output_type": "display_data",
          "data": {
            "text/plain": [
              "<Figure size 640x480 with 1 Axes>"
            ],
            "image/png": "[encoded data removed]"
          },
          "metadata": {}
        }
      ]
    },
    {
      "cell_type": "code",
      "source": [
        "# Проверить работоспособность модели\n",
        "correct = 0\n",
        "for X, y in test_loader:\n",
        "    X = X.to(device)\n",
        "    y = y.to(device)\n",
        "    label_pred = net.forward(X).argmax(dim=1)\n",
        "    correct += (label_pred == y).sum()\n",
        "\n",
        "accuracy = correct / len(surnames_dataset_test)\n",
        "print('значение accuracy на тестовом множестве:', accuracy)"
      ],
      "metadata": {
        "colab": {
          "base_uri": "https://localhost:8080/"
        },
        "id": "TI9K2hgxbVnX",
        "outputId": "8c9d0606-9a71-4aef-b7e8-6d5d9484c80d"
      },
      "execution_count": null,
      "outputs": [
        {
          "output_type": "stream",
          "name": "stdout",
          "text": [
            "значение accuracy на тестовом множестве: tensor(0.7459, device='cuda:0')\n"
          ]
        }
      ]
    },
    {
      "cell_type": "markdown",
      "metadata": {
        "id": "f7kf990U9Do-"
      },
      "source": [
        "## 2. Классификация обзоров на фильмы (RNN)\n",
        "\n",
        "Датасет: https://disk.yandex.ru/d/tdinpb0nN_Dsrg\n",
        "\n",
        "2.1 Создайте набор данных на основе файлов polarity/positive_reviews.csv (положительные отзывы) и polarity/negative_reviews.csv (отрицательные отзывы). Разбейте на обучающую и тестовую выборку.\n",
        "  * токен = __слово__\n",
        "  * данные для обучения в датасете представляются в виде последовательности индексов токенов\n",
        "  * словарь создается на основе _только_ обучающей выборки. Для корректной обработки ситуаций, когда в тестовой выборке встретится токен, который не хранится в словаре, добавьте в словарь специальный токен `<UNK>`\n",
        "  * добавьте предобработку текста\n",
        "\n",
        "2.2. Обучите классификатор.\n",
        "  \n",
        "  * Для преобразования последовательности индексов в последовательность векторов используйте `nn.Embedding` \n",
        "    - подберите адекватную размерность вектора эмбеддинга: \n",
        "    - модуль `nn.Embedding` обучается\n",
        "\n",
        "  * Используйте рекуррентные слои (`nn.RNN`, `nn.LSTM`, `nn.GRU`)\n",
        "\n",
        "\n",
        "2.3 Измерить точность на тестовой выборке. Проверить работоспособность модели: придумать небольшой отзыв, прогнать его через модель и вывести номер предсказанного класса (сделать это для явно позитивного и явно негативного отзыва)\n",
        "* Целевое значение accuracy на валидации - 70+%"
      ]
    },
    {
      "cell_type": "code",
      "source": [
        "with open('/content/drive/MyDrive/Colab Notebooks/polarity/positive_reviews.txt', 'r') as f:\n",
        "    lines = f.read().splitlines()\n",
        "negative_reviews = pd.DataFrame({'reviews': lines})\n",
        "negative_reviews['mark'] = 0\n",
        "negative_reviews"
      ],
      "metadata": {
        "colab": {
          "base_uri": "https://localhost:8080/",
          "height": 423
        },
        "id": "Xzijdp7Ubw-3",
        "outputId": "169bcf54-a1ac-43af-9a3f-64ee108787e8"
      },
      "execution_count": null,
      "outputs": [
        {
          "output_type": "execute_result",
          "data": {
            "text/plain": [
              "                                                reviews  mark\n",
              "0                      simplistic , silly and tedious .     0\n",
              "1     it's so laddish and juvenile , only teenage bo...     0\n",
              "2     exploitative and largely devoid of the depth o...     0\n",
              "3     [garbus] discards the potential for pathologic...     0\n",
              "4     a visually flashy but narratively opaque and e...     0\n",
              "...                                                 ...   ...\n",
              "5326  a terrible movie that some people will neverth...     0\n",
              "5327  there are many definitions of 'time waster' bu...     0\n",
              "5328  as it stands , crocodile hunter has the hurrie...     0\n",
              "5329  the thing looks like a made-for-home-video qui...     0\n",
              "5330  enigma is well-made , but it's just too dry an...     0\n",
              "\n",
              "[5331 rows x 2 columns]"
            ],
            "text/html": [
              "\n",
              "  <div id=\"df-03b0ee5c-74dc-4cb7-b375-f1cc0d40ddd2\">\n",
              "    <div class=\"colab-df-container\">\n",
              "      <div>\n",
              "<style scoped>\n",
              "    .dataframe tbody tr th:only-of-type {\n",
              "        vertical-align: middle;\n",
              "    }\n",
              "\n",
              "    .dataframe tbody tr th {\n",
              "        vertical-align: top;\n",
              "    }\n",
              "\n",
              "    .dataframe thead th {\n",
              "        text-align: right;\n",
              "    }\n",
              "</style>\n",
              "<table border=\"1\" class=\"dataframe\">\n",
              "  <thead>\n",
              "    <tr style=\"text-align: right;\">\n",
              "      <th></th>\n",
              "      <th>reviews</th>\n",
              "      <th>mark</th>\n",
              "    </tr>\n",
              "  </thead>\n",
              "  <tbody>\n",
              "    <tr>\n",
              "      <th>0</th>\n",
              "      <td>simplistic , silly and tedious .</td>\n",
              "      <td>0</td>\n",
              "    </tr>\n",
              "    <tr>\n",
              "      <th>1</th>\n",
              "      <td>it's so laddish and juvenile , only teenage bo...</td>\n",
              "      <td>0</td>\n",
              "    </tr>\n",
              "    <tr>\n",
              "      <th>2</th>\n",
              "      <td>exploitative and largely devoid of the depth o...</td>\n",
              "      <td>0</td>\n",
              "    </tr>\n",
              "    <tr>\n",
              "      <th>3</th>\n",
              "      <td>[garbus] discards the potential for pathologic...</td>\n",
              "      <td>0</td>\n",
              "    </tr>\n",
              "    <tr>\n",
              "      <th>4</th>\n",
              "      <td>a visually flashy but narratively opaque and e...</td>\n",
              "      <td>0</td>\n",
              "    </tr>\n",
              "    <tr>\n",
              "      <th>...</th>\n",
              "      <td>...</td>\n",
              "      <td>...</td>\n",
              "    </tr>\n",
              "    <tr>\n",
              "      <th>5326</th>\n",
              "      <td>a terrible movie that some people will neverth...</td>\n",
              "      <td>0</td>\n",
              "    </tr>\n",
              "    <tr>\n",
              "      <th>5327</th>\n",
              "      <td>there are many definitions of 'time waster' bu...</td>\n",
              "      <td>0</td>\n",
              "    </tr>\n",
              "    <tr>\n",
              "      <th>5328</th>\n",
              "      <td>as it stands , crocodile hunter has the hurrie...</td>\n",
              "      <td>0</td>\n",
              "    </tr>\n",
              "    <tr>\n",
              "      <th>5329</th>\n",
              "      <td>the thing looks like a made-for-home-video qui...</td>\n",
              "      <td>0</td>\n",
              "    </tr>\n",
              "    <tr>\n",
              "      <th>5330</th>\n",
              "      <td>enigma is well-made , but it's just too dry an...</td>\n",
              "      <td>0</td>\n",
              "    </tr>\n",
              "  </tbody>\n",
              "</table>\n",
              "<p>5331 rows × 2 columns</p>\n",
              "</div>\n",
              "      <button class=\"colab-df-convert\" onclick=\"convertToInteractive('df-03b0ee5c-74dc-4cb7-b375-f1cc0d40ddd2')\"\n",
              "              title=\"Convert this dataframe to an interactive table.\"\n",
              "              style=\"display:none;\">\n",
              "        \n",
              "  <svg xmlns=\"http://www.w3.org/2000/svg\" height=\"24px\"viewBox=\"0 0 24 24\"\n",
              "       width=\"24px\">\n",
              "    <path d=\"M0 0h24v24H0V0z\" fill=\"none\"/>\n",
              "    <path d=\"M18.56 5.44l.94 2.06.94-2.06 2.06-.94-2.06-.94-.94-2.06-.94 2.06-2.06.94zm-11 1L8.5 8.5l.94-2.06 2.06-.94-2.06-.94L8.5 2.5l-.94 2.06-2.06.94zm10 10l.94 2.06.94-2.06 2.06-.94-2.06-.94-.94-2.06-.94 2.06-2.06.94z\"/><path d=\"M17.41 7.96l-1.37-1.37c-.4-.4-.92-.59-1.43-.59-.52 0-1.04.2-1.43.59L10.3 9.45l-7.72 7.72c-.78.78-.78 2.05 0 2.83L4 21.41c.39.39.9.59 1.41.59.51 0 1.02-.2 1.41-.59l7.78-7.78 2.81-2.81c.8-.78.8-2.07 0-2.86zM5.41 20L4 18.59l7.72-7.72 1.47 1.35L5.41 20z\"/>\n",
              "  </svg>\n",
              "      </button>\n",
              "      \n",
              "  <style>\n",
              "    .colab-df-container {\n",
              "      display:flex;\n",
              "      flex-wrap:wrap;\n",
              "      gap: 12px;\n",
              "    }\n",
              "\n",
              "    .colab-df-convert {\n",
              "      background-color: #E8F0FE;\n",
              "      border: none;\n",
              "      border-radius: 50%;\n",
              "      cursor: pointer;\n",
              "      display: none;\n",
              "      fill: #1967D2;\n",
              "      height: 32px;\n",
              "      padding: 0 0 0 0;\n",
              "      width: 32px;\n",
              "    }\n",
              "\n",
              "    .colab-df-convert:hover {\n",
              "      background-color: #E2EBFA;\n",
              "      box-shadow: 0px 1px 2px rgba(60, 64, 67, 0.3), 0px 1px 3px 1px rgba(60, 64, 67, 0.15);\n",
              "      fill: #174EA6;\n",
              "    }\n",
              "\n",
              "    [theme=dark] .colab-df-convert {\n",
              "      background-color: #3B4455;\n",
              "      fill: #D2E3FC;\n",
              "    }\n",
              "\n",
              "    [theme=dark] .colab-df-convert:hover {\n",
              "      background-color: #434B5C;\n",
              "      box-shadow: 0px 1px 3px 1px rgba(0, 0, 0, 0.15);\n",
              "      filter: drop-shadow(0px 1px 2px rgba(0, 0, 0, 0.3));\n",
              "      fill: #FFFFFF;\n",
              "    }\n",
              "  </style>\n",
              "\n",
              "      <script>\n",
              "        const buttonEl =\n",
              "          document.querySelector('#df-03b0ee5c-74dc-4cb7-b375-f1cc0d40ddd2 button.colab-df-convert');\n",
              "        buttonEl.style.display =\n",
              "          google.colab.kernel.accessAllowed ? 'block' : 'none';\n",
              "\n",
              "        async function convertToInteractive(key) {\n",
              "          const element = document.querySelector('#df-03b0ee5c-74dc-4cb7-b375-f1cc0d40ddd2');\n",
              "          const dataTable =\n",
              "            await google.colab.kernel.invokeFunction('convertToInteractive',\n",
              "                                                     [key], {});\n",
              "          if (!dataTable) return;\n",
              "\n",
              "          const docLinkHtml = 'Like what you see? Visit the ' +\n",
              "            '<a target=\"_blank\" href=https://colab.research.google.com/notebooks/data_table.ipynb>data table notebook</a>'\n",
              "            + ' to learn more about interactive tables.';\n",
              "          element.innerHTML = '';\n",
              "          dataTable['output_type'] = 'display_data';\n",
              "          await google.colab.output.renderOutput(dataTable, element);\n",
              "          const docLink = document.createElement('div');\n",
              "          docLink.innerHTML = docLinkHtml;\n",
              "          element.appendChild(docLink);\n",
              "        }\n",
              "      </script>\n",
              "    </div>\n",
              "  </div>\n",
              "  "
            ]
          },
          "metadata": {},
          "execution_count": 68
        }
      ]
    },
    {
      "cell_type": "code",
      "source": [
        "with open('/content/drive/MyDrive/Colab Notebooks/polarity/negative_reviews.txt', 'r') as f:\n",
        "    lines = f.read().splitlines()\n",
        "positive_reviews = pd.DataFrame({'reviews': lines})\n",
        "positive_reviews['mark'] = 1\n",
        "positive_reviews"
      ],
      "metadata": {
        "colab": {
          "base_uri": "https://localhost:8080/",
          "height": 423
        },
        "id": "GWMjhTTlb46l",
        "outputId": "58fb5987-0a9e-4802-ac56-82d4af84fc74"
      },
      "execution_count": null,
      "outputs": [
        {
          "output_type": "execute_result",
          "data": {
            "text/plain": [
              "                                                reviews  mark\n",
              "0     the rock is destined to be the 21st century's ...     1\n",
              "1     the gorgeously elaborate continuation of \" the...     1\n",
              "2                        effective but too-tepid biopic     1\n",
              "3     if you sometimes like to go to the movies to h...     1\n",
              "4     emerges as something rare , an issue movie tha...     1\n",
              "...                                                 ...   ...\n",
              "5326  both exuberantly romantic and serenely melanch...     1\n",
              "5327  mazel tov to a film about a family's joyous li...     1\n",
              "5328  standing in the shadows of motown is the best ...     1\n",
              "5329  it's nice to see piscopo again after all these...     1\n",
              "5330  provides a porthole into that noble , tremblin...     1\n",
              "\n",
              "[5331 rows x 2 columns]"
            ],
            "text/html": [
              "\n",
              "  <div id=\"df-9a59d6c7-ac5c-43e3-8f8d-6dc62ca98ca4\">\n",
              "    <div class=\"colab-df-container\">\n",
              "      <div>\n",
              "<style scoped>\n",
              "    .dataframe tbody tr th:only-of-type {\n",
              "        vertical-align: middle;\n",
              "    }\n",
              "\n",
              "    .dataframe tbody tr th {\n",
              "        vertical-align: top;\n",
              "    }\n",
              "\n",
              "    .dataframe thead th {\n",
              "        text-align: right;\n",
              "    }\n",
              "</style>\n",
              "<table border=\"1\" class=\"dataframe\">\n",
              "  <thead>\n",
              "    <tr style=\"text-align: right;\">\n",
              "      <th></th>\n",
              "      <th>reviews</th>\n",
              "      <th>mark</th>\n",
              "    </tr>\n",
              "  </thead>\n",
              "  <tbody>\n",
              "    <tr>\n",
              "      <th>0</th>\n",
              "      <td>the rock is destined to be the 21st century's ...</td>\n",
              "      <td>1</td>\n",
              "    </tr>\n",
              "    <tr>\n",
              "      <th>1</th>\n",
              "      <td>the gorgeously elaborate continuation of \" the...</td>\n",
              "      <td>1</td>\n",
              "    </tr>\n",
              "    <tr>\n",
              "      <th>2</th>\n",
              "      <td>effective but too-tepid biopic</td>\n",
              "      <td>1</td>\n",
              "    </tr>\n",
              "    <tr>\n",
              "      <th>3</th>\n",
              "      <td>if you sometimes like to go to the movies to h...</td>\n",
              "      <td>1</td>\n",
              "    </tr>\n",
              "    <tr>\n",
              "      <th>4</th>\n",
              "      <td>emerges as something rare , an issue movie tha...</td>\n",
              "      <td>1</td>\n",
              "    </tr>\n",
              "    <tr>\n",
              "      <th>...</th>\n",
              "      <td>...</td>\n",
              "      <td>...</td>\n",
              "    </tr>\n",
              "    <tr>\n",
              "      <th>5326</th>\n",
              "      <td>both exuberantly romantic and serenely melanch...</td>\n",
              "      <td>1</td>\n",
              "    </tr>\n",
              "    <tr>\n",
              "      <th>5327</th>\n",
              "      <td>mazel tov to a film about a family's joyous li...</td>\n",
              "      <td>1</td>\n",
              "    </tr>\n",
              "    <tr>\n",
              "      <th>5328</th>\n",
              "      <td>standing in the shadows of motown is the best ...</td>\n",
              "      <td>1</td>\n",
              "    </tr>\n",
              "    <tr>\n",
              "      <th>5329</th>\n",
              "      <td>it's nice to see piscopo again after all these...</td>\n",
              "      <td>1</td>\n",
              "    </tr>\n",
              "    <tr>\n",
              "      <th>5330</th>\n",
              "      <td>provides a porthole into that noble , tremblin...</td>\n",
              "      <td>1</td>\n",
              "    </tr>\n",
              "  </tbody>\n",
              "</table>\n",
              "<p>5331 rows × 2 columns</p>\n",
              "</div>\n",
              "      <button class=\"colab-df-convert\" onclick=\"convertToInteractive('df-9a59d6c7-ac5c-43e3-8f8d-6dc62ca98ca4')\"\n",
              "              title=\"Convert this dataframe to an interactive table.\"\n",
              "              style=\"display:none;\">\n",
              "        \n",
              "  <svg xmlns=\"http://www.w3.org/2000/svg\" height=\"24px\"viewBox=\"0 0 24 24\"\n",
              "       width=\"24px\">\n",
              "    <path d=\"M0 0h24v24H0V0z\" fill=\"none\"/>\n",
              "    <path d=\"M18.56 5.44l.94 2.06.94-2.06 2.06-.94-2.06-.94-.94-2.06-.94 2.06-2.06.94zm-11 1L8.5 8.5l.94-2.06 2.06-.94-2.06-.94L8.5 2.5l-.94 2.06-2.06.94zm10 10l.94 2.06.94-2.06 2.06-.94-2.06-.94-.94-2.06-.94 2.06-2.06.94z\"/><path d=\"M17.41 7.96l-1.37-1.37c-.4-.4-.92-.59-1.43-.59-.52 0-1.04.2-1.43.59L10.3 9.45l-7.72 7.72c-.78.78-.78 2.05 0 2.83L4 21.41c.39.39.9.59 1.41.59.51 0 1.02-.2 1.41-.59l7.78-7.78 2.81-2.81c.8-.78.8-2.07 0-2.86zM5.41 20L4 18.59l7.72-7.72 1.47 1.35L5.41 20z\"/>\n",
              "  </svg>\n",
              "      </button>\n",
              "      \n",
              "  <style>\n",
              "    .colab-df-container {\n",
              "      display:flex;\n",
              "      flex-wrap:wrap;\n",
              "      gap: 12px;\n",
              "    }\n",
              "\n",
              "    .colab-df-convert {\n",
              "      background-color: #E8F0FE;\n",
              "      border: none;\n",
              "      border-radius: 50%;\n",
              "      cursor: pointer;\n",
              "      display: none;\n",
              "      fill: #1967D2;\n",
              "      height: 32px;\n",
              "      padding: 0 0 0 0;\n",
              "      width: 32px;\n",
              "    }\n",
              "\n",
              "    .colab-df-convert:hover {\n",
              "      background-color: #E2EBFA;\n",
              "      box-shadow: 0px 1px 2px rgba(60, 64, 67, 0.3), 0px 1px 3px 1px rgba(60, 64, 67, 0.15);\n",
              "      fill: #174EA6;\n",
              "    }\n",
              "\n",
              "    [theme=dark] .colab-df-convert {\n",
              "      background-color: #3B4455;\n",
              "      fill: #D2E3FC;\n",
              "    }\n",
              "\n",
              "    [theme=dark] .colab-df-convert:hover {\n",
              "      background-color: #434B5C;\n",
              "      box-shadow: 0px 1px 3px 1px rgba(0, 0, 0, 0.15);\n",
              "      filter: drop-shadow(0px 1px 2px rgba(0, 0, 0, 0.3));\n",
              "      fill: #FFFFFF;\n",
              "    }\n",
              "  </style>\n",
              "\n",
              "      <script>\n",
              "        const buttonEl =\n",
              "          document.querySelector('#df-9a59d6c7-ac5c-43e3-8f8d-6dc62ca98ca4 button.colab-df-convert');\n",
              "        buttonEl.style.display =\n",
              "          google.colab.kernel.accessAllowed ? 'block' : 'none';\n",
              "\n",
              "        async function convertToInteractive(key) {\n",
              "          const element = document.querySelector('#df-9a59d6c7-ac5c-43e3-8f8d-6dc62ca98ca4');\n",
              "          const dataTable =\n",
              "            await google.colab.kernel.invokeFunction('convertToInteractive',\n",
              "                                                     [key], {});\n",
              "          if (!dataTable) return;\n",
              "\n",
              "          const docLinkHtml = 'Like what you see? Visit the ' +\n",
              "            '<a target=\"_blank\" href=https://colab.research.google.com/notebooks/data_table.ipynb>data table notebook</a>'\n",
              "            + ' to learn more about interactive tables.';\n",
              "          element.innerHTML = '';\n",
              "          dataTable['output_type'] = 'display_data';\n",
              "          await google.colab.output.renderOutput(dataTable, element);\n",
              "          const docLink = document.createElement('div');\n",
              "          docLink.innerHTML = docLinkHtml;\n",
              "          element.appendChild(docLink);\n",
              "        }\n",
              "      </script>\n",
              "    </div>\n",
              "  </div>\n",
              "  "
            ]
          },
          "metadata": {},
          "execution_count": 69
        }
      ]
    },
    {
      "cell_type": "code",
      "source": [
        "reviews = pd.concat([positive_reviews, negative_reviews]) #объединяем объекты\n",
        "reviews"
      ],
      "metadata": {
        "colab": {
          "base_uri": "https://localhost:8080/",
          "height": 423
        },
        "id": "63-A3SP-b_VI",
        "outputId": "0598062c-3215-451e-c5af-39e0951110b7"
      },
      "execution_count": null,
      "outputs": [
        {
          "output_type": "execute_result",
          "data": {
            "text/plain": [
              "                                                reviews  mark\n",
              "0     the rock is destined to be the 21st century's ...     1\n",
              "1     the gorgeously elaborate continuation of \" the...     1\n",
              "2                        effective but too-tepid biopic     1\n",
              "3     if you sometimes like to go to the movies to h...     1\n",
              "4     emerges as something rare , an issue movie tha...     1\n",
              "...                                                 ...   ...\n",
              "5326  a terrible movie that some people will neverth...     0\n",
              "5327  there are many definitions of 'time waster' bu...     0\n",
              "5328  as it stands , crocodile hunter has the hurrie...     0\n",
              "5329  the thing looks like a made-for-home-video qui...     0\n",
              "5330  enigma is well-made , but it's just too dry an...     0\n",
              "\n",
              "[10662 rows x 2 columns]"
            ],
            "text/html": [
              "\n",
              "  <div id=\"df-2216892c-7708-45a8-b353-62af4ea72c9c\">\n",
              "    <div class=\"colab-df-container\">\n",
              "      <div>\n",
              "<style scoped>\n",
              "    .dataframe tbody tr th:only-of-type {\n",
              "        vertical-align: middle;\n",
              "    }\n",
              "\n",
              "    .dataframe tbody tr th {\n",
              "        vertical-align: top;\n",
              "    }\n",
              "\n",
              "    .dataframe thead th {\n",
              "        text-align: right;\n",
              "    }\n",
              "</style>\n",
              "<table border=\"1\" class=\"dataframe\">\n",
              "  <thead>\n",
              "    <tr style=\"text-align: right;\">\n",
              "      <th></th>\n",
              "      <th>reviews</th>\n",
              "      <th>mark</th>\n",
              "    </tr>\n",
              "  </thead>\n",
              "  <tbody>\n",
              "    <tr>\n",
              "      <th>0</th>\n",
              "      <td>the rock is destined to be the 21st century's ...</td>\n",
              "      <td>1</td>\n",
              "    </tr>\n",
              "    <tr>\n",
              "      <th>1</th>\n",
              "      <td>the gorgeously elaborate continuation of \" the...</td>\n",
              "      <td>1</td>\n",
              "    </tr>\n",
              "    <tr>\n",
              "      <th>2</th>\n",
              "      <td>effective but too-tepid biopic</td>\n",
              "      <td>1</td>\n",
              "    </tr>\n",
              "    <tr>\n",
              "      <th>3</th>\n",
              "      <td>if you sometimes like to go to the movies to h...</td>\n",
              "      <td>1</td>\n",
              "    </tr>\n",
              "    <tr>\n",
              "      <th>4</th>\n",
              "      <td>emerges as something rare , an issue movie tha...</td>\n",
              "      <td>1</td>\n",
              "    </tr>\n",
              "    <tr>\n",
              "      <th>...</th>\n",
              "      <td>...</td>\n",
              "      <td>...</td>\n",
              "    </tr>\n",
              "    <tr>\n",
              "      <th>5326</th>\n",
              "      <td>a terrible movie that some people will neverth...</td>\n",
              "      <td>0</td>\n",
              "    </tr>\n",
              "    <tr>\n",
              "      <th>5327</th>\n",
              "      <td>there are many definitions of 'time waster' bu...</td>\n",
              "      <td>0</td>\n",
              "    </tr>\n",
              "    <tr>\n",
              "      <th>5328</th>\n",
              "      <td>as it stands , crocodile hunter has the hurrie...</td>\n",
              "      <td>0</td>\n",
              "    </tr>\n",
              "    <tr>\n",
              "      <th>5329</th>\n",
              "      <td>the thing looks like a made-for-home-video qui...</td>\n",
              "      <td>0</td>\n",
              "    </tr>\n",
              "    <tr>\n",
              "      <th>5330</th>\n",
              "      <td>enigma is well-made , but it's just too dry an...</td>\n",
              "      <td>0</td>\n",
              "    </tr>\n",
              "  </tbody>\n",
              "</table>\n",
              "<p>10662 rows × 2 columns</p>\n",
              "</div>\n",
              "      <button class=\"colab-df-convert\" onclick=\"convertToInteractive('df-2216892c-7708-45a8-b353-62af4ea72c9c')\"\n",
              "              title=\"Convert this dataframe to an interactive table.\"\n",
              "              style=\"display:none;\">\n",
              "        \n",
              "  <svg xmlns=\"http://www.w3.org/2000/svg\" height=\"24px\"viewBox=\"0 0 24 24\"\n",
              "       width=\"24px\">\n",
              "    <path d=\"M0 0h24v24H0V0z\" fill=\"none\"/>\n",
              "    <path d=\"M18.56 5.44l.94 2.06.94-2.06 2.06-.94-2.06-.94-.94-2.06-.94 2.06-2.06.94zm-11 1L8.5 8.5l.94-2.06 2.06-.94-2.06-.94L8.5 2.5l-.94 2.06-2.06.94zm10 10l.94 2.06.94-2.06 2.06-.94-2.06-.94-.94-2.06-.94 2.06-2.06.94z\"/><path d=\"M17.41 7.96l-1.37-1.37c-.4-.4-.92-.59-1.43-.59-.52 0-1.04.2-1.43.59L10.3 9.45l-7.72 7.72c-.78.78-.78 2.05 0 2.83L4 21.41c.39.39.9.59 1.41.59.51 0 1.02-.2 1.41-.59l7.78-7.78 2.81-2.81c.8-.78.8-2.07 0-2.86zM5.41 20L4 18.59l7.72-7.72 1.47 1.35L5.41 20z\"/>\n",
              "  </svg>\n",
              "      </button>\n",
              "      \n",
              "  <style>\n",
              "    .colab-df-container {\n",
              "      display:flex;\n",
              "      flex-wrap:wrap;\n",
              "      gap: 12px;\n",
              "    }\n",
              "\n",
              "    .colab-df-convert {\n",
              "      background-color: #E8F0FE;\n",
              "      border: none;\n",
              "      border-radius: 50%;\n",
              "      cursor: pointer;\n",
              "      display: none;\n",
              "      fill: #1967D2;\n",
              "      height: 32px;\n",
              "      padding: 0 0 0 0;\n",
              "      width: 32px;\n",
              "    }\n",
              "\n",
              "    .colab-df-convert:hover {\n",
              "      background-color: #E2EBFA;\n",
              "      box-shadow: 0px 1px 2px rgba(60, 64, 67, 0.3), 0px 1px 3px 1px rgba(60, 64, 67, 0.15);\n",
              "      fill: #174EA6;\n",
              "    }\n",
              "\n",
              "    [theme=dark] .colab-df-convert {\n",
              "      background-color: #3B4455;\n",
              "      fill: #D2E3FC;\n",
              "    }\n",
              "\n",
              "    [theme=dark] .colab-df-convert:hover {\n",
              "      background-color: #434B5C;\n",
              "      box-shadow: 0px 1px 3px 1px rgba(0, 0, 0, 0.15);\n",
              "      filter: drop-shadow(0px 1px 2px rgba(0, 0, 0, 0.3));\n",
              "      fill: #FFFFFF;\n",
              "    }\n",
              "  </style>\n",
              "\n",
              "      <script>\n",
              "        const buttonEl =\n",
              "          document.querySelector('#df-2216892c-7708-45a8-b353-62af4ea72c9c button.colab-df-convert');\n",
              "        buttonEl.style.display =\n",
              "          google.colab.kernel.accessAllowed ? 'block' : 'none';\n",
              "\n",
              "        async function convertToInteractive(key) {\n",
              "          const element = document.querySelector('#df-2216892c-7708-45a8-b353-62af4ea72c9c');\n",
              "          const dataTable =\n",
              "            await google.colab.kernel.invokeFunction('convertToInteractive',\n",
              "                                                     [key], {});\n",
              "          if (!dataTable) return;\n",
              "\n",
              "          const docLinkHtml = 'Like what you see? Visit the ' +\n",
              "            '<a target=\"_blank\" href=https://colab.research.google.com/notebooks/data_table.ipynb>data table notebook</a>'\n",
              "            + ' to learn more about interactive tables.';\n",
              "          element.innerHTML = '';\n",
              "          dataTable['output_type'] = 'display_data';\n",
              "          await google.colab.output.renderOutput(dataTable, element);\n",
              "          const docLink = document.createElement('div');\n",
              "          docLink.innerHTML = docLinkHtml;\n",
              "          element.appendChild(docLink);\n",
              "        }\n",
              "      </script>\n",
              "    </div>\n",
              "  </div>\n",
              "  "
            ]
          },
          "metadata": {},
          "execution_count": 70
        }
      ]
    },
    {
      "cell_type": "code",
      "source": [
        "#Разбить датасет на обучающую и тестовую выборку\n",
        "X = reviews['reviews']\n",
        "y = reviews['mark']\n",
        "X_train, X_test, y_train, y_test = train_test_split(\n",
        "    X, y, test_size=0.2)"
      ],
      "metadata": {
        "id": "HgW8lqfWcB1-"
      },
      "execution_count": null,
      "outputs": []
    },
    {
      "cell_type": "markdown",
      "source": [
        "*   токен = слово\n",
        "*   данные для обучения в датасете представляются в виде последовательности индексов токенов\n",
        "*   словарь создается на основе только обучающей выборки. Для корректной обработки ситуаций, когда в тестовой выборке встретится токен, который не хранится в словаре, добавьте в словарь специальный токен\n",
        "*   добавьте предобработку текста\n",
        "\n"
      ],
      "metadata": {
        "id": "aut6s8YLcDte"
      }
    },
    {
      "cell_type": "code",
      "source": [
        "# класс который предоставляет словарные объекты для обработки естественного языка\n",
        "class Vocab:\n",
        "    def __init__(self, data):\n",
        "        self.token_to_idx = {'<PAD>': 0, '<UNK>': 1} \n",
        "        index = 2\n",
        "        stop_words = stopwords.words()\n",
        "        for review in data:\n",
        "            review = review.lower()\n",
        "            words = word_tokenize(review) \n",
        "            for word in words:\n",
        "                if word not in '''!\"#$%&'()*+,-./:;<=>?@[\\]^_`{|}~``''' and word not in stop_words:\n",
        "                    if word not in self.token_to_idx:\n",
        "                        self.token_to_idx[word] = index\n",
        "                        index += 1\n",
        "        self.vocab_len = index"
      ],
      "metadata": {
        "id": "doE_fEW8caNo"
      },
      "execution_count": null,
      "outputs": []
    },
    {
      "cell_type": "code",
      "source": [
        "nltk.download('stopwords')\n",
        "vocabulary = Vocab(X_train)\n",
        "vocabulary.token_to_idx['actors']"
      ],
      "metadata": {
        "colab": {
          "base_uri": "https://localhost:8080/"
        },
        "id": "zRaKbsiQcemr",
        "outputId": "94433a10-f74b-4fb6-b854-04546244815c"
      },
      "execution_count": null,
      "outputs": [
        {
          "output_type": "stream",
          "name": "stderr",
          "text": [
            "[nltk_data] Downloading package stopwords to /root/nltk_data...\n",
            "[nltk_data]   Unzipping corpora/stopwords.zip.\n"
          ]
        },
        {
          "output_type": "execute_result",
          "data": {
            "text/plain": [
              "797"
            ]
          },
          "metadata": {},
          "execution_count": 76
        }
      ]
    },
    {
      "cell_type": "code",
      "source": [
        "vocabulary.vocab_len"
      ],
      "metadata": {
        "colab": {
          "base_uri": "https://localhost:8080/"
        },
        "id": "XN9YYNKdc_jl",
        "outputId": "aa4d537b-3829-4a0e-b406-5d4b1646c837"
      },
      "execution_count": null,
      "outputs": [
        {
          "output_type": "execute_result",
          "data": {
            "text/plain": [
              "17535"
            ]
          },
          "metadata": {},
          "execution_count": 77
        }
      ]
    },
    {
      "cell_type": "code",
      "source": [
        "#2.5 Реализовать класс ReviewsDataset\n",
        "class ReviewsDataset(Dataset):\n",
        "    def __init__(self, X, y, vocab: Vocab):\n",
        "        self.X = X\n",
        "        self.y = y\n",
        "        self.vocab = vocab\n",
        "        self.stop_words = stopwords.words()\n",
        "\n",
        "    def vectorize(self, review):\n",
        "        indexes = []\n",
        "        pad_index = self.vocab.token_to_idx['<PAD>'] #тут 0\n",
        "        unk_index = self.vocab.token_to_idx['<UNK>'] #тут 1\n",
        "        review = review.lower()\n",
        "        words = word_tokenize(review) \n",
        "        for word in words:\n",
        "            if word not in '''!\"#$%&'()*+,-./:;<=>?@[\\]^_`{|}~--''' and word not in self.stop_words:\n",
        "                if word in self.vocab.token_to_idx:\n",
        "                    index = self.vocab.token_to_idx[word]\n",
        "                else:\n",
        "                    index = unk_index\n",
        "                indexes.append(index)\n",
        "        count_pad = 40 - len(indexes) #длина каждой такой последовательности должна быть одинаковой и равной 40\n",
        "        for i in range(count_pad): #Чтобы добиться этого, дополните последовательность справа индексом токена <PAD> до нужной длины\n",
        "            indexes.append(pad_index) #добавляем в конец списка элемент, переданный ему в качестве аргумента\n",
        "        return indexes[:40]\n",
        "    \n",
        "    def __len__(self):\n",
        "        return len(self.X)\n",
        "\n",
        "    def __getitem__(self, idx): #метод __getitem__ возвращает пару: <последовательность индексов токенов (см. 1.1 ), номер класса>\n",
        "        x_review = torch.tensor(self.vectorize(self.X.iloc[idx]))\n",
        "        y_review = torch.tensor(self.y.iloc[idx])\n",
        "        return (x_review, y_review)"
      ],
      "metadata": {
        "id": "jyL39FpZdFSG"
      },
      "execution_count": null,
      "outputs": []
    },
    {
      "cell_type": "code",
      "source": [
        "reviews_dataset_train = ReviewsDataset(X_train, y_train, vocabulary)\n",
        "reviews_dataset_test = ReviewsDataset(X_test, y_test, vocabulary)"
      ],
      "metadata": {
        "id": "ySU1k4_gdMIU"
      },
      "execution_count": null,
      "outputs": []
    },
    {
      "cell_type": "code",
      "source": [
        "print(reviews_dataset_train.X.iloc[0])\n",
        "reviews_dataset_train[0]"
      ],
      "metadata": {
        "colab": {
          "base_uri": "https://localhost:8080/"
        },
        "id": "SikHY3BBdOD5",
        "outputId": "097a0ebe-01ef-41c5-9bf5-8fd23776fe3c"
      },
      "execution_count": null,
      "outputs": [
        {
          "output_type": "stream",
          "name": "stdout",
          "text": [
            "a refreshingly honest and ultimately touching tale of the sort of people usually ignored in contemporary american film . search it out .\n"
          ]
        },
        {
          "output_type": "execute_result",
          "data": {
            "text/plain": [
              "(tensor([ 2,  3,  4,  5,  6,  7,  8,  9, 10, 11,  0,  0,  0,  0,  0,  0,  0,  0,\n",
              "          0,  0,  0,  0,  0,  0,  0,  0,  0,  0,  0,  0,  0,  0,  0,  0,  0,  0,\n",
              "          0,  0,  0,  0]),\n",
              " tensor(1))"
            ]
          },
          "metadata": {},
          "execution_count": 81
        }
      ]
    },
    {
      "cell_type": "code",
      "source": [
        "batch_size = 64\n",
        "train_loader = DataLoader(reviews_dataset_train, shuffle=True, batch_size=batch_size)\n",
        "test_loader = DataLoader(reviews_dataset_test, shuffle=True, batch_size=batch_size)"
      ],
      "metadata": {
        "id": "ES376NCUdRGk"
      },
      "execution_count": null,
      "outputs": []
    },
    {
      "cell_type": "markdown",
      "source": [
        "Двунаправленные рекуррентные нейронные сети (Bidirectional RNNs) основаны на той идее, что выход в момент времени t может зависеть не только от предыдущих элементов в последовательности, но и от будущих. Например, если вы хотите предсказать недостающее слово в последовательности, учитывая как в левый, так и в правый контекст.\n",
        "\n"
      ],
      "metadata": {
        "id": "uQvCu0nydUOC"
      }
    },
    {
      "cell_type": "code",
      "source": [
        "#lstm\n",
        "n_classes = 2\n",
        "\n",
        "class ReviewsNet(nn.Module):\n",
        "    def __init__(self, embedding_dim, hidden_size, n_hidden_neurons):\n",
        "        super(ReviewsNet, self).__init__()\n",
        "        self.emb = nn.Embedding(num_embeddings=vocabulary.vocab_len, embedding_dim=embedding_dim)\n",
        "        self.gru = nn.GRU(input_size=embedding_dim, hidden_size=hidden_size, batch_first=True, num_layers=2, bidirectional=True) #двунаправленность \n",
        "        self.fc = torch.nn.Linear(hidden_size * 2, n_hidden_neurons)\n",
        "        self.act = torch.nn.ReLU()\n",
        "        self.fc1 = torch.nn.Linear(n_hidden_neurons, n_hidden_neurons)\n",
        "        self.fc2 = torch.nn.Linear(n_hidden_neurons, n_classes)\n",
        "        \n",
        "    def forward(self, x):\n",
        "        x = self.emb(x)\n",
        "        output, h_n = self.gru(x)\n",
        "        x = self.fc(output[:, -1])\n",
        "        x = self.act(x)\n",
        "        x = self.fc1(x)\n",
        "        x = self.act(x)\n",
        "        x = self.fc2(x)\n",
        "        return x"
      ],
      "metadata": {
        "id": "ahJWK8fNdU9V"
      },
      "execution_count": null,
      "outputs": []
    },
    {
      "cell_type": "code",
      "source": [
        "net = ReviewsNet(256, 512, 512)\n",
        "net = net.to(device)"
      ],
      "metadata": {
        "id": "1BGYVXMAdaio"
      },
      "execution_count": null,
      "outputs": []
    },
    {
      "cell_type": "code",
      "source": [
        "class Transpose(nn.Module):\n",
        "    def forward(self, X):\n",
        "        return X.transpose(2, 1)"
      ],
      "metadata": {
        "id": "OhTDp2oRdcmb"
      },
      "execution_count": null,
      "outputs": []
    },
    {
      "cell_type": "code",
      "source": [
        "loss = nn.CrossEntropyLoss()\n",
        "optimizer = optim.Adam(net.parameters(), lr=0.001)\n",
        "#lr_scheduler = optim.lr_scheduler.StepLR(optimizer, step_size=3, gamma=0.1)\n",
        "\n",
        "n_epochs = 25\n",
        "losses = []\n",
        "for epoch in range(n_epochs):\n",
        "    loss_value = 0\n",
        "    for X, y in train_loader:\n",
        "        X = X.to(device)\n",
        "        y = y.to(device)\n",
        "        y_pred = net.forward(X)\n",
        "        loss_tensor = loss.forward(y_pred, y)\n",
        "        loss_tensor.backward() #градиент\n",
        "        optimizer.step() #применение градиента\n",
        "        optimizer.zero_grad()\n",
        "        loss_value += loss_tensor.item()\n",
        "    #lr_scheduler.step()\n",
        "    losses.append(loss_value)\n",
        "    print(f'epoch {epoch} loss {loss_value}')"
      ],
      "metadata": {
        "colab": {
          "base_uri": "https://localhost:8080/"
        },
        "id": "yCQB_eGNdfXt",
        "outputId": "31b05977-3127-48ef-cf52-07783a94c0f9"
      },
      "execution_count": null,
      "outputs": [
        {
          "output_type": "stream",
          "name": "stdout",
          "text": [
            "epoch 0 loss 93.3548434972763\n",
            "epoch 1 loss 92.71628159284592\n",
            "epoch 2 loss 83.05829131603241\n",
            "epoch 3 loss 58.346734285354614\n",
            "epoch 4 loss 29.516428716480732\n",
            "epoch 5 loss 11.306644248776138\n",
            "epoch 6 loss 5.0164169676136225\n",
            "epoch 7 loss 3.5579394655651413\n",
            "epoch 8 loss 2.916513828356983\n",
            "epoch 9 loss 1.7038973179005552\n",
            "epoch 10 loss 2.4912264549348038\n",
            "epoch 11 loss 1.5275209018072928\n",
            "epoch 12 loss 1.0299767187589168\n",
            "epoch 13 loss 1.0590663489347207\n",
            "epoch 14 loss 1.4044218386043212\n",
            "epoch 15 loss 0.9462017440484942\n",
            "epoch 16 loss 0.2777925863817927\n",
            "epoch 17 loss 0.07307740214446312\n",
            "epoch 18 loss 0.05886199484575627\n",
            "epoch 19 loss 0.0874688873393552\n",
            "epoch 20 loss 0.058718499278256786\n",
            "epoch 21 loss 0.06189336158601577\n",
            "epoch 22 loss 0.05107905609507579\n",
            "epoch 23 loss 0.07724845122959323\n",
            "epoch 24 loss 0.07089138196033673\n"
          ]
        }
      ]
    },
    {
      "cell_type": "code",
      "source": [
        "import matplotlib.pyplot as plt\n",
        "plt.plot(losses)\n",
        "plt.xlabel('Эпоха')\n",
        "plt.ylabel('Потеря')\n",
        "plt.show()"
      ],
      "metadata": {
        "colab": {
          "base_uri": "https://localhost:8080/",
          "height": 449
        },
        "id": "rBCvGCQ5dia3",
        "outputId": "18406816-a036-492f-e67d-0552848e362e"
      },
      "execution_count": null,
      "outputs": [
        {
          "output_type": "display_data",
          "data": {
            "text/plain": [
              "<Figure size 640x480 with 1 Axes>"
            ],
            "image/png": "[encoded data removed]"
          },
          "metadata": {}
        }
      ]
    },
    {
      "cell_type": "code",
      "source": [
        "# Проверить работоспособность модели\n",
        "correct = 0\n",
        "for X, y in test_loader:\n",
        "    X = X.to(device)\n",
        "    y = y.to(device)\n",
        "    label_pred = net.forward(X).argmax(dim=1)\n",
        "    correct += (label_pred == y).sum()\n",
        "\n",
        "accuracy = correct / len(reviews_dataset_test)\n",
        "print('значение accuracy на тестовом множестве:', accuracy)"
      ],
      "metadata": {
        "colab": {
          "base_uri": "https://localhost:8080/"
        },
        "id": "A75EsZ14dlgc",
        "outputId": "ebfd89d6-df3e-456b-d037-7bb916a2272f"
      },
      "execution_count": null,
      "outputs": [
        {
          "output_type": "stream",
          "name": "stdout",
          "text": [
            "значение accuracy на тестовом множестве: tensor(0.7089, device='cuda:0')\n"
          ]
        }
      ]
    },
    {
      "cell_type": "code",
      "source": [
        "mark = [1, 0]\n",
        "reviews = ['It is a great movie. The whole family laughed. I recommend it to my friends. The actors are super', 'Not interesting. Disgusting. No one will watch it. Terrible, boring, bad']\n",
        "test_reviews = pd.DataFrame(list(zip(mark, reviews)),\n",
        "               columns =['mark', 'reviews'])\n",
        "test_reviews"
      ],
      "metadata": {
        "colab": {
          "base_uri": "https://localhost:8080/",
          "height": 112
        },
        "id": "E9XmRzWidnQG",
        "outputId": "b4a08e2d-e99f-46c4-b1d0-d0d660186f53"
      },
      "execution_count": null,
      "outputs": [
        {
          "output_type": "execute_result",
          "data": {
            "text/plain": [
              "   mark                                            reviews\n",
              "0     1  It is a great movie. The whole family laughed....\n",
              "1     0  Not interesting. Disgusting. No one will watch..."
            ],
            "text/html": [
              "\n",
              "  <div id=\"df-2fb78daa-8028-4847-bce7-a57b49adca80\">\n",
              "    <div class=\"colab-df-container\">\n",
              "      <div>\n",
              "<style scoped>\n",
              "    .dataframe tbody tr th:only-of-type {\n",
              "        vertical-align: middle;\n",
              "    }\n",
              "\n",
              "    .dataframe tbody tr th {\n",
              "        vertical-align: top;\n",
              "    }\n",
              "\n",
              "    .dataframe thead th {\n",
              "        text-align: right;\n",
              "    }\n",
              "</style>\n",
              "<table border=\"1\" class=\"dataframe\">\n",
              "  <thead>\n",
              "    <tr style=\"text-align: right;\">\n",
              "      <th></th>\n",
              "      <th>mark</th>\n",
              "      <th>reviews</th>\n",
              "    </tr>\n",
              "  </thead>\n",
              "  <tbody>\n",
              "    <tr>\n",
              "      <th>0</th>\n",
              "      <td>1</td>\n",
              "      <td>It is a great movie. The whole family laughed....</td>\n",
              "    </tr>\n",
              "    <tr>\n",
              "      <th>1</th>\n",
              "      <td>0</td>\n",
              "      <td>Not interesting. Disgusting. No one will watch...</td>\n",
              "    </tr>\n",
              "  </tbody>\n",
              "</table>\n",
              "</div>\n",
              "      <button class=\"colab-df-convert\" onclick=\"convertToInteractive('df-2fb78daa-8028-4847-bce7-a57b49adca80')\"\n",
              "              title=\"Convert this dataframe to an interactive table.\"\n",
              "              style=\"display:none;\">\n",
              "        \n",
              "  <svg xmlns=\"http://www.w3.org/2000/svg\" height=\"24px\"viewBox=\"0 0 24 24\"\n",
              "       width=\"24px\">\n",
              "    <path d=\"M0 0h24v24H0V0z\" fill=\"none\"/>\n",
              "    <path d=\"M18.56 5.44l.94 2.06.94-2.06 2.06-.94-2.06-.94-.94-2.06-.94 2.06-2.06.94zm-11 1L8.5 8.5l.94-2.06 2.06-.94-2.06-.94L8.5 2.5l-.94 2.06-2.06.94zm10 10l.94 2.06.94-2.06 2.06-.94-2.06-.94-.94-2.06-.94 2.06-2.06.94z\"/><path d=\"M17.41 7.96l-1.37-1.37c-.4-.4-.92-.59-1.43-.59-.52 0-1.04.2-1.43.59L10.3 9.45l-7.72 7.72c-.78.78-.78 2.05 0 2.83L4 21.41c.39.39.9.59 1.41.59.51 0 1.02-.2 1.41-.59l7.78-7.78 2.81-2.81c.8-.78.8-2.07 0-2.86zM5.41 20L4 18.59l7.72-7.72 1.47 1.35L5.41 20z\"/>\n",
              "  </svg>\n",
              "      </button>\n",
              "      \n",
              "  <style>\n",
              "    .colab-df-container {\n",
              "      display:flex;\n",
              "      flex-wrap:wrap;\n",
              "      gap: 12px;\n",
              "    }\n",
              "\n",
              "    .colab-df-convert {\n",
              "      background-color: #E8F0FE;\n",
              "      border: none;\n",
              "      border-radius: 50%;\n",
              "      cursor: pointer;\n",
              "      display: none;\n",
              "      fill: #1967D2;\n",
              "      height: 32px;\n",
              "      padding: 0 0 0 0;\n",
              "      width: 32px;\n",
              "    }\n",
              "\n",
              "    .colab-df-convert:hover {\n",
              "      background-color: #E2EBFA;\n",
              "      box-shadow: 0px 1px 2px rgba(60, 64, 67, 0.3), 0px 1px 3px 1px rgba(60, 64, 67, 0.15);\n",
              "      fill: #174EA6;\n",
              "    }\n",
              "\n",
              "    [theme=dark] .colab-df-convert {\n",
              "      background-color: #3B4455;\n",
              "      fill: #D2E3FC;\n",
              "    }\n",
              "\n",
              "    [theme=dark] .colab-df-convert:hover {\n",
              "      background-color: #434B5C;\n",
              "      box-shadow: 0px 1px 3px 1px rgba(0, 0, 0, 0.15);\n",
              "      filter: drop-shadow(0px 1px 2px rgba(0, 0, 0, 0.3));\n",
              "      fill: #FFFFFF;\n",
              "    }\n",
              "  </style>\n",
              "\n",
              "      <script>\n",
              "        const buttonEl =\n",
              "          document.querySelector('#df-2fb78daa-8028-4847-bce7-a57b49adca80 button.colab-df-convert');\n",
              "        buttonEl.style.display =\n",
              "          google.colab.kernel.accessAllowed ? 'block' : 'none';\n",
              "\n",
              "        async function convertToInteractive(key) {\n",
              "          const element = document.querySelector('#df-2fb78daa-8028-4847-bce7-a57b49adca80');\n",
              "          const dataTable =\n",
              "            await google.colab.kernel.invokeFunction('convertToInteractive',\n",
              "                                                     [key], {});\n",
              "          if (!dataTable) return;\n",
              "\n",
              "          const docLinkHtml = 'Like what you see? Visit the ' +\n",
              "            '<a target=\"_blank\" href=https://colab.research.google.com/notebooks/data_table.ipynb>data table notebook</a>'\n",
              "            + ' to learn more about interactive tables.';\n",
              "          element.innerHTML = '';\n",
              "          dataTable['output_type'] = 'display_data';\n",
              "          await google.colab.output.renderOutput(dataTable, element);\n",
              "          const docLink = document.createElement('div');\n",
              "          docLink.innerHTML = docLinkHtml;\n",
              "          element.appendChild(docLink);\n",
              "        }\n",
              "      </script>\n",
              "    </div>\n",
              "  </div>\n",
              "  "
            ]
          },
          "metadata": {},
          "execution_count": 89
        }
      ]
    },
    {
      "cell_type": "code",
      "source": [
        "X_test_reviews = test_reviews['reviews']\n",
        "y_test_reviews = test_reviews['mark']\n",
        "test_reviews_dataset = ReviewsDataset(X_test_reviews, y_test_reviews, vocabulary)\n",
        "\n",
        "predictions = []\n",
        "\n",
        "for X_test_reviews, y_test_reviews in test_reviews_dataset:\n",
        "    X_test_reviews = X_test_reviews.to(device).reshape(1, -1)\n",
        "    y_test_reviews = y_test_reviews.to(device)\n",
        "    y_pred = net.forward(X_test_reviews)[0].argmax()\n",
        "    predictions.append(y_pred.cpu())\n",
        "\n",
        "predictions = np.array(predictions)\n",
        "test_reviews['predicted reviews'] = predictions\n",
        "test_reviews"
      ],
      "metadata": {
        "colab": {
          "base_uri": "https://localhost:8080/",
          "height": 112
        },
        "id": "nUEQ1mGxdpHy",
        "outputId": "06994fff-3969-459a-caea-aa7f4124730f"
      },
      "execution_count": null,
      "outputs": [
        {
          "output_type": "execute_result",
          "data": {
            "text/plain": [
              "   mark                                            reviews  predicted reviews\n",
              "0     1  It is a great movie. The whole family laughed....                  1\n",
              "1     0  Not interesting. Disgusting. No one will watch...                  0"
            ],
            "text/html": [
              "\n",
              "  <div id=\"df-357743f5-9395-40fa-b71c-c535c9a11c56\">\n",
              "    <div class=\"colab-df-container\">\n",
              "      <div>\n",
              "<style scoped>\n",
              "    .dataframe tbody tr th:only-of-type {\n",
              "        vertical-align: middle;\n",
              "    }\n",
              "\n",
              "    .dataframe tbody tr th {\n",
              "        vertical-align: top;\n",
              "    }\n",
              "\n",
              "    .dataframe thead th {\n",
              "        text-align: right;\n",
              "    }\n",
              "</style>\n",
              "<table border=\"1\" class=\"dataframe\">\n",
              "  <thead>\n",
              "    <tr style=\"text-align: right;\">\n",
              "      <th></th>\n",
              "      <th>mark</th>\n",
              "      <th>reviews</th>\n",
              "      <th>predicted reviews</th>\n",
              "    </tr>\n",
              "  </thead>\n",
              "  <tbody>\n",
              "    <tr>\n",
              "      <th>0</th>\n",
              "      <td>1</td>\n",
              "      <td>It is a great movie. The whole family laughed....</td>\n",
              "      <td>1</td>\n",
              "    </tr>\n",
              "    <tr>\n",
              "      <th>1</th>\n",
              "      <td>0</td>\n",
              "      <td>Not interesting. Disgusting. No one will watch...</td>\n",
              "      <td>0</td>\n",
              "    </tr>\n",
              "  </tbody>\n",
              "</table>\n",
              "</div>\n",
              "      <button class=\"colab-df-convert\" onclick=\"convertToInteractive('df-357743f5-9395-40fa-b71c-c535c9a11c56')\"\n",
              "              title=\"Convert this dataframe to an interactive table.\"\n",
              "              style=\"display:none;\">\n",
              "        \n",
              "  <svg xmlns=\"http://www.w3.org/2000/svg\" height=\"24px\"viewBox=\"0 0 24 24\"\n",
              "       width=\"24px\">\n",
              "    <path d=\"M0 0h24v24H0V0z\" fill=\"none\"/>\n",
              "    <path d=\"M18.56 5.44l.94 2.06.94-2.06 2.06-.94-2.06-.94-.94-2.06-.94 2.06-2.06.94zm-11 1L8.5 8.5l.94-2.06 2.06-.94-2.06-.94L8.5 2.5l-.94 2.06-2.06.94zm10 10l.94 2.06.94-2.06 2.06-.94-2.06-.94-.94-2.06-.94 2.06-2.06.94z\"/><path d=\"M17.41 7.96l-1.37-1.37c-.4-.4-.92-.59-1.43-.59-.52 0-1.04.2-1.43.59L10.3 9.45l-7.72 7.72c-.78.78-.78 2.05 0 2.83L4 21.41c.39.39.9.59 1.41.59.51 0 1.02-.2 1.41-.59l7.78-7.78 2.81-2.81c.8-.78.8-2.07 0-2.86zM5.41 20L4 18.59l7.72-7.72 1.47 1.35L5.41 20z\"/>\n",
              "  </svg>\n",
              "      </button>\n",
              "      \n",
              "  <style>\n",
              "    .colab-df-container {\n",
              "      display:flex;\n",
              "      flex-wrap:wrap;\n",
              "      gap: 12px;\n",
              "    }\n",
              "\n",
              "    .colab-df-convert {\n",
              "      background-color: #E8F0FE;\n",
              "      border: none;\n",
              "      border-radius: 50%;\n",
              "      cursor: pointer;\n",
              "      display: none;\n",
              "      fill: #1967D2;\n",
              "      height: 32px;\n",
              "      padding: 0 0 0 0;\n",
              "      width: 32px;\n",
              "    }\n",
              "\n",
              "    .colab-df-convert:hover {\n",
              "      background-color: #E2EBFA;\n",
              "      box-shadow: 0px 1px 2px rgba(60, 64, 67, 0.3), 0px 1px 3px 1px rgba(60, 64, 67, 0.15);\n",
              "      fill: #174EA6;\n",
              "    }\n",
              "\n",
              "    [theme=dark] .colab-df-convert {\n",
              "      background-color: #3B4455;\n",
              "      fill: #D2E3FC;\n",
              "    }\n",
              "\n",
              "    [theme=dark] .colab-df-convert:hover {\n",
              "      background-color: #434B5C;\n",
              "      box-shadow: 0px 1px 3px 1px rgba(0, 0, 0, 0.15);\n",
              "      filter: drop-shadow(0px 1px 2px rgba(0, 0, 0, 0.3));\n",
              "      fill: #FFFFFF;\n",
              "    }\n",
              "  </style>\n",
              "\n",
              "      <script>\n",
              "        const buttonEl =\n",
              "          document.querySelector('#df-357743f5-9395-40fa-b71c-c535c9a11c56 button.colab-df-convert');\n",
              "        buttonEl.style.display =\n",
              "          google.colab.kernel.accessAllowed ? 'block' : 'none';\n",
              "\n",
              "        async function convertToInteractive(key) {\n",
              "          const element = document.querySelector('#df-357743f5-9395-40fa-b71c-c535c9a11c56');\n",
              "          const dataTable =\n",
              "            await google.colab.kernel.invokeFunction('convertToInteractive',\n",
              "                                                     [key], {});\n",
              "          if (!dataTable) return;\n",
              "\n",
              "          const docLinkHtml = 'Like what you see? Visit the ' +\n",
              "            '<a target=\"_blank\" href=https://colab.research.google.com/notebooks/data_table.ipynb>data table notebook</a>'\n",
              "            + ' to learn more about interactive tables.';\n",
              "          element.innerHTML = '';\n",
              "          dataTable['output_type'] = 'display_data';\n",
              "          await google.colab.output.renderOutput(dataTable, element);\n",
              "          const docLink = document.createElement('div');\n",
              "          docLink.innerHTML = docLinkHtml;\n",
              "          element.appendChild(docLink);\n",
              "        }\n",
              "      </script>\n",
              "    </div>\n",
              "  </div>\n",
              "  "
            ]
          },
          "metadata": {},
          "execution_count": 90
        }
      ]
    }
  ],
  "metadata": {
    "accelerator": "GPU",
    "colab": {
      "provenance": []
    },
    "kernelspec": {
      "display_name": "Python 3",
      "language": "python",
      "name": "python3"
    },
    "language_info": {
      "codemirror_mode": {
        "name": "ipython",
        "version": 3
      },
      "file_extension": ".py",
      "mimetype": "text/x-python",
      "name": "python",
      "nbconvert_exporter": "python",
      "pygments_lexer": "ipython3",
      "version": "3.7.6"
    }
  },
  "nbformat": 4,
  "nbformat_minor": 0
}