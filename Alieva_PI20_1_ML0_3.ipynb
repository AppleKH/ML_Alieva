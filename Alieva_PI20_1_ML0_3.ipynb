{
  "nbformat": 4,
  "nbformat_minor": 0,
  "metadata": {
    "colab": {
      "provenance": [],
      "collapsed_sections": []
    },
    "kernelspec": {
      "name": "python3",
      "display_name": "Python 3"
    },
    "language_info": {
      "name": "python"
    }
  },
  "cells": [
    {
      "cell_type": "markdown",
      "source": [
        "Алиева Хадижат ПИ20-1. Лабораторная работа 0.3. Простой анализ данных"
      ],
      "metadata": {
        "id": "qE7Ed1t0ACul"
      }
    },
    {
      "cell_type": "code",
      "execution_count": null,
      "metadata": {
        "id": "JXQOQqtD2FO_"
      },
      "outputs": [],
      "source": [
        "import pandas as pd\n",
        "import numpy as np\n",
        "from matplotlib import pyplot as plt \n",
        "from numpy.random import randn\n",
        "import seaborn as sns"
      ]
    },
    {
      "cell_type": "markdown",
      "source": [
        "1. Загрузите данные в ноутбук"
      ],
      "metadata": {
        "id": "6Ge6jlAw2cLa"
      }
    },
    {
      "cell_type": "code",
      "source": [
        "df = pd.read_excel('Вариант 3.xlsx', header=2)[:-1]\n",
        "df"
      ],
      "metadata": {
        "colab": {
          "base_uri": "https://localhost:8080/",
          "height": 502
        },
        "id": "DWg6-96I21UY",
        "outputId": "a237e571-8517-4fee-db25-8bf96fced5b3"
      },
      "execution_count": null,
      "outputs": [
        {
          "output_type": "execute_result",
          "data": {
            "text/plain": [
              "           №  № школы Класс Пол  Номер варианта    Задания с кратким ответом  \\\n",
              "0        1.0    152.0    11   М           333.0  ----001---00---000--1-+0---   \n",
              "1        2.0    140.0    12   Ж           332.0  ----100---01-+-000--0--1---   \n",
              "2        3.0    137.0    11   М           328.0  --+-010---00---101--0--1---   \n",
              "3        4.0    148.0    11   М           333.0  -+--000--+01---100--0--1---   \n",
              "4        5.0    153.0    11   Ж           333.0  -+--100---00---100-+0--1---   \n",
              "...      ...      ...   ...  ..             ...                          ...   \n",
              "1175  1176.0    148.0    11   М           332.0  ++++222+++22+++222++2++2+++   \n",
              "1176  1177.0    148.0    11   М           330.0  ++++222+++22+++222++2++2+++   \n",
              "1177  1178.0    152.0    11   Ж           330.0  ++++222+++22+++222++2++2+++   \n",
              "1178  1179.0    147.0    11   М           332.0  ++++222+++22+++222++2++2+++   \n",
              "1179  1180.0    148.0    11   М           328.0  ++++222+++22+++222++2++2+++   \n",
              "\n",
              "     Задания с развёрнутым ответом Устная часть  Первичный балл   Балл  \\\n",
              "0             0(3)0(3)0(3)0(3)0(3)          NaN             3.0   10.0   \n",
              "1             0(3)0(3)0(3)0(3)0(3)          NaN             4.0   14.0   \n",
              "2             0(3)0(3)0(3)0(3)0(3)          NaN             5.0   17.0   \n",
              "3             0(3)0(3)0(3)0(3)0(3)          NaN             5.0   17.0   \n",
              "4             0(3)0(3)0(3)0(3)0(3)          NaN             5.0   17.0   \n",
              "...                            ...          ...             ...    ...   \n",
              "1175          3(3)3(3)3(3)3(3)2(3)          NaN            51.0   98.0   \n",
              "1176          3(3)3(3)3(3)3(3)2(3)          NaN            51.0   98.0   \n",
              "1177          3(3)3(3)3(3)2(3)3(3)          NaN            51.0   98.0   \n",
              "1178          3(3)3(3)3(3)3(3)3(3)          NaN            52.0  100.0   \n",
              "1179          3(3)3(3)3(3)3(3)3(3)          NaN            52.0  100.0   \n",
              "\n",
              "      Минимальный балл  \n",
              "0                 36.0  \n",
              "1                 36.0  \n",
              "2                 36.0  \n",
              "3                 36.0  \n",
              "4                 36.0  \n",
              "...                ...  \n",
              "1175              36.0  \n",
              "1176              36.0  \n",
              "1177              36.0  \n",
              "1178              36.0  \n",
              "1179              36.0  \n",
              "\n",
              "[1180 rows x 11 columns]"
            ],
            "text/html": [
              "\n",
              "  <div id=\"df-e8fa9d56-38f5-430d-b343-5399fe4e7fcc\">\n",
              "    <div class=\"colab-df-container\">\n",
              "      <div>\n",
              "<style scoped>\n",
              "    .dataframe tbody tr th:only-of-type {\n",
              "        vertical-align: middle;\n",
              "    }\n",
              "\n",
              "    .dataframe tbody tr th {\n",
              "        vertical-align: top;\n",
              "    }\n",
              "\n",
              "    .dataframe thead th {\n",
              "        text-align: right;\n",
              "    }\n",
              "</style>\n",
              "<table border=\"1\" class=\"dataframe\">\n",
              "  <thead>\n",
              "    <tr style=\"text-align: right;\">\n",
              "      <th></th>\n",
              "      <th>№</th>\n",
              "      <th>№ школы</th>\n",
              "      <th>Класс</th>\n",
              "      <th>Пол</th>\n",
              "      <th>Номер варианта</th>\n",
              "      <th>Задания с кратким ответом</th>\n",
              "      <th>Задания с развёрнутым ответом</th>\n",
              "      <th>Устная часть</th>\n",
              "      <th>Первичный балл</th>\n",
              "      <th>Балл</th>\n",
              "      <th>Минимальный балл</th>\n",
              "    </tr>\n",
              "  </thead>\n",
              "  <tbody>\n",
              "    <tr>\n",
              "      <th>0</th>\n",
              "      <td>1.0</td>\n",
              "      <td>152.0</td>\n",
              "      <td>11</td>\n",
              "      <td>М</td>\n",
              "      <td>333.0</td>\n",
              "      <td>----001---00---000--1-+0---</td>\n",
              "      <td>0(3)0(3)0(3)0(3)0(3)</td>\n",
              "      <td>NaN</td>\n",
              "      <td>3.0</td>\n",
              "      <td>10.0</td>\n",
              "      <td>36.0</td>\n",
              "    </tr>\n",
              "    <tr>\n",
              "      <th>1</th>\n",
              "      <td>2.0</td>\n",
              "      <td>140.0</td>\n",
              "      <td>12</td>\n",
              "      <td>Ж</td>\n",
              "      <td>332.0</td>\n",
              "      <td>----100---01-+-000--0--1---</td>\n",
              "      <td>0(3)0(3)0(3)0(3)0(3)</td>\n",
              "      <td>NaN</td>\n",
              "      <td>4.0</td>\n",
              "      <td>14.0</td>\n",
              "      <td>36.0</td>\n",
              "    </tr>\n",
              "    <tr>\n",
              "      <th>2</th>\n",
              "      <td>3.0</td>\n",
              "      <td>137.0</td>\n",
              "      <td>11</td>\n",
              "      <td>М</td>\n",
              "      <td>328.0</td>\n",
              "      <td>--+-010---00---101--0--1---</td>\n",
              "      <td>0(3)0(3)0(3)0(3)0(3)</td>\n",
              "      <td>NaN</td>\n",
              "      <td>5.0</td>\n",
              "      <td>17.0</td>\n",
              "      <td>36.0</td>\n",
              "    </tr>\n",
              "    <tr>\n",
              "      <th>3</th>\n",
              "      <td>4.0</td>\n",
              "      <td>148.0</td>\n",
              "      <td>11</td>\n",
              "      <td>М</td>\n",
              "      <td>333.0</td>\n",
              "      <td>-+--000--+01---100--0--1---</td>\n",
              "      <td>0(3)0(3)0(3)0(3)0(3)</td>\n",
              "      <td>NaN</td>\n",
              "      <td>5.0</td>\n",
              "      <td>17.0</td>\n",
              "      <td>36.0</td>\n",
              "    </tr>\n",
              "    <tr>\n",
              "      <th>4</th>\n",
              "      <td>5.0</td>\n",
              "      <td>153.0</td>\n",
              "      <td>11</td>\n",
              "      <td>Ж</td>\n",
              "      <td>333.0</td>\n",
              "      <td>-+--100---00---100-+0--1---</td>\n",
              "      <td>0(3)0(3)0(3)0(3)0(3)</td>\n",
              "      <td>NaN</td>\n",
              "      <td>5.0</td>\n",
              "      <td>17.0</td>\n",
              "      <td>36.0</td>\n",
              "    </tr>\n",
              "    <tr>\n",
              "      <th>...</th>\n",
              "      <td>...</td>\n",
              "      <td>...</td>\n",
              "      <td>...</td>\n",
              "      <td>...</td>\n",
              "      <td>...</td>\n",
              "      <td>...</td>\n",
              "      <td>...</td>\n",
              "      <td>...</td>\n",
              "      <td>...</td>\n",
              "      <td>...</td>\n",
              "      <td>...</td>\n",
              "    </tr>\n",
              "    <tr>\n",
              "      <th>1175</th>\n",
              "      <td>1176.0</td>\n",
              "      <td>148.0</td>\n",
              "      <td>11</td>\n",
              "      <td>М</td>\n",
              "      <td>332.0</td>\n",
              "      <td>++++222+++22+++222++2++2+++</td>\n",
              "      <td>3(3)3(3)3(3)3(3)2(3)</td>\n",
              "      <td>NaN</td>\n",
              "      <td>51.0</td>\n",
              "      <td>98.0</td>\n",
              "      <td>36.0</td>\n",
              "    </tr>\n",
              "    <tr>\n",
              "      <th>1176</th>\n",
              "      <td>1177.0</td>\n",
              "      <td>148.0</td>\n",
              "      <td>11</td>\n",
              "      <td>М</td>\n",
              "      <td>330.0</td>\n",
              "      <td>++++222+++22+++222++2++2+++</td>\n",
              "      <td>3(3)3(3)3(3)3(3)2(3)</td>\n",
              "      <td>NaN</td>\n",
              "      <td>51.0</td>\n",
              "      <td>98.0</td>\n",
              "      <td>36.0</td>\n",
              "    </tr>\n",
              "    <tr>\n",
              "      <th>1177</th>\n",
              "      <td>1178.0</td>\n",
              "      <td>152.0</td>\n",
              "      <td>11</td>\n",
              "      <td>Ж</td>\n",
              "      <td>330.0</td>\n",
              "      <td>++++222+++22+++222++2++2+++</td>\n",
              "      <td>3(3)3(3)3(3)2(3)3(3)</td>\n",
              "      <td>NaN</td>\n",
              "      <td>51.0</td>\n",
              "      <td>98.0</td>\n",
              "      <td>36.0</td>\n",
              "    </tr>\n",
              "    <tr>\n",
              "      <th>1178</th>\n",
              "      <td>1179.0</td>\n",
              "      <td>147.0</td>\n",
              "      <td>11</td>\n",
              "      <td>М</td>\n",
              "      <td>332.0</td>\n",
              "      <td>++++222+++22+++222++2++2+++</td>\n",
              "      <td>3(3)3(3)3(3)3(3)3(3)</td>\n",
              "      <td>NaN</td>\n",
              "      <td>52.0</td>\n",
              "      <td>100.0</td>\n",
              "      <td>36.0</td>\n",
              "    </tr>\n",
              "    <tr>\n",
              "      <th>1179</th>\n",
              "      <td>1180.0</td>\n",
              "      <td>148.0</td>\n",
              "      <td>11</td>\n",
              "      <td>М</td>\n",
              "      <td>328.0</td>\n",
              "      <td>++++222+++22+++222++2++2+++</td>\n",
              "      <td>3(3)3(3)3(3)3(3)3(3)</td>\n",
              "      <td>NaN</td>\n",
              "      <td>52.0</td>\n",
              "      <td>100.0</td>\n",
              "      <td>36.0</td>\n",
              "    </tr>\n",
              "  </tbody>\n",
              "</table>\n",
              "<p>1180 rows × 11 columns</p>\n",
              "</div>\n",
              "      <button class=\"colab-df-convert\" onclick=\"convertToInteractive('df-e8fa9d56-38f5-430d-b343-5399fe4e7fcc')\"\n",
              "              title=\"Convert this dataframe to an interactive table.\"\n",
              "              style=\"display:none;\">\n",
              "        \n",
              "  <svg xmlns=\"http://www.w3.org/2000/svg\" height=\"24px\"viewBox=\"0 0 24 24\"\n",
              "       width=\"24px\">\n",
              "    <path d=\"M0 0h24v24H0V0z\" fill=\"none\"/>\n",
              "    <path d=\"M18.56 5.44l.94 2.06.94-2.06 2.06-.94-2.06-.94-.94-2.06-.94 2.06-2.06.94zm-11 1L8.5 8.5l.94-2.06 2.06-.94-2.06-.94L8.5 2.5l-.94 2.06-2.06.94zm10 10l.94 2.06.94-2.06 2.06-.94-2.06-.94-.94-2.06-.94 2.06-2.06.94z\"/><path d=\"M17.41 7.96l-1.37-1.37c-.4-.4-.92-.59-1.43-.59-.52 0-1.04.2-1.43.59L10.3 9.45l-7.72 7.72c-.78.78-.78 2.05 0 2.83L4 21.41c.39.39.9.59 1.41.59.51 0 1.02-.2 1.41-.59l7.78-7.78 2.81-2.81c.8-.78.8-2.07 0-2.86zM5.41 20L4 18.59l7.72-7.72 1.47 1.35L5.41 20z\"/>\n",
              "  </svg>\n",
              "      </button>\n",
              "      \n",
              "  <style>\n",
              "    .colab-df-container {\n",
              "      display:flex;\n",
              "      flex-wrap:wrap;\n",
              "      gap: 12px;\n",
              "    }\n",
              "\n",
              "    .colab-df-convert {\n",
              "      background-color: #E8F0FE;\n",
              "      border: none;\n",
              "      border-radius: 50%;\n",
              "      cursor: pointer;\n",
              "      display: none;\n",
              "      fill: #1967D2;\n",
              "      height: 32px;\n",
              "      padding: 0 0 0 0;\n",
              "      width: 32px;\n",
              "    }\n",
              "\n",
              "    .colab-df-convert:hover {\n",
              "      background-color: #E2EBFA;\n",
              "      box-shadow: 0px 1px 2px rgba(60, 64, 67, 0.3), 0px 1px 3px 1px rgba(60, 64, 67, 0.15);\n",
              "      fill: #174EA6;\n",
              "    }\n",
              "\n",
              "    [theme=dark] .colab-df-convert {\n",
              "      background-color: #3B4455;\n",
              "      fill: #D2E3FC;\n",
              "    }\n",
              "\n",
              "    [theme=dark] .colab-df-convert:hover {\n",
              "      background-color: #434B5C;\n",
              "      box-shadow: 0px 1px 3px 1px rgba(0, 0, 0, 0.15);\n",
              "      filter: drop-shadow(0px 1px 2px rgba(0, 0, 0, 0.3));\n",
              "      fill: #FFFFFF;\n",
              "    }\n",
              "  </style>\n",
              "\n",
              "      <script>\n",
              "        const buttonEl =\n",
              "          document.querySelector('#df-e8fa9d56-38f5-430d-b343-5399fe4e7fcc button.colab-df-convert');\n",
              "        buttonEl.style.display =\n",
              "          google.colab.kernel.accessAllowed ? 'block' : 'none';\n",
              "\n",
              "        async function convertToInteractive(key) {\n",
              "          const element = document.querySelector('#df-e8fa9d56-38f5-430d-b343-5399fe4e7fcc');\n",
              "          const dataTable =\n",
              "            await google.colab.kernel.invokeFunction('convertToInteractive',\n",
              "                                                     [key], {});\n",
              "          if (!dataTable) return;\n",
              "\n",
              "          const docLinkHtml = 'Like what you see? Visit the ' +\n",
              "            '<a target=\"_blank\" href=https://colab.research.google.com/notebooks/data_table.ipynb>data table notebook</a>'\n",
              "            + ' to learn more about interactive tables.';\n",
              "          element.innerHTML = '';\n",
              "          dataTable['output_type'] = 'display_data';\n",
              "          await google.colab.output.renderOutput(dataTable, element);\n",
              "          const docLink = document.createElement('div');\n",
              "          docLink.innerHTML = docLinkHtml;\n",
              "          element.appendChild(docLink);\n",
              "        }\n",
              "      </script>\n",
              "    </div>\n",
              "  </div>\n",
              "  "
            ]
          },
          "metadata": {},
          "execution_count": 2
        }
      ]
    },
    {
      "cell_type": "markdown",
      "source": [
        "2. Сделайте описательную статистику по набранному баллу\n"
      ],
      "metadata": {
        "id": "3gmhKjco2d1x"
      }
    },
    {
      "cell_type": "code",
      "source": [
        "df['Балл'].describe()\n",
        "\n",
        "#df['Первичный балл'].describe()"
      ],
      "metadata": {
        "id": "nXCgSZPE21up",
        "colab": {
          "base_uri": "https://localhost:8080/"
        },
        "outputId": "99351df5-8949-447b-93e3-52c7a7c65cd7"
      },
      "execution_count": null,
      "outputs": [
        {
          "output_type": "execute_result",
          "data": {
            "text/plain": [
              "count    1180.000000\n",
              "mean       52.047458\n",
              "std        14.965477\n",
              "min        10.000000\n",
              "25%        41.000000\n",
              "50%        49.000000\n",
              "75%        60.250000\n",
              "max       100.000000\n",
              "Name: Балл, dtype: float64"
            ]
          },
          "metadata": {},
          "execution_count": 3
        }
      ]
    },
    {
      "cell_type": "markdown",
      "source": [
        "3. Найдите процент учащихся, выполнивших работу ниже среднего\n"
      ],
      "metadata": {
        "id": "AIh4YZq42fLO"
      }
    },
    {
      "cell_type": "code",
      "source": [
        "print(df[df['Балл']<df['Балл'].mean()].shape[0]*100/df.shape[0])"
      ],
      "metadata": {
        "id": "-GY1Qdk122sA",
        "colab": {
          "base_uri": "https://localhost:8080/"
        },
        "outputId": "9832da25-3f1f-4249-ea1e-213dc474682c"
      },
      "execution_count": null,
      "outputs": [
        {
          "output_type": "stream",
          "name": "stdout",
          "text": [
            "56.271186440677965\n"
          ]
        }
      ]
    },
    {
      "cell_type": "markdown",
      "source": [
        "4. Найти процент учащихся не сдавших экзамен\n"
      ],
      "metadata": {
        "id": "CyB9LoVJ2gjD"
      }
    },
    {
      "cell_type": "code",
      "source": [
        "print(df[df['Балл']<df['Минимальный балл']].shape[0]*100/df.shape[0])"
      ],
      "metadata": {
        "id": "PyGVtWcl23IS",
        "colab": {
          "base_uri": "https://localhost:8080/"
        },
        "outputId": "32a5a3cf-7397-4d71-8a8f-8f167cc58545"
      },
      "execution_count": null,
      "outputs": [
        {
          "output_type": "stream",
          "name": "stdout",
          "text": [
            "7.711864406779661\n"
          ]
        }
      ]
    },
    {
      "cell_type": "markdown",
      "source": [
        "5. Постройте круговую диаграмму, показывающую распределение сдавших и не сдавших экзамен\n"
      ],
      "metadata": {
        "id": "FeGXJE092iXd"
      }
    },
    {
      "cell_type": "code",
      "source": [
        "pss = df[df['Балл']>=df['Минимальный балл']].shape[0]\n",
        "ntpss = df[df['Балл']<df['Минимальный балл']].shape[0]\n",
        "\n",
        "vals =[pss, ntpss]\n",
        "labels=[\"Сдали\",\"Не сдали\"]\n",
        "\n",
        "fig, ax = plt.subplots()\n",
        "ax.pie(vals, labels=labels, colors=['#115930', '#F2561D'], autopct='%.2f%%')\n",
        "\n",
        "ax.axis(\"equal\")"
      ],
      "metadata": {
        "id": "yCSYBRF823iD",
        "colab": {
          "base_uri": "https://localhost:8080/",
          "height": 317
        },
        "outputId": "4a84ff60-447f-4c3d-b803-77fcf10827ef"
      },
      "execution_count": null,
      "outputs": [
        {
          "output_type": "execute_result",
          "data": {
            "text/plain": [
              "(-1.10767547871942,\n",
              " 1.1003655029520785,\n",
              " -1.1004919514443379,\n",
              " 1.1076814038457912)"
            ]
          },
          "metadata": {},
          "execution_count": 6
        },
        {
          "output_type": "display_data",
          "data": {
            "text/plain": [
              "<Figure size 432x288 with 1 Axes>"
            ],
            "image/png": "[encoded data removed]"
          },
          "metadata": {}
        }
      ]
    },
    {
      "cell_type": "markdown",
      "source": [
        "6. Постройте ядерную оценку плотности распределению баллов за экзамен\n"
      ],
      "metadata": {
        "id": "dKH0lNeM2jzA"
      }
    },
    {
      "cell_type": "code",
      "source": [
        "sns.set_palette(\"hls\")\n",
        "\n",
        "plt.rc(\"figure\", figsize=(10, 10))\n",
        "\n",
        "plt.title(\"Ядерная оценка плотности по распределению баллов\", fontsize=15)\n",
        "\n",
        "sns.distplot(df['Балл'], color=\"#6DB6FC\")"
      ],
      "metadata": {
        "id": "ewOfDETS24HL",
        "colab": {
          "base_uri": "https://localhost:8080/",
          "height": 697
        },
        "outputId": "03b199f1-bd38-41c9-904c-aa7a3551607a"
      },
      "execution_count": null,
      "outputs": [
        {
          "output_type": "stream",
          "name": "stderr",
          "text": [
            "/usr/local/lib/python3.7/dist-packages/seaborn/distributions.py:2619: FutureWarning: `distplot` is a deprecated function and will be removed in a future version. Please adapt your code to use either `displot` (a figure-level function with similar flexibility) or `histplot` (an axes-level function for histograms).\n",
            "  warnings.warn(msg, FutureWarning)\n"
          ]
        },
        {
          "output_type": "execute_result",
          "data": {
            "text/plain": [
              "<matplotlib.axes._subplots.AxesSubplot at 0x7f3175c03690>"
            ]
          },
          "metadata": {},
          "execution_count": 7
        },
        {
          "output_type": "display_data",
          "data": {
            "text/plain": [
              "<Figure size 720x720 with 1 Axes>"
            ],
            "image/png": "[encoded data removed]"
          },
          "metadata": {
            "needs_background": "light"
          }
        }
      ]
    },
    {
      "cell_type": "markdown",
      "source": [
        "7. Найдите процентное соотношение учащихся, сдавших экзамен на «отлично», «хорошо», «удовлетворительно», «неудовлетворительно».\n"
      ],
      "metadata": {
        "id": "N3nFzK5f2k8d"
      }
    },
    {
      "cell_type": "code",
      "source": [
        "#от 22 до 58 баллов — оценка «три», от 59 до 83 — оценка «четыре», от 84 до 100 — оценка «пять».\n",
        "\n",
        "dva = df[df['Балл']<22].shape[0]\n",
        "tri = df[(df['Балл']>=22)&(df['Балл']<=58)].shape[0]\n",
        "chet = df[(df['Балл']>=59)&(df['Балл']<=83)].shape[0]\n",
        "pyat = df[(df['Балл']>=84)&(df['Балл']<=100)].shape[0]\n",
        "\n",
        "vals =[dva, tri, chet, pyat]\n",
        "labels=['2', '3', '4', '5']\n",
        "\n",
        "fig, ax = plt.subplots()\n",
        "ax.pie(vals, labels=labels, colors=['#F2561D', '#F2CB05', '#115930', '#7B3E8C'], autopct='%.2f%%')\n",
        "\n",
        "ax.axis(\"equal\")\n",
        "\n",
        "#print(dva*100/df.shape[0])\n",
        "#print(tri*100/df.shape[0])\n",
        "#print(chet*100/df.shape[0])#F2CB05\n",
        "#print(pyat*100/df.shape[0])\n"
      ],
      "metadata": {
        "id": "0MJnGUMT24if",
        "colab": {
          "base_uri": "https://localhost:8080/",
          "height": 644
        },
        "outputId": "ddbb1042-8de0-4752-e731-c02bb32b674a"
      },
      "execution_count": null,
      "outputs": [
        {
          "output_type": "execute_result",
          "data": {
            "text/plain": [
              "(-1.1172653102972046,\n",
              " 1.1008221576332002,\n",
              " -1.1098966221429787,\n",
              " 1.115593690091159)"
            ]
          },
          "metadata": {},
          "execution_count": 8
        },
        {
          "output_type": "display_data",
          "data": {
            "text/plain": [
              "<Figure size 720x720 with 1 Axes>"
            ],
            "image/png": "[encoded data removed]"
          },
          "metadata": {}
        }
      ]
    },
    {
      "cell_type": "markdown",
      "source": [
        "8. Какое процентное соотношение юношей и девушек писало данный экзамен?\n"
      ],
      "metadata": {
        "id": "YVhgZdW22mQD"
      }
    },
    {
      "cell_type": "code",
      "source": [
        "w = df[df['Пол'] == 'Ж'].shape[0]\n",
        "m = df[df['Пол'] == 'М'].shape[0]\n",
        "\n",
        "vals =[w, m]\n",
        "labels=['Ж', 'М']\n",
        "\n",
        "fig, ax = plt.subplots()\n",
        "ax.pie(vals, labels=labels, colors=['#115930', '#F2561D'], autopct='%.2f%%')\n",
        "\n",
        "ax.axis(\"equal\")\n",
        "\n",
        "\n",
        "#print(w*100/df.shape[0])\n",
        "#print(m*100/df.shape[0])\n",
        "\n"
      ],
      "metadata": {
        "id": "odbwMTL825BE",
        "colab": {
          "base_uri": "https://localhost:8080/",
          "height": 644
        },
        "outputId": "d242e7ca-5ad1-447d-857b-f270c49a8693"
      },
      "execution_count": null,
      "outputs": [
        {
          "output_type": "execute_result",
          "data": {
            "text/plain": [
              "(-1.1131080390600707,\n",
              " 1.1006242278019693,\n",
              " -1.1082525532508845,\n",
              " 1.111932466516017)"
            ]
          },
          "metadata": {},
          "execution_count": 9
        },
        {
          "output_type": "display_data",
          "data": {
            "text/plain": [
              "<Figure size 720x720 with 1 Axes>"
            ],
            "image/png": "[encoded data removed]"
          },
          "metadata": {}
        }
      ]
    },
    {
      "cell_type": "markdown",
      "source": [
        "9. Сколько школ принимало участие в экзамене?"
      ],
      "metadata": {
        "id": "8XDTW-p22ngx"
      }
    },
    {
      "cell_type": "code",
      "source": [
        "df['№ школы'].nunique()"
      ],
      "metadata": {
        "colab": {
          "base_uri": "https://localhost:8080/"
        },
        "id": "TLf9uism25e6",
        "outputId": "37254735-6369-49da-f187-ad6ef78a7660"
      },
      "execution_count": null,
      "outputs": [
        {
          "output_type": "execute_result",
          "data": {
            "text/plain": [
              "19"
            ]
          },
          "metadata": {},
          "execution_count": 10
        }
      ]
    }
  ]
}