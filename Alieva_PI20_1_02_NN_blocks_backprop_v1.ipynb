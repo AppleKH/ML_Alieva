{
  "cells": [
    {
      "cell_type": "code",
      "execution_count": null,
      "metadata": {
        "id": "PqC4R7SGseKa"
      },
      "outputs": [],
      "source": [
        "import torch"
      ]
    },
    {
      "cell_type": "markdown",
      "metadata": {
        "id": "0J2RM8f5wP33"
      },
      "source": [
        "## 2.1 Создание нейронов и полносвязных слоев"
      ]
    },
    {
      "cell_type": "markdown",
      "metadata": {
        "id": "_2ArJn_nsdZC"
      },
      "source": [
        "2.1.1. Используя операции над матрицами и векторами из библиотеки `torch`, реализовать нейрон с заданными весами `weights` и `bias`. Прогнать вектор `inputs` через нейрон и вывести результат. "
      ]
    },
    {
      "cell_type": "code",
      "execution_count": null,
      "metadata": {
        "id": "f4agkY9WqPwe"
      },
      "outputs": [],
      "source": [
        "class Neuron:\n",
        "  def __init__(self, weights, bias):\n",
        "    # <создать атрибуты объекта weights и bias>\n",
        "    self.weights = weights\n",
        "    self.bias = bias\n",
        "    #pass\n",
        "  \n",
        "  def forward(self, inputs):\n",
        "    # <реализовать логику нейрона>\n",
        "    return torch.sum(self.weights * inputs) + self.bias"
      ]
    },
    {
      "cell_type": "code",
      "execution_count": null,
      "metadata": {
        "id": "HJRkSkHHsb7u",
        "colab": {
          "base_uri": "https://localhost:8080/"
        },
        "outputId": "06ac6a82-e6ec-475a-8d0f-8dba651c343c"
      },
      "outputs": [
        {
          "output_type": "execute_result",
          "data": {
            "text/plain": [
              "tensor(4.8400)"
            ]
          },
          "metadata": {},
          "execution_count": 227
        }
      ],
      "source": [
        "inputs = torch.tensor([1.0, 2.0, 3.0, 4.0])\n",
        "weights = torch.tensor([-0.2, 0.3, -0.5, 0.7])\n",
        "bias = 3.14\n",
        "\n",
        "my_neuron = Neuron(weights = weights, bias = bias)\n",
        "my_neuron.forward(inputs)"
      ]
    },
    {
      "cell_type": "markdown",
      "metadata": {
        "id": "1qJvnwiyty37"
      },
      "source": [
        "2.1.2 Используя операции над матрицами и векторами из библиотеки `torch`, реализовать полносвязный слой с заданными весами `weights` и `biases`. Прогнать вектор `inputs` через слой и вывести результат. "
      ]
    },
    {
      "cell_type": "code",
      "execution_count": null,
      "metadata": {
        "id": "fVWF3a9vtx90"
      },
      "outputs": [],
      "source": [
        "class Linear:\n",
        "  def __init__(self, weights, biases):\n",
        "    # <создать атрибуты объекта weights и biases>\n",
        "    self.weights = weights\n",
        "    self.biases = biases\n",
        "    #pass\n",
        "  \n",
        "  def forward(self, inputs):\n",
        "    # <реализовать логику слоя>\n",
        "    return torch.matmul(inputs, self.weights) + self.biases"
      ]
    },
    {
      "cell_type": "code",
      "execution_count": null,
      "metadata": {
        "id": "Fo-JFnHPuFCS",
        "colab": {
          "base_uri": "https://localhost:8080/"
        },
        "outputId": "d776fa48-02ab-484f-91a7-a69105130a46"
      },
      "outputs": [
        {
          "output_type": "execute_result",
          "data": {
            "text/plain": [
              "tensor([ 4.8400,  0.1700, 10.3900])"
            ]
          },
          "metadata": {},
          "execution_count": 229
        }
      ],
      "source": [
        "inputs = torch.tensor([1.0, 2.0, 3.0, 4.0])\n",
        "weights = torch.tensor([[-0.2, 0.3, -0.5, 0.7],\n",
        "                        [0.5, -0.91, 0.26, -0.5],\n",
        "                        [-0.26, -0.27, 0.17, 0.87]]).T\n",
        "\n",
        "biases = torch.tensor([3.14, 2.71, 7.2])\n",
        "\n",
        "linear = Linear(weights = weights, biases = biases)\n",
        "linear.forward(inputs)"
      ]
    },
    {
      "cell_type": "markdown",
      "metadata": {
        "id": "mQtsJzcxuyGd"
      },
      "source": [
        "2.1.3 Реализовать полносвязный слой из __2.1.2__ таким образом, чтобы он мог принимать на вход матрицу (батч) с данными. Продемонстрировать работу.\n",
        "Результатом прогона сквозь слой должна быть матрица размера `batch_size` x `n_neurons`.\n"
      ]
    },
    {
      "cell_type": "code",
      "source": [
        "class Linear:\n",
        "    def __init__(self, weights, biases):\n",
        "        self.weights = weights\n",
        "        self.biases = biases\n",
        "        \n",
        "    def forward(self, inputs):\n",
        "        return torch.matmul(inputs, self.weights) + self.biases"
      ],
      "metadata": {
        "id": "INDKSmr5vLWl"
      },
      "execution_count": null,
      "outputs": []
    },
    {
      "cell_type": "code",
      "execution_count": null,
      "metadata": {
        "id": "Z8IizmtsuhO1",
        "colab": {
          "base_uri": "https://localhost:8080/"
        },
        "outputId": "08242cfa-aee2-4628-e4c1-782d0f58665e"
      },
      "outputs": [
        {
          "output_type": "execute_result",
          "data": {
            "text/plain": [
              "tensor([[ 3.7900,  0.9200,  9.0850],\n",
              "        [ 6.1400, -2.1000,  6.9000],\n",
              "        [ 2.0400,  0.7610,  6.7260]])"
            ]
          },
          "metadata": {},
          "execution_count": 231
        }
      ],
      "source": [
        "inputs = torch.tensor([[1, 2, 3, 2.5], \n",
        "                       [2, 5, -1, 2], \n",
        "                       [-1.5, 2.7, 3.3, -0.8]])\n",
        "\n",
        "linear = Linear(weights = weights, biases = biases)\n",
        "linear.forward(inputs)"
      ]
    },
    {
      "cell_type": "markdown",
      "metadata": {
        "id": "OQ2OxH4_vBLu"
      },
      "source": [
        "2.1.4 Используя операции над матрицами и векторами из библиотеки `torch`, реализовать полносвязный слой из `n_neurons` нейронов с `n_features` весами у каждого нейрона (инициализируются из стандартного нормального распределения). Прогнать вектор `inputs` через слой и вывести результат. Результатом прогона сквозь слой должна быть матрица размера `batch_size` x `n_neurons`."
      ]
    },
    {
      "cell_type": "code",
      "execution_count": null,
      "metadata": {
        "id": "IOv52EdovASs"
      },
      "outputs": [],
      "source": [
        "class Linear:\n",
        "  def __init__(self, n_features, n_neurons):\n",
        "    # <создать атрибуты объекта weights и biases>\n",
        "    self.weights = torch.randn(n_features, n_neurons)\n",
        "    self.biases = torch.randn(n_neurons)\n",
        "    #pass\n",
        "  \n",
        "  def forward(self, inputs):\n",
        "    # <реализовать логику слоя>\n",
        "    return torch.matmul(inputs, self.weights) + self.biases"
      ]
    },
    {
      "cell_type": "code",
      "source": [
        "inputs = torch.tensor([[1, 2, 3, 2.5], \n",
        "                       [2, 5, -1, 2], \n",
        "                       [-1.5, 2.7, 3.3, -0.8]])\n",
        "\n",
        "linear = Linear(n_features = 4, n_neurons = 3)\n",
        "linear.forward(inputs)"
      ],
      "metadata": {
        "colab": {
          "base_uri": "https://localhost:8080/"
        },
        "id": "6ZKV-XXpvao0",
        "outputId": "779da95b-c070-48ab-8b47-0b4fda297f24"
      },
      "execution_count": null,
      "outputs": [
        {
          "output_type": "execute_result",
          "data": {
            "text/plain": [
              "tensor([[ -3.4638,  -0.1214,  -9.7173],\n",
              "        [ -8.3364,   0.4715, -16.5157],\n",
              "        [-10.3530,   5.5406,  -7.0155]])"
            ]
          },
          "metadata": {},
          "execution_count": 233
        }
      ]
    },
    {
      "cell_type": "markdown",
      "metadata": {
        "id": "IPG4UqL4wajI"
      },
      "source": [
        "2.1.5 Используя решение из __2.1.4__, создать 2 полносвязных слоя и пропустить матрицу `inputs` последовательно через эти два слоя. Количество нейронов в первом слое выбрать произвольно, количество нейронов во втором слое выбрать так, чтобы результатом прогона являлась матрица (3x7). "
      ]
    },
    {
      "cell_type": "code",
      "execution_count": null,
      "metadata": {
        "id": "RjjQIQlTxJE6",
        "colab": {
          "base_uri": "https://localhost:8080/"
        },
        "outputId": "aab2a7ae-578f-46ec-cb46-b922359b3372"
      },
      "outputs": [
        {
          "output_type": "execute_result",
          "data": {
            "text/plain": [
              "tensor([[ 14.5023,  12.0846, -11.3003,  18.8338,   3.6546,   2.9125,  14.1173],\n",
              "        [ -7.9372,  12.0779, -13.9278,   0.3424, -14.1629,  24.0476,  15.4574],\n",
              "        [ 13.8294,   8.1382,  -7.4454,  16.3616,   5.4836,  -2.2952,   9.2233]])"
            ]
          },
          "metadata": {},
          "execution_count": 234
        }
      ],
      "source": [
        "inputs = torch.tensor([[1, 2, 3, 2.5], \n",
        "                       [2, 5, -1, 2], \n",
        "                       [-1.5, 2.7, 3.3, -0.8]])\n",
        "\n",
        "linear_1 = Linear(n_features = 4, n_neurons = 3) \n",
        "linear_2 = Linear(n_features = 3, n_neurons = 7) \n",
        "linear_2.forward(linear_1.forward(inputs))"
      ]
    },
    {
      "cell_type": "markdown",
      "metadata": {
        "id": "cRVH_2K7xTBC"
      },
      "source": [
        "## 2.2 Создание функций активации"
      ]
    },
    {
      "cell_type": "markdown",
      "metadata": {
        "id": "B9kngE6Fxs9D"
      },
      "source": [
        "2.2.1 Используя операции над матрицами и векторами из библиотеки `torch`, реализовать функцию активации ReLU:\n",
        "\n",
        "![](https://wikimedia.org/api/rest_v1/media/math/render/svg/f4353f4e3e484130504049599d2e7b040793e1eb)\n",
        "\n",
        "Создать матрицу размера (4,3), заполненную числами из стандартного нормального распределения, и проверить работоспособность функции активации."
      ]
    },
    {
      "cell_type": "markdown",
      "source": [
        "RELU - Выпрямленная линейная единица. Так мы решаем проблему исчезающего градиента"
      ],
      "metadata": {
        "id": "PwO674G-wMAC"
      }
    },
    {
      "cell_type": "code",
      "execution_count": null,
      "metadata": {
        "id": "jZLvMRByxSTC",
        "colab": {
          "base_uri": "https://localhost:8080/"
        },
        "outputId": "21bccaf7-9f5f-426f-a47b-d8c9ab02c9b0"
      },
      "outputs": [
        {
          "output_type": "stream",
          "name": "stdout",
          "text": [
            "Input:\n",
            " tensor([[-1.4291, -0.3716,  0.8409],\n",
            "        [ 0.2128, -0.8688,  0.0029],\n",
            "        [-0.9818, -0.7562,  1.2086],\n",
            "        [ 0.4273, -1.2514, -0.3142]])\n",
            "Output:\n",
            " tensor([[0.0000, 0.0000, 0.8409],\n",
            "        [0.2128, 0.0000, 0.0029],\n",
            "        [0.0000, 0.0000, 1.2086],\n",
            "        [0.4273, 0.0000, 0.0000]])\n"
          ]
        }
      ],
      "source": [
        "class ReLU:\n",
        "  def forward(self, inputs):\n",
        "    # <реализовать логику ReLU>\n",
        "    mask = inputs < 0\n",
        "    inputs[mask] = 0\n",
        "    return inputs\n",
        "    #pass\n",
        "\n",
        "relu = ReLU()\n",
        "matr = torch.randn((4, 3))\n",
        "print(\"Input:\\n\", matr)\n",
        "res = relu.forward(matr)\n",
        "print(\"Output:\\n\", res)"
      ]
    },
    {
      "cell_type": "markdown",
      "metadata": {
        "id": "puExCWiKyTtb"
      },
      "source": [
        "2.2.2 Используя операции над матрицами и векторами из библиотеки `torch`, реализовать функцию активации softmax:\n",
        "\n",
        "![](https://wikimedia.org/api/rest_v1/media/math/render/svg/6d7500d980c313da83e4117da701bf7c8f1982f5)\n",
        "\n",
        "Создать матрицу размера (4,3), заполненную числами из стандартного нормального распределения, и проверить работоспособность функции активации. Строки матрицы трактовать как выходы линейного слоя некоторого классификатора для 4 различных примеров."
      ]
    },
    {
      "cell_type": "markdown",
      "source": [
        "Softmax()помогает нам изменить масштаб n-мерного тензора по определенной размерности"
      ],
      "metadata": {
        "id": "bp-d83IbvR9y"
      }
    },
    {
      "cell_type": "code",
      "execution_count": null,
      "metadata": {
        "id": "fXNcFlqqyKHl",
        "colab": {
          "base_uri": "https://localhost:8080/"
        },
        "outputId": "ac32fa3e-2c38-4f29-8ae5-31913734e1c0"
      },
      "outputs": [
        {
          "output_type": "stream",
          "name": "stdout",
          "text": [
            "Input:\n",
            " tensor([[ 0.4566, -0.0044, -0.6117],\n",
            "        [-0.4227, -0.5195, -0.3582],\n",
            "        [ 0.3106,  0.4142, -1.4562],\n",
            "        [-0.5476,  2.0575, -0.6644]])\n",
            "Output:\n",
            " tensor([[0.5065, 0.3194, 0.1740],\n",
            "        [0.3362, 0.3052, 0.3586],\n",
            "        [0.4386, 0.4865, 0.0749],\n",
            "        [0.0648, 0.8775, 0.0577]])\n"
          ]
        }
      ],
      "source": [
        "class Softmax:\n",
        "  def forward(self, inputs):\n",
        "    # <реализовать логику Softmax>\n",
        "    up = torch.exp(inputs)\n",
        "    down = torch.sum(torch.exp(inputs), dim = 1).view(-1, 1)\n",
        "    res = up / down\n",
        "    return res\n",
        "    #pass\n",
        "\n",
        "softmax = Softmax()\n",
        "matr = torch.randn((4, 3))\n",
        "print(\"Input:\\n\", matr)\n",
        "\n",
        "res = softmax.forward(matr)\n",
        "print(\"Output:\\n\", res)"
      ]
    },
    {
      "cell_type": "markdown",
      "metadata": {
        "id": "vxVK2TYez_Ye"
      },
      "source": [
        "2.2.3 Используя операции над матрицами и векторами из библиотеки `torch`, реализовать функцию активации ELU:\n",
        "\n",
        "![](https://wikimedia.org/api/rest_v1/media/math/render/svg/eb23becd37c3602c4838e53f532163279192e4fd)\n",
        "\n",
        "Создать матрицу размера (4,3), заполненную числами из стандартного нормального распределения, и проверить работоспособность функции активации."
      ]
    },
    {
      "cell_type": "markdown",
      "source": [
        "ELU - Экспоненциальная линейная единица. Эта функция активации устраняет некоторые проблемы с ReLU и сохраняет некоторые положительные моменты."
      ],
      "metadata": {
        "id": "vl198mx8wAxF"
      }
    },
    {
      "cell_type": "code",
      "execution_count": null,
      "metadata": {
        "id": "NzMz7HDLySxK",
        "colab": {
          "base_uri": "https://localhost:8080/"
        },
        "outputId": "71c3a9a8-a3d4-43d8-fd7a-ea943d0ee554"
      },
      "outputs": [
        {
          "output_type": "stream",
          "name": "stdout",
          "text": [
            "Input:\n",
            " tensor([[ 0.5530,  0.1946,  0.0190],\n",
            "        [-1.0565, -1.0512,  1.3789],\n",
            "        [ 1.5419,  0.4838, -0.0675],\n",
            "        [ 0.4252,  1.2731, -0.1955]])\n",
            "Output:\n",
            " tensor([[ 0.5530,  0.1946,  0.0190],\n",
            "        [-0.6523, -0.6505,  1.3789],\n",
            "        [ 1.5419,  0.4838, -0.0652],\n",
            "        [ 0.4252,  1.2731, -0.1776]])\n"
          ]
        }
      ],
      "source": [
        "class ELU:\n",
        "  def __init__(self, alpha):\n",
        "    # <создать атрибут объекта alpha>\n",
        "    self.alpha = alpha\n",
        "    #pass\n",
        "\n",
        "  def forward(self, inputs):\n",
        "    # <реализовать логику ReLU>\n",
        "    inputs[inputs < 0] = (torch.exp(inputs[inputs < 0]) - 1) * self.alpha\n",
        "    return inputs\n",
        "    #pass\n",
        "\n",
        "elu = ELU(alpha = 1)\n",
        "matr = torch.randn((4, 3))\n",
        "print(\"Input:\\n\", matr)\n",
        "\n",
        "res = elu.forward(matr)\n",
        "print(\"Output:\\n\", res)"
      ]
    },
    {
      "cell_type": "markdown",
      "metadata": {
        "id": "0peh8r-20Pof"
      },
      "source": [
        "## 2.3 Создание функции потерь"
      ]
    },
    {
      "cell_type": "markdown",
      "metadata": {
        "id": "EY-k3eEs0f7f"
      },
      "source": [
        "2.3.1 Используя операции над матрицами и векторами из библиотеки `torch`, реализовать функцию потерь MSE:\n",
        "\n",
        "![](https://wikimedia.org/api/rest_v1/media/math/render/svg/e258221518869aa1c6561bb75b99476c4734108e)\n",
        "\n",
        "Создать полносвязный слой с 1 нейроном, прогнать через него батч `inputs` и посчитать значение MSE, трактуя вектор `y` как вектор правильных ответов."
      ]
    },
    {
      "cell_type": "markdown",
      "source": [
        "MSE широко используется в линейной регрессии в качестве показателя эффективности. Чтобы рассчитать MSE, надо взять разницу между предсказанными значениями и истинными, возвести ее в квадрат и усреднить по всему набору данных."
      ],
      "metadata": {
        "id": "mfU14taFwjS6"
      }
    },
    {
      "cell_type": "code",
      "execution_count": null,
      "metadata": {
        "id": "f9-wdj5Tz-br"
      },
      "outputs": [],
      "source": [
        "class MSELoss:\n",
        "  def forward(self, y_pred, y_true):\n",
        "    # <реализовать логику MSE>\n",
        "    return ((y_true - y_pred) ** 2).mean()"
      ]
    },
    {
      "cell_type": "code",
      "execution_count": null,
      "metadata": {
        "id": "NAyuDU9F1Vuz",
        "colab": {
          "base_uri": "https://localhost:8080/"
        },
        "outputId": "1137c659-66e9-40fc-84c6-4673433e903d"
      },
      "outputs": [
        {
          "output_type": "stream",
          "name": "stdout",
          "text": [
            "MSE: 6.41961669921875\n"
          ]
        }
      ],
      "source": [
        "inputs = torch.tensor([[1, 2, 3, 2.5], \n",
        "                       [2, 5, -1, 2], \n",
        "                       [-1.5, 2.7, 3.3, -0.8]])\n",
        "\n",
        "y = torch.tensor([2, 3, 4])\n",
        "# слой с одним нероном\n",
        "linear_layer = Linear(4, 1)\n",
        "\n",
        "mse_loss = MSELoss()\n",
        "res = mse_loss.forward(linear_layer.forward(inputs), y)\n",
        "print(f'MSE: {res}')"
      ]
    },
    {
      "cell_type": "markdown",
      "metadata": {
        "id": "uaR7rILd1eWR"
      },
      "source": [
        "2.3.2 Используя операции над матрицами и векторами из библиотеки `torch`, реализовать функцию потерь Categorical Cross-Entropy:\n",
        "\n",
        "<img src=\"https://i.ibb.co/93gy1dN/Screenshot-9.png\" width=\"200\">\n",
        "\n",
        "Создать полносвязный слой с 3 нейронами и прогнать через него батч `inputs`. Полученный результат пропустить через функцию активации softmax. Посчитать значение CCE, трактуя вектор `y` как вектор правильных ответов."
      ]
    },
    {
      "cell_type": "markdown",
      "source": [
        "CCE - метрика, позволяющая оценить, насколько хорошо функционирует модель классификации в машинном обучении."
      ],
      "metadata": {
        "id": "lQ_oVKmcxDrF"
      }
    },
    {
      "cell_type": "code",
      "execution_count": null,
      "metadata": {
        "id": "hQl8pJsT3HcF"
      },
      "outputs": [],
      "source": [
        "class CategoricalCrossentropyLoss:\n",
        "  def forward(self, y_pred, y_true):\n",
        "    # <реализовать логику CCE>\n",
        "    return -1 * (y_true * torch.log(y_pred)).sum(1)\n",
        "    #pass"
      ]
    },
    {
      "cell_type": "code",
      "execution_count": null,
      "metadata": {
        "id": "s7Qoupfo1ZGJ",
        "colab": {
          "base_uri": "https://localhost:8080/"
        },
        "outputId": "1e0ba7cd-65aa-40c1-cba1-cfa2511a9dcd"
      },
      "outputs": [
        {
          "output_type": "stream",
          "name": "stdout",
          "text": [
            "CCE loss: tensor([3.3493, 8.8195, 1.9476])\n"
          ]
        }
      ],
      "source": [
        "inputs = torch.tensor([[1, 2, 3, 2.5], \n",
        "                        [2, 5, -1, 2], \n",
        "                        [-1.5, 2.7, 3.3, -0.8]])\n",
        "y = torch.tensor([1, 0, 0])\n",
        "\n",
        "linear_layer = Linear(4, 3) #Слой с 3 нейронами\n",
        "\n",
        "softmax = Softmax()\n",
        "cce_loss = CategoricalCrossentropyLoss()\n",
        "res = cce_loss.forward(softmax.forward(linear_layer.forward(inputs)), y)\n",
        "print(f'CCE loss: {res}')"
      ]
    },
    {
      "cell_type": "markdown",
      "metadata": {
        "id": "fA6dbanf44_4"
      },
      "source": [
        "2.3.3 Модифицировать 2.3.1, добавив L2-регуляризацию.\n",
        "\n",
        "![](https://wikimedia.org/api/rest_v1/media/math/render/svg/d92ca2429275bfdc0474523babbafe014ca8b580)\n"
      ]
    },
    {
      "cell_type": "code",
      "execution_count": null,
      "metadata": {
        "id": "ADsZxD-h4_Os"
      },
      "outputs": [],
      "source": [
        "class MSELossL2:\n",
        "  def __init__(self, lambda_, layer, W=0.1):\n",
        "    # <создать атрибут объекта alpha>\n",
        "    self.lambda_ = lambda_\n",
        "    self.layer = layer\n",
        "    self.layer.W = W\n",
        "    #pass\n",
        "\n",
        "  def data_loss(self, y_pred, y_true):\n",
        "    # <подсчет первого слагаемого из формулы>\n",
        "    return (y_true - y_pred) ** 2\n",
        "    #pass\n",
        "\n",
        "  def reg_loss(self, layer):\n",
        "    # используйте атрибуты объекта layer, в которых хранятся веса слоя\n",
        "    # <подсчет второго слагаемого из формулы>\n",
        "    return self.lambda_ * (layer.W ** 2)\n",
        "    #pass\n",
        "\n",
        "  def forward(self, y_pred, y_true):\n",
        "    return self.data_loss(y_pred, y_true) + self.reg_loss(self.layer)"
      ]
    },
    {
      "cell_type": "code",
      "source": [
        "inputs = torch.tensor([[1, 2, 3, 2.5], \n",
        "                        [2, 5, -1, 2], \n",
        "                        [-1.5, 2.7, 3.3, -0.8]])\n",
        "y = torch.tensor([1, 0, 0])\n",
        "\n",
        "linear_layer = Linear(4, 3)\n",
        "layer_out = linear_layer.forward(inputs)\n",
        "\n",
        "softmax = Softmax()\n",
        "mse_loss = MSELossL2(1.5, linear_layer)\n",
        "res = mse_loss.forward(softmax.forward(layer_out), y)\n",
        "print(f'MSE loss: {res}')"
      ],
      "metadata": {
        "colab": {
          "base_uri": "https://localhost:8080/"
        },
        "id": "4SK_z9yMxSBF",
        "outputId": "10890466-fcd8-4763-c05b-bb4ffa6dc375"
      },
      "execution_count": null,
      "outputs": [
        {
          "output_type": "stream",
          "name": "stdout",
          "text": [
            "MSE loss: tensor([[0.7419, 0.0150, 0.7416],\n",
            "        [0.8907, 0.0150, 0.8806],\n",
            "        [1.0113, 0.0150, 1.0113]])\n"
          ]
        }
      ]
    },
    {
      "cell_type": "markdown",
      "metadata": {
        "id": "w049ZSdR6qQi"
      },
      "source": [
        "## 2.4 Обратное распространение ошибки"
      ]
    },
    {
      "cell_type": "markdown",
      "metadata": {
        "id": "pBtCfSME9W7Q"
      },
      "source": [
        "2.4.1 Используя один нейрон и SGD (1 пример за шаг), решите задачу регрессии"
      ]
    },
    {
      "cell_type": "code",
      "execution_count": null,
      "metadata": {
        "id": "4xmI-QJ66WAF"
      },
      "outputs": [],
      "source": [
        "from sklearn.datasets import make_regression\n",
        "\n",
        "X, y, coef = make_regression(n_features=4, n_informative=4, coef=True, bias=0.5)\n",
        "X = torch.tensor(X, dtype=torch.float32) # <преобразуйте массивы numpy в тензоры torch с типом torch.float32\n",
        "y = torch.tensor(y, dtype=torch.float32).view(-1, 1) # <преобразуйте массивы numpy в тензоры torch с типом torch.float32"
      ]
    },
    {
      "cell_type": "markdown",
      "metadata": {
        "id": "KpPSPYSpD9Ey"
      },
      "source": [
        "[Граф вычислений для этой задачи](https://i.ibb.co/2dhDxZx/photo-2021-02-15-17-18-04.jpg)"
      ]
    },
    {
      "cell_type": "markdown",
      "metadata": {
        "id": "Fc1sXtGd_J-y"
      },
      "source": [
        "2.4.1.1 Реализуйте класс `SquaredLoss`\n"
      ]
    },
    {
      "cell_type": "code",
      "execution_count": null,
      "metadata": {
        "id": "llFigkqd_JRU"
      },
      "outputs": [],
      "source": [
        "class SquaredLoss:\n",
        "  def forward(self, y_pred, y_true):\n",
        "    # <реализовать логику MSE>\n",
        "    return (y_pred - y_true) ** 2\n",
        "\n",
        "  def backward(self, y_pred, y_true):\n",
        "    self.dinput = 2 * (y_pred - y_true) # df/dc"
      ]
    },
    {
      "cell_type": "markdown",
      "metadata": {
        "id": "GY7ForfM97UQ"
      },
      "source": [
        "2.4.1.2. Модифицируйте класс `Neuron` из __2.1.1__:\n",
        "\n",
        "  1) Сделайте так, чтобы веса нейрона инициализировались из стандартного нормального распределения\n",
        "\n",
        "  2) Реализуйте расчет градиента относительно весов `weights` и `bias`"
      ]
    },
    {
      "cell_type": "code",
      "execution_count": null,
      "metadata": {
        "id": "L0KqxPJU9kAN"
      },
      "outputs": [],
      "source": [
        "class Neuron:\n",
        "  def __init__(self, n_inputs: int):\n",
        "    # <создать атрибуты объекта weights и bias>\n",
        "    self.n_inputs = n_inputs\n",
        "    self.weights = torch.randn(n_inputs)\n",
        "    self.bias = torch.randn(1)\n",
        "    #pass\n",
        "  \n",
        "  def forward(self, inputs):\n",
        "    self.inputs = inputs\n",
        "    return (self.inputs * self.weights).sum() + self.bias # <реализовать логику нейрона>\n",
        "  \n",
        "  def backward(self, dvalue):\n",
        "    # dvalue - значение производной, которое приходит нейрону от следующего слоя сети\n",
        "    # в данном случае это будет значение df/dc (созданное методом backwards у объекта MSELoss)\n",
        "    self.dweights = dvalue * self.inputs # df/dW\n",
        "    self.dinput =  dvalue * self.weights # df/wX\n",
        "    self.dbias = dvalue # df/db"
      ]
    },
    {
      "cell_type": "code",
      "source": [
        "inputs = torch.tensor([1.0, 2.0, 3.0, 4.0])\n",
        "\n",
        "naive_neuron = Neuron(4)\n",
        "out = naive_neuron.forward(inputs)\n",
        "print(out)"
      ],
      "metadata": {
        "colab": {
          "base_uri": "https://localhost:8080/"
        },
        "id": "ETIWQqarx4G3",
        "outputId": "a2246931-2b6e-469e-d37b-4efcae453ce4"
      },
      "execution_count": null,
      "outputs": [
        {
          "output_type": "stream",
          "name": "stdout",
          "text": [
            "tensor([-6.9994])\n"
          ]
        }
      ]
    },
    {
      "cell_type": "markdown",
      "metadata": {
        "id": "rKcO4zOLACxM"
      },
      "source": [
        "2.4.1.3 Допишите цикл для настройки весов нейрона\n",
        "\n",
        "[SGD](https://ru.wikipedia.org/wiki/%D0%A1%D1%82%D0%BE%D1%85%D0%B0%D1%81%D1%82%D0%B8%D1%87%D0%B5%D1%81%D0%BA%D0%B8%D0%B9_%D0%B3%D1%80%D0%B0%D0%B4%D0%B8%D0%B5%D0%BD%D1%82%D0%BD%D1%8B%D0%B9_%D1%81%D0%BF%D1%83%D1%81%D0%BA)\n",
        "\n",
        "![](https://wikimedia.org/api/rest_v1/media/math/render/svg/dda3670f8a8996a0d3bf80856bb4a166cc8db6d4)"
      ]
    },
    {
      "cell_type": "code",
      "source": [
        "import numpy as np\n",
        "#Устанавливаем начальное число для генерации случайных чисел\n",
        "torch.manual_seed(0)"
      ],
      "metadata": {
        "colab": {
          "base_uri": "https://localhost:8080/"
        },
        "id": "Z4M3dJgOx9Bu",
        "outputId": "06072719-a075-441d-9a5b-310c74c9cd5e"
      },
      "execution_count": null,
      "outputs": [
        {
          "output_type": "execute_result",
          "data": {
            "text/plain": [
              "<torch._C.Generator at 0x7efdf4c9ead0>"
            ]
          },
          "metadata": {},
          "execution_count": 248
        }
      ]
    },
    {
      "cell_type": "code",
      "source": [
        "print(y.size())\n",
        "print(X.size())"
      ],
      "metadata": {
        "colab": {
          "base_uri": "https://localhost:8080/"
        },
        "id": "AOhmCR6Cx_YN",
        "outputId": "38d7c094-23fa-4955-922c-e73b679fee5d"
      },
      "execution_count": null,
      "outputs": [
        {
          "output_type": "stream",
          "name": "stdout",
          "text": [
            "torch.Size([100, 1])\n",
            "torch.Size([100, 4])\n"
          ]
        }
      ]
    },
    {
      "cell_type": "code",
      "execution_count": null,
      "metadata": {
        "id": "_g_FvwvmALJd"
      },
      "outputs": [],
      "source": [
        "n_inputs = X.shape[1] # <размерность элемента выборки >\n",
        "learning_rate = 0.1 #  скорость обучения\n",
        "n_epoch = 100 #  количество эпох\n",
        "\n",
        "neuron = Neuron(n_inputs)\n",
        "loss = SquaredLoss()\n",
        "\n",
        "losses = []\n",
        "for epoch in range(100):\n",
        "  for x_example, y_example in zip(X, y):\n",
        "    # forward pass\n",
        "    y_pred = neuron.forward(x_example) # <прогон через нейрон>\n",
        "    curr_loss = loss.forward(y_pred, y_example) # <прогон через функцию потерь>\n",
        "    losses.append(curr_loss)\n",
        "\n",
        "    # backprop\n",
        "    # <вызов методов backward>\n",
        "    # обратите внимание на последовательность вызовов: от конца к началу\n",
        "    loss.backward(y_pred, y_example)\n",
        "    neuron.backward(loss.dinput)\n",
        "\n",
        "    # <шаг оптимизации для весов (weights и bias) нейрона>4\n",
        "    neuron.weights -= learning_rate * neuron.dweights\n",
        "    neuron.bias -= learning_rate * neuron.dbias"
      ]
    },
    {
      "cell_type": "code",
      "source": [
        "losses[::1000]"
      ],
      "metadata": {
        "colab": {
          "base_uri": "https://localhost:8080/"
        },
        "id": "-PIqgry40QuO",
        "outputId": "afe7e3c7-2279-4d4c-9d86-9a6f00557bd5"
      },
      "execution_count": null,
      "outputs": [
        {
          "output_type": "execute_result",
          "data": {
            "text/plain": [
              "[tensor([2636.1833]),\n",
              " tensor([1.4552e-11]),\n",
              " tensor([1.4552e-11]),\n",
              " tensor([1.4552e-11]),\n",
              " tensor([1.4552e-11]),\n",
              " tensor([1.4552e-11]),\n",
              " tensor([1.4552e-11]),\n",
              " tensor([1.4552e-11]),\n",
              " tensor([1.4552e-11]),\n",
              " tensor([1.4552e-11])]"
            ]
          },
          "metadata": {},
          "execution_count": 251
        }
      ]
    },
    {
      "cell_type": "code",
      "source": [
        "losses[:1000:20]"
      ],
      "metadata": {
        "colab": {
          "base_uri": "https://localhost:8080/"
        },
        "id": "zXemwnM92g47",
        "outputId": "b5e7001e-90f8-4810-a331-fa957360b5c5"
      },
      "execution_count": null,
      "outputs": [
        {
          "output_type": "execute_result",
          "data": {
            "text/plain": [
              "[tensor([2636.1833]),\n",
              " tensor([2487.7996]),\n",
              " tensor([1.5241]),\n",
              " tensor([0.0955]),\n",
              " tensor([0.0045]),\n",
              " tensor([0.0001]),\n",
              " tensor([0.0001]),\n",
              " tensor([3.0126e-06]),\n",
              " tensor([1.1014e-07]),\n",
              " tensor([1.4901e-08]),\n",
              " tensor([2.8522e-09]),\n",
              " tensor([2.3283e-10]),\n",
              " tensor([1.1005e-10]),\n",
              " tensor([0.]),\n",
              " tensor([0.]),\n",
              " tensor([1.3097e-10]),\n",
              " tensor([0.]),\n",
              " tensor([1.4552e-11]),\n",
              " tensor([3.2742e-11]),\n",
              " tensor([0.]),\n",
              " tensor([5.8208e-11]),\n",
              " tensor([0.]),\n",
              " tensor([9.0949e-11]),\n",
              " tensor([3.6380e-12]),\n",
              " tensor([0.]),\n",
              " tensor([1.3097e-10]),\n",
              " tensor([0.]),\n",
              " tensor([1.4552e-11]),\n",
              " tensor([1.4552e-11]),\n",
              " tensor([0.]),\n",
              " tensor([1.3097e-10]),\n",
              " tensor([2.3283e-10]),\n",
              " tensor([1.2451e-09]),\n",
              " tensor([9.0949e-11]),\n",
              " tensor([5.2387e-10]),\n",
              " tensor([2.3283e-10]),\n",
              " tensor([2.3283e-10]),\n",
              " tensor([1.3133e-09]),\n",
              " tensor([9.0949e-11]),\n",
              " tensor([5.2387e-10]),\n",
              " tensor([1.4552e-11]),\n",
              " tensor([2.3283e-10]),\n",
              " tensor([1.3133e-09]),\n",
              " tensor([9.0949e-11]),\n",
              " tensor([5.2387e-10]),\n",
              " tensor([2.3283e-10]),\n",
              " tensor([2.3283e-10]),\n",
              " tensor([1.3133e-09]),\n",
              " tensor([9.0949e-11]),\n",
              " tensor([5.2387e-10])]"
            ]
          },
          "metadata": {},
          "execution_count": 252
        }
      ]
    },
    {
      "cell_type": "markdown",
      "metadata": {
        "id": "ebibge9VEgF7"
      },
      "source": [
        "2.4.2 Решите задачу 2.4.1, используя пакетный градиентный спуск"
      ]
    },
    {
      "cell_type": "markdown",
      "metadata": {
        "id": "as-QeWSdOELd"
      },
      "source": [
        "Вычисления для этой задачи: \n",
        "[1](https://i.ibb.co/rmtQT6P/photo-2021-02-15-18-00-43.jpg)\n",
        "[2](https://i.ibb.co/NmCFVnQ/photo-2021-02-15-18-01-17.jpg)"
      ]
    },
    {
      "cell_type": "markdown",
      "metadata": {
        "id": "dr9qq4H_J3zt"
      },
      "source": [
        "2.4.2.1 Модифицируйте класс `MSELoss` из __2.3.1__, реализовав расчет производной относительно предыдущего слоя с учетом того, что теперь работа ведется с батчами, а не с индивидуальными примерами\n",
        " "
      ]
    },
    {
      "cell_type": "code",
      "execution_count": null,
      "metadata": {
        "id": "L8wjk9iPMQ4x"
      },
      "outputs": [],
      "source": [
        "class MSELoss:\n",
        "  def forward(self, y_pred, y_true):\n",
        "    # <реализовать логику MSE>\n",
        "    return torch.mean((y_pred - y_true) ** 2)\n",
        "\n",
        "  def backward(self, y_pred, y_true):\n",
        "    self.dinput = 2 * (y_pred - y_true) / y_pred.shape[0] # df/dy^"
      ]
    },
    {
      "cell_type": "markdown",
      "metadata": {
        "id": "E3fSHCEtJjX8"
      },
      "source": [
        "2.4.2.2. Модифицируйте класс `Neuron` из __2.4.1.2__:\n",
        "\n",
        "  1) Реализуйте метод `forward` таким образом, чтобы он мог принимать на вход матрицу (батч) с данными. \n",
        "\n",
        "  2) Реализуйте расчет градиента относительно весов `weights` и `bias` с учетом того, что теперь работа ведется с батчами, а не с индивидуальными примерами"
      ]
    },
    {
      "cell_type": "code",
      "execution_count": null,
      "metadata": {
        "id": "o_OpuAP0Jpz1"
      },
      "outputs": [],
      "source": [
        "class Neuron:\n",
        "  def __init__(self, n_inputs):\n",
        "    # <создать атрибуты объекта weights и bias>\n",
        "    self.n_inputs = n_inputs\n",
        "    self.weights = torch.randn(1, n_inputs).T\n",
        "    self.bias = torch.randn(1)\n",
        "    pass\n",
        "  \n",
        "  def forward(self, inputs):\n",
        "    self.inputs = inputs\n",
        "    # <реализовать логику нейрона>\n",
        "    return torch.matmul(inputs, self.weights) + self.bias\n",
        "  \n",
        "  def backward(self, dvalue):\n",
        "    # dvalue - значение градиента, которое приходит нейрону от следующего слоя сети\n",
        "    # в данном случае это будет градиент L по y^ (созданный методом backwards у объекта MSELoss)\n",
        "    self.dinputs = torch.matmul(dvalue, self.weights.T)\n",
        "    self.dweights = torch.matmul(self.inputs.T, dvalue) # df/dW\n",
        "    self.dbias = torch.sum(dvalue) # df/db"
      ]
    },
    {
      "cell_type": "markdown",
      "metadata": {
        "id": "zO-NZrgKMBFx"
      },
      "source": [
        "2.4.2.3 Допишите цикл для настройки весов нейрона"
      ]
    },
    {
      "cell_type": "code",
      "execution_count": null,
      "metadata": {
        "id": "Zqwm_7eqJim1",
        "colab": {
          "base_uri": "https://localhost:8080/"
        },
        "outputId": "56427489-e65c-4f04-fca6-71d79e15053d"
      },
      "outputs": [
        {
          "output_type": "execute_result",
          "data": {
            "text/plain": [
              "[tensor(4575.1108),\n",
              " tensor(2122.9668),\n",
              " tensor(992.6731),\n",
              " tensor(466.9208),\n",
              " tensor(220.6329),\n",
              " tensor(104.6253),\n",
              " tensor(49.7506),\n",
              " tensor(23.7079),\n",
              " tensor(11.3168),\n",
              " tensor(5.4092),\n",
              " tensor(2.5883),\n",
              " tensor(1.2396),\n",
              " tensor(0.5941),\n",
              " tensor(0.2849),\n",
              " tensor(0.1367),\n",
              " tensor(0.0656),\n",
              " tensor(0.0315),\n",
              " tensor(0.0151),\n",
              " tensor(0.0073),\n",
              " tensor(0.0035),\n",
              " tensor(0.0017),\n",
              " tensor(0.0008),\n",
              " tensor(0.0004),\n",
              " tensor(0.0002),\n",
              " tensor(8.9723e-05),\n",
              " tensor(4.3167e-05),\n",
              " tensor(2.0785e-05),\n",
              " tensor(1.0022e-05),\n",
              " tensor(4.8163e-06),\n",
              " tensor(2.3283e-06),\n",
              " tensor(1.1202e-06),\n",
              " tensor(5.3509e-07),\n",
              " tensor(2.7759e-07),\n",
              " tensor(1.3451e-07),\n",
              " tensor(6.6808e-08),\n",
              " tensor(3.8434e-08),\n",
              " tensor(3.0890e-08),\n",
              " tensor(3.0497e-08),\n",
              " tensor(3.0274e-08),\n",
              " tensor(3.0243e-08),\n",
              " tensor(3.0182e-08),\n",
              " tensor(3.0121e-08),\n",
              " tensor(3.0211e-08),\n",
              " tensor(3.0244e-08),\n",
              " tensor(3.0244e-08),\n",
              " tensor(3.0244e-08),\n",
              " tensor(3.0244e-08),\n",
              " tensor(3.0244e-08),\n",
              " tensor(3.0244e-08),\n",
              " tensor(3.0244e-08)]"
            ]
          },
          "metadata": {},
          "execution_count": 255
        }
      ],
      "source": [
        "n_inputs = X.shape[1] # <размерность элемента выборки >\n",
        "learning_rate = 0.01 #  скорость обучения\n",
        "n_epoch = 100 #  количество эпох\n",
        "\n",
        "neuron = Neuron(n_inputs)\n",
        "loss = MSELoss()\n",
        "losses = []\n",
        "\n",
        "for epoch in range(1000):\n",
        "    # forward pass\n",
        "    y_pred = neuron.forward(X) # <прогон через нейрон>\n",
        "    curr_loss = loss.forward(y_pred, y) # <прогон через функцию потерь>\n",
        "    losses.append(curr_loss)\n",
        "\n",
        "    # backprop\n",
        "    # <вызов методов backward>\n",
        "    # обратите внимание на последовательность вызовов: от конца к началу\n",
        "    loss.backward(y_pred, y)\n",
        "    neuron.backward(loss.dinput)\n",
        "\n",
        "    # <шаг оптимизации для весов (weights и bias) нейрона>\n",
        "    neuron.weights -= learning_rate * neuron.dweights\n",
        "    neuron.bias -= learning_rate * neuron.dbias\n",
        "    \n",
        "losses[::20]"
      ]
    },
    {
      "cell_type": "markdown",
      "metadata": {
        "id": "16VtP159OdMk"
      },
      "source": [
        "2.4.3  Используя один полносвязный слой и  пакетный градиетный спуск, решите задачу регрессии из __2.4.1__"
      ]
    },
    {
      "cell_type": "markdown",
      "metadata": {
        "id": "uj5febreSSZ7"
      },
      "source": [
        "2.4.3.1 Модифицируйте класс `Linear` из __2.1.4__. ([вычисление градиентов](https://i.ibb.co/kgVR6m6/photo-2021-02-15-21-30-28.jpg))"
      ]
    },
    {
      "cell_type": "code",
      "execution_count": null,
      "metadata": {
        "id": "9zWuhaLdSB2_"
      },
      "outputs": [],
      "source": [
        "class Linear:\n",
        "  def __init__(self, n_features, n_neurons):\n",
        "    # <создать атрибуты объекта weights и biases>\n",
        "    self.n_features = n_features\n",
        "    self.n_neurons = n_neurons\n",
        "    self.weights = torch.randn(n_neurons, n_features).T\n",
        "    self.biases = torch.randn(n_neurons)\n",
        "    #pass\n",
        "  \n",
        "  def forward(self, inputs):\n",
        "    self.inputs = inputs\n",
        "    # <реализовать логику слоя>\n",
        "    return torch.matmul(inputs, self.weights) + self.biases \n",
        "\n",
        "  def backward(self, dvalues):\n",
        "    self.dweights = torch.matmul(self.inputs.T, dvalues) # df/dW\n",
        "    self.dbiases = torch.matmul(torch.ones(dvalues.shape[0]), dvalues) # df/db\n",
        "    self.dinputs = torch.matmul(dvalues, self.weights.T) # df/dX"
      ]
    },
    {
      "cell_type": "markdown",
      "metadata": {
        "id": "j3w1hT9MS_Lt"
      },
      "source": [
        "2.4.3.2 Создайте слой с одним нейроном. Используя класс MSELoss из 2.4.2, убедитесь, что модель обучается"
      ]
    },
    {
      "cell_type": "code",
      "source": [
        "n_inputs = X.shape[1]  # <размерность элемента выборки >\n",
        "learning_rate = 0.01  #  скорость обучения\n",
        "n_epoch = 1000  #  количество эпох\n",
        "\n",
        "layer = Linear(n_inputs, 1)\n",
        "loss = MSELoss()\n",
        "\n",
        "losses = []\n",
        "\n",
        "for epoch in range(n_epoch):\n",
        "    # forward pass\n",
        "    y_pred = layer.forward(X)  # <прогон через нейрон>\n",
        "    curr_loss = loss.forward(y_pred, y)  # <прогон через функцию потерь>\n",
        "    losses.append(curr_loss)\n",
        "\n",
        "    # backprop\n",
        "    # <вызов методов backward>\n",
        "    # обратите внимание на последовательность вызовов: от конца к началу\n",
        "    loss.backward(y_pred, y)\n",
        "    layer.backward(loss.dinput)\n",
        "\n",
        "    # <шаг оптимизации для весов (weights и bias) нейрона>\n",
        "    layer.weights -= learning_rate * layer.dweights\n",
        "    layer.biases -= learning_rate * layer.dbiases\n",
        "\n",
        "losses[::20]"
      ],
      "metadata": {
        "colab": {
          "base_uri": "https://localhost:8080/"
        },
        "id": "8vs7vAgd5yi5",
        "outputId": "40df9bca-b2e0-437c-be20-63e391475bb2"
      },
      "execution_count": null,
      "outputs": [
        {
          "output_type": "execute_result",
          "data": {
            "text/plain": [
              "[tensor(4483.4761),\n",
              " tensor(2082.8269),\n",
              " tensor(974.4116),\n",
              " tensor(458.3700),\n",
              " tensor(216.5469),\n",
              " tensor(102.6464),\n",
              " tensor(48.7844),\n",
              " tensor(23.2339),\n",
              " tensor(11.0837),\n",
              " tensor(5.2945),\n",
              " tensor(2.5318),\n",
              " tensor(1.2118),\n",
              " tensor(0.5804),\n",
              " tensor(0.2782),\n",
              " tensor(0.1334),\n",
              " tensor(0.0640),\n",
              " tensor(0.0307),\n",
              " tensor(0.0147),\n",
              " tensor(0.0071),\n",
              " tensor(0.0034),\n",
              " tensor(0.0016),\n",
              " tensor(0.0008),\n",
              " tensor(0.0004),\n",
              " tensor(0.0002),\n",
              " tensor(8.7337e-05),\n",
              " tensor(4.1980e-05),\n",
              " tensor(2.0216e-05),\n",
              " tensor(9.7289e-06),\n",
              " tensor(4.6952e-06),\n",
              " tensor(2.2588e-06),\n",
              " tensor(1.0884e-06),\n",
              " tensor(5.1875e-07),\n",
              " tensor(2.6817e-07),\n",
              " tensor(1.3114e-07),\n",
              " tensor(6.5109e-08),\n",
              " tensor(3.7389e-08),\n",
              " tensor(3.0832e-08),\n",
              " tensor(3.0537e-08),\n",
              " tensor(3.0244e-08),\n",
              " tensor(3.0218e-08),\n",
              " tensor(3.0179e-08),\n",
              " tensor(3.0235e-08),\n",
              " tensor(3.0210e-08),\n",
              " tensor(3.0244e-08),\n",
              " tensor(3.0244e-08),\n",
              " tensor(3.0244e-08),\n",
              " tensor(3.0244e-08),\n",
              " tensor(3.0244e-08),\n",
              " tensor(3.0244e-08),\n",
              " tensor(3.0244e-08)]"
            ]
          },
          "metadata": {},
          "execution_count": 257
        }
      ]
    },
    {
      "cell_type": "markdown",
      "metadata": {
        "id": "RTkJV-F8TVuN"
      },
      "source": [
        "2.4.4 Используя наработки из 2.4, создайте нейросеть и решите задачу регрессии.\n",
        "\n",
        "Предлагаемая архитектура: \n",
        "1. Полносвязный слой с 10 нейронами\n",
        "2. Активация ReLU\n",
        "3. Полносвязный слой с 1 нейроном"
      ]
    },
    {
      "cell_type": "code",
      "execution_count": null,
      "metadata": {
        "id": "axUjpPz-SvS1"
      },
      "outputs": [],
      "source": [
        "X = torch.linspace(-1, 1, 100).view(-1, 1) #возвращаем одномерный тензор шагов,равномерно распределенных по точкам между началом и концом\n",
        "y = X.pow(2) + 0.2 * torch.rand(X.size())"
      ]
    },
    {
      "cell_type": "code",
      "execution_count": null,
      "metadata": {
        "id": "LXoiNxkpTziV"
      },
      "outputs": [],
      "source": [
        "class Activation_ReLU:\n",
        "    def forward(self, inputs):\n",
        "        self.inputs = inputs\n",
        "        self.output = inputs.clip(min=0)\n",
        "        return self.output\n",
        "  \n",
        "    def backward(self, dvalues):\n",
        "        self.dinputs = dvalues.clone()\n",
        "        self.dinputs[self.inputs <= 0] = 0"
      ]
    },
    {
      "cell_type": "code",
      "execution_count": null,
      "metadata": {
        "id": "tXhspwW6T44T",
        "colab": {
          "base_uri": "https://localhost:8080/"
        },
        "outputId": "547cbbb6-09e3-4c5e-b26a-0927df4b46d9"
      },
      "outputs": [
        {
          "output_type": "stream",
          "name": "stdout",
          "text": [
            "epoch 0 mean loss 0.700754702091217\n",
            "epoch 200 mean loss 0.01805739291012287\n",
            "epoch 400 mean loss 0.009694485925137997\n",
            "epoch 600 mean loss 0.0072747524827718735\n",
            "epoch 800 mean loss 0.0062596844509243965\n",
            "epoch 1000 mean loss 0.005669752135872841\n",
            "epoch 1200 mean loss 0.005189425311982632\n",
            "epoch 1400 mean loss 0.004744383040815592\n",
            "epoch 1600 mean loss 0.0044317180290818214\n",
            "epoch 1800 mean loss 0.004009791649878025\n",
            "epoch 2000 mean loss 0.0033867722377181053\n"
          ]
        }
      ],
      "source": [
        "# создание компонентов сети\n",
        "fc1 = Linear(X.shape[1], 10)\n",
        "relu1 = Activation_ReLU()\n",
        "fc2 = Linear(10, 1)\n",
        "\n",
        "loss = MSELoss()\n",
        "lr = 0.02\n",
        "\n",
        "ys = []\n",
        "for epoch in range(2001):\n",
        "  # <forward pass>\n",
        "  # fc1 > relu1 > fc2 > loss\n",
        "  y_pred = fc2.forward(relu1.forward(fc1.forward(X)))\n",
        "\n",
        "  data_loss = loss.forward(y_pred, y) # <прогон через функцию потерь>\n",
        "\n",
        "  if epoch % 200 == 0:\n",
        "    print(f'epoch {epoch} mean loss {data_loss}')\n",
        "    ys.append(y_pred)\n",
        "  \n",
        "  # <backprop> \n",
        "  # loss > fc2 > relu1 > fc1\n",
        "  loss.backward(y_pred, y)\n",
        "  fc2.backward(loss.dinput)\n",
        "  relu1.backward(fc2.dinputs)\n",
        "  fc1.backward(relu1.dinputs)\n",
        "\n",
        "  # <шаг оптимизации для fc1>\n",
        "  fc1.weights -= lr * fc1.dweights\n",
        "  fc1.biases -= lr * fc1.dbiases\n",
        "  \n",
        "  # <шаг оптимизации для fc2>\n",
        "  fc2.weights -= lr * fc2.dweights\n",
        "  fc2.biases -= lr * fc2.dbiases"
      ]
    },
    {
      "cell_type": "code",
      "execution_count": null,
      "metadata": {
        "id": "kpKi0OfoUkwk",
        "colab": {
          "base_uri": "https://localhost:8080/",
          "height": 1000
        },
        "outputId": "7e161e62-86b1-4069-bca0-66ec1339e9b1"
      },
      "outputs": [
        {
          "output_type": "display_data",
          "data": {
            "text/plain": [
              "<Figure size 720x2880 with 11 Axes>"
            ],
            "image/png": "[encoded data removed]"
          },
          "metadata": {
            "needs_background": "light"
          }
        }
      ],
      "source": [
        "import matplotlib.pyplot as plt\n",
        "\n",
        "fig, axs = plt.subplots(len(ys), 1, figsize=(10, 40))\n",
        "for ax, y_ in zip(axs, ys):\n",
        "  ax.scatter(X.numpy(), y.numpy(), color = \"orange\")\n",
        "  ax.plot(X.numpy(), y_.numpy(), 'g-', lw=3)\n",
        "  ax.set_xlim(-1.05, 1.5)\n",
        "  ax.set_ylim(-0.25, 1.25)"
      ]
    }
  ],
  "metadata": {
    "colab": {
      "provenance": []
    },
    "kernelspec": {
      "display_name": "Python 3 (ipykernel)",
      "language": "python",
      "name": "python3"
    },
    "language_info": {
      "codemirror_mode": {
        "name": "ipython",
        "version": 3
      },
      "file_extension": ".py",
      "mimetype": "text/x-python",
      "name": "python",
      "nbconvert_exporter": "python",
      "pygments_lexer": "ipython3",
      "version": "3.9.13"
    }
  },
  "nbformat": 4,
  "nbformat_minor": 0
}