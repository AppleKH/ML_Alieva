{
  "cells": [
    {
      "cell_type": "code",
      "execution_count": null,
      "metadata": {
        "colab": {
          "base_uri": "https://localhost:8080/"
        },
        "id": "zKMq7dp2W15Y",
        "outputId": "421c7bd8-4956-4be4-caa2-ff3f33ef0aa3"
      },
      "outputs": [
        {
          "output_type": "stream",
          "name": "stderr",
          "text": [
            "[nltk_data] Downloading package punkt to /root/nltk_data...\n",
            "[nltk_data]   Unzipping tokenizers/punkt.zip.\n"
          ]
        },
        {
          "output_type": "execute_result",
          "data": {
            "text/plain": [
              "True"
            ]
          },
          "metadata": {},
          "execution_count": 1
        }
      ],
      "source": [
        "import re\n",
        "import nltk\n",
        "\n",
        "import torch\n",
        "from torch.utils.data import Dataset, DataLoader\n",
        "import torch.nn as nn\n",
        "import torch.optim as optim\n",
        "\n",
        "import pandas as pd\n",
        "from sklearn.model_selection import train_test_split\n",
        "from sklearn.metrics import accuracy_score\n",
        "from nltk.tokenize import word_tokenize, sent_tokenize\n",
        "from sklearn.preprocessing import LabelEncoder\n",
        "nltk.download('punkt')"
      ]
    },
    {
      "cell_type": "code",
      "execution_count": null,
      "metadata": {
        "colab": {
          "base_uri": "https://localhost:8080/"
        },
        "id": "hBkqaK5bawXN",
        "outputId": "fc966c3d-4460-4f15-b731-778a91212d1e"
      },
      "outputs": [
        {
          "output_type": "stream",
          "name": "stdout",
          "text": [
            "Mounted at /content/drive/\n"
          ]
        }
      ],
      "source": [
        "from google.colab import drive\n",
        "drive.mount('/content/drive/')"
      ]
    },
    {
      "cell_type": "code",
      "execution_count": null,
      "metadata": {
        "colab": {
          "base_uri": "https://localhost:8080/"
        },
        "id": "0qOQwNlZbFiO",
        "outputId": "81d6ba97-dfa6-413d-8ec5-87556e73847e"
      },
      "outputs": [
        {
          "output_type": "stream",
          "name": "stdout",
          "text": [
            "/content/drive/MyDrive/datasets\n"
          ]
        }
      ],
      "source": [
        "cd drive/MyDrive/datasets"
      ]
    },
    {
      "cell_type": "code",
      "source": [
        "#проверяем наличие доступного графического процессора (GPU)\n",
        "device = \"cuda\" if torch.cuda.is_available() else \"cpu\"\n",
        "device"
      ],
      "metadata": {
        "colab": {
          "base_uri": "https://localhost:8080/",
          "height": 36
        },
        "id": "yzOgxekZaCLu",
        "outputId": "abb3e982-3181-4083-d094-1672325e7e38"
      },
      "execution_count": null,
      "outputs": [
        {
          "output_type": "execute_result",
          "data": {
            "text/plain": [
              "'cuda'"
            ],
            "application/vnd.google.colaboratory.intrinsic+json": {
              "type": "string"
            }
          },
          "metadata": {},
          "execution_count": 15
        }
      ]
    },
    {
      "cell_type": "markdown",
      "source": [
        "Если GPU доступен, переменной device присваивается значение 'cuda', что означает использование GPU для вычислений. Если GPU недоступен, переменной device присваивается значение 'cpu', что означает использование центрального процессора (CPU) для вычислений."
      ],
      "metadata": {
        "id": "1Tfu1QvFb-yS"
      }
    },
    {
      "cell_type": "markdown",
      "metadata": {
        "id": "WmWCBWxrBUB3"
      },
      "source": [
        "## 1. Генерирование русских имен при помощи RNN"
      ]
    },
    {
      "cell_type": "code",
      "source": [
        "#загружаем данные из файла\n",
        "names = pd.read_csv(\"/content/drive/MyDrive/datasets/name_rus.txt\", encoding=\"cp1251\", header=None, names=[\"name\"])\n",
        "names.name = names.name.str.lower().str.strip() #приводим все строки к нижнему регистру и удаляем пробелы в начале и конце строк\n",
        "names"
      ],
      "metadata": {
        "colab": {
          "base_uri": "https://localhost:8080/",
          "height": 423
        },
        "id": "aNklGaXnaJo3",
        "outputId": "efdd0d52-5855-4509-a76e-0d2aecbb9ff2"
      },
      "execution_count": null,
      "outputs": [
        {
          "output_type": "execute_result",
          "data": {
            "text/plain": [
              "            name\n",
              "0        авдокея\n",
              "1        авдоким\n",
              "2         авдоня\n",
              "3       авдотька\n",
              "4     авдотьюшка\n",
              "...          ...\n",
              "1983     ярополк\n",
              "1984     ярослав\n",
              "1985    ярослава\n",
              "1986   ярославка\n",
              "1987         яша\n",
              "\n",
              "[1988 rows x 1 columns]"
            ],
            "text/html": [
              "\n",
              "  <div id=\"df-06ce237e-bbaf-4552-9bb4-0a33555f07a7\">\n",
              "    <div class=\"colab-df-container\">\n",
              "      <div>\n",
              "<style scoped>\n",
              "    .dataframe tbody tr th:only-of-type {\n",
              "        vertical-align: middle;\n",
              "    }\n",
              "\n",
              "    .dataframe tbody tr th {\n",
              "        vertical-align: top;\n",
              "    }\n",
              "\n",
              "    .dataframe thead th {\n",
              "        text-align: right;\n",
              "    }\n",
              "</style>\n",
              "<table border=\"1\" class=\"dataframe\">\n",
              "  <thead>\n",
              "    <tr style=\"text-align: right;\">\n",
              "      <th></th>\n",
              "      <th>name</th>\n",
              "    </tr>\n",
              "  </thead>\n",
              "  <tbody>\n",
              "    <tr>\n",
              "      <th>0</th>\n",
              "      <td>авдокея</td>\n",
              "    </tr>\n",
              "    <tr>\n",
              "      <th>1</th>\n",
              "      <td>авдоким</td>\n",
              "    </tr>\n",
              "    <tr>\n",
              "      <th>2</th>\n",
              "      <td>авдоня</td>\n",
              "    </tr>\n",
              "    <tr>\n",
              "      <th>3</th>\n",
              "      <td>авдотька</td>\n",
              "    </tr>\n",
              "    <tr>\n",
              "      <th>4</th>\n",
              "      <td>авдотьюшка</td>\n",
              "    </tr>\n",
              "    <tr>\n",
              "      <th>...</th>\n",
              "      <td>...</td>\n",
              "    </tr>\n",
              "    <tr>\n",
              "      <th>1983</th>\n",
              "      <td>ярополк</td>\n",
              "    </tr>\n",
              "    <tr>\n",
              "      <th>1984</th>\n",
              "      <td>ярослав</td>\n",
              "    </tr>\n",
              "    <tr>\n",
              "      <th>1985</th>\n",
              "      <td>ярослава</td>\n",
              "    </tr>\n",
              "    <tr>\n",
              "      <th>1986</th>\n",
              "      <td>ярославка</td>\n",
              "    </tr>\n",
              "    <tr>\n",
              "      <th>1987</th>\n",
              "      <td>яша</td>\n",
              "    </tr>\n",
              "  </tbody>\n",
              "</table>\n",
              "<p>1988 rows × 1 columns</p>\n",
              "</div>\n",
              "      <button class=\"colab-df-convert\" onclick=\"convertToInteractive('df-06ce237e-bbaf-4552-9bb4-0a33555f07a7')\"\n",
              "              title=\"Convert this dataframe to an interactive table.\"\n",
              "              style=\"display:none;\">\n",
              "        \n",
              "  <svg xmlns=\"http://www.w3.org/2000/svg\" height=\"24px\"viewBox=\"0 0 24 24\"\n",
              "       width=\"24px\">\n",
              "    <path d=\"M0 0h24v24H0V0z\" fill=\"none\"/>\n",
              "    <path d=\"M18.56 5.44l.94 2.06.94-2.06 2.06-.94-2.06-.94-.94-2.06-.94 2.06-2.06.94zm-11 1L8.5 8.5l.94-2.06 2.06-.94-2.06-.94L8.5 2.5l-.94 2.06-2.06.94zm10 10l.94 2.06.94-2.06 2.06-.94-2.06-.94-.94-2.06-.94 2.06-2.06.94z\"/><path d=\"M17.41 7.96l-1.37-1.37c-.4-.4-.92-.59-1.43-.59-.52 0-1.04.2-1.43.59L10.3 9.45l-7.72 7.72c-.78.78-.78 2.05 0 2.83L4 21.41c.39.39.9.59 1.41.59.51 0 1.02-.2 1.41-.59l7.78-7.78 2.81-2.81c.8-.78.8-2.07 0-2.86zM5.41 20L4 18.59l7.72-7.72 1.47 1.35L5.41 20z\"/>\n",
              "  </svg>\n",
              "      </button>\n",
              "      \n",
              "  <style>\n",
              "    .colab-df-container {\n",
              "      display:flex;\n",
              "      flex-wrap:wrap;\n",
              "      gap: 12px;\n",
              "    }\n",
              "\n",
              "    .colab-df-convert {\n",
              "      background-color: #E8F0FE;\n",
              "      border: none;\n",
              "      border-radius: 50%;\n",
              "      cursor: pointer;\n",
              "      display: none;\n",
              "      fill: #1967D2;\n",
              "      height: 32px;\n",
              "      padding: 0 0 0 0;\n",
              "      width: 32px;\n",
              "    }\n",
              "\n",
              "    .colab-df-convert:hover {\n",
              "      background-color: #E2EBFA;\n",
              "      box-shadow: 0px 1px 2px rgba(60, 64, 67, 0.3), 0px 1px 3px 1px rgba(60, 64, 67, 0.15);\n",
              "      fill: #174EA6;\n",
              "    }\n",
              "\n",
              "    [theme=dark] .colab-df-convert {\n",
              "      background-color: #3B4455;\n",
              "      fill: #D2E3FC;\n",
              "    }\n",
              "\n",
              "    [theme=dark] .colab-df-convert:hover {\n",
              "      background-color: #434B5C;\n",
              "      box-shadow: 0px 1px 3px 1px rgba(0, 0, 0, 0.15);\n",
              "      filter: drop-shadow(0px 1px 2px rgba(0, 0, 0, 0.3));\n",
              "      fill: #FFFFFF;\n",
              "    }\n",
              "  </style>\n",
              "\n",
              "      <script>\n",
              "        const buttonEl =\n",
              "          document.querySelector('#df-06ce237e-bbaf-4552-9bb4-0a33555f07a7 button.colab-df-convert');\n",
              "        buttonEl.style.display =\n",
              "          google.colab.kernel.accessAllowed ? 'block' : 'none';\n",
              "\n",
              "        async function convertToInteractive(key) {\n",
              "          const element = document.querySelector('#df-06ce237e-bbaf-4552-9bb4-0a33555f07a7');\n",
              "          const dataTable =\n",
              "            await google.colab.kernel.invokeFunction('convertToInteractive',\n",
              "                                                     [key], {});\n",
              "          if (!dataTable) return;\n",
              "\n",
              "          const docLinkHtml = 'Like what you see? Visit the ' +\n",
              "            '<a target=\"_blank\" href=https://colab.research.google.com/notebooks/data_table.ipynb>data table notebook</a>'\n",
              "            + ' to learn more about interactive tables.';\n",
              "          element.innerHTML = '';\n",
              "          dataTable['output_type'] = 'display_data';\n",
              "          await google.colab.output.renderOutput(dataTable, element);\n",
              "          const docLink = document.createElement('div');\n",
              "          docLink.innerHTML = docLinkHtml;\n",
              "          element.appendChild(docLink);\n",
              "        }\n",
              "      </script>\n",
              "    </div>\n",
              "  </div>\n",
              "  "
            ]
          },
          "metadata": {},
          "execution_count": 16
        }
      ]
    },
    {
      "cell_type": "markdown",
      "metadata": {
        "id": "990obDBwCC7V"
      },
      "source": [
        "Датасет: https://disk.yandex.ru/i/2yt18jHUgVEoIw\n",
        "\n",
        "1.1 На основе файла name_rus.txt создайте датасет.\n",
        "  * Учтите, что имена могут иметь различную длину\n",
        "  * Добавьте 4 специальных токена: \n",
        "    * `<PAD>` для дополнения последовательности до нужной длины;\n",
        "    * `<UNK>` для корректной обработки ранее не встречавшихся токенов;\n",
        "    * `<SOS>` для обозначения начала последовательности;\n",
        "    * `<EOS>` для обозначения конца последовательности.\n",
        "  * Преобразовывайте строку в последовательность индексов с учетом следующих замечаний:\n",
        "    * в начало последовательности добавьте токен `<SOS>`;\n",
        "    * в конец последовательности добавьте токен `<EOS>` и, при необходимости, несколько токенов `<PAD>`;\n",
        "  * `Dataset.__get_item__` возращает две последовательности: последовательность для обучения и правильный ответ. \n",
        "  \n",
        "  Пример:\n",
        "  ```\n",
        "  s = 'The cat sat on the mat'\n",
        "  # преобразуем в индексы\n",
        "  s_idx = [2, 5, 1, 2, 8, 4, 7, 3, 0, 0]\n",
        "  # получаем x и y (__getitem__)\n",
        "  x = [2, 5, 1, 2, 8, 4, 7, 3, 0]\n",
        "  y = [5, 1, 2, 8, 4, 7, 3, 0, 0]\n",
        "  ```"
      ]
    },
    {
      "cell_type": "code",
      "source": [
        "#создаем класс, который используется для создания словаря на основе имен, переданных в конструкторе\n",
        "class Vocab:\n",
        "    def __init__(self, names):\n",
        "        xs = names.iloc[:, 0] #извлекаем первый столбец\n",
        "        self.max_seq_len = xs.str.len().max() #находим максимальную длину строки\n",
        "        tokens = set() #создаем пустое множество\n",
        "        for name in xs:\n",
        "            tokens.update(name) #добавляем каждый символ из текущего имени в множество\n",
        "            #создаем словарь, в котором ключами являются целочисленные индексы, начиная с 4,а значениями - символы из множества tokens:\n",
        "        self.idx_to_token = dict(enumerate(tokens, 4))  #т.е. каждому символу присваивается уникальный индекс\n",
        "        # добавляем специальные символы в словарь:\n",
        "        self.idx_to_token[0] = \"<PAD>\" #представляет пустые символы для заполнения последовательностей\n",
        "        self.idx_to_token[1] = \"<UNK>\" #представляет неизвестные символы\n",
        "        self.idx_to_token[2] = \"<SOS>\" #представляет начало последовательности\n",
        "        self.idx_to_token[3] = \"<EOS>\" #представляет конец последовательности\n",
        "        #создаем обратное отображение, где символы являются ключами, а индексы - значениями:\n",
        "        self.token_to_idx = {token: idx for idx, token in self.idx_to_token.items()} #т.е. можно быстро получить индекс символа, зная сам символ\n",
        "        self.vocab_len = len(self.idx_to_token) #сохраняем общее количество уникальных символов (длину словаря) "
      ],
      "metadata": {
        "id": "dsze1YFDatgu"
      },
      "execution_count": null,
      "outputs": []
    },
    {
      "cell_type": "code",
      "source": [
        "#создаем класс, который представляет собой пользовательский датасет для работы с именами на русском языке\n",
        "class RusNamesDataset(Dataset):\n",
        "    def __init__(self, X, vocab: Vocab):\n",
        "        self.X = X #сохраняется список имен X\n",
        "        self.vocab = vocab #сохраняется объект класса Vocab\n",
        "\n",
        "    def vectorize(self, surname): #преобразование фамилии в вектор, состоящий из числовых индексов\n",
        "        surname = surname[:vocab.max_seq_len] #обрезаем фамилию до максимальной длины\n",
        "        surname_t = torch.zeros(self.vocab.max_seq_len+2).type(torch.long) #создаем пустой тензор \n",
        "        surname_t += self.vocab.token_to_idx[\"<PAD>\"] #все элементы тензора заполняем значением индекса символа <PAD>\n",
        "        for i, token in enumerate(surname, 1): #перебираем символы в обрезанной фамилии\n",
        "            #если символ token присутствует в словаре, то соответствующему элементу в тензоре surname_t присваивается индекс этого символа\n",
        "            try:\n",
        "                surname_t[i] = self.vocab.token_to_idx[token]\n",
        "            #если символ отсутствует в словаре (IndexError), то присваивается индекс символа <UNK> (неизвестный символ)\n",
        "            except IndexError as e:\n",
        "                surname_t[i] = self.vocab.token_to_idx[\"<UNK>\"]\n",
        "        #устанавливаем первый и последний элементы тензора равными индексам символов <SOS> и <EOS>\n",
        "        surname_t[0] = self.vocab.token_to_idx[\"<SOS>\"]\n",
        "        surname_t[-1] = self.vocab.token_to_idx[\"<EOS>\"]\n",
        "        return surname_t[:-1], surname_t[1:]\n",
        "        #возвращаем в виде кортежа, содержащего два тензора: \n",
        "        #первый с символами фамилии за исключением последнего символа и второй с символами фамилии за исключением первого символа\n",
        "\n",
        "    def __len__(self): #возвращаем длину датасета, то есть количество имен в списке\n",
        "        return len(self.X)\n",
        "\n",
        "    def __getitem__(self, idx): #получаем элемент датасета по индексу \n",
        "        return self.vectorize(self.X[idx])"
      ],
      "metadata": {
        "id": "pT7acdNiavdC"
      },
      "execution_count": null,
      "outputs": []
    },
    {
      "cell_type": "code",
      "source": [
        "vocab = Vocab(names) #создаем объект, который служит для создания словаря на основе имен\n",
        "dataset = RusNamesDataset(names.name.values, vocab) #создаем объект, который представляет собой пользовательский датасет для работы с именами на русском языке\n",
        "dataloader = DataLoader(dataset, batch_size=32, shuffle=True) #создаем объект, который служит для эффективной загрузки данных из датасета в модель обучения"
      ],
      "metadata": {
        "id": "gEpUtufJax67"
      },
      "execution_count": null,
      "outputs": []
    },
    {
      "cell_type": "markdown",
      "source": [
        "1.2 Создайте и обучите модель для генерации фамилии.\n",
        "\n",
        "  * Для преобразования последовательности индексов в последовательность векторов используйте `nn.Embedding`;\n",
        "  * Используйте рекуррентные слои;\n",
        "  * Задача ставится как предсказание следующего токена в каждом примере из пакета для каждого момента времени. Т.е. в данный момент времени по текущей подстроке предсказывает следующий символ для данной строки (задача классификации);\n",
        "  * Примерная схема реализации метода `forward`:\n",
        "  ```\n",
        "    input_X: [batch_size x seq_len] -> nn.Embedding -> emb_X: [batch_size x seq_len x embedding_size]\n",
        "    emb_X: [batch_size x seq_len x embedding_size] -> nn.RNN -> output: [batch_size x seq_len x hidden_size] \n",
        "    output: [batch_size x seq_len x hidden_size] -> torch.Tensor.reshape -> output: [batch_size * seq_len x hidden_size]\n",
        "    output: [batch_size * seq_len x hidden_size] -> nn.Linear -> output: [batch_size * seq_len x vocab_size]\n",
        "  ```"
      ],
      "metadata": {
        "id": "SoAF_2xUanXj"
      }
    },
    {
      "cell_type": "code",
      "source": [
        "#создаем класс, который представляет собой модель нейронной сети для обработки имен на русском языке\n",
        "class MyModel(nn.Module):\n",
        "    def __init__(self, vocab_len, embedding_dim, hidden_size, padding_idx, num_layers=1):\n",
        "        super(MyModel, self).__init__()\n",
        "        #слой эмбеддингов (nn.Embedding), который отображает индексы символов в векторные представления заданной размерности\n",
        "        self.embedding = nn.Embedding(padding_idx=padding_idx, num_embeddings=vocab_len, embedding_dim=embedding_dim)\n",
        "        # слой рекуррентной нейронной сети (nn.RNN), который принимает векторные представления символов и вычисляет скрытые состояния RNN\n",
        "        self.rnn = nn.RNN(num_layers=num_layers, batch_first=True, input_size=embedding_dim, hidden_size=hidden_size)\n",
        "        #полносвязный слой (nn.Linear), который преобразует скрытые состояния RNN в векторные представления символов\n",
        "        self.fc = nn.Linear(in_features=hidden_size, out_features=vocab_len)\n",
        "    \n",
        "    def forward(self, x, h=None): #определяет проход данных через модель\n",
        "        x = self.embedding(x) #тензор с индексами символов\n",
        "        x, h = self.rnn(x, h) #скрытое состояние RNN\n",
        "        x = self.fc(x) #предсказания для каждого символа в словаре\n",
        "        return x, h"
      ],
      "metadata": {
        "id": "3qj3gbmya0L-"
      },
      "execution_count": null,
      "outputs": []
    },
    {
      "cell_type": "code",
      "source": [
        "model = MyModel(\n",
        "    vocab_len=vocab.vocab_len,\n",
        "    embedding_dim=32,\n",
        "    hidden_size=64,\n",
        "    padding_idx=vocab.token_to_idx[\"<PAD>\"],\n",
        ")\n",
        "criterion = nn.CrossEntropyLoss() #используется для вычисления потери (ошибки) между предсказанными значениями и истинными метками\n",
        "optimizer = optim.Adam(params=model.parameters(), lr=0.001) #используется для получения параметров модели, которые будут оптимизироваться"
      ],
      "metadata": {
        "id": "hhgLCijMa2Ov"
      },
      "execution_count": null,
      "outputs": []
    },
    {
      "cell_type": "code",
      "source": [
        "#обучение модели\n",
        "epoch_step = 10 #шаги вывода информации о потере\n",
        "n_epochs = 101\n",
        "epoch_list = []\n",
        "loss_list = []\n",
        "for epoch in range(n_epochs):\n",
        "    #создаем пустые тензоры для хранения предсказанных значений и истинных меток классов\n",
        "    y_pred = torch.empty(0)\n",
        "    y_true = torch.empty(0, dtype=torch.long)\n",
        "    #переводим модель в режим обучения\n",
        "    model.train()\n",
        "    #итерация по пакетам данных из объекта dataloader\n",
        "    for X_batch, y_batch in dataloader:\n",
        "        optimizer.zero_grad() #обнуляем накопленные градиенты\n",
        "        predictions, h = model(X_batch) #вызываем модель, чтобы получить предсказания и скрытое состояние\n",
        "        loss = criterion(predictions.transpose(1, -1), y_batch) #вычисляем потери (ошибки)\n",
        "        loss.backward() #вычисляем градиенты функции потерь по параметрам модели\n",
        "        optimizer.step() #обновляем параметры модели, применение градиента\n",
        "        with torch.no_grad(): #вычисляем предсказанные значений y_pred и истинные меток y_true\n",
        "            y_true = torch.cat((y_true, y_batch))\n",
        "            y_pred = torch.cat((y_pred, predictions))\n",
        "    with torch.no_grad(): #вычисляем потерю обучения\n",
        "        train_loss = criterion(y_pred.transpose(1, -1), y_true).item()\n",
        "    #если текущая эпоха epoch кратна epoch_step, выводится информация о потере обучения на текущей эпохе\n",
        "    if epoch % epoch_step == 0:\n",
        "        epoch_list.append(epoch)\n",
        "        loss_list.append(train_loss)\n",
        "        print(f\"#{epoch:3d} --- loss [{train_loss:.4f}]\")"
      ],
      "metadata": {
        "colab": {
          "base_uri": "https://localhost:8080/"
        },
        "id": "6ZYtrWAwa4Co",
        "outputId": "c7ff3d0a-3b08-4aac-f246-972c8b7e7f2d"
      },
      "execution_count": null,
      "outputs": [
        {
          "output_type": "stream",
          "name": "stdout",
          "text": [
            "#  0 --- loss [0.6393]\n",
            "# 10 --- loss [0.6357]\n",
            "# 20 --- loss [0.6350]\n",
            "# 30 --- loss [0.6349]\n",
            "# 40 --- loss [0.6275]\n",
            "# 50 --- loss [0.6363]\n",
            "# 60 --- loss [0.6264]\n",
            "# 70 --- loss [0.6218]\n",
            "# 80 --- loss [0.6186]\n",
            "# 90 --- loss [0.6174]\n",
            "#100 --- loss [0.6149]\n"
          ]
        }
      ]
    },
    {
      "cell_type": "code",
      "source": [
        "import matplotlib.pyplot as plt\n",
        "plt.plot(epoch_list, loss_list, 'b-')\n",
        "plt.xlabel('Эпоха')\n",
        "plt.ylabel('Потеря')\n",
        "plt.title('Потеря обучения')\n",
        "plt.grid(True) #добавляем сетку\n",
        "plt.show()"
      ],
      "metadata": {
        "colab": {
          "base_uri": "https://localhost:8080/",
          "height": 472
        },
        "id": "FBT8YtINlnM3",
        "outputId": "d0d5de28-3456-4038-86b6-ec710e0bb922"
      },
      "execution_count": null,
      "outputs": [
        {
          "output_type": "display_data",
          "data": {
            "text/plain": [
              "<Figure size 640x480 with 1 Axes>"
            ],
            "image/png": "[encoded data removed]"
          },
          "metadata": {}
        }
      ]
    },
    {
      "cell_type": "markdown",
      "source": [
        "1.3 Напишите функцию, которая генерирует фамилию при помощи обученной модели:\n",
        "  * Построение начинается с последовательности единичной длины, состоящей из индекса токена `<SOS>`;\n",
        "  * Начальное скрытое состояние RNN `h_t = None`;\n",
        "  * В результате прогона последнего токена из построенной последовательности через модель получаете новое скрытое состояние `h_t` и распределение над всеми токенами из словаря;\n",
        "  * Выбираете 1 токен пропорционально вероятности и добавляете его в последовательность (можно воспользоваться `torch.multinomial`);\n",
        "  * Повторяете эти действия до тех пор, пока не сгенерирован токен `<EOS>` или не превышена максимальная длина последовательности.\n",
        "\n",
        "При обучении каждые `k` эпох генерируйте несколько фамилий и выводите их на экран."
      ],
      "metadata": {
        "id": "Zs9N5bfKapo7"
      }
    },
    {
      "cell_type": "code",
      "source": [
        "#создаем класс, который представляет модель для генерации случайных слов на основе заданного словаря\n",
        "class MyModel(nn.Module):\n",
        "    def __init__(self, vocab, embedding_dim, hidden_size, num_layers=1):\n",
        "        super(MyModel, self).__init__()\n",
        "        self.vocab = vocab\n",
        "        #слой эмбеддингов (nn.Embedding), который отображает индексы символов в векторные представления заданной размерности\n",
        "        self.embedding = nn.Embedding(padding_idx=vocab.token_to_idx[\"<PAD>\"], num_embeddings=vocab.vocab_len, embedding_dim=embedding_dim)\n",
        "        #слой рекуррентной нейронной сети (nn.RNN), который принимает векторные представления символов и вычисляет скрытые состояния RNN\n",
        "        self.rnn = nn.RNN(num_layers=num_layers, batch_first=True, input_size=embedding_dim, hidden_size=hidden_size)\n",
        "        #полносвязный слой (nn.Linear), который преобразует скрытые состояния RNN в векторные представления символов\n",
        "        self.fc = nn.Linear(in_features=hidden_size, out_features=vocab.vocab_len)\n",
        "    \n",
        "    def forward(self, x, h=None): #определяем проход данных через модель\n",
        "        x = self.embedding(x) #тензор с индексами символов\n",
        "        x, h = self.rnn(x, h) #скрытое состояние RNN\n",
        "        x = self.fc(x) #предсказания для каждого символа в словаре\n",
        "        return x, h\n",
        "    \n",
        "    def random_word(self): #метод используется для генерации случайного слова\n",
        "        h = None\n",
        "        word = []\n",
        "        token = torch.tensor([[vocab.token_to_idx[\"<SOS>\"]]])\n",
        "        for _ in range(self.vocab.max_seq_len): #происходит генерация символов до достижения максимальной длины слова\n",
        "            out, h = self(token, h)\n",
        "            #выход модели преобразуется с помощью softmax и выбирается случайным образом новый токен\n",
        "            out_random = out.squeeze().softmax(-1).multinomial(1)\n",
        "            letter = self.vocab.idx_to_token[out_random.item()]\n",
        "            if letter == \"<EOS>\":\n",
        "                break\n",
        "            word.append(letter)\n",
        "            token = out_random.view(1, 1)\n",
        "        #создается список clear, содержащий символы из word, за исключением специальных токенов\n",
        "        clear = [letter for letter in word if letter not in [\"<PAD>\",\"<EOS>\",\"<SOS>\",\"<UNK>\"]]\n",
        "        #создается строка generated из символов в списке word, начинающаяся с заглавной буквы\n",
        "        generated = \"\".join(word).capitalize()\n",
        "        #создается строка clear, полученная из символов в списке clear, начинающаяся с заглавной буквы\n",
        "        clear = \"\".join(clear).capitalize()\n",
        "        return generated, clear"
      ],
      "metadata": {
        "id": "Rrg_qOxCa7a7"
      },
      "execution_count": null,
      "outputs": []
    },
    {
      "cell_type": "code",
      "source": [
        "model = MyModel(\n",
        "    vocab=vocab,\n",
        "    embedding_dim=32,\n",
        "    hidden_size=64,\n",
        ")\n",
        "criterion = nn.CrossEntropyLoss() #используется для вычисления потери (ошибки) между предсказанными значениями и истинными метками\n",
        "optimizer = optim.Adam(params=model.parameters(), lr=0.001) #используется для получения параметров модели, которые будут оптимизироваться"
      ],
      "metadata": {
        "id": "V3FcS8-Ya9Ks"
      },
      "execution_count": null,
      "outputs": []
    },
    {
      "cell_type": "code",
      "source": [
        "#обучение модели\n",
        "epoch_step = 10\n",
        "n_epochs = 101\n",
        "n_words = 10 #количество сгенерированных слов\n",
        "epoch_list = []\n",
        "loss_list = []\n",
        "for epoch in range(n_epochs):\n",
        "    #создаем пустые тензоры для хранения предсказанных значений и истинных меток классов\n",
        "    y_pred = torch.empty(0)\n",
        "    y_true = torch.empty(0, dtype=torch.long)\n",
        "    #переводим модель в режим обучения\n",
        "    model.train()\n",
        "    #итерация по пакетам данных из объекта dataloader\n",
        "    for X_batch, y_batch in dataloader:\n",
        "        optimizer.zero_grad() #обнуляем накопленные градиенты\n",
        "        predictions, h = model(X_batch) #вызываем модель, чтобы получить предсказания и скрытое состояние\n",
        "        loss = criterion(predictions.transpose(1, -1), y_batch) #вычисляем потери (ошибки)\n",
        "        loss.backward() #вычисляем градиенты функции потерь по параметрам модели\n",
        "        optimizer.step() #обновляем параметры модели, применение градиента\n",
        "        with torch.no_grad(): #вычисляем предсказанные значений y_pred и истинные меток y_true\n",
        "            y_true = torch.cat((y_true, y_batch))\n",
        "            y_pred = torch.cat((y_pred, predictions))\n",
        "    with torch.no_grad(): #вычисляем потерю обучения\n",
        "        train_loss = criterion(y_pred.transpose(1, -1), y_true).item()\n",
        "    if epoch % epoch_step == 0: #если текущая эпоха epoch кратна epoch_step, выводится информация о потере обучения на текущей эпохе\n",
        "        epoch_list.append(epoch)\n",
        "        loss_list.append(train_loss)\n",
        "        print(f\"#{epoch:3d} --- loss [{train_loss:.4f}]\")\n",
        "        words=[]\n",
        "        for _ in range(n_words): #каждое сгенерированное слово выводится в формате строки\n",
        "            _, clear = model.random_word()\n",
        "            words.append(clear)\n",
        "        print(\", \".join(words))"
      ],
      "metadata": {
        "colab": {
          "base_uri": "https://localhost:8080/"
        },
        "id": "51ZO_q4_a-y9",
        "outputId": "fd0f2363-5ebe-4366-b636-99af4dfd3834"
      },
      "execution_count": null,
      "outputs": [
        {
          "output_type": "stream",
          "name": "stdout",
          "text": [
            "#  0 --- loss [2.2531]\n",
            "Пезьм, Энисрткн, Рьяикж, Уериилни, Уаю, Зееэяимдр, Вешюеаг, Вжиыля, Жцшаа, Мояншж\n",
            "# 10 --- loss [0.9983]\n",
            "Маллипата, Мектуч, Мастита, Вара, Мариль, Яроря, Марьенка, Маова, Аналийника, Палем\n",
            "# 20 --- loss [0.9106]\n",
            "Дленуся, Голя, Илена, Вфефса, , Тельнка, Вора, Аляха, Герсент, Дошута\n",
            "# 30 --- loss [0.8635]\n",
            "Ендранил, Ланютя, Кориссч, Варкая, Маша, Евдуня, Понксюша, Лиия, Петюра, Бриня\n",
            "# 40 --- loss [0.8191]\n",
            "Банюра, Павуша, Эжтинка, Борюха, Либуня, Петуря, Алнуша, Рюза, Эледиан, Верета\n",
            "# 50 --- loss [0.7822]\n",
            "Малипка, Евгеша, Элюся, Лалешка, Петта, Васюша, Сефрий, Элсен, Дения, Мадрменинтиан\n",
            "# 60 --- loss [0.7573]\n",
            "Покина, Мара, Ладюра, Кирмична, Люда, Толя, Лезуша, Фила, Зимаря, Елюня\n",
            "# 70 --- loss [0.7404]\n",
            "Толюня, Никтуша, Надя, Вала, Артена, Хрюдаха, Юльяша, Семиха, Марьюша, Лианка\n",
            "# 80 --- loss [0.7234]\n",
            "Эста, Полиша, Свексей, Ансха, Ивла, Илюта, Васюня, Игорий, Никуся, Мириша\n",
            "# 90 --- loss [0.7099]\n",
            "Вилука, Васяха, Юраня, Игорося, Витуня, Туня, Полюша, Пашуля, Ленмек, Люса\n",
            "#100 --- loss [0.7010]\n",
            "Нинаха, Николка, Ашулка, Лусьян, Любоша, Лександрыч, Тонюша, Матилия, Коляд, Элина\n"
          ]
        }
      ]
    },
    {
      "cell_type": "code",
      "source": [
        "import matplotlib.pyplot as plt\n",
        "plt.plot(epoch_list, loss_list, 'b-')\n",
        "plt.xlabel('Эпоха')\n",
        "plt.ylabel('Потеря')\n",
        "plt.title('Потеря обучения')\n",
        "plt.grid(True) #добавляем сетку\n",
        "plt.show()"
      ],
      "metadata": {
        "colab": {
          "base_uri": "https://localhost:8080/",
          "height": 472
        },
        "id": "GPdN9yJkvOyd",
        "outputId": "3ee393d1-76cd-490d-ad0c-8f1ca1a98a9b"
      },
      "execution_count": null,
      "outputs": [
        {
          "output_type": "display_data",
          "data": {
            "text/plain": [
              "<Figure size 640x480 with 1 Axes>"
            ],
            "image/png": "[encoded data removed]"
          },
          "metadata": {}
        }
      ]
    },
    {
      "cell_type": "markdown",
      "metadata": {
        "id": "fJf5iaA2fOTM"
      },
      "source": [
        "## 2. Генерирование текста при помощи RNN\n",
        "\n",
        "2.1 Скачайте из интернета какое-нибудь художественное произведение\n",
        "  * Выбирайте достаточно крупное произведение, чтобы модель лучше обучалась;\n",
        "\n",
        "2.2 На основе выбранного произведения создайте датасет. \n",
        "\n",
        "Отличия от задачи 1:\n",
        "  * Токены <SOS>, `<EOS>` и `<UNK>` можно не добавлять;\n",
        "  * При создании датасета текст необходимо предварительно разбить на части. Выберите желаемую длину последовательности `seq_len` и разбейте текст на построки длины `seq_len` (можно без перекрытия, можно с небольшим перекрытием).\n"
      ]
    },
    {
      "cell_type": "code",
      "source": [
        "import numpy as np\n",
        "import os\n",
        "os.listdir() #возвращаем список файлов и папок в текущей рабочей директории"
      ],
      "metadata": {
        "colab": {
          "base_uri": "https://localhost:8080/"
        },
        "id": "oCvfzuq8bC82",
        "outputId": "4a7ff0a4-53d5-4a12-f6b9-9b92d14d3074"
      },
      "execution_count": null,
      "outputs": [
        {
          "output_type": "execute_result",
          "data": {
            "text/plain": [
              "['name_rus.txt', 'The-Great-Gatsby.txt']"
            ]
          },
          "metadata": {},
          "execution_count": 36
        }
      ]
    },
    {
      "cell_type": "code",
      "source": [
        "#считываем файлы\n",
        "text = \"\"\n",
        "for i in range(1, 5):\n",
        "    with open(f\"/content/drive/MyDrive/datasets/The-Great-Gatsby{i}.txt\", 'r') as f:\n",
        "        text += f.read()"
      ],
      "metadata": {
        "id": "OVmSYaJ4bKF-"
      },
      "execution_count": 38,
      "outputs": []
    },
    {
      "cell_type": "code",
      "source": [
        "#создаем класс, который используется для создания словаря на основе текста\n",
        "class Vocab:\n",
        "    def __init__(self, text):\n",
        "        tokens = set(text) #создаем множество уникальных токенов из текста\n",
        "        #каждому индексу (начиная с 2) сопоставляется соответствующий токен из множества tokens\n",
        "        self.idx_to_token = dict(enumerate(tokens, 2))\n",
        "        #индексы 0 и 1 зарезервированы для специальных токенов \"<PAD>\" и \"<SOS>\n",
        "        self.idx_to_token[0] = \"<PAD>\"\n",
        "        self.idx_to_token[1] = \"<SOS>\"\n",
        "        #создаем словарь token_to_idx, где каждому токену сопоставляется соответствующий индекс\n",
        "        self.token_to_idx = {token: idx for idx, token in self.idx_to_token.items()}\n",
        "        self.vocab_len = len(self.idx_to_token) #общее количество токенов в словаре"
      ],
      "metadata": {
        "id": "7EqT1IHLbLcG"
      },
      "execution_count": 39,
      "outputs": []
    },
    {
      "cell_type": "code",
      "source": [
        "#создаем класс, который предоставляет возможность преобразования текстовых фрагментов в числовое представление с помощью словаря\n",
        "class BookDataset(Dataset):\n",
        "    def __init__(self, text, vocab: Vocab, seq_len=128, shift=None):\n",
        "        self.seq_len = seq_len\n",
        "        self.shift = shift\n",
        "        self.X = self.__text_split(text)\n",
        "        self.vocab = vocab\n",
        "        \n",
        "    def __text_split(self, text): #в методе текст разбивается на фрагменты длиной seq_len с использованием сдвига shift\n",
        "        if self.shift is None: \n",
        "            self.shift = self.seq_len // 4\n",
        "        start = 0\n",
        "        X = []\n",
        "        while start < len(text):\n",
        "            X.append(text[start:start+self.seq_len])\n",
        "            start += self.shift\n",
        "        return np.array(X)\n",
        "    \n",
        "    def vectorize(self, fragment): #метод преобразует фрагмент текста в числовое представление\n",
        "        fragment_t = torch.zeros(self.seq_len+1).long() #создается тензор размерности (seq_len+1)\n",
        "        fragment_t += self.vocab.token_to_idx[\"<PAD>\"]\n",
        "        for i, token in enumerate(fragment, 1):\n",
        "            #каждый токен из фрагмента текста преобразуется в соответствующий индекс из словаря vocab.token_to_idx\n",
        "            fragment_t[i] = self.vocab.token_to_idx[token]\n",
        "        fragment_t[0] = self.vocab.token_to_idx[\"<SOS>\"]\n",
        "        return fragment_t[:-1], fragment_t[1:]\n",
        "\n",
        "    def __len__(self): #возвращает общее количество фрагментов текста\n",
        "        return len(self.X)\n",
        "\n",
        "    def __getitem__(self, idx): #возвращает числовое представление фрагмента текста с индексом\n",
        "        return self.vectorize(self.X[idx])"
      ],
      "metadata": {
        "id": "6NlJsiHqbM9A"
      },
      "execution_count": 50,
      "outputs": []
    },
    {
      "cell_type": "code",
      "source": [
        "vocab = Vocab(text)\n",
        "#набор данных будет использовать словарь для преобразования текста в числовое представление и разбивать текст на фрагменты заданной длины\n",
        "dataset = BookDataset(text, vocab)\n",
        "#создаем загрузчик данных DataLoader, который будет использоваться для эффективной загрузки данных из набора dataset\n",
        "dataloader = DataLoader(dataset, batch_size=32)"
      ],
      "metadata": {
        "id": "RTiNA8GDbOpt"
      },
      "execution_count": 51,
      "outputs": []
    },
    {
      "cell_type": "markdown",
      "source": [
        "2.3 Создайте и обучите модель для генерации текста\n",
        "  * Задача ставится точно так же как в 1.2;\n",
        "  * При необходимости можете применить:\n",
        "    * двухуровневые рекуррентные слои (`num_layers`=2)\n",
        "    * [обрезку градиентов](https://pytorch.org/docs/stable/generated/torch.nn.utils.clip_grad_norm_.html)\n",
        "\n",
        "2.4 Напишите функцию, которая генерирует фрагмент текста при помощи обученной модели\n",
        "  * Процесс генерации начинается с небольшого фрагмента текста `prime`, выбранного вами (1-2 слова) \n",
        "  * Сначала вы пропускаете через модель токены из `prime` и генерируете на их основе скрытое состояние рекуррентного слоя `h_t`;\n",
        "  * После этого вы генерируете строку нужной длины аналогично 1.3"
      ],
      "metadata": {
        "id": "k2scCKMjbH8f"
      }
    },
    {
      "cell_type": "code",
      "source": [
        "#создаем модель, которая используется для генерации текста на основе заданного контекста\n",
        "class MyModel(nn.Module):\n",
        "    def __init__(self, vocab, embedding_dim, hidden_size, num_layers=1):\n",
        "        super(MyModel, self).__init__()\n",
        "        self.vocab = vocab\n",
        "        #слой эмбеддингов (nn.Embedding), который отображает индексы символов в векторные представления заданной размерности\n",
        "        self.embedding = nn.Embedding(padding_idx=vocab.token_to_idx[\"<PAD>\"], num_embeddings=vocab.vocab_len, embedding_dim=embedding_dim)\n",
        "        #рекуррентный слой (nn.LSTM), который обрабатывает входные последовательности и сохраняет состояние скрытого состояния\n",
        "        self.rnn = nn.LSTM(num_layers=num_layers, batch_first=True, input_size=embedding_dim, hidden_size=hidden_size)\n",
        "        #полносвязный слой (nn.Linear), который преобразует скрытые состояния RNN в векторные представления символов\n",
        "        self.fc = nn.Linear(in_features=hidden_size, out_features=vocab.vocab_len)\n",
        "        \n",
        "    def forward(self, x, hc=None):#определяем проход данных через модель\n",
        "        x = self.embedding(x) #тензор с индексами символов\n",
        "        x, hc = self.rnn(x, hc) #скрытое состояние RNN\n",
        "        x = self.fc(x) #предсказания для каждого символа в словаре\n",
        "        return x, hc\n",
        "    \n",
        "    def gen_fragment(self, start_with, length=256): #используется для генерации фрагмента текста на основе заданного начала и длины \n",
        "        hc = None\n",
        "        word = []\n",
        "        token = torch.tensor([[vocab.token_to_idx[\"<SOS>\"]]]).to(device)\n",
        "        #для каждого токена в start_with, происходит прямой проход модели с текущим токеном token и скрытым состоянием hc\n",
        "        for token__ in start_with:\n",
        "            out, hc = self(token, hc)\n",
        "            token = torch.tensor(\n",
        "                [[self.vocab.token_to_idx[token__]]],\n",
        "                dtype=torch.long\n",
        "                ).to(device)\n",
        "\n",
        "        for _ in range(length):\n",
        "            token = token.to(device) \n",
        "            out, hc = self(token, hc) #токен передается в модель\n",
        "            #полученный выход out преобразуется в распределение вероятностей через функцию softmax\n",
        "            out_random = out.squeeze().softmax(-1).multinomial(1) #из распределения вероятностей выбирается токен out_random методом multinomial(1)\n",
        "            letter = self.vocab.idx_to_token[out_random.item()]\n",
        "            word.append(letter)\n",
        "            token = out_random.view(1, 1) #токен out_random преобразуется в тензор\n",
        "        #создается список clear, содержащий символы из word, за исключением специальных токенов\n",
        "        clear = [letter for letter in word if letter not in [\"<PAD>\",\"<EOS>\",\"<SOS>\",\"<UNK>\"]]\n",
        "        #создается строка generated из символов в списке word, начинающаяся с заглавной буквы\n",
        "        generated = \"\".join(word).capitalize()\n",
        "        #создается строка clear, полученная из символов в списке clear, начинающаяся с заглавной буквы\n",
        "        clear = \"\".join(clear).capitalize()\n",
        "        return generated, clear"
      ],
      "metadata": {
        "id": "Z5iFOpotbQbN"
      },
      "execution_count": 52,
      "outputs": []
    },
    {
      "cell_type": "code",
      "source": [
        "model = MyModel(\n",
        "    vocab=vocab,\n",
        "    embedding_dim=32,\n",
        "    hidden_size=64,\n",
        ").to(device)\n",
        "criterion = nn.CrossEntropyLoss() #используется для вычисления потери (ошибки) между предсказанными значениями и истинными метками\n",
        "optimizer = optim.Adam(params=model.parameters(), lr=0.001) #используется для получения параметров модели, которые будут оптимизироваться"
      ],
      "metadata": {
        "id": "vUYKMI9PbSAe"
      },
      "execution_count": 53,
      "outputs": []
    },
    {
      "cell_type": "code",
      "source": [
        "#обучение модели\n",
        "epoch_step = 1\n",
        "n_epochs = 21\n",
        "n_words = 10\n",
        "epoch_list = []\n",
        "loss_list = []\n",
        "for epoch in range(n_epochs):\n",
        "    epoch_loss = 0\n",
        "    k = 0\n",
        "    #переводим в режим обучения\n",
        "    model.train()\n",
        "    for X_batch, y_batch in dataloader:\n",
        "        X_batch, y_batch = X_batch.to(device), y_batch.to(device)\n",
        "        optimizer.zero_grad() #очищаем градиенты \n",
        "        predictions, h = model(X_batch) #вычисляем прогнозы модели и скрытое состояние\n",
        "        loss = criterion(predictions.transpose(1, -1), y_batch) #вычисляем потерю между прогнозами и целевыми значениями\n",
        "        #обратное распространение ошибки и обновление параметров модели \n",
        "        loss.backward()\n",
        "        optimizer.step()\n",
        "        #записываем значение потери для текущей эпохи \n",
        "        epoch_loss += loss.item()\n",
        "        k += 1\n",
        "    epoch_loss = epoch_loss / k\n",
        "    if epoch % epoch_step == 0:\n",
        "        #значение потери усредняется по всем партиям данных и выводится информация о потери для текущей эпохи\n",
        "        epoch_list.append(epoch)\n",
        "        loss_list.append(epoch_loss)\n",
        "        print(f\"#{epoch:3d} --- loss [{epoch_loss:.4f}]\")\n",
        "        _, clear = model.gen_fragment(start_with=\"In my younger\")\n",
        "        print(\"\".join(clear))\n",
        "        #на каждой эпохе выводится информация о потери модели, а также генерируется и выводится фрагмент текста для демонстрации работы модели"
      ],
      "metadata": {
        "id": "V8Rwh-FybUhM",
        "colab": {
          "base_uri": "https://localhost:8080/"
        },
        "outputId": "b4eef6e6-53bd-46c8-e976-d8ff25fd1c2c"
      },
      "execution_count": 54,
      "outputs": [
        {
          "output_type": "stream",
          "name": "stdout",
          "text": [
            "#  0 --- loss [2.9379]\n",
            "Er cines whe invet wo sue, tsy ane nera oood thind kn.an.e mol,. ylal gatsy eertilm“(smype”“u irat hiid ad’y an.4igh, o,d ta, aastyl r.yrpa pgela, ag wedrv thin fid pidip gout s““qodrnget tet —ed ltiiv vebsb non oo tharce ound yhe sicdt d. n’red heoouin. t\n",
            "#  1 --- loss [2.4163]\n",
            "Esst ofill ly re cout ad”itischked i thess thed tos. yhe” wose. voss means fats, thelt the tang the ans s iruty wous tway datt a adarth ok sreasn. i thevmezghiver ghensinsed pasry. eaty in’ve ma cid, disss toklategh one wa cteted aed”ees lened ailis tracad\n",
            "#  2 --- loss [2.2684]\n",
            " tonad but qange moos es tumind homer. a bucnedsed ment pated are eis dikes sustarye?”her sad”.”soo. me knut weraflereringe stithher i devect agto aw piding yhincky toued motomo astargar ofhen fremour larn tere co the of. geaf afom the tobai kre pociy wald\n",
            "#  3 --- loss [2.1704]\n",
            " in gat und ton’seated lim.“éod.”“whey ,ome. haed h ant eas of and overs maly awy greo he drost hive tincight. “niphe qhennd a loses and bererd of buta.”“i sis of tu lamhar on blathintlontbyou faptk and bedred.she sad undtike long the says ingrads bo. i b\n",
            "#  4 --- loss [2.0980]\n",
            "Ntise the neret and igfonker to—en ligh wowr lick.”geid hifdeclle seradd and. sho.”thad. her-shen ore were hik, by thee thrint a ming hy wealk, ofen his a lave there axcy, the men. gacthed. is carak it fieny ty me and a sto as murlrewend were link. i’lech \n",
            "#  5 --- loss [2.0407]\n",
            "E odrech romesqighinther thateanay dadk overn’p that ofordaty grablle it ito pastoriknou wasted got i for.“nanti. a i mily, and surnered with vode her ealren loilked zand the dnow of corse at in bering in it ifttale, and the had-!glor outh at wats rey, eck\n",
            "#  6 --- loss [1.9962]\n",
            " bevived my dand it betanggwe mighom se rean ar that coullowing thing afe counk anf jive pring hever tom. blain ferried meyte woven creace and an. at soted theren epilent soom ay beyor i sawiy’s of stere had daving homs, lust,” it thele vnirnasemin ito “wa\n",
            "#  7 --- loss [1.9592]\n",
            "”“i to fied.“what i shiush ondin wenteans stere. he rack ot 1prese, wesercontanesble was afting wo coust efgo siventiog some out threes streewjem wuptugtlon on a cuppered jut the ruths of awe whis amountsben to the dame that in, at i was and to withttigeal\n",
            "#  8 --- loss [1.9268]\n",
            "S. “i beratine grous. “thhidh peull roketer?”“he sidnand mes for hoon bringht cocce apen and gillelins wanred like then chaking one uthin i have goway.“wagain llung there had tovey’s and at youd i was ad thy row; i pathing of fakis on, and ogave.”“cove hin\n",
            "#  9 --- loss [1.8988]\n",
            " stouse wat the lonck luce, was clicl som, and ponther to hids up went inquint dome regt fere heauntiped dotneve withains am”“the en side wen joritrs was she was outs. i thookel nidodish il ant othing with as of had to dade and bisbought me all—kn if the s\n",
            "# 10 --- loss [1.8743]\n",
            " that he hought we toodning oteen so supple orsey i tould to dozensifom beshoanatereder have to ungise, look, but he sant thimeptome here,” i duse if drurne to torn. i cousk, i jusle yesy low ding, sores onf scolsed plemeply to courdan, i wave hads ontrive\n",
            "# 11 --- loss [1.8524]\n",
            "Piliebick whose’s some form, i quester i coithered.“caid noog,’s eitusinething picking supe, thorrs agfer went agrisfent whas to whought thant oot ot sfordine, whidantoing thouse a drust thruemsty her of abous loth to old he ord do to shallis have. but i p\n",
            "# 12 --- loss [1.8327]\n",
            "Ed by lay that that hand tobarked the there gorf spett stlefteriin.“whok a cherew. she down to horked to go san wamboaple my hadn’t a had anwoto he lit mnow up thi dreghist, sew i dayy’s yanther on.“wall perrisede the lifp eate tood, and he parst age, and \n",
            "# 13 --- loss [1.8150]\n",
            "Seveded to the sand sment of shand the bley.miscy how who ofling comelled the.”“you’ri me my mome ince said.”sfaisy.go he even and in my mnothering rew frorn. fried. but ore the wing, tamsely.“he sarded. “who of the fare. amineve so tobred see the pleath l\n",
            "# 14 --- loss [1.7991]\n",
            " ting at in the gry qying one a mollusile lamon.“thes me in hane at anf ite?”“i thiy him noth him qurlely see, porin’t he swell se was i fuiring of had extriemonced againtolempss eyes, ficses gut i rues wend mar over of the churion the sempolsof lutled wit\n",
            "# 15 --- loss [1.7847]\n",
            ". aldeemipreded ofemor. the was cunt hand to some she beonthbacker i airing fure bcemtey mort woldy dricky’t famf… oft. “hast. wherno his and michads fron’s plare thined bright; went dount wouldedn the sprom. i’ve house and swike wrunder own up a on my had\n",
            "# 16 --- loss [1.7715]\n",
            "Ugh. slither shome be let bread—overly, and ask of concestion. he felons helm wold wh his pere forwher of the dene in swordied i fore.“jrough a stark of fuopendsuen to of like boast frovey had in the croredn’t fere pher his man elsed flonged the couldency \n",
            "# 17 --- loss [1.7592]\n",
            " the bays by sear us snow wirsh up.shere bact thew his eye’f place oning thto be purierasroutrothed othine that news.”wilks.i had hand. ableway toward himent here knew,” then it arpaid acfast room with awls do erytolom what sould gatsby, to dent up overe? \n",
            "# 18 --- loss [1.7477]\n",
            "Stion. then she was weyzer the froust been them with what he trueter that, brousl, striew. tome her what he canthing wast porest’s get ho fell “you breaver acormach ride shister didrsson porns bleasc my of the store he sillight. he new i towrinut. “i were \n",
            "# 19 --- loss [1.7372]\n",
            "Qwere bries like,” and to a cop stere tanked lot, miss he fathing cachany alon you he was of my and bake nodd stoftined handed. at lefeld himpt, unthast it modingrimaps pastone ungirts in the lippaince i doundanars of though evered wilsof preobs to sawed t\n",
            "# 20 --- loss [1.7274]\n",
            "Essing be affive intle,” ““changh one seep sash at it segry, a don’t now. that’s grantines a danyss to back bon just them is house stoide beast-been a lick gever thind, and the tise to hole fors out dearing to vook and i’d of the?” halp and but light o gno\n"
          ]
        }
      ]
    },
    {
      "cell_type": "code",
      "source": [
        "#продолжается обучение модели\n",
        "epoch_step = 1\n",
        "epoch_list2 = []\n",
        "loss_list2 = []\n",
        "for epoch in range(21, 41):\n",
        "    epoch_loss = 0\n",
        "    k = 0\n",
        "    model.train()\n",
        "    for X_batch, y_batch in dataloader:\n",
        "        X_batch, y_batch = X_batch.to(device), y_batch.to(device)\n",
        "        optimizer.zero_grad()\n",
        "        predictions, h = model(X_batch)\n",
        "        loss = criterion(predictions.transpose(1, -1), y_batch)\n",
        "        loss.backward()\n",
        "        optimizer.step()\n",
        "        epoch_loss += loss.item()\n",
        "        k += 1\n",
        "    epoch_loss = epoch_loss / k\n",
        "    if epoch % epoch_step == 0:\n",
        "        epoch_list2.append(epoch)\n",
        "        loss_list2.append(epoch_loss)\n",
        "        print(f\"#{epoch:3d} --- loss [{epoch_loss:.4f}]\")\n",
        "        _, clear = model.gen_fragment(start_with=\"In my younger\")\n",
        "        print(\"\".join(clear))"
      ],
      "metadata": {
        "id": "6fwuEWvwbWml",
        "colab": {
          "base_uri": "https://localhost:8080/"
        },
        "outputId": "5daac0ee-8290-468f-e8fd-5b24d610696e"
      },
      "execution_count": 55,
      "outputs": [
        {
          "output_type": "stream",
          "name": "stdout",
          "text": [
            "# 21 --- loss [1.7182]\n",
            "S. it tain dayg that, who down dissions and she halve sagement fell in, he leven by rose from when down at it his noth, it inquice fold a bout remental that prriding his ends onoun like. “neg’re towr. “shere was swilong the mor. “mrs. bake all peclarn, and\n",
            "# 22 --- loss [1.7095]\n",
            "Ich bory in lown, and wittar no itwar have thatcerge he allfid gop his as years away adonce that. the handon, when the efter,” spacatic.“ferive way, left as inthely one frot.”wiles. he was or my that he made tell we star, but like of himally in the juster \n",
            "# 23 --- loss [1.7013]\n",
            "E!” he dincess you good and yourded her i had, again, a.”“no?”i you’ves to be he’d gaperoun. i he froalbed of for my men. i saw revery dest all awar.”he ripding and floll zidn to the beroan them farm who meatelring the mast. “who go in vointion. merosp-shi\n",
            "# 24 --- loss [1.6935]\n",
            " startself mintly in me he leps to fan and she foulling the didn’t there—and jody’t se that he didn’t what’s time a didn’t me.“i had atled frosth over a min and one meling had to be its. it he’d mut meeps, songing blefp inquirs and tellenver stop, wask, it\n",
            "# 25 --- loss [1.6862]\n",
            "Y over stroliced gore and hant to his and any with face young a broke be.“but the coouslers wark out oched it mardand torguest treat—on two cark acroning i houre. i low voone liath at their on aropicued up of my wishones.”it ask accleicless conthen now han\n",
            "# 26 --- loss [1.6792]\n",
            " and butsife is and the were so the about umprived solive ark of the house front mr. wovench to me word his uple up, and she talking home and the gatsby.“i’ve fure. it amest who, alf a loved stooned her hou gark sucty,” i reary thend he looked hows in the \n",
            "# 27 --- loss [1.6726]\n",
            "Ic—”he vamiago on arromt on so he starble than west to muster flants all. let itrorout you polled the sal eyes eakess at to garm. peeress nodd morm. he’s plooking aftererct—but man a dobeftly to tell his amoning specy him wech open this in that starets and\n",
            "# 28 --- loss [1.6663]\n",
            ", openolant glan his inquife cholited one, a turning esctair it to your affor, thesh this you’re in’t cirain. the didn’t beford if a did comath agor, sosew off on. about bark a wordy the gire you suress was a mition oping extrolown ile for up yelaboly vace\n",
            "# 29 --- loss [1.6602]\n",
            "Ates one him my coft—air cryswind one west was gog mr. gernow how lecalf a getter eauteded srew she fale sear i side. how were awares in the newwath sen delight libung till too give to well, when reaghing he rausail, bod.”she looky were i sprial ovither s\n",
            "# 30 --- loss [1.6544]\n",
            " to-new jords of this—he stive the about we leathing you had be one a plancess from ros? it sust eory to the tookder worked, and down form to past a denewn, the she—he body raesting as tom so mose always they he mustilal an i tolf ge? hair, but he came eve\n",
            "# 31 --- loss [1.6488]\n",
            "Lis rearge other of the man young the felve yelore with and crewred about the moneyte to fhissed fir. he liculing that become was accim white forg owns to in that bate of how, when i came. we i and i was in a men she was very plang pact one mrome have to s\n",
            "# 32 --- loss [1.6434]\n",
            "Tog yen somether brown-his amberuch with ject a cound of stathing swall at gosple inslow all you aboutdreatty to stowide of his coltion of hy on stenerrantuater strep a there her and at asined him she agroun hawn car, exexts the shouse, and gatsby incride,\n",
            "# 33 --- loss [1.6383]\n",
            " wistle aron at white mour anr the nust toon twinty fuler follong to you tullod two daedown, i was can time.“you with the armifting change manked his hadsn verint jordan,” she was gave soword foredd:“wif on the sawarright somest of the man stere my maguy s\n",
            "# 34 --- loss [1.6333]\n",
            "Tely he was cortrat pachiself in me a gratifath away i’ll don’t woaking out out out wolfadf glandan the grieved darty burted—he stayen in before quickn’t skow lam momened her har-shive.”he staternt had this had the dritil-races here town agued drusmasten a\n",
            "# 35 --- loss [1.6286]\n",
            "Ited to be it, and eited, to be on, vooning over to bet but of cordant, and tho me tom and book bevelited ob-dgo. fis arred sert. at then my unin pestlen. … welll, bastake many of the neartimes straid be.“the gare the disking—a whose to—mrs of iver arourde\n",
            "# 36 --- loss [1.6240]\n",
            ". the fough the side—and batcificalih a mantic in the toargrivized night, and prowide for into here,” yrught, “it over gatsby’s he porad haspiantly dive out of his usmanded at at afrome inquito.mcleution.but it town duccimpelers, but muster beforning some \n",
            "# 37 --- loss [1.6195]\n",
            "Ging in the ruch caut you dunty drinkly, weather.”his part of now fo happancely.\n",
            "carn, ad to bot baugsions: “you got it mes.jusife man to the bluting hose, wait the i got lother, and i had coly, let that starlic trougher pott, pooll over. new yead braway a\n",
            "# 38 --- loss [1.6153]\n",
            " morrided, her have to, and he fere while a doght came.m jooking. he seat o 5rolt, sireman of so he palual that it was into-moment unto, but out meroalon, “i dnon into the pooninaturinct everely of his black. the down. nivisness crawge i tore,” said he roo\n",
            "# 39 --- loss [1.6112]\n",
            "Nan.”i ford me he from me place retielf for a whine.the tave toor sullegerly know ean of gatsby. twere was a breal me of shorting, but but nown that gatsby swallfe and as the now swame in the come.”“whateppe.“i was gatsby try.buster. daisy would roved two \n",
            "# 40 --- loss [1.6072]\n",
            "S rignabarchille a’siiville i cask to drusides aron an into the brough, and when niedn’t througg frount was the overnoathenings or it we tell. he prestion sfilling occe, buttind, then and when he don opper her afterself with it was and a qued out one outhe\n"
          ]
        }
      ]
    },
    {
      "cell_type": "code",
      "source": [
        "import matplotlib.pyplot as plt\n",
        "plt.plot(epoch_list, loss_list, 'b-', label='Обучение 1')\n",
        "plt.plot(epoch_list2, loss_list2, 'r-', label='Обучение 2')\n",
        "plt.xlabel('Эпоха')\n",
        "plt.ylabel('Потеря')\n",
        "plt.title('Потеря обучения')\n",
        "plt.legend()\n",
        "plt.grid(True) #добавляем сетку\n",
        "plt.show()"
      ],
      "metadata": {
        "colab": {
          "base_uri": "https://localhost:8080/",
          "height": 472
        },
        "id": "PipYc3Ia0o2f",
        "outputId": "b7a67956-57e6-4895-ce3c-a3b2f81fdca7"
      },
      "execution_count": 57,
      "outputs": [
        {
          "output_type": "display_data",
          "data": {
            "text/plain": [
              "<Figure size 640x480 with 1 Axes>"
            ],
            "image/png": "[encoded data removed]"
          },
          "metadata": {}
        }
      ]
    }
  ],
  "metadata": {
    "accelerator": "GPU",
    "colab": {
      "provenance": []
    },
    "kernelspec": {
      "display_name": "Python 3",
      "language": "python",
      "name": "python3"
    },
    "language_info": {
      "codemirror_mode": {
        "name": "ipython",
        "version": 3
      },
      "file_extension": ".py",
      "mimetype": "text/x-python",
      "name": "python",
      "nbconvert_exporter": "python",
      "pygments_lexer": "ipython3",
      "version": "3.7.6"
    }
  },
  "nbformat": 4,
  "nbformat_minor": 0
}