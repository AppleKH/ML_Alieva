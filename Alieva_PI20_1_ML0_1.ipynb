{
  "nbformat": 4,
  "nbformat_minor": 0,
  "metadata": {
    "colab": {
      "provenance": [],
      "collapsed_sections": []
    },
    "kernelspec": {
      "name": "python3",
      "display_name": "Python 3"
    },
    "language_info": {
      "name": "python"
    }
  },
  "cells": [
    {
      "cell_type": "markdown",
      "source": [
        "Алиева Хадижат ПИ20-1. Лабораторная работа 0.1. Знакомство с numpy\n",
        "\n",
        "---\n",
        "\n"
      ],
      "metadata": {
        "id": "2PNX9Ltv_4LX"
      }
    },
    {
      "cell_type": "code",
      "execution_count": null,
      "metadata": {
        "colab": {
          "base_uri": "https://localhost:8080/"
        },
        "id": "2D0tDg8jkt-q",
        "outputId": "9607b206-338c-445e-eea5-bf28790420c8"
      },
      "outputs": [
        {
          "output_type": "stream",
          "name": "stdout",
          "text": [
            "Задание 1:\n",
            "[[  1   2   3   4   5   6   7   8   9  10]\n",
            " [  2   4   6   8  10  12  14  16  18  20]\n",
            " [  3   6   9  12  15  18  21  24  27  30]\n",
            " [  4   8  12  16  20  24  28  32  36  40]\n",
            " [  5  10  15  20  25  30  35  40  45  50]\n",
            " [  6  12  18  24  30  36  42  48  54  60]\n",
            " [  7  14  21  28  35  42  49  56  63  70]\n",
            " [  8  16  24  32  40  48  56  64  72  80]\n",
            " [  9  18  27  36  45  54  63  72  81  90]\n",
            " [ 10  20  30  40  50  60  70  80  90 100]]\n"
          ]
        }
      ],
      "source": [
        "from numpy import *\n",
        "print(\"Задание 1: Создайте матрицу таблицы умножения с использованием списков\")\n",
        "table = array([[1,2,3,4,5,6,7,8,9,10],[2,4,6,8,10,12,14,16,18,20],\n",
        "              [3,6,9,12,15,18,21,24,27,30],[4,8,12,16,20,24,28,32,36,40],\n",
        "              [5,10,15,20,25,30,35,40,45,50],[6,12,18,24,30,36,42,48,54,60],\n",
        "              [7,14,21,28,35,42,49,56,63,70],[8,16,24,32,40,48,56,64,72,80],\n",
        "              [9,18,27,36,45,54,63,72,81,90],[10,20,30,40,50,60,70,80,90,100]])\n",
        "print(table)"
      ]
    },
    {
      "cell_type": "code",
      "source": [
        "from numpy import *\n",
        "print(\"Задание 2: Принимать как аргументы целое число N и первый элемент (вещественное число el1),\" \n",
        "      \"и разность (вещественное число d) и создать матрицу по диагонали, которой распологаются первые N членов арифметической прогрессии.\")\n",
        "el1 = int(input())\n",
        "N = int(input())\n",
        "d = int(input())\n",
        "matrix = diag(arange(el1, el1+d*N, d))\n",
        "print(matrix)"
      ],
      "metadata": {
        "colab": {
          "base_uri": "https://localhost:8080/"
        },
        "id": "-JbrGwNnGPE-",
        "outputId": "3fa2ca1c-4b8d-427e-b849-042b5e5ebbae"
      },
      "execution_count": null,
      "outputs": [
        {
          "output_type": "stream",
          "name": "stdout",
          "text": [
            "Задание 2: Принимать как аргументы целое число N и первый элемент (вещественное число el1),и разность (вещественное число d) и создать матрицу по диагонали, которой распологаются первые N членов арифметической прогрессии.\n",
            "5\n",
            "7\n",
            "1\n",
            "[[ 5  0  0  0  0  0  0]\n",
            " [ 0  6  0  0  0  0  0]\n",
            " [ 0  0  7  0  0  0  0]\n",
            " [ 0  0  0  8  0  0  0]\n",
            " [ 0  0  0  0  9  0  0]\n",
            " [ 0  0  0  0  0 10  0]\n",
            " [ 0  0  0  0  0  0 11]]\n"
          ]
        }
      ]
    },
    {
      "cell_type": "code",
      "source": [
        "from numpy import *\n",
        "import matplotlib.pyplot as plt\n",
        "print(\"Задание 3: Из данных по температуре в Стокгольме выбрать данные относящиеся к октябрю 1970 года и\" \n",
        "      \"записать их в бинарный и текстовый файлы oct70.bin и oct70.txt. Затем прочитайте их импортировав в тетрадь ноутбука и сравните.\")\n",
        "data = genfromtxt('https://raw.githubusercontent.com/jrjohansson/scientific-python-lectures/master/stockholm_td_adj.dat')\n",
        "fig, ax = plt.subplots(figsize=(14,4))\n",
        "x=linspace(1,32,31)\n",
        "y=array([data[i,5] for i in range(data.shape[0]) if (data[i,0]==1970)*(data[i,1]==10)])\n",
        "ax.plot(x,y)\n",
        "ax.axis('tight')\n",
        "ax.set_title('tempeatures in Stockholm')\n",
        "ax.set_xlabel('day')\n",
        "ax.set_ylabel('temperature (C)');\n",
        "savetxt(\"oct70.bin\", y)\n",
        "savetxt(\"oct70.txt\", y)"
      ],
      "metadata": {
        "colab": {
          "base_uri": "https://localhost:8080/",
          "height": 271
        },
        "id": "BYbGKlNYIbBa",
        "outputId": "b610fddb-e0d0-4889-d7b2-5b93486891cb"
      },
      "execution_count": null,
      "outputs": [
        {
          "output_type": "stream",
          "name": "stdout",
          "text": [
            "Задание 3: Из данных по температуре в Стокгольме выбрать данные относящиеся к октябрю 1970 года изаписать их в бинарный и текстовый файлы oct70.bin и oct70.txt. Затем прочитайте их импортировав в тетрадь ноутбука и сравните.\n"
          ]
        },
        {
          "output_type": "display_data",
          "data": {
            "text/plain": [
              "<Figure size 1008x288 with 1 Axes>"
            ],
            "image/png": "[encoded data removed]"
          },
          "metadata": {
            "needs_background": "light"
          }
        }
      ]
    },
    {
      "cell_type": "code",
      "source": [
        "from numpy import *\n",
        "print(\"Задание 4: Используя срезы извлеките нечетные элементы матрицы А.\")\n",
        "A = array([[n+m*10 for n in range(5)] for m in range(5)])\n",
        "print(A)\n",
        "res = A[A%2!=0]\n",
        "print(res)"
      ],
      "metadata": {
        "colab": {
          "base_uri": "https://localhost:8080/"
        },
        "id": "Fz--5rv1OsA7",
        "outputId": "a4903b22-fd05-4065-a0b7-b6350d7ba824"
      },
      "execution_count": null,
      "outputs": [
        {
          "output_type": "stream",
          "name": "stdout",
          "text": [
            "Задание 4: Используя срезы извлеките нечетные элементы матрицы А.\n",
            "[[ 0  1  2  3  4]\n",
            " [10 11 12 13 14]\n",
            " [20 21 22 23 24]\n",
            " [30 31 32 33 34]\n",
            " [40 41 42 43 44]]\n",
            "[ 1  3 11 13 21 23 31 33 41 43]\n"
          ]
        }
      ]
    },
    {
      "cell_type": "code",
      "source": [
        "from numpy import *\n",
        "print(\"Задание 5: Используйте массив из задания 1 (таблицу умножения) извлеките из него при помощи маски все числа кратные 3.\")\n",
        "table = array([[1,2,3,4,5,6,7,8,9,10],[2,4,6,8,10,12,14,16,18,20],\n",
        "              [3,6,9,12,15,18,21,24,27,30],[4,8,12,16,20,24,28,32,36,40],\n",
        "              [5,10,15,20,25,30,35,40,45,50],[6,12,18,24,30,36,42,48,54,60],\n",
        "              [7,14,21,28,35,42,49,56,63,70],[8,16,24,32,40,48,56,64,72,80],\n",
        "              [9,18,27,36,45,54,63,72,81,90],[10,20,30,40,50,60,70,80,90,100]])\n",
        "maska = table%3==0\n",
        "print(table[maska])"
      ],
      "metadata": {
        "colab": {
          "base_uri": "https://localhost:8080/"
        },
        "id": "xwCn62pKe4Q2",
        "outputId": "0bedb1ce-e37f-4be2-c573-dd8674f08476"
      },
      "execution_count": null,
      "outputs": [
        {
          "output_type": "stream",
          "name": "stdout",
          "text": [
            "Задание 5: Используйте массив из задания 1 (таблицу умножения) извлеките из него при помощи маски все числа кратные 3.\n",
            "[ 3  6  9  6 12 18  3  6  9 12 15 18 21 24 27 30 12 24 36 15 30 45  6 12\n",
            " 18 24 30 36 42 48 54 60 21 42 63 24 48 72  9 18 27 36 45 54 63 72 81 90\n",
            " 30 60 90]\n"
          ]
        }
      ]
    },
    {
      "cell_type": "code",
      "source": [
        "from numpy import *\n",
        "print(\"Задание 7: Разбить массив таблицы умножения из задания 1 на два массива содержащие четные и нечетные значения,\"\n",
        "      \"а затем собрать его в исходное состояние используя choose()\")\n",
        "table = array([[1,2,3,4,5,6,7,8,9,10],[2,4,6,8,10,12,14,16,18,20],\n",
        "              [3,6,9,12,15,18,21,24,27,30],[4,8,12,16,20,24,28,32,36,40],\n",
        "              [5,10,15,20,25,30,35,40,45,50],[6,12,18,24,30,36,42,48,54,60],\n",
        "              [7,14,21,28,35,42,49,56,63,70],[8,16,24,32,40,48,56,64,72,80],\n",
        "              [9,18,27,36,45,54,63,72,81,90],[10,20,30,40,50,60,70,80,90,100]])\n",
        "maska1 = table%2==0\n",
        "maska2 = table%2!=0\n",
        "print(table[maska1], table[maska2])\n",
        "res = choose(maska2, maska1)\n",
        "print(table[res])"
      ],
      "metadata": {
        "colab": {
          "base_uri": "https://localhost:8080/"
        },
        "id": "nQxu1jBM3q0n",
        "outputId": "9c213c65-816e-46ef-bd41-8ee25c27be96"
      },
      "execution_count": null,
      "outputs": [
        {
          "output_type": "stream",
          "name": "stdout",
          "text": [
            "Задание 7: Разбить массив таблицы умножения из задания 1 на два массива содержащие четные и нечетные значения,а затем собрать его в исходное состояние используя choose()\n",
            "[  2   4   6   8  10   2   4   6   8  10  12  14  16  18  20   6  12  18\n",
            "  24  30   4   8  12  16  20  24  28  32  36  40  10  20  30  40  50   6\n",
            "  12  18  24  30  36  42  48  54  60  14  28  42  56  70   8  16  24  32\n",
            "  40  48  56  64  72  80  18  36  54  72  90  10  20  30  40  50  60  70\n",
            "  80  90 100] [ 1  3  5  7  9  3  9 15 21 27  5 15 25 35 45  7 21 35 49 63  9 27 45 63\n",
            " 81]\n",
            "[  1   2   3   4   5   6   7   8   9  10   4   8  12  16  20   3   6   9\n",
            "  12  15  18  21  24  27  30   8  16  24  32  40   5  10  15  20  25  30\n",
            "  35  40  45  50  12  24  36  48  60   7  14  21  28  35  42  49  56  63\n",
            "  70  16  32  48  64  80   9  18  27  36  45  54  63  72  81  90  20  40\n",
            "  60  80 100]\n"
          ]
        }
      ]
    },
    {
      "cell_type": "code",
      "source": [
        "from numpy import *\n",
        "print(\"Задание 8: Даны вектора v1(0,1,2,3,4) v2(5,6,7,8,9) найти угол между ними,\" \n",
        "      \"учитывая что косинус угла между векторами можно найти как отношения их скалярного произведения к их длинам.\")\n",
        "v1 = arange(0, 5)\n",
        "v2 = arange(5, 10)\n",
        "vctr1 = array(v1)\n",
        "vctr2 = array(v2)\n",
        "skal = vctr1.dot(vctr2)\n",
        "mod_a = sqrt(power(0,2) + power(1,2) + power(2,2) + power(3,2) + power(4,2))\n",
        "mod_b = sqrt(power(5,2) + power(6,2) + power(7,2) + power(8,2) + power(9,2))\n",
        "ugol = skal/mod_a*mod_b\n",
        "print(ugol)"
      ],
      "metadata": {
        "colab": {
          "base_uri": "https://localhost:8080/"
        },
        "id": "HG_FEjiqE-pN",
        "outputId": "619826b9-6e0b-4aa0-c2f3-758f9474aee4"
      },
      "execution_count": null,
      "outputs": [
        {
          "output_type": "stream",
          "name": "stdout",
          "text": [
            "Задание 8: Даны вектора v1(0,1,2,3,4) v2(5,6,7,8,9) найти угол между ними,учитывая что косинус угла между векторами можно найти как отношения их скалярного произведения к их длинам.\n",
            "233.23807579381202\n"
          ]
        }
      ]
    },
    {
      "cell_type": "code",
      "source": [
        "from numpy import *\n",
        "print(\"Задание 9: Создайте две матрицы размером (5,5).\" \n",
        "      \"Одна матрица содержит 5 в шахматном порядке как в задаче домашнего задания,\" \n",
        "      \"другая имеет треугольную форму содержающую 5 на основной диагонали и в позициях выше ее,\" \n",
        "      \"а ниже все 0. Посчитайте их детерминант и найдите обратные матрицы.\" \n",
        "      \"Если для матрицы не удается найти обратную, видимо этому мешает нулевое значение детерминанта.\")\n",
        "matrix1 = diag([1,2,3,4,5])\n",
        "matrix2 = matrix([[5,5,5,5,5],[0,5,5,5,5],[0,0,5,5,5],[0,0,0,5,5],[0,0,0,0,5]])\n",
        "print(matrix1)\n",
        "print(\"Детерминант: \", linalg.det(matrix1))\n",
        "print(\"Обратная матрица: \", linalg.inv(matrix1))\n",
        "print(matrix2)\n",
        "print(\"Детерминант: \", linalg.det(matrix2))\n",
        "print(\"Обратная матрица: \", linalg.inv(matrix2))"
      ],
      "metadata": {
        "colab": {
          "base_uri": "https://localhost:8080/"
        },
        "id": "bxvWJLjXxjmw",
        "outputId": "60b67357-8415-463c-9a4c-04b9fa82d542"
      },
      "execution_count": null,
      "outputs": [
        {
          "output_type": "stream",
          "name": "stdout",
          "text": [
            "Задание 9: Создайте две матрицы размером (5,5).Одна матрица содержит 5 в шахматном порядке как в задаче домашнего задания,другая имеет треугольную форму содержающую 5 на основной диагонали и в позициях выше ее,а ниже все 0. Посчитайте их детерминант и найдите обратные матрицы.Если для матрицы не у дается найти обратную, видимо этому мешает нулевое значение детерминанта.\n",
            "[[1 0 0 0 0]\n",
            " [0 2 0 0 0]\n",
            " [0 0 3 0 0]\n",
            " [0 0 0 4 0]\n",
            " [0 0 0 0 5]]\n",
            "Детерминант:  119.99999999999997\n",
            "Обратная матрица:  [[1.         0.         0.         0.         0.        ]\n",
            " [0.         0.5        0.         0.         0.        ]\n",
            " [0.         0.         0.33333333 0.         0.        ]\n",
            " [0.         0.         0.         0.25       0.        ]\n",
            " [0.         0.         0.         0.         0.2       ]]\n",
            "[[5 5 5 5 5]\n",
            " [0 5 5 5 5]\n",
            " [0 0 5 5 5]\n",
            " [0 0 0 5 5]\n",
            " [0 0 0 0 5]]\n",
            "Детерминант:  3124.999999999999\n",
            "Обратная матрица:  [[ 0.2 -0.2  0.   0.   0. ]\n",
            " [ 0.   0.2 -0.2  0.   0. ]\n",
            " [ 0.   0.   0.2 -0.2  0. ]\n",
            " [ 0.   0.   0.   0.2 -0.2]\n",
            " [ 0.   0.   0.   0.   0.2]]\n"
          ]
        }
      ]
    }
  ]
}