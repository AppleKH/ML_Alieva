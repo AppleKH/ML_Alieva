{
  "cells": [
    {
      "cell_type": "code",
      "execution_count": null,
      "metadata": {
        "id": "XtFQP3RNll3c"
      },
      "outputs": [],
      "source": [
        "import re\n",
        "import nltk\n",
        "import string\n",
        "\n",
        "import torch\n",
        "from torch.utils.data import Dataset, DataLoader\n",
        "import torch.nn as nn\n",
        "import torch.optim as optim\n",
        "\n",
        "import pandas as pd\n",
        "from sklearn.model_selection import train_test_split\n",
        "from sklearn.metrics import accuracy_score\n",
        "from nltk.tokenize import word_tokenize\n",
        "from sklearn.preprocessing import LabelEncoder\n",
        "from nltk.corpus import stopwords, wordnet"
      ]
    },
    {
      "cell_type": "code",
      "execution_count": null,
      "metadata": {
        "colab": {
          "base_uri": "https://localhost:8080/"
        },
        "id": "443CZCLp0_sE",
        "outputId": "186515b6-bfa6-4d39-eac4-0c8401a74f10"
      },
      "outputs": [
        {
          "output_type": "stream",
          "name": "stderr",
          "text": [
            "[nltk_data] Downloading package punkt to /root/nltk_data...\n",
            "[nltk_data]   Package punkt is already up-to-date!\n",
            "[nltk_data] Downloading package stopwords to /root/nltk_data...\n",
            "[nltk_data]   Package stopwords is already up-to-date!\n",
            "[nltk_data] Downloading package averaged_perceptron_tagger to\n",
            "[nltk_data]     /root/nltk_data...\n",
            "[nltk_data]   Package averaged_perceptron_tagger is already up-to-\n",
            "[nltk_data]       date!\n",
            "[nltk_data] Downloading package wordnet to /root/nltk_data...\n",
            "[nltk_data]   Package wordnet is already up-to-date!\n"
          ]
        },
        {
          "output_type": "execute_result",
          "data": {
            "text/plain": [
              "True"
            ]
          },
          "metadata": {},
          "execution_count": 101
        }
      ],
      "source": [
        "nltk.download('punkt')\n",
        "nltk.download('stopwords')\n",
        "nltk.download('averaged_perceptron_tagger')\n",
        "nltk.download('wordnet')"
      ]
    },
    {
      "cell_type": "markdown",
      "metadata": {
        "id": "jqDHq_AEjRZ1"
      },
      "source": [
        "## 1. Представление и предобработка текстовых данных "
      ]
    },
    {
      "cell_type": "markdown",
      "metadata": {
        "id": "vaki7efDpmXo"
      },
      "source": [
        "1.1 Операции по предобработке:\n",
        "* токенизация\n",
        "* стемминг / лемматизация\n",
        "* удаление стоп-слов\n",
        "* удаление пунктуации\n",
        "* приведение к нижнему регистру\n",
        "* любые другие операции над текстом"
      ]
    },
    {
      "cell_type": "code",
      "execution_count": null,
      "metadata": {
        "id": "nHRy4jpYphEr"
      },
      "outputs": [],
      "source": [
        "from nltk.tokenize import word_tokenize, sent_tokenize\n",
        "from nltk.stem.snowball import SnowballStemmer"
      ]
    },
    {
      "cell_type": "code",
      "execution_count": null,
      "metadata": {
        "id": "lMMzGhq0ikz1"
      },
      "outputs": [],
      "source": [
        "text = 'Select your preferences and run the install command. Stable represents the most currently tested and supported version of PyTorch. Note that LibTorch is only available for C++'"
      ]
    },
    {
      "cell_type": "markdown",
      "metadata": {
        "id": "bUhfertRtXE5"
      },
      "source": [
        "Реализовать функцию `preprocess_text(text: str)`, которая:\n",
        "* приводит строку к нижнему регистру\n",
        "* заменяет все символы, кроме a-z, A-Z и знаков .,!? на пробел\n"
      ]
    },
    {
      "cell_type": "code",
      "source": [
        "#происходит инициализация трех объектов, которые будут использоваться для обработки текстовых данных в задачах обработки естественного языка\n",
        "punctuation = set(string.punctuation)\n",
        "stop_words = set(stopwords.words(\"english\"))\n",
        "lemmatizer = nltk.WordNetLemmatizer()"
      ],
      "metadata": {
        "id": "AJcg4pn3811x"
      },
      "execution_count": null,
      "outputs": []
    },
    {
      "cell_type": "code",
      "source": [
        "#Функция для трансляции имен с nltk в wordnet\n",
        "def custom_pos(word: str) -> str:\n",
        "    tag = nltk.pos_tag([word])[0][1]\n",
        "    \n",
        "    tags_router = {\n",
        "     'CD': wordnet.NOUN,\n",
        "     'JJ': wordnet.ADJ, \n",
        "     'JJS': wordnet.ADJ, \n",
        "     'MD' : wordnet.NOUN,\n",
        "     'NN': wordnet.NOUN,\n",
        "     'NNS': wordnet.NOUN,\n",
        "     'RB': wordnet.ADV,\n",
        "     'VB' : wordnet.VERB,\n",
        "     'VBD': wordnet.VERB,\n",
        "     'VBG': wordnet.VERB,\n",
        "     'VBN': wordnet.VERB,\n",
        "     'VBZ': wordnet.VERB,\n",
        "    }\n",
        "    \n",
        "    return tags_router.get(tag, wordnet.NOUN)"
      ],
      "metadata": {
        "id": "iwFAc8N49_Tu"
      },
      "execution_count": null,
      "outputs": []
    },
    {
      "cell_type": "code",
      "source": [
        "def preprocess_text(text: str) -> str:\n",
        "    re_pattern = r'[^a-zA-Z0-9.,!?\\s]'\n",
        "    text = text.lower()\n",
        "    items = re.sub(string = text, pattern = re_pattern, repl = '')\n",
        "    \n",
        "    sentences = []\n",
        "    for sentence in nltk.sent_tokenize(text):\n",
        "        words = []\n",
        "        for word in nltk.word_tokenize(sentence):\n",
        "            if word not in stop_words and word not in punctuation:\n",
        "                lemma = lemmatizer.lemmatize(word, pos=custom_pos(word))\n",
        "                words.append(lemma)\n",
        "        sentences.append(\" \".join(words))\n",
        "    text = \". \".join(sentences)\n",
        "    return text"
      ],
      "metadata": {
        "id": "dq3DsNQU-B6c"
      },
      "execution_count": null,
      "outputs": []
    },
    {
      "cell_type": "code",
      "source": [
        "preprocess_text(text)"
      ],
      "metadata": {
        "colab": {
          "base_uri": "https://localhost:8080/",
          "height": 35
        },
        "id": "AsOHSqvC-Eqi",
        "outputId": "879324f2-5980-47fa-9fee-ee6eca09f63d"
      },
      "execution_count": null,
      "outputs": [
        {
          "output_type": "execute_result",
          "data": {
            "text/plain": [
              "'select preference run install command. stable represent currently test support version pytorch. note libtorch available c++'"
            ],
            "application/vnd.google.colaboratory.intrinsic+json": {
              "type": "string"
            }
          },
          "metadata": {},
          "execution_count": 107
        }
      ]
    },
    {
      "cell_type": "code",
      "source": [
        "preprocess_text(\"Ploho & Молчат дома - По краю острова [2019].\")"
      ],
      "metadata": {
        "colab": {
          "base_uri": "https://localhost:8080/",
          "height": 35
        },
        "id": "AsJLiLPM-ZGx",
        "outputId": "1b3fda83-5378-4471-ea29-74049a75c5e7"
      },
      "execution_count": null,
      "outputs": [
        {
          "output_type": "execute_result",
          "data": {
            "text/plain": [
              "'ploho молчат дома по краю острова 2019'"
            ],
            "application/vnd.google.colaboratory.intrinsic+json": {
              "type": "string"
            }
          },
          "metadata": {},
          "execution_count": 108
        }
      ]
    },
    {
      "cell_type": "markdown",
      "metadata": {
        "id": "Z2Dt1ssIqckC"
      },
      "source": [
        "1.2 Представление текстовых данных при помощи бинарного кодирования\n",
        "\n",
        "\n",
        "Представить первое предложение из `text` в виде тензора `sentence_t`: `sentence_t[i] == 1`, если __слово__ с индексом `i` присуствует в предложении."
      ]
    },
    {
      "cell_type": "code",
      "source": [
        "processed_item = preprocess_text(text)\n",
        "processed_item"
      ],
      "metadata": {
        "colab": {
          "base_uri": "https://localhost:8080/",
          "height": 35
        },
        "id": "MyRE34cl-c20",
        "outputId": "29814298-a15e-48dc-a7d7-adfb40da39fc"
      },
      "execution_count": null,
      "outputs": [
        {
          "output_type": "execute_result",
          "data": {
            "text/plain": [
              "'select preference run install command. stable represent currently test support version pytorch. note libtorch available c++'"
            ],
            "application/vnd.google.colaboratory.intrinsic+json": {
              "type": "string"
            }
          },
          "metadata": {},
          "execution_count": 109
        }
      ]
    },
    {
      "cell_type": "code",
      "source": [
        "#Получаем все слова для нашего алфавита\n",
        "alphabet = list(set(nltk.word_tokenize(processed_item)) | set(\".\")) \n",
        "alphabet"
      ],
      "metadata": {
        "colab": {
          "base_uri": "https://localhost:8080/"
        },
        "id": "-ASWk2Qh-qy4",
        "outputId": "85963357-ea46-461a-c601-1ae04f02ff62"
      },
      "execution_count": null,
      "outputs": [
        {
          "output_type": "execute_result",
          "data": {
            "text/plain": [
              "['select',\n",
              " 'install',\n",
              " 'currently',\n",
              " 'preference',\n",
              " 'note',\n",
              " 'support',\n",
              " 'stable',\n",
              " 'libtorch',\n",
              " 'pytorch',\n",
              " 'c++',\n",
              " 'test',\n",
              " 'available',\n",
              " 'represent',\n",
              " 'command',\n",
              " 'run',\n",
              " '.',\n",
              " 'version']"
            ]
          },
          "metadata": {},
          "execution_count": 110
        }
      ]
    },
    {
      "cell_type": "code",
      "source": [
        "word_to_idx = {word: i for i, word in enumerate(alphabet)}\n",
        "word_to_idx"
      ],
      "metadata": {
        "colab": {
          "base_uri": "https://localhost:8080/"
        },
        "id": "ARumopJv-tfn",
        "outputId": "64bbf17b-fd27-4e02-ff1f-1d0e8634230d"
      },
      "execution_count": null,
      "outputs": [
        {
          "output_type": "execute_result",
          "data": {
            "text/plain": [
              "{'select': 0,\n",
              " 'install': 1,\n",
              " 'currently': 2,\n",
              " 'preference': 3,\n",
              " 'note': 4,\n",
              " 'support': 5,\n",
              " 'stable': 6,\n",
              " 'libtorch': 7,\n",
              " 'pytorch': 8,\n",
              " 'c++': 9,\n",
              " 'test': 10,\n",
              " 'available': 11,\n",
              " 'represent': 12,\n",
              " 'command': 13,\n",
              " 'run': 14,\n",
              " '.': 15,\n",
              " 'version': 16}"
            ]
          },
          "metadata": {},
          "execution_count": 111
        }
      ]
    },
    {
      "cell_type": "code",
      "source": [
        "#Берем только первое предложение\n",
        "sentence = nltk.sent_tokenize(processed_item)[0]\n",
        "sentence"
      ],
      "metadata": {
        "colab": {
          "base_uri": "https://localhost:8080/",
          "height": 35
        },
        "id": "Y1pjjxqO-wZl",
        "outputId": "da79cabb-12c1-498a-86df-2a37d3f78cd6"
      },
      "execution_count": null,
      "outputs": [
        {
          "output_type": "execute_result",
          "data": {
            "text/plain": [
              "'select preference run install command.'"
            ],
            "application/vnd.google.colaboratory.intrinsic+json": {
              "type": "string"
            }
          },
          "metadata": {},
          "execution_count": 112
        }
      ]
    },
    {
      "cell_type": "code",
      "source": [
        "#Заполняем тензор нулями на длинну нашего алфавита\n",
        "res_tensor = torch.zeros(len(alphabet))\n",
        "res_tensor"
      ],
      "metadata": {
        "colab": {
          "base_uri": "https://localhost:8080/"
        },
        "id": "GxbqczGL-0AD",
        "outputId": "ae9b9ed4-4005-4636-8ecd-747de4446042"
      },
      "execution_count": null,
      "outputs": [
        {
          "output_type": "execute_result",
          "data": {
            "text/plain": [
              "tensor([0., 0., 0., 0., 0., 0., 0., 0., 0., 0., 0., 0., 0., 0., 0., 0., 0.])"
            ]
          },
          "metadata": {},
          "execution_count": 113
        }
      ]
    },
    {
      "cell_type": "code",
      "source": [
        "#Получаем индекы распознанных слов\n",
        "word_indices = [word_to_idx[w] for w in nltk.word_tokenize(sentence)]\n",
        "word_indices"
      ],
      "metadata": {
        "colab": {
          "base_uri": "https://localhost:8080/"
        },
        "id": "zT9pZyTX-2pJ",
        "outputId": "f17bd53b-c417-426b-facd-011477e7a791"
      },
      "execution_count": null,
      "outputs": [
        {
          "output_type": "execute_result",
          "data": {
            "text/plain": [
              "[0, 3, 14, 1, 13, 15]"
            ]
          },
          "metadata": {},
          "execution_count": 114
        }
      ]
    },
    {
      "cell_type": "code",
      "source": [
        "#Где есть индексы - проставляем 1 и \n",
        "res_tensor[word_indices] = 1\n",
        "res_tensor"
      ],
      "metadata": {
        "colab": {
          "base_uri": "https://localhost:8080/"
        },
        "id": "New0012a-52e",
        "outputId": "d2c92ede-97b4-43b7-a91c-23bd558a23f5"
      },
      "execution_count": null,
      "outputs": [
        {
          "output_type": "execute_result",
          "data": {
            "text/plain": [
              "tensor([1., 1., 0., 1., 0., 0., 0., 0., 0., 0., 0., 0., 0., 1., 1., 1., 0.])"
            ]
          },
          "metadata": {},
          "execution_count": 115
        }
      ]
    },
    {
      "cell_type": "markdown",
      "metadata": {
        "id": "P2Nz_zcgw3N4"
      },
      "source": [
        "## 2. Классификация фамилий по национальности\n",
        "\n",
        "Датасет: https://disk.yandex.ru/d/owHew8hzPc7X9Q?w=1\n",
        "\n",
        "2.1 Считать файл `surnames/surnames.csv`. \n",
        "\n",
        "2.2 Закодировать национальности числами, начиная с 0.\n",
        "\n",
        "2.3 Разбить датасет на обучающую и тестовую выборку\n",
        "\n",
        "2.4 Реализовать класс `Vocab` (токен = __символ__)\n",
        "\n",
        "2.5 Реализовать класс `SurnamesDataset`\n",
        "\n",
        "2.6. Обучить классификатор.\n",
        "\n",
        "2.7 Измерить точность на тестовой выборке. Проверить работоспособность модели: прогнать несколько фамилий студентов группы через модели и проверить результат. Для каждой фамилии выводить 3 наиболее вероятных предсказания."
      ]
    },
    {
      "cell_type": "code",
      "source": [
        "#2.1 Считать файл surnames/surnames.csv.\n",
        "import pandas as pd\n",
        "df = pd.read_csv(\"./surnames.csv\")\n",
        "df"
      ],
      "metadata": {
        "colab": {
          "base_uri": "https://localhost:8080/",
          "height": 424
        },
        "id": "30P3Kau6_PHK",
        "outputId": "9a3f1588-a13b-478b-f398-6c35d71b5304"
      },
      "execution_count": null,
      "outputs": [
        {
          "output_type": "execute_result",
          "data": {
            "text/plain": [
              "        surname nationality\n",
              "0      Woodford     English\n",
              "1          Coté      French\n",
              "2          Kore     English\n",
              "3         Koury      Arabic\n",
              "4        Lebzak     Russian\n",
              "...         ...         ...\n",
              "10975  Quraishi      Arabic\n",
              "10976   Innalls     English\n",
              "10977      Król      Polish\n",
              "10978    Purvis     English\n",
              "10979  Messerli      German\n",
              "\n",
              "[10980 rows x 2 columns]"
            ],
            "text/html": [
              "\n",
              "  <div id=\"df-c916577b-1536-4a1c-9dc0-d030f2b6551f\">\n",
              "    <div class=\"colab-df-container\">\n",
              "      <div>\n",
              "<style scoped>\n",
              "    .dataframe tbody tr th:only-of-type {\n",
              "        vertical-align: middle;\n",
              "    }\n",
              "\n",
              "    .dataframe tbody tr th {\n",
              "        vertical-align: top;\n",
              "    }\n",
              "\n",
              "    .dataframe thead th {\n",
              "        text-align: right;\n",
              "    }\n",
              "</style>\n",
              "<table border=\"1\" class=\"dataframe\">\n",
              "  <thead>\n",
              "    <tr style=\"text-align: right;\">\n",
              "      <th></th>\n",
              "      <th>surname</th>\n",
              "      <th>nationality</th>\n",
              "    </tr>\n",
              "  </thead>\n",
              "  <tbody>\n",
              "    <tr>\n",
              "      <th>0</th>\n",
              "      <td>Woodford</td>\n",
              "      <td>English</td>\n",
              "    </tr>\n",
              "    <tr>\n",
              "      <th>1</th>\n",
              "      <td>Coté</td>\n",
              "      <td>French</td>\n",
              "    </tr>\n",
              "    <tr>\n",
              "      <th>2</th>\n",
              "      <td>Kore</td>\n",
              "      <td>English</td>\n",
              "    </tr>\n",
              "    <tr>\n",
              "      <th>3</th>\n",
              "      <td>Koury</td>\n",
              "      <td>Arabic</td>\n",
              "    </tr>\n",
              "    <tr>\n",
              "      <th>4</th>\n",
              "      <td>Lebzak</td>\n",
              "      <td>Russian</td>\n",
              "    </tr>\n",
              "    <tr>\n",
              "      <th>...</th>\n",
              "      <td>...</td>\n",
              "      <td>...</td>\n",
              "    </tr>\n",
              "    <tr>\n",
              "      <th>10975</th>\n",
              "      <td>Quraishi</td>\n",
              "      <td>Arabic</td>\n",
              "    </tr>\n",
              "    <tr>\n",
              "      <th>10976</th>\n",
              "      <td>Innalls</td>\n",
              "      <td>English</td>\n",
              "    </tr>\n",
              "    <tr>\n",
              "      <th>10977</th>\n",
              "      <td>Król</td>\n",
              "      <td>Polish</td>\n",
              "    </tr>\n",
              "    <tr>\n",
              "      <th>10978</th>\n",
              "      <td>Purvis</td>\n",
              "      <td>English</td>\n",
              "    </tr>\n",
              "    <tr>\n",
              "      <th>10979</th>\n",
              "      <td>Messerli</td>\n",
              "      <td>German</td>\n",
              "    </tr>\n",
              "  </tbody>\n",
              "</table>\n",
              "<p>10980 rows × 2 columns</p>\n",
              "</div>\n",
              "      <button class=\"colab-df-convert\" onclick=\"convertToInteractive('df-c916577b-1536-4a1c-9dc0-d030f2b6551f')\"\n",
              "              title=\"Convert this dataframe to an interactive table.\"\n",
              "              style=\"display:none;\">\n",
              "        \n",
              "  <svg xmlns=\"http://www.w3.org/2000/svg\" height=\"24px\"viewBox=\"0 0 24 24\"\n",
              "       width=\"24px\">\n",
              "    <path d=\"M0 0h24v24H0V0z\" fill=\"none\"/>\n",
              "    <path d=\"M18.56 5.44l.94 2.06.94-2.06 2.06-.94-2.06-.94-.94-2.06-.94 2.06-2.06.94zm-11 1L8.5 8.5l.94-2.06 2.06-.94-2.06-.94L8.5 2.5l-.94 2.06-2.06.94zm10 10l.94 2.06.94-2.06 2.06-.94-2.06-.94-.94-2.06-.94 2.06-2.06.94z\"/><path d=\"M17.41 7.96l-1.37-1.37c-.4-.4-.92-.59-1.43-.59-.52 0-1.04.2-1.43.59L10.3 9.45l-7.72 7.72c-.78.78-.78 2.05 0 2.83L4 21.41c.39.39.9.59 1.41.59.51 0 1.02-.2 1.41-.59l7.78-7.78 2.81-2.81c.8-.78.8-2.07 0-2.86zM5.41 20L4 18.59l7.72-7.72 1.47 1.35L5.41 20z\"/>\n",
              "  </svg>\n",
              "      </button>\n",
              "      \n",
              "  <style>\n",
              "    .colab-df-container {\n",
              "      display:flex;\n",
              "      flex-wrap:wrap;\n",
              "      gap: 12px;\n",
              "    }\n",
              "\n",
              "    .colab-df-convert {\n",
              "      background-color: #E8F0FE;\n",
              "      border: none;\n",
              "      border-radius: 50%;\n",
              "      cursor: pointer;\n",
              "      display: none;\n",
              "      fill: #1967D2;\n",
              "      height: 32px;\n",
              "      padding: 0 0 0 0;\n",
              "      width: 32px;\n",
              "    }\n",
              "\n",
              "    .colab-df-convert:hover {\n",
              "      background-color: #E2EBFA;\n",
              "      box-shadow: 0px 1px 2px rgba(60, 64, 67, 0.3), 0px 1px 3px 1px rgba(60, 64, 67, 0.15);\n",
              "      fill: #174EA6;\n",
              "    }\n",
              "\n",
              "    [theme=dark] .colab-df-convert {\n",
              "      background-color: #3B4455;\n",
              "      fill: #D2E3FC;\n",
              "    }\n",
              "\n",
              "    [theme=dark] .colab-df-convert:hover {\n",
              "      background-color: #434B5C;\n",
              "      box-shadow: 0px 1px 3px 1px rgba(0, 0, 0, 0.15);\n",
              "      filter: drop-shadow(0px 1px 2px rgba(0, 0, 0, 0.3));\n",
              "      fill: #FFFFFF;\n",
              "    }\n",
              "  </style>\n",
              "\n",
              "      <script>\n",
              "        const buttonEl =\n",
              "          document.querySelector('#df-c916577b-1536-4a1c-9dc0-d030f2b6551f button.colab-df-convert');\n",
              "        buttonEl.style.display =\n",
              "          google.colab.kernel.accessAllowed ? 'block' : 'none';\n",
              "\n",
              "        async function convertToInteractive(key) {\n",
              "          const element = document.querySelector('#df-c916577b-1536-4a1c-9dc0-d030f2b6551f');\n",
              "          const dataTable =\n",
              "            await google.colab.kernel.invokeFunction('convertToInteractive',\n",
              "                                                     [key], {});\n",
              "          if (!dataTable) return;\n",
              "\n",
              "          const docLinkHtml = 'Like what you see? Visit the ' +\n",
              "            '<a target=\"_blank\" href=https://colab.research.google.com/notebooks/data_table.ipynb>data table notebook</a>'\n",
              "            + ' to learn more about interactive tables.';\n",
              "          element.innerHTML = '';\n",
              "          dataTable['output_type'] = 'display_data';\n",
              "          await google.colab.output.renderOutput(dataTable, element);\n",
              "          const docLink = document.createElement('div');\n",
              "          docLink.innerHTML = docLinkHtml;\n",
              "          element.appendChild(docLink);\n",
              "        }\n",
              "      </script>\n",
              "    </div>\n",
              "  </div>\n",
              "  "
            ]
          },
          "metadata": {},
          "execution_count": 116
        }
      ]
    },
    {
      "cell_type": "code",
      "source": [
        "#2.2 Закодировать национальности числами, начиная с 0.\n",
        "nationalities = df[\"nationality\"].unique() #возвращаем массив всех уникальных значений\n",
        "nationalities"
      ],
      "metadata": {
        "colab": {
          "base_uri": "https://localhost:8080/"
        },
        "id": "GNH_66fI_l3r",
        "outputId": "940c3939-f701-45d7-f291-b34aa20bf17c"
      },
      "execution_count": null,
      "outputs": [
        {
          "output_type": "execute_result",
          "data": {
            "text/plain": [
              "array(['English', 'French', 'Arabic', 'Russian', 'Japanese', 'Chinese',\n",
              "       'Italian', 'Czech', 'Irish', 'German', 'Greek', 'Spanish',\n",
              "       'Polish', 'Dutch', 'Vietnamese', 'Korean', 'Portuguese',\n",
              "       'Scottish'], dtype=object)"
            ]
          },
          "metadata": {},
          "execution_count": 117
        }
      ]
    },
    {
      "cell_type": "code",
      "source": [
        "#создаем словарь vocab_nat, который отображает каждую уникальную национальность из массива nationalities в уникальный номер, сгенерированный с помощью функции enumerate()\n",
        "vocab_nat = {item: number for number, item in enumerate(nationalities)}\n",
        "vocab_nat"
      ],
      "metadata": {
        "colab": {
          "base_uri": "https://localhost:8080/"
        },
        "id": "EdpSnW6Z_xhC",
        "outputId": "1ecd920e-643d-47dd-beab-13ed735e3a94"
      },
      "execution_count": null,
      "outputs": [
        {
          "output_type": "execute_result",
          "data": {
            "text/plain": [
              "{'English': 0,\n",
              " 'French': 1,\n",
              " 'Arabic': 2,\n",
              " 'Russian': 3,\n",
              " 'Japanese': 4,\n",
              " 'Chinese': 5,\n",
              " 'Italian': 6,\n",
              " 'Czech': 7,\n",
              " 'Irish': 8,\n",
              " 'German': 9,\n",
              " 'Greek': 10,\n",
              " 'Spanish': 11,\n",
              " 'Polish': 12,\n",
              " 'Dutch': 13,\n",
              " 'Vietnamese': 14,\n",
              " 'Korean': 15,\n",
              " 'Portuguese': 16,\n",
              " 'Scottish': 17}"
            ]
          },
          "metadata": {},
          "execution_count": 118
        }
      ]
    },
    {
      "cell_type": "code",
      "source": [
        "reverse_nat = {number: item for number, item in enumerate(nationalities)}\n",
        "reverse_nat"
      ],
      "metadata": {
        "colab": {
          "base_uri": "https://localhost:8080/"
        },
        "id": "upsUh2Ug_1DU",
        "outputId": "aa2af29d-7921-4323-faad-8a238585fa73"
      },
      "execution_count": null,
      "outputs": [
        {
          "output_type": "execute_result",
          "data": {
            "text/plain": [
              "{0: 'English',\n",
              " 1: 'French',\n",
              " 2: 'Arabic',\n",
              " 3: 'Russian',\n",
              " 4: 'Japanese',\n",
              " 5: 'Chinese',\n",
              " 6: 'Italian',\n",
              " 7: 'Czech',\n",
              " 8: 'Irish',\n",
              " 9: 'German',\n",
              " 10: 'Greek',\n",
              " 11: 'Spanish',\n",
              " 12: 'Polish',\n",
              " 13: 'Dutch',\n",
              " 14: 'Vietnamese',\n",
              " 15: 'Korean',\n",
              " 16: 'Portuguese',\n",
              " 17: 'Scottish'}"
            ]
          },
          "metadata": {},
          "execution_count": 119
        }
      ]
    },
    {
      "cell_type": "code",
      "source": [
        "#создаем новый столбец \"label\" в объекте df, который является результатом применения метода map() к столбцу \"nationality\" с использованием словаря vocab_nat\n",
        "df[\"label\"] = df[\"nationality\"].map(vocab_nat)\n",
        "df"
      ],
      "metadata": {
        "colab": {
          "base_uri": "https://localhost:8080/",
          "height": 424
        },
        "id": "pNS7Otyl_3qQ",
        "outputId": "5b825fb8-9eb9-4b68-9ee4-8f5434380225"
      },
      "execution_count": null,
      "outputs": [
        {
          "output_type": "execute_result",
          "data": {
            "text/plain": [
              "        surname nationality  label\n",
              "0      Woodford     English      0\n",
              "1          Coté      French      1\n",
              "2          Kore     English      0\n",
              "3         Koury      Arabic      2\n",
              "4        Lebzak     Russian      3\n",
              "...         ...         ...    ...\n",
              "10975  Quraishi      Arabic      2\n",
              "10976   Innalls     English      0\n",
              "10977      Król      Polish     12\n",
              "10978    Purvis     English      0\n",
              "10979  Messerli      German      9\n",
              "\n",
              "[10980 rows x 3 columns]"
            ],
            "text/html": [
              "\n",
              "  <div id=\"df-d0de27fc-d250-40fc-a42c-d9c7fbb1ff61\">\n",
              "    <div class=\"colab-df-container\">\n",
              "      <div>\n",
              "<style scoped>\n",
              "    .dataframe tbody tr th:only-of-type {\n",
              "        vertical-align: middle;\n",
              "    }\n",
              "\n",
              "    .dataframe tbody tr th {\n",
              "        vertical-align: top;\n",
              "    }\n",
              "\n",
              "    .dataframe thead th {\n",
              "        text-align: right;\n",
              "    }\n",
              "</style>\n",
              "<table border=\"1\" class=\"dataframe\">\n",
              "  <thead>\n",
              "    <tr style=\"text-align: right;\">\n",
              "      <th></th>\n",
              "      <th>surname</th>\n",
              "      <th>nationality</th>\n",
              "      <th>label</th>\n",
              "    </tr>\n",
              "  </thead>\n",
              "  <tbody>\n",
              "    <tr>\n",
              "      <th>0</th>\n",
              "      <td>Woodford</td>\n",
              "      <td>English</td>\n",
              "      <td>0</td>\n",
              "    </tr>\n",
              "    <tr>\n",
              "      <th>1</th>\n",
              "      <td>Coté</td>\n",
              "      <td>French</td>\n",
              "      <td>1</td>\n",
              "    </tr>\n",
              "    <tr>\n",
              "      <th>2</th>\n",
              "      <td>Kore</td>\n",
              "      <td>English</td>\n",
              "      <td>0</td>\n",
              "    </tr>\n",
              "    <tr>\n",
              "      <th>3</th>\n",
              "      <td>Koury</td>\n",
              "      <td>Arabic</td>\n",
              "      <td>2</td>\n",
              "    </tr>\n",
              "    <tr>\n",
              "      <th>4</th>\n",
              "      <td>Lebzak</td>\n",
              "      <td>Russian</td>\n",
              "      <td>3</td>\n",
              "    </tr>\n",
              "    <tr>\n",
              "      <th>...</th>\n",
              "      <td>...</td>\n",
              "      <td>...</td>\n",
              "      <td>...</td>\n",
              "    </tr>\n",
              "    <tr>\n",
              "      <th>10975</th>\n",
              "      <td>Quraishi</td>\n",
              "      <td>Arabic</td>\n",
              "      <td>2</td>\n",
              "    </tr>\n",
              "    <tr>\n",
              "      <th>10976</th>\n",
              "      <td>Innalls</td>\n",
              "      <td>English</td>\n",
              "      <td>0</td>\n",
              "    </tr>\n",
              "    <tr>\n",
              "      <th>10977</th>\n",
              "      <td>Król</td>\n",
              "      <td>Polish</td>\n",
              "      <td>12</td>\n",
              "    </tr>\n",
              "    <tr>\n",
              "      <th>10978</th>\n",
              "      <td>Purvis</td>\n",
              "      <td>English</td>\n",
              "      <td>0</td>\n",
              "    </tr>\n",
              "    <tr>\n",
              "      <th>10979</th>\n",
              "      <td>Messerli</td>\n",
              "      <td>German</td>\n",
              "      <td>9</td>\n",
              "    </tr>\n",
              "  </tbody>\n",
              "</table>\n",
              "<p>10980 rows × 3 columns</p>\n",
              "</div>\n",
              "      <button class=\"colab-df-convert\" onclick=\"convertToInteractive('df-d0de27fc-d250-40fc-a42c-d9c7fbb1ff61')\"\n",
              "              title=\"Convert this dataframe to an interactive table.\"\n",
              "              style=\"display:none;\">\n",
              "        \n",
              "  <svg xmlns=\"http://www.w3.org/2000/svg\" height=\"24px\"viewBox=\"0 0 24 24\"\n",
              "       width=\"24px\">\n",
              "    <path d=\"M0 0h24v24H0V0z\" fill=\"none\"/>\n",
              "    <path d=\"M18.56 5.44l.94 2.06.94-2.06 2.06-.94-2.06-.94-.94-2.06-.94 2.06-2.06.94zm-11 1L8.5 8.5l.94-2.06 2.06-.94-2.06-.94L8.5 2.5l-.94 2.06-2.06.94zm10 10l.94 2.06.94-2.06 2.06-.94-2.06-.94-.94-2.06-.94 2.06-2.06.94z\"/><path d=\"M17.41 7.96l-1.37-1.37c-.4-.4-.92-.59-1.43-.59-.52 0-1.04.2-1.43.59L10.3 9.45l-7.72 7.72c-.78.78-.78 2.05 0 2.83L4 21.41c.39.39.9.59 1.41.59.51 0 1.02-.2 1.41-.59l7.78-7.78 2.81-2.81c.8-.78.8-2.07 0-2.86zM5.41 20L4 18.59l7.72-7.72 1.47 1.35L5.41 20z\"/>\n",
              "  </svg>\n",
              "      </button>\n",
              "      \n",
              "  <style>\n",
              "    .colab-df-container {\n",
              "      display:flex;\n",
              "      flex-wrap:wrap;\n",
              "      gap: 12px;\n",
              "    }\n",
              "\n",
              "    .colab-df-convert {\n",
              "      background-color: #E8F0FE;\n",
              "      border: none;\n",
              "      border-radius: 50%;\n",
              "      cursor: pointer;\n",
              "      display: none;\n",
              "      fill: #1967D2;\n",
              "      height: 32px;\n",
              "      padding: 0 0 0 0;\n",
              "      width: 32px;\n",
              "    }\n",
              "\n",
              "    .colab-df-convert:hover {\n",
              "      background-color: #E2EBFA;\n",
              "      box-shadow: 0px 1px 2px rgba(60, 64, 67, 0.3), 0px 1px 3px 1px rgba(60, 64, 67, 0.15);\n",
              "      fill: #174EA6;\n",
              "    }\n",
              "\n",
              "    [theme=dark] .colab-df-convert {\n",
              "      background-color: #3B4455;\n",
              "      fill: #D2E3FC;\n",
              "    }\n",
              "\n",
              "    [theme=dark] .colab-df-convert:hover {\n",
              "      background-color: #434B5C;\n",
              "      box-shadow: 0px 1px 3px 1px rgba(0, 0, 0, 0.15);\n",
              "      filter: drop-shadow(0px 1px 2px rgba(0, 0, 0, 0.3));\n",
              "      fill: #FFFFFF;\n",
              "    }\n",
              "  </style>\n",
              "\n",
              "      <script>\n",
              "        const buttonEl =\n",
              "          document.querySelector('#df-d0de27fc-d250-40fc-a42c-d9c7fbb1ff61 button.colab-df-convert');\n",
              "        buttonEl.style.display =\n",
              "          google.colab.kernel.accessAllowed ? 'block' : 'none';\n",
              "\n",
              "        async function convertToInteractive(key) {\n",
              "          const element = document.querySelector('#df-d0de27fc-d250-40fc-a42c-d9c7fbb1ff61');\n",
              "          const dataTable =\n",
              "            await google.colab.kernel.invokeFunction('convertToInteractive',\n",
              "                                                     [key], {});\n",
              "          if (!dataTable) return;\n",
              "\n",
              "          const docLinkHtml = 'Like what you see? Visit the ' +\n",
              "            '<a target=\"_blank\" href=https://colab.research.google.com/notebooks/data_table.ipynb>data table notebook</a>'\n",
              "            + ' to learn more about interactive tables.';\n",
              "          element.innerHTML = '';\n",
              "          dataTable['output_type'] = 'display_data';\n",
              "          await google.colab.output.renderOutput(dataTable, element);\n",
              "          const docLink = document.createElement('div');\n",
              "          docLink.innerHTML = docLinkHtml;\n",
              "          element.appendChild(docLink);\n",
              "        }\n",
              "      </script>\n",
              "    </div>\n",
              "  </div>\n",
              "  "
            ]
          },
          "metadata": {},
          "execution_count": 120
        }
      ]
    },
    {
      "cell_type": "code",
      "source": [
        "targets=torch.tensor(df[\"label\"], dtype=torch.long)\n",
        "targets"
      ],
      "metadata": {
        "colab": {
          "base_uri": "https://localhost:8080/"
        },
        "id": "XV_A4PUF_-LD",
        "outputId": "0f7c694f-0ddb-4249-9713-f89c64147429"
      },
      "execution_count": null,
      "outputs": [
        {
          "output_type": "execute_result",
          "data": {
            "text/plain": [
              "tensor([ 0,  1,  0,  ..., 12,  0,  9])"
            ]
          },
          "metadata": {},
          "execution_count": 121
        }
      ]
    },
    {
      "cell_type": "code",
      "execution_count": null,
      "metadata": {
        "id": "kUkSZkDqxNYS"
      },
      "outputs": [],
      "source": [
        "#2.4 Реализовать класс Vocab (токен = символ)\n",
        "#создаем класс Vocab, который является реализацией словаря для предобработки и работы с текстовыми данными\n",
        "class Vocab:\n",
        "  def __init__(self, data):\n",
        "    #создаем объект класса, создаются два пустых словаря idx_to_token и token_to_idx, а также определяется длина словаря (vocab_len) инициализацией ее значением len(self.token_to_idx)\n",
        "    self.idx_to_token = {}\n",
        "    self.token_to_idx = {}\n",
        "    self.gennerate_vocab(data) \n",
        "    self.vocab_len = len(self.token_to_idx)\n",
        "\n",
        "  def add_token(self, token):\n",
        "    #добавляет новый токен в словарь, если он еще не был добавлен,а если токен уже есть в словаре, то метод ничего не делает\n",
        "        if token not in self.token_to_idx:\n",
        "            self.token_to_idx[token] = len(self.token_to_idx)\n",
        "            self.idx_to_token[len(self.idx_to_token)] = token\n",
        "            \n",
        "  def gennerate_vocab(self, data):\n",
        "    #заполняет словарь на основе входных данных\n",
        "    #он проходится по каждой фамилии в массиве data и каждому символу в ней\n",
        "    #после этого он вызывает метод add_token для каждого символа, чтобы добавить его в словарь\n",
        "       for surname in data:\n",
        "           for char in preprocess_text(surname):\n",
        "               self.add_token(char)"
      ]
    },
    {
      "cell_type": "code",
      "source": [
        "#создаем массив уникальных значений фамилий из столбца \"surname\" объекта df и преобразует его в массив строковых значений с помощью методов unique() и astype('str').\n",
        "data = df[\"surname\"].unique().astype('str')\n",
        "data"
      ],
      "metadata": {
        "colab": {
          "base_uri": "https://localhost:8080/"
        },
        "id": "6KC5VnFZAs-x",
        "outputId": "bff06442-cc7e-491e-e175-9b348c1f38ca"
      },
      "execution_count": null,
      "outputs": [
        {
          "output_type": "execute_result",
          "data": {
            "text/plain": [
              "array(['Woodford', 'Coté', 'Kore', ..., 'Król', 'Purvis', 'Messerli'],\n",
              "      dtype='<U17')"
            ]
          },
          "metadata": {},
          "execution_count": 123
        }
      ]
    },
    {
      "cell_type": "code",
      "source": [
        "#создаем объект класса Vocab, используя массив data\n",
        "vocab = Vocab(data)\n",
        "vocab.idx_to_token #это словарь, который содержит соответствие между индексами и токенами словаря"
      ],
      "metadata": {
        "colab": {
          "base_uri": "https://localhost:8080/"
        },
        "id": "E2FZWUTEAvJP",
        "outputId": "c172bd8c-6bba-412d-cfb7-72078eb1a079"
      },
      "execution_count": null,
      "outputs": [
        {
          "output_type": "execute_result",
          "data": {
            "text/plain": [
              "{0: 'w',\n",
              " 1: 'o',\n",
              " 2: 'd',\n",
              " 3: 'f',\n",
              " 4: 'r',\n",
              " 5: 'c',\n",
              " 6: 't',\n",
              " 7: 'é',\n",
              " 8: 'k',\n",
              " 9: 'e',\n",
              " 10: 'u',\n",
              " 11: 'y',\n",
              " 12: 'l',\n",
              " 13: 'b',\n",
              " 14: 'z',\n",
              " 15: 'a',\n",
              " 16: 'i',\n",
              " 17: 'n',\n",
              " 18: 'h',\n",
              " 19: 'm',\n",
              " 20: 's',\n",
              " 21: 'v',\n",
              " 22: 'p',\n",
              " 23: 'g',\n",
              " 24: 'j',\n",
              " 25: \"'\",\n",
              " 26: 'q',\n",
              " 27: 'à',\n",
              " 28: 'x',\n",
              " 29: 'ü',\n",
              " 30: '-',\n",
              " 31: 'í',\n",
              " 32: 'ú',\n",
              " 33: 'ä',\n",
              " 34: 'ö',\n",
              " 35: 'ó',\n",
              " 36: '1',\n",
              " 37: 'ò',\n",
              " 38: 'ñ',\n",
              " 39: 'ż',\n",
              " 40: 'ß',\n",
              " 41: 'á',\n",
              " 42: 'è',\n",
              " 43: 'ã',\n",
              " 44: 'ê',\n",
              " 45: 'ì',\n",
              " 46: 'ś',\n",
              " 47: 'ń',\n",
              " 48: 'ù',\n",
              " 49: 'ç',\n",
              " 50: '/',\n",
              " 51: 'õ',\n",
              " 52: 'ą',\n",
              " 53: 'ł'}"
            ]
          },
          "metadata": {},
          "execution_count": 124
        }
      ]
    },
    {
      "cell_type": "code",
      "source": [
        "vocab.token_to_idx #это словарь, который содержит соответствие между токенами словаря и их индексами"
      ],
      "metadata": {
        "colab": {
          "base_uri": "https://localhost:8080/"
        },
        "id": "lSj03GZQAyaf",
        "outputId": "f414a3b8-4853-42f3-a0a8-a2ea911a73a0"
      },
      "execution_count": null,
      "outputs": [
        {
          "output_type": "execute_result",
          "data": {
            "text/plain": [
              "{'w': 0,\n",
              " 'o': 1,\n",
              " 'd': 2,\n",
              " 'f': 3,\n",
              " 'r': 4,\n",
              " 'c': 5,\n",
              " 't': 6,\n",
              " 'é': 7,\n",
              " 'k': 8,\n",
              " 'e': 9,\n",
              " 'u': 10,\n",
              " 'y': 11,\n",
              " 'l': 12,\n",
              " 'b': 13,\n",
              " 'z': 14,\n",
              " 'a': 15,\n",
              " 'i': 16,\n",
              " 'n': 17,\n",
              " 'h': 18,\n",
              " 'm': 19,\n",
              " 's': 20,\n",
              " 'v': 21,\n",
              " 'p': 22,\n",
              " 'g': 23,\n",
              " 'j': 24,\n",
              " \"'\": 25,\n",
              " 'q': 26,\n",
              " 'à': 27,\n",
              " 'x': 28,\n",
              " 'ü': 29,\n",
              " '-': 30,\n",
              " 'í': 31,\n",
              " 'ú': 32,\n",
              " 'ä': 33,\n",
              " 'ö': 34,\n",
              " 'ó': 35,\n",
              " '1': 36,\n",
              " 'ò': 37,\n",
              " 'ñ': 38,\n",
              " 'ż': 39,\n",
              " 'ß': 40,\n",
              " 'á': 41,\n",
              " 'è': 42,\n",
              " 'ã': 43,\n",
              " 'ê': 44,\n",
              " 'ì': 45,\n",
              " 'ś': 46,\n",
              " 'ń': 47,\n",
              " 'ù': 48,\n",
              " 'ç': 49,\n",
              " '/': 50,\n",
              " 'õ': 51,\n",
              " 'ą': 52,\n",
              " 'ł': 53}"
            ]
          },
          "metadata": {},
          "execution_count": 125
        }
      ]
    },
    {
      "cell_type": "code",
      "source": [
        "#2.5 Реализовать класс SurnamesDataset\n",
        "from torch.utils.data import Dataset, DataLoader, random_split"
      ],
      "metadata": {
        "id": "cGHaz7UQA2Yz"
      },
      "execution_count": null,
      "outputs": []
    },
    {
      "cell_type": "code",
      "execution_count": null,
      "metadata": {
        "id": "WCaRK1QHxe0A"
      },
      "outputs": [],
      "source": [
        "class SurnamesDataset(Dataset):\n",
        "  def __init__(self, X, y, vocab: Vocab):\n",
        "    self.X = X\n",
        "    self.y = y\n",
        "    self.vocab = vocab\n",
        "\n",
        "  def vectorize(self, surname):\n",
        "    '''Генерирует представление фамилии surname в при помощи бинарного кодирования (см. 1.2)'''\n",
        "    repr = torch.zeros(self.vocab.vocab_len)\n",
        "    for char in preprocess_text(surname):\n",
        "        idx = self.vocab.token_to_idx[char]\n",
        "        repr[idx] = 1\n",
        "    return repr\n",
        "\n",
        "  def __len__(self) -> int: #это метод, который возвращает количество элементов в датасете\n",
        "    return len(self.X)\n",
        "\n",
        "  def __getitem__(self, idx) -> tuple: #это метод, который принимает индекс элемент в датасете и возвращает кортеж из бинарного представления фамилии и соответствующей метки класса\n",
        "    return self.vectorize(self.X[idx]), targets[idx]\n",
        "\n",
        "  def __str__(self) -> str: #это метод, который возвращает строковое представление объекта класса\n",
        "    return f\"SurnamesDataset with {self.__len__()} items\"\n",
        "    \n",
        "  def y_len(self) -> int: #это метод, который возвращает количество уникальных меток классов в массиве y\n",
        "    return self.y.unique().shape[0]"
      ]
    },
    {
      "cell_type": "code",
      "source": [
        "#2.3 Разбить датасет на обучающую и тестовую выборку\n",
        "dataset = SurnamesDataset(\n",
        "    df[\"surname\"].tolist(),\n",
        "    torch.tensor(df[\"label\"], dtype=torch.long),\n",
        "    vocab,\n",
        ")\n",
        "\n",
        "\n",
        "print(dataset)\n",
        "\n",
        "\n",
        "train_size = int(len(dataset)*0.8)\n",
        "test_size = len(dataset) - train_size\n",
        "train_dataset, test_dataset = random_split(dataset, [train_size, test_size])\n",
        "\n",
        "trainloader = torch.utils.data.DataLoader(train_dataset, batch_size = 32, shuffle = True, pin_memory=True)\n",
        "testloader = torch.utils.data.DataLoader(test_dataset, batch_size = 1, pin_memory = True)\n",
        "\n",
        "print(f\"train_size : {train_size}\")\n",
        "print(f\"test_size : {test_size}\")"
      ],
      "metadata": {
        "colab": {
          "base_uri": "https://localhost:8080/"
        },
        "id": "P-oAMX_TBqdf",
        "outputId": "821dc4e1-7bce-4b26-dde6-19fea0c07b71"
      },
      "execution_count": null,
      "outputs": [
        {
          "output_type": "stream",
          "name": "stdout",
          "text": [
            "SurnamesDataset with 10980 items\n",
            "train_size : 8784\n",
            "test_size : 2196\n"
          ]
        }
      ]
    },
    {
      "cell_type": "code",
      "source": [
        "dataset.__getitem__(0)"
      ],
      "metadata": {
        "colab": {
          "base_uri": "https://localhost:8080/"
        },
        "id": "NcimlL2NByfQ",
        "outputId": "d4ac1961-a8fb-4120-dbd8-394fd2b752d0"
      },
      "execution_count": null,
      "outputs": [
        {
          "output_type": "execute_result",
          "data": {
            "text/plain": [
              "(tensor([1., 1., 1., 1., 1., 0., 0., 0., 0., 0., 0., 0., 0., 0., 0., 0., 0., 0.,\n",
              "         0., 0., 0., 0., 0., 0., 0., 0., 0., 0., 0., 0., 0., 0., 0., 0., 0., 0.,\n",
              "         0., 0., 0., 0., 0., 0., 0., 0., 0., 0., 0., 0., 0., 0., 0., 0., 0., 0.]),\n",
              " tensor(0))"
            ]
          },
          "metadata": {},
          "execution_count": 129
        }
      ]
    },
    {
      "cell_type": "code",
      "source": [
        "dataset.__getitem__(1)"
      ],
      "metadata": {
        "colab": {
          "base_uri": "https://localhost:8080/"
        },
        "id": "RFawWdsEB1dM",
        "outputId": "64909e5a-4f0e-4f39-d240-346be1b2be9c"
      },
      "execution_count": null,
      "outputs": [
        {
          "output_type": "execute_result",
          "data": {
            "text/plain": [
              "(tensor([0., 1., 0., 0., 0., 1., 1., 1., 0., 0., 0., 0., 0., 0., 0., 0., 0., 0.,\n",
              "         0., 0., 0., 0., 0., 0., 0., 0., 0., 0., 0., 0., 0., 0., 0., 0., 0., 0.,\n",
              "         0., 0., 0., 0., 0., 0., 0., 0., 0., 0., 0., 0., 0., 0., 0., 0., 0., 0.]),\n",
              " tensor(1))"
            ]
          },
          "metadata": {},
          "execution_count": 130
        }
      ]
    },
    {
      "cell_type": "code",
      "source": [
        "#2.6. Обучить классификатор.\n",
        "def train_loop(dataloader, model, loss_fn, optimizer):\n",
        "    size = len(dataloader.dataset)\n",
        "    model.train()\n",
        "    loss_sum = 0\n",
        "    for batch, (X, y) in enumerate(dataloader):\n",
        "\n",
        "        pred = model(X)\n",
        "        loss = loss_fn(pred, y)\n",
        "\n",
        "        optimizer.zero_grad()\n",
        "        loss.backward()\n",
        "        optimizer.step()\n",
        "        loss_sum += loss\n",
        "        if batch % 300 == 0:\n",
        "            loss, current = loss.item(), batch * len(X)\n",
        "            print(f\"loss: {loss:>7f}  [{current:>5d}/{size:>5d}]\")\n",
        "        \n",
        "    return loss_sum / len(dataloader)\n",
        "\n",
        "\n",
        "def test_loop(dataloader, model, loss_fn):\n",
        "    size = len(dataloader.dataset)\n",
        "    num_batches = len(dataloader)\n",
        "    test_loss, correct = 0, 0\n",
        "    model.eval()\n",
        "\n",
        "    with torch.no_grad():\n",
        "        for X, y in dataloader:\n",
        "            pred = model(X)\n",
        "            test_loss += loss_fn(pred, y).item()\n",
        "            correct += (pred.argmax(1) == y).type(torch.float).sum().item()\n",
        "\n",
        "    test_loss /= num_batches\n",
        "    correct /= size\n",
        "    print(f\"Test Error: \\n Accuracy: {(100*correct):>0.1f}%, Avg loss: {test_loss:>8f} \\n\")"
      ],
      "metadata": {
        "id": "Mea0BXgAB4ID"
      },
      "execution_count": null,
      "outputs": []
    },
    {
      "cell_type": "code",
      "source": [
        "class NeuralNetwork(nn.Module):\n",
        "    def __init__(self, in_features, out_features):\n",
        "        super(NeuralNetwork, self).__init__()\n",
        "        self.seq = nn.Sequential(\n",
        "            nn.Linear(in_features, 512),\n",
        "            nn.ReLU(),\n",
        "            nn.Linear(512, out_features),\n",
        "            nn.LogSoftmax(dim=1),\n",
        "        )\n",
        "\n",
        "    def forward(self, inputs):\n",
        "        return self.seq(inputs)"
      ],
      "metadata": {
        "id": "0AxxTgjECHoe"
      },
      "execution_count": null,
      "outputs": []
    },
    {
      "cell_type": "code",
      "source": [
        "model = NeuralNetwork(vocab.vocab_len, dataset.y_len())\n",
        "loss_fn = nn.NLLLoss()\n",
        "optimizer = torch.optim.Adam(model.parameters(), lr=0.0001)\n",
        "train_dataloader = DataLoader(train_dataset, batch_size=10)\n",
        "test_dataloader = DataLoader(test_dataset, batch_size=10)"
      ],
      "metadata": {
        "id": "SjkXnVhdCRo-"
      },
      "execution_count": null,
      "outputs": []
    },
    {
      "cell_type": "code",
      "source": [
        "losses_plt = []\n",
        "\n",
        "epochs = 40\n",
        "losses = torch.empty(epochs)\n",
        "\n",
        "\n",
        "for t in range(epochs): \n",
        "    print(f\"Epoch {t+1}\\n-------------------------------\")\n",
        "    buf = train_loop(train_dataloader, model, loss_fn, optimizer)\n",
        "    losses[t] = buf\n",
        "    losses_plt.append(buf.item())\n",
        "    test_loop(test_dataloader, model, loss_fn)\n",
        "    \n",
        "print(\"Готов\")"
      ],
      "metadata": {
        "colab": {
          "base_uri": "https://localhost:8080/"
        },
        "id": "Cm4NtoagCVO6",
        "outputId": "c5321c70-df37-47eb-9655-9896f7eebc72"
      },
      "execution_count": null,
      "outputs": [
        {
          "output_type": "stream",
          "name": "stdout",
          "text": [
            "Epoch 1\n",
            "-------------------------------\n",
            "loss: 2.902743  [    0/ 8784]\n",
            "loss: 2.047071  [ 3000/ 8784]\n",
            "loss: 1.825141  [ 6000/ 8784]\n",
            "Test Error: \n",
            " Accuracy: 45.3%, Avg loss: 1.945435 \n",
            "\n",
            "Epoch 2\n",
            "-------------------------------\n",
            "loss: 2.367048  [    0/ 8784]\n",
            "loss: 1.605566  [ 3000/ 8784]\n",
            "loss: 1.433642  [ 6000/ 8784]\n",
            "Test Error: \n",
            " Accuracy: 48.7%, Avg loss: 1.760632 \n",
            "\n",
            "Epoch 3\n",
            "-------------------------------\n",
            "loss: 2.068310  [    0/ 8784]\n",
            "loss: 1.438187  [ 3000/ 8784]\n",
            "loss: 1.279078  [ 6000/ 8784]\n",
            "Test Error: \n",
            " Accuracy: 50.0%, Avg loss: 1.670972 \n",
            "\n",
            "Epoch 4\n",
            "-------------------------------\n",
            "loss: 1.942110  [    0/ 8784]\n",
            "loss: 1.373446  [ 3000/ 8784]\n",
            "loss: 1.204539  [ 6000/ 8784]\n",
            "Test Error: \n",
            " Accuracy: 51.1%, Avg loss: 1.614071 \n",
            "\n",
            "Epoch 5\n",
            "-------------------------------\n",
            "loss: 1.873549  [    0/ 8784]\n",
            "loss: 1.344648  [ 3000/ 8784]\n",
            "loss: 1.161591  [ 6000/ 8784]\n",
            "Test Error: \n",
            " Accuracy: 51.7%, Avg loss: 1.572790 \n",
            "\n",
            "Epoch 6\n",
            "-------------------------------\n",
            "loss: 1.827068  [    0/ 8784]\n",
            "loss: 1.329300  [ 3000/ 8784]\n",
            "loss: 1.133062  [ 6000/ 8784]\n",
            "Test Error: \n",
            " Accuracy: 52.0%, Avg loss: 1.540476 \n",
            "\n",
            "Epoch 7\n",
            "-------------------------------\n",
            "loss: 1.789669  [    0/ 8784]\n",
            "loss: 1.320451  [ 3000/ 8784]\n",
            "loss: 1.111843  [ 6000/ 8784]\n",
            "Test Error: \n",
            " Accuracy: 52.7%, Avg loss: 1.514082 \n",
            "\n",
            "Epoch 8\n",
            "-------------------------------\n",
            "loss: 1.759796  [    0/ 8784]\n",
            "loss: 1.313104  [ 3000/ 8784]\n",
            "loss: 1.094114  [ 6000/ 8784]\n",
            "Test Error: \n",
            " Accuracy: 53.6%, Avg loss: 1.491911 \n",
            "\n",
            "Epoch 9\n",
            "-------------------------------\n",
            "loss: 1.736077  [    0/ 8784]\n",
            "loss: 1.307432  [ 3000/ 8784]\n",
            "loss: 1.079325  [ 6000/ 8784]\n",
            "Test Error: \n",
            " Accuracy: 54.1%, Avg loss: 1.472837 \n",
            "\n",
            "Epoch 10\n",
            "-------------------------------\n",
            "loss: 1.716728  [    0/ 8784]\n",
            "loss: 1.302285  [ 3000/ 8784]\n",
            "loss: 1.066354  [ 6000/ 8784]\n",
            "Test Error: \n",
            " Accuracy: 54.3%, Avg loss: 1.456164 \n",
            "\n",
            "Epoch 11\n",
            "-------------------------------\n",
            "loss: 1.701275  [    0/ 8784]\n",
            "loss: 1.296074  [ 3000/ 8784]\n",
            "loss: 1.055088  [ 6000/ 8784]\n",
            "Test Error: \n",
            " Accuracy: 54.6%, Avg loss: 1.441322 \n",
            "\n",
            "Epoch 12\n",
            "-------------------------------\n",
            "loss: 1.688303  [    0/ 8784]\n",
            "loss: 1.288895  [ 3000/ 8784]\n",
            "loss: 1.045040  [ 6000/ 8784]\n",
            "Test Error: \n",
            " Accuracy: 55.5%, Avg loss: 1.428107 \n",
            "\n",
            "Epoch 13\n",
            "-------------------------------\n",
            "loss: 1.677663  [    0/ 8784]\n",
            "loss: 1.281259  [ 3000/ 8784]\n",
            "loss: 1.036529  [ 6000/ 8784]\n",
            "Test Error: \n",
            " Accuracy: 56.4%, Avg loss: 1.416109 \n",
            "\n",
            "Epoch 14\n",
            "-------------------------------\n",
            "loss: 1.669651  [    0/ 8784]\n",
            "loss: 1.273187  [ 3000/ 8784]\n",
            "loss: 1.028984  [ 6000/ 8784]\n",
            "Test Error: \n",
            " Accuracy: 56.6%, Avg loss: 1.405112 \n",
            "\n",
            "Epoch 15\n",
            "-------------------------------\n",
            "loss: 1.662835  [    0/ 8784]\n",
            "loss: 1.265086  [ 3000/ 8784]\n",
            "loss: 1.020856  [ 6000/ 8784]\n",
            "Test Error: \n",
            " Accuracy: 56.6%, Avg loss: 1.394993 \n",
            "\n",
            "Epoch 16\n",
            "-------------------------------\n",
            "loss: 1.657438  [    0/ 8784]\n",
            "loss: 1.257184  [ 3000/ 8784]\n",
            "loss: 1.013392  [ 6000/ 8784]\n",
            "Test Error: \n",
            " Accuracy: 57.2%, Avg loss: 1.385626 \n",
            "\n",
            "Epoch 17\n",
            "-------------------------------\n",
            "loss: 1.653181  [    0/ 8784]\n",
            "loss: 1.248572  [ 3000/ 8784]\n",
            "loss: 1.006493  [ 6000/ 8784]\n",
            "Test Error: \n",
            " Accuracy: 57.1%, Avg loss: 1.376883 \n",
            "\n",
            "Epoch 18\n",
            "-------------------------------\n",
            "loss: 1.649642  [    0/ 8784]\n",
            "loss: 1.239629  [ 3000/ 8784]\n",
            "loss: 0.999293  [ 6000/ 8784]\n",
            "Test Error: \n",
            " Accuracy: 57.5%, Avg loss: 1.368735 \n",
            "\n",
            "Epoch 19\n",
            "-------------------------------\n",
            "loss: 1.647498  [    0/ 8784]\n",
            "loss: 1.231109  [ 3000/ 8784]\n",
            "loss: 0.991982  [ 6000/ 8784]\n",
            "Test Error: \n",
            " Accuracy: 58.0%, Avg loss: 1.361051 \n",
            "\n",
            "Epoch 20\n",
            "-------------------------------\n",
            "loss: 1.645526  [    0/ 8784]\n",
            "loss: 1.223230  [ 3000/ 8784]\n",
            "loss: 0.984998  [ 6000/ 8784]\n",
            "Test Error: \n",
            " Accuracy: 58.3%, Avg loss: 1.353760 \n",
            "\n",
            "Epoch 21\n",
            "-------------------------------\n",
            "loss: 1.644151  [    0/ 8784]\n",
            "loss: 1.215023  [ 3000/ 8784]\n",
            "loss: 0.977720  [ 6000/ 8784]\n",
            "Test Error: \n",
            " Accuracy: 58.4%, Avg loss: 1.346824 \n",
            "\n",
            "Epoch 22\n",
            "-------------------------------\n",
            "loss: 1.643155  [    0/ 8784]\n",
            "loss: 1.206676  [ 3000/ 8784]\n",
            "loss: 0.970647  [ 6000/ 8784]\n",
            "Test Error: \n",
            " Accuracy: 58.7%, Avg loss: 1.340243 \n",
            "\n",
            "Epoch 23\n",
            "-------------------------------\n",
            "loss: 1.642669  [    0/ 8784]\n",
            "loss: 1.198959  [ 3000/ 8784]\n",
            "loss: 0.963720  [ 6000/ 8784]\n",
            "Test Error: \n",
            " Accuracy: 58.8%, Avg loss: 1.333953 \n",
            "\n",
            "Epoch 24\n",
            "-------------------------------\n",
            "loss: 1.642368  [    0/ 8784]\n",
            "loss: 1.191462  [ 3000/ 8784]\n",
            "loss: 0.957271  [ 6000/ 8784]\n",
            "Test Error: \n",
            " Accuracy: 58.8%, Avg loss: 1.327920 \n",
            "\n",
            "Epoch 25\n",
            "-------------------------------\n",
            "loss: 1.642437  [    0/ 8784]\n",
            "loss: 1.183831  [ 3000/ 8784]\n",
            "loss: 0.951290  [ 6000/ 8784]\n",
            "Test Error: \n",
            " Accuracy: 59.0%, Avg loss: 1.322141 \n",
            "\n",
            "Epoch 26\n",
            "-------------------------------\n",
            "loss: 1.642610  [    0/ 8784]\n",
            "loss: 1.176486  [ 3000/ 8784]\n",
            "loss: 0.945457  [ 6000/ 8784]\n",
            "Test Error: \n",
            " Accuracy: 59.2%, Avg loss: 1.316625 \n",
            "\n",
            "Epoch 27\n",
            "-------------------------------\n",
            "loss: 1.642770  [    0/ 8784]\n",
            "loss: 1.169191  [ 3000/ 8784]\n",
            "loss: 0.939726  [ 6000/ 8784]\n",
            "Test Error: \n",
            " Accuracy: 59.2%, Avg loss: 1.311338 \n",
            "\n",
            "Epoch 28\n",
            "-------------------------------\n",
            "loss: 1.642756  [    0/ 8784]\n",
            "loss: 1.161718  [ 3000/ 8784]\n",
            "loss: 0.933558  [ 6000/ 8784]\n",
            "Test Error: \n",
            " Accuracy: 59.4%, Avg loss: 1.306243 \n",
            "\n",
            "Epoch 29\n",
            "-------------------------------\n",
            "loss: 1.642727  [    0/ 8784]\n",
            "loss: 1.154689  [ 3000/ 8784]\n",
            "loss: 0.927723  [ 6000/ 8784]\n",
            "Test Error: \n",
            " Accuracy: 59.5%, Avg loss: 1.301310 \n",
            "\n",
            "Epoch 30\n",
            "-------------------------------\n",
            "loss: 1.642719  [    0/ 8784]\n",
            "loss: 1.147184  [ 3000/ 8784]\n",
            "loss: 0.922573  [ 6000/ 8784]\n",
            "Test Error: \n",
            " Accuracy: 59.3%, Avg loss: 1.296622 \n",
            "\n",
            "Epoch 31\n",
            "-------------------------------\n",
            "loss: 1.642560  [    0/ 8784]\n",
            "loss: 1.139853  [ 3000/ 8784]\n",
            "loss: 0.916913  [ 6000/ 8784]\n",
            "Test Error: \n",
            " Accuracy: 59.4%, Avg loss: 1.292128 \n",
            "\n",
            "Epoch 32\n",
            "-------------------------------\n",
            "loss: 1.642184  [    0/ 8784]\n",
            "loss: 1.132405  [ 3000/ 8784]\n",
            "loss: 0.911720  [ 6000/ 8784]\n",
            "Test Error: \n",
            " Accuracy: 59.6%, Avg loss: 1.287857 \n",
            "\n",
            "Epoch 33\n",
            "-------------------------------\n",
            "loss: 1.641513  [    0/ 8784]\n",
            "loss: 1.125051  [ 3000/ 8784]\n",
            "loss: 0.906710  [ 6000/ 8784]\n",
            "Test Error: \n",
            " Accuracy: 59.8%, Avg loss: 1.283726 \n",
            "\n",
            "Epoch 34\n",
            "-------------------------------\n",
            "loss: 1.640762  [    0/ 8784]\n",
            "loss: 1.117454  [ 3000/ 8784]\n",
            "loss: 0.901342  [ 6000/ 8784]\n",
            "Test Error: \n",
            " Accuracy: 60.1%, Avg loss: 1.279756 \n",
            "\n",
            "Epoch 35\n",
            "-------------------------------\n",
            "loss: 1.639562  [    0/ 8784]\n",
            "loss: 1.109998  [ 3000/ 8784]\n",
            "loss: 0.896383  [ 6000/ 8784]\n",
            "Test Error: \n",
            " Accuracy: 60.2%, Avg loss: 1.275950 \n",
            "\n",
            "Epoch 36\n",
            "-------------------------------\n",
            "loss: 1.638290  [    0/ 8784]\n",
            "loss: 1.102600  [ 3000/ 8784]\n",
            "loss: 0.891355  [ 6000/ 8784]\n",
            "Test Error: \n",
            " Accuracy: 60.4%, Avg loss: 1.272286 \n",
            "\n",
            "Epoch 37\n",
            "-------------------------------\n",
            "loss: 1.636789  [    0/ 8784]\n",
            "loss: 1.095640  [ 3000/ 8784]\n",
            "loss: 0.886481  [ 6000/ 8784]\n",
            "Test Error: \n",
            " Accuracy: 60.5%, Avg loss: 1.268742 \n",
            "\n",
            "Epoch 38\n",
            "-------------------------------\n",
            "loss: 1.635273  [    0/ 8784]\n",
            "loss: 1.088934  [ 3000/ 8784]\n",
            "loss: 0.881594  [ 6000/ 8784]\n",
            "Test Error: \n",
            " Accuracy: 61.1%, Avg loss: 1.265314 \n",
            "\n",
            "Epoch 39\n",
            "-------------------------------\n",
            "loss: 1.633731  [    0/ 8784]\n",
            "loss: 1.082379  [ 3000/ 8784]\n",
            "loss: 0.876723  [ 6000/ 8784]\n",
            "Test Error: \n",
            " Accuracy: 61.2%, Avg loss: 1.262030 \n",
            "\n",
            "Epoch 40\n",
            "-------------------------------\n",
            "loss: 1.632521  [    0/ 8784]\n",
            "loss: 1.075629  [ 3000/ 8784]\n",
            "loss: 0.871714  [ 6000/ 8784]\n",
            "Test Error: \n",
            " Accuracy: 61.3%, Avg loss: 1.258848 \n",
            "\n",
            "Готов\n"
          ]
        }
      ]
    },
    {
      "cell_type": "code",
      "source": [
        "#2.7 Измерить точность на тестовой выборке. \n",
        "import matplotlib.pyplot as plt\n",
        "plt.plot(torch.arange(len(losses_plt)), losses_plt)"
      ],
      "metadata": {
        "colab": {
          "base_uri": "https://localhost:8080/",
          "height": 282
        },
        "id": "Z-zSuEGDDl0Z",
        "outputId": "14bdc96d-0766-43da-8b16-3c94cf2a226f"
      },
      "execution_count": null,
      "outputs": [
        {
          "output_type": "execute_result",
          "data": {
            "text/plain": [
              "[<matplotlib.lines.Line2D at 0x7f972c0cf610>]"
            ]
          },
          "metadata": {},
          "execution_count": 135
        },
        {
          "output_type": "display_data",
          "data": {
            "text/plain": [
              "<Figure size 432x288 with 1 Axes>"
            ],
            "image/png": "[encoded data removed]"
          },
          "metadata": {
            "needs_background": "light"
          }
        }
      ]
    },
    {
      "cell_type": "code",
      "source": [
        "test_loop(dataloader=test_dataloader, model=model, loss_fn=loss_fn);"
      ],
      "metadata": {
        "colab": {
          "base_uri": "https://localhost:8080/"
        },
        "id": "cxUG7tfZEyot",
        "outputId": "c28863a7-3b45-44e9-a45f-acf797038a74"
      },
      "execution_count": null,
      "outputs": [
        {
          "output_type": "stream",
          "name": "stdout",
          "text": [
            "Test Error: \n",
            " Accuracy: 61.3%, Avg loss: 1.258848 \n",
            "\n"
          ]
        }
      ]
    },
    {
      "cell_type": "code",
      "source": [
        "y_pred = []\n",
        "y_true = []\n",
        "\n",
        "for inputs, labels in test_dataloader:\n",
        "    output = model(inputs)\n",
        "    output = (torch.max(torch.exp(output), 1)[1]).data.cpu().numpy()\n",
        "    y_pred.extend(output) \n",
        "    labels = labels.data.cpu().numpy()\n",
        "    y_true.extend(labels)"
      ],
      "metadata": {
        "id": "EdozcipxE5tR"
      },
      "execution_count": null,
      "outputs": []
    },
    {
      "cell_type": "code",
      "source": [
        "names_list = [\n",
        "    \"Demenchuk\",\n",
        "    \"Baranov\",\n",
        "    \"Fogel\",\n",
        "    \"Newman\"\n",
        "]\n",
        "\n",
        "targets_list = [\"Russian\",\"Russian\", \"German\", \"English\"]\n",
        "\n",
        "for name, target in zip(names_list, targets_list):\n",
        "    \n",
        "    x_test, y_test = dataset.vectorize(name), target\n",
        "    predict = model(x_test.unsqueeze(0))\n",
        "    pred_proba, pred_label_indices = nn.functional.softmax(predict, 1).topk(3, dim=1)\n",
        "    pred_labels = [nationalities[i.item()] for i in pred_label_indices.squeeze()]\n",
        "    \n",
        "    predicts_dict = {predict_item : round(score.item(),4) for predict_item, score in zip(pred_labels, pred_proba[0])}\n",
        "    print(f\"Surname : {name}\")\n",
        "    print(f\"True    : {target}\")\n",
        "    \n",
        "    print(f\"Predicts: {predicts_dict}\\n\")"
      ],
      "metadata": {
        "colab": {
          "base_uri": "https://localhost:8080/"
        },
        "id": "ORaYYpyEFBjy",
        "outputId": "6a73ab01-3fe4-42fd-9346-a6d666cb146e"
      },
      "execution_count": null,
      "outputs": [
        {
          "output_type": "stream",
          "name": "stdout",
          "text": [
            "Surname : Demenchuk\n",
            "True    : Russian\n",
            "Predicts: {'Russian': 0.3518, 'German': 0.2548, 'Dutch': 0.1564}\n",
            "\n",
            "Surname : Baranov\n",
            "True    : Russian\n",
            "Predicts: {'Russian': 0.5977, 'Italian': 0.1447, 'English': 0.0938}\n",
            "\n",
            "Surname : Fogel\n",
            "True    : German\n",
            "Predicts: {'English': 0.5822, 'German': 0.1611, 'Russian': 0.0824}\n",
            "\n",
            "Surname : Newman\n",
            "True    : English\n",
            "Predicts: {'English': 0.595, 'German': 0.1169, 'Arabic': 0.0987}\n",
            "\n"
          ]
        }
      ]
    },
    {
      "cell_type": "code",
      "source": [
        "from sklearn.metrics import classification_report\n",
        "print(classification_report(y_true, y_pred, target_names=list(vocab_nat.keys())))"
      ],
      "metadata": {
        "colab": {
          "base_uri": "https://localhost:8080/"
        },
        "id": "xlJC4hEYFOG3",
        "outputId": "5ce52aff-cbca-4aeb-f926-d52e04e0c6ce"
      },
      "execution_count": null,
      "outputs": [
        {
          "output_type": "stream",
          "name": "stdout",
          "text": [
            "              precision    recall  f1-score   support\n",
            "\n",
            "     English       0.54      0.80      0.64       586\n",
            "      French       0.00      0.00      0.00        44\n",
            "      Arabic       0.73      0.96      0.83       309\n",
            "     Russian       0.77      0.75      0.76       488\n",
            "    Japanese       0.47      0.50      0.49       152\n",
            "     Chinese       0.38      0.47      0.42        34\n",
            "     Italian       0.49      0.42      0.45       129\n",
            "       Czech       0.33      0.03      0.06        89\n",
            "       Irish       0.62      0.20      0.30        41\n",
            "      German       0.50      0.28      0.36       112\n",
            "       Greek       0.64      0.29      0.40        31\n",
            "     Spanish       0.58      0.24      0.34        58\n",
            "      Polish       0.58      0.32      0.41        22\n",
            "       Dutch       0.50      0.03      0.05        40\n",
            "  Vietnamese       0.00      0.00      0.00        10\n",
            "      Korean       1.00      0.06      0.11        18\n",
            "  Portuguese       0.00      0.00      0.00        17\n",
            "    Scottish       0.00      0.00      0.00        16\n",
            "\n",
            "    accuracy                           0.61      2196\n",
            "   macro avg       0.45      0.30      0.31      2196\n",
            "weighted avg       0.58      0.61      0.57      2196\n",
            "\n"
          ]
        },
        {
          "output_type": "stream",
          "name": "stderr",
          "text": [
            "/usr/local/lib/python3.9/dist-packages/sklearn/metrics/_classification.py:1344: UndefinedMetricWarning: Precision and F-score are ill-defined and being set to 0.0 in labels with no predicted samples. Use `zero_division` parameter to control this behavior.\n",
            "  _warn_prf(average, modifier, msg_start, len(result))\n",
            "/usr/local/lib/python3.9/dist-packages/sklearn/metrics/_classification.py:1344: UndefinedMetricWarning: Precision and F-score are ill-defined and being set to 0.0 in labels with no predicted samples. Use `zero_division` parameter to control this behavior.\n",
            "  _warn_prf(average, modifier, msg_start, len(result))\n",
            "/usr/local/lib/python3.9/dist-packages/sklearn/metrics/_classification.py:1344: UndefinedMetricWarning: Precision and F-score are ill-defined and being set to 0.0 in labels with no predicted samples. Use `zero_division` parameter to control this behavior.\n",
            "  _warn_prf(average, modifier, msg_start, len(result))\n"
          ]
        }
      ]
    },
    {
      "cell_type": "markdown",
      "metadata": {
        "id": "PLmDB3fJtVox"
      },
      "source": [
        "## 3. Классификация обзоров ресторанов\n",
        "\n",
        "Датасет: https://disk.yandex.ru/d/nY1o70JtAuYa8g\n",
        "\n",
        "3.1 Считать файл `yelp/raw_train.csv`. Оставить от исходного датасета 10% строчек.\n",
        "\n",
        "3.2 Воспользоваться функцией `preprocess_text` из 1.1 для обработки текста отзыва. Закодировать рейтинг числами, начиная с 0.\n",
        "\n",
        "3.3 Разбить датасет на обучающую и тестовую выборку\n",
        "\n",
        "3.4 Реализовать класс `Vocab` (токен = слово)\n",
        "\n",
        "3.5 Реализовать класс `ReviewDataset`\n",
        "\n",
        "3.6 Обучить классификатор\n",
        "\n",
        "3.7 Измерить точность на тестовой выборке. Проверить работоспособность модели: придумать небольшой отзыв, прогнать его через модель и вывести номер предсказанного класса (сделать это для явно позитивного и явно негативного отзыва)\n"
      ]
    },
    {
      "cell_type": "code",
      "source": [
        "#3.1 Считать файл yelp/raw_train.csv. Оставить от исходного датасета 10% строчек.\n",
        "df = pd.read_csv(\"raw_train.csv\", names=[\"index\", \"review\"])\n",
        "df.shape"
      ],
      "metadata": {
        "colab": {
          "base_uri": "https://localhost:8080/"
        },
        "id": "RcrlbRRRFydy",
        "outputId": "12169653-548b-4290-a411-d48e6ff9b791"
      },
      "execution_count": null,
      "outputs": [
        {
          "output_type": "execute_result",
          "data": {
            "text/plain": [
              "(560000, 2)"
            ]
          },
          "metadata": {},
          "execution_count": 142
        }
      ]
    },
    {
      "cell_type": "code",
      "source": [
        "df"
      ],
      "metadata": {
        "colab": {
          "base_uri": "https://localhost:8080/",
          "height": 424
        },
        "id": "-U9ADL1SVgzx",
        "outputId": "eb8e2220-7d49-4dcf-adf6-0b584330bc76"
      },
      "execution_count": null,
      "outputs": [
        {
          "output_type": "execute_result",
          "data": {
            "text/plain": [
              "        index                                             review\n",
              "0           1  Unfortunately, the frustration of being Dr. Go...\n",
              "1           2  Been going to Dr. Goldberg for over 10 years. ...\n",
              "2           1  I don't know what Dr. Goldberg was like before...\n",
              "3           1  I'm writing this review to give you a heads up...\n",
              "4           2  All the food is great here. But the best thing...\n",
              "...       ...                                                ...\n",
              "559995      2  Ryan was as good as everyone on yelp has claim...\n",
              "559996      2  Professional \\nFriendly\\nOn time AND affordabl...\n",
              "559997      1  Phone calls always go to voicemail and message...\n",
              "559998      1  Looks like all of the good reviews have gone t...\n",
              "559999      2  Ryan Rocks! I called him this morning for some...\n",
              "\n",
              "[560000 rows x 2 columns]"
            ],
            "text/html": [
              "\n",
              "  <div id=\"df-29c644e0-e871-4c8f-9a16-ccae55ec116b\">\n",
              "    <div class=\"colab-df-container\">\n",
              "      <div>\n",
              "<style scoped>\n",
              "    .dataframe tbody tr th:only-of-type {\n",
              "        vertical-align: middle;\n",
              "    }\n",
              "\n",
              "    .dataframe tbody tr th {\n",
              "        vertical-align: top;\n",
              "    }\n",
              "\n",
              "    .dataframe thead th {\n",
              "        text-align: right;\n",
              "    }\n",
              "</style>\n",
              "<table border=\"1\" class=\"dataframe\">\n",
              "  <thead>\n",
              "    <tr style=\"text-align: right;\">\n",
              "      <th></th>\n",
              "      <th>index</th>\n",
              "      <th>review</th>\n",
              "    </tr>\n",
              "  </thead>\n",
              "  <tbody>\n",
              "    <tr>\n",
              "      <th>0</th>\n",
              "      <td>1</td>\n",
              "      <td>Unfortunately, the frustration of being Dr. Go...</td>\n",
              "    </tr>\n",
              "    <tr>\n",
              "      <th>1</th>\n",
              "      <td>2</td>\n",
              "      <td>Been going to Dr. Goldberg for over 10 years. ...</td>\n",
              "    </tr>\n",
              "    <tr>\n",
              "      <th>2</th>\n",
              "      <td>1</td>\n",
              "      <td>I don't know what Dr. Goldberg was like before...</td>\n",
              "    </tr>\n",
              "    <tr>\n",
              "      <th>3</th>\n",
              "      <td>1</td>\n",
              "      <td>I'm writing this review to give you a heads up...</td>\n",
              "    </tr>\n",
              "    <tr>\n",
              "      <th>4</th>\n",
              "      <td>2</td>\n",
              "      <td>All the food is great here. But the best thing...</td>\n",
              "    </tr>\n",
              "    <tr>\n",
              "      <th>...</th>\n",
              "      <td>...</td>\n",
              "      <td>...</td>\n",
              "    </tr>\n",
              "    <tr>\n",
              "      <th>559995</th>\n",
              "      <td>2</td>\n",
              "      <td>Ryan was as good as everyone on yelp has claim...</td>\n",
              "    </tr>\n",
              "    <tr>\n",
              "      <th>559996</th>\n",
              "      <td>2</td>\n",
              "      <td>Professional \\nFriendly\\nOn time AND affordabl...</td>\n",
              "    </tr>\n",
              "    <tr>\n",
              "      <th>559997</th>\n",
              "      <td>1</td>\n",
              "      <td>Phone calls always go to voicemail and message...</td>\n",
              "    </tr>\n",
              "    <tr>\n",
              "      <th>559998</th>\n",
              "      <td>1</td>\n",
              "      <td>Looks like all of the good reviews have gone t...</td>\n",
              "    </tr>\n",
              "    <tr>\n",
              "      <th>559999</th>\n",
              "      <td>2</td>\n",
              "      <td>Ryan Rocks! I called him this morning for some...</td>\n",
              "    </tr>\n",
              "  </tbody>\n",
              "</table>\n",
              "<p>560000 rows × 2 columns</p>\n",
              "</div>\n",
              "      <button class=\"colab-df-convert\" onclick=\"convertToInteractive('df-29c644e0-e871-4c8f-9a16-ccae55ec116b')\"\n",
              "              title=\"Convert this dataframe to an interactive table.\"\n",
              "              style=\"display:none;\">\n",
              "        \n",
              "  <svg xmlns=\"http://www.w3.org/2000/svg\" height=\"24px\"viewBox=\"0 0 24 24\"\n",
              "       width=\"24px\">\n",
              "    <path d=\"M0 0h24v24H0V0z\" fill=\"none\"/>\n",
              "    <path d=\"M18.56 5.44l.94 2.06.94-2.06 2.06-.94-2.06-.94-.94-2.06-.94 2.06-2.06.94zm-11 1L8.5 8.5l.94-2.06 2.06-.94-2.06-.94L8.5 2.5l-.94 2.06-2.06.94zm10 10l.94 2.06.94-2.06 2.06-.94-2.06-.94-.94-2.06-.94 2.06-2.06.94z\"/><path d=\"M17.41 7.96l-1.37-1.37c-.4-.4-.92-.59-1.43-.59-.52 0-1.04.2-1.43.59L10.3 9.45l-7.72 7.72c-.78.78-.78 2.05 0 2.83L4 21.41c.39.39.9.59 1.41.59.51 0 1.02-.2 1.41-.59l7.78-7.78 2.81-2.81c.8-.78.8-2.07 0-2.86zM5.41 20L4 18.59l7.72-7.72 1.47 1.35L5.41 20z\"/>\n",
              "  </svg>\n",
              "      </button>\n",
              "      \n",
              "  <style>\n",
              "    .colab-df-container {\n",
              "      display:flex;\n",
              "      flex-wrap:wrap;\n",
              "      gap: 12px;\n",
              "    }\n",
              "\n",
              "    .colab-df-convert {\n",
              "      background-color: #E8F0FE;\n",
              "      border: none;\n",
              "      border-radius: 50%;\n",
              "      cursor: pointer;\n",
              "      display: none;\n",
              "      fill: #1967D2;\n",
              "      height: 32px;\n",
              "      padding: 0 0 0 0;\n",
              "      width: 32px;\n",
              "    }\n",
              "\n",
              "    .colab-df-convert:hover {\n",
              "      background-color: #E2EBFA;\n",
              "      box-shadow: 0px 1px 2px rgba(60, 64, 67, 0.3), 0px 1px 3px 1px rgba(60, 64, 67, 0.15);\n",
              "      fill: #174EA6;\n",
              "    }\n",
              "\n",
              "    [theme=dark] .colab-df-convert {\n",
              "      background-color: #3B4455;\n",
              "      fill: #D2E3FC;\n",
              "    }\n",
              "\n",
              "    [theme=dark] .colab-df-convert:hover {\n",
              "      background-color: #434B5C;\n",
              "      box-shadow: 0px 1px 3px 1px rgba(0, 0, 0, 0.15);\n",
              "      filter: drop-shadow(0px 1px 2px rgba(0, 0, 0, 0.3));\n",
              "      fill: #FFFFFF;\n",
              "    }\n",
              "  </style>\n",
              "\n",
              "      <script>\n",
              "        const buttonEl =\n",
              "          document.querySelector('#df-29c644e0-e871-4c8f-9a16-ccae55ec116b button.colab-df-convert');\n",
              "        buttonEl.style.display =\n",
              "          google.colab.kernel.accessAllowed ? 'block' : 'none';\n",
              "\n",
              "        async function convertToInteractive(key) {\n",
              "          const element = document.querySelector('#df-29c644e0-e871-4c8f-9a16-ccae55ec116b');\n",
              "          const dataTable =\n",
              "            await google.colab.kernel.invokeFunction('convertToInteractive',\n",
              "                                                     [key], {});\n",
              "          if (!dataTable) return;\n",
              "\n",
              "          const docLinkHtml = 'Like what you see? Visit the ' +\n",
              "            '<a target=\"_blank\" href=https://colab.research.google.com/notebooks/data_table.ipynb>data table notebook</a>'\n",
              "            + ' to learn more about interactive tables.';\n",
              "          element.innerHTML = '';\n",
              "          dataTable['output_type'] = 'display_data';\n",
              "          await google.colab.output.renderOutput(dataTable, element);\n",
              "          const docLink = document.createElement('div');\n",
              "          docLink.innerHTML = docLinkHtml;\n",
              "          element.appendChild(docLink);\n",
              "        }\n",
              "      </script>\n",
              "    </div>\n",
              "  </div>\n",
              "  "
            ]
          },
          "metadata": {},
          "execution_count": 143
        }
      ]
    },
    {
      "cell_type": "code",
      "source": [
        "df = df.sample(frac=0.1, ignore_index=True, random_state=0)\n",
        "df.shape"
      ],
      "metadata": {
        "colab": {
          "base_uri": "https://localhost:8080/"
        },
        "id": "Vz4d0gnJViw5",
        "outputId": "b6ee9aaf-00e7-4dbb-a625-2809a478bafb"
      },
      "execution_count": null,
      "outputs": [
        {
          "output_type": "execute_result",
          "data": {
            "text/plain": [
              "(56000, 2)"
            ]
          },
          "metadata": {},
          "execution_count": 144
        }
      ]
    },
    {
      "cell_type": "code",
      "source": [
        "df"
      ],
      "metadata": {
        "colab": {
          "base_uri": "https://localhost:8080/",
          "height": 424
        },
        "id": "rOUXXdgVVj0i",
        "outputId": "a32707d1-e0cf-4c79-fe61-40368db29d9e"
      },
      "execution_count": null,
      "outputs": [
        {
          "output_type": "execute_result",
          "data": {
            "text/plain": [
              "       index                                             review\n",
              "0          2  Call me crazy, but I really enjoyed this place...\n",
              "1          1  HORRIBLE, HORRIBLE, HORRIBLE ONLINE CUSTOMER S...\n",
              "2          2  The staff were extremely helpful in answering ...\n",
              "3          2  The steak tartare is fantastic!  I'd come back...\n",
              "4          2                    Everything I could want for $3.\n",
              "...      ...                                                ...\n",
              "55995      2  Wow! I never thought I would find a place like...\n",
              "55996      2  Awesome walk in place for a bite to eat.  You ...\n",
              "55997      2  What a beautiful show! I jumped at the opportu...\n",
              "55998      2  In the lobby of the Hard Rock Hotel, this plac...\n",
              "55999      1  Picked up dinner with my mom on 8/28/13. The c...\n",
              "\n",
              "[56000 rows x 2 columns]"
            ],
            "text/html": [
              "\n",
              "  <div id=\"df-ff4b7be1-5e46-4886-89f3-201a5d8ddcbf\">\n",
              "    <div class=\"colab-df-container\">\n",
              "      <div>\n",
              "<style scoped>\n",
              "    .dataframe tbody tr th:only-of-type {\n",
              "        vertical-align: middle;\n",
              "    }\n",
              "\n",
              "    .dataframe tbody tr th {\n",
              "        vertical-align: top;\n",
              "    }\n",
              "\n",
              "    .dataframe thead th {\n",
              "        text-align: right;\n",
              "    }\n",
              "</style>\n",
              "<table border=\"1\" class=\"dataframe\">\n",
              "  <thead>\n",
              "    <tr style=\"text-align: right;\">\n",
              "      <th></th>\n",
              "      <th>index</th>\n",
              "      <th>review</th>\n",
              "    </tr>\n",
              "  </thead>\n",
              "  <tbody>\n",
              "    <tr>\n",
              "      <th>0</th>\n",
              "      <td>2</td>\n",
              "      <td>Call me crazy, but I really enjoyed this place...</td>\n",
              "    </tr>\n",
              "    <tr>\n",
              "      <th>1</th>\n",
              "      <td>1</td>\n",
              "      <td>HORRIBLE, HORRIBLE, HORRIBLE ONLINE CUSTOMER S...</td>\n",
              "    </tr>\n",
              "    <tr>\n",
              "      <th>2</th>\n",
              "      <td>2</td>\n",
              "      <td>The staff were extremely helpful in answering ...</td>\n",
              "    </tr>\n",
              "    <tr>\n",
              "      <th>3</th>\n",
              "      <td>2</td>\n",
              "      <td>The steak tartare is fantastic!  I'd come back...</td>\n",
              "    </tr>\n",
              "    <tr>\n",
              "      <th>4</th>\n",
              "      <td>2</td>\n",
              "      <td>Everything I could want for $3.</td>\n",
              "    </tr>\n",
              "    <tr>\n",
              "      <th>...</th>\n",
              "      <td>...</td>\n",
              "      <td>...</td>\n",
              "    </tr>\n",
              "    <tr>\n",
              "      <th>55995</th>\n",
              "      <td>2</td>\n",
              "      <td>Wow! I never thought I would find a place like...</td>\n",
              "    </tr>\n",
              "    <tr>\n",
              "      <th>55996</th>\n",
              "      <td>2</td>\n",
              "      <td>Awesome walk in place for a bite to eat.  You ...</td>\n",
              "    </tr>\n",
              "    <tr>\n",
              "      <th>55997</th>\n",
              "      <td>2</td>\n",
              "      <td>What a beautiful show! I jumped at the opportu...</td>\n",
              "    </tr>\n",
              "    <tr>\n",
              "      <th>55998</th>\n",
              "      <td>2</td>\n",
              "      <td>In the lobby of the Hard Rock Hotel, this plac...</td>\n",
              "    </tr>\n",
              "    <tr>\n",
              "      <th>55999</th>\n",
              "      <td>1</td>\n",
              "      <td>Picked up dinner with my mom on 8/28/13. The c...</td>\n",
              "    </tr>\n",
              "  </tbody>\n",
              "</table>\n",
              "<p>56000 rows × 2 columns</p>\n",
              "</div>\n",
              "      <button class=\"colab-df-convert\" onclick=\"convertToInteractive('df-ff4b7be1-5e46-4886-89f3-201a5d8ddcbf')\"\n",
              "              title=\"Convert this dataframe to an interactive table.\"\n",
              "              style=\"display:none;\">\n",
              "        \n",
              "  <svg xmlns=\"http://www.w3.org/2000/svg\" height=\"24px\"viewBox=\"0 0 24 24\"\n",
              "       width=\"24px\">\n",
              "    <path d=\"M0 0h24v24H0V0z\" fill=\"none\"/>\n",
              "    <path d=\"M18.56 5.44l.94 2.06.94-2.06 2.06-.94-2.06-.94-.94-2.06-.94 2.06-2.06.94zm-11 1L8.5 8.5l.94-2.06 2.06-.94-2.06-.94L8.5 2.5l-.94 2.06-2.06.94zm10 10l.94 2.06.94-2.06 2.06-.94-2.06-.94-.94-2.06-.94 2.06-2.06.94z\"/><path d=\"M17.41 7.96l-1.37-1.37c-.4-.4-.92-.59-1.43-.59-.52 0-1.04.2-1.43.59L10.3 9.45l-7.72 7.72c-.78.78-.78 2.05 0 2.83L4 21.41c.39.39.9.59 1.41.59.51 0 1.02-.2 1.41-.59l7.78-7.78 2.81-2.81c.8-.78.8-2.07 0-2.86zM5.41 20L4 18.59l7.72-7.72 1.47 1.35L5.41 20z\"/>\n",
              "  </svg>\n",
              "      </button>\n",
              "      \n",
              "  <style>\n",
              "    .colab-df-container {\n",
              "      display:flex;\n",
              "      flex-wrap:wrap;\n",
              "      gap: 12px;\n",
              "    }\n",
              "\n",
              "    .colab-df-convert {\n",
              "      background-color: #E8F0FE;\n",
              "      border: none;\n",
              "      border-radius: 50%;\n",
              "      cursor: pointer;\n",
              "      display: none;\n",
              "      fill: #1967D2;\n",
              "      height: 32px;\n",
              "      padding: 0 0 0 0;\n",
              "      width: 32px;\n",
              "    }\n",
              "\n",
              "    .colab-df-convert:hover {\n",
              "      background-color: #E2EBFA;\n",
              "      box-shadow: 0px 1px 2px rgba(60, 64, 67, 0.3), 0px 1px 3px 1px rgba(60, 64, 67, 0.15);\n",
              "      fill: #174EA6;\n",
              "    }\n",
              "\n",
              "    [theme=dark] .colab-df-convert {\n",
              "      background-color: #3B4455;\n",
              "      fill: #D2E3FC;\n",
              "    }\n",
              "\n",
              "    [theme=dark] .colab-df-convert:hover {\n",
              "      background-color: #434B5C;\n",
              "      box-shadow: 0px 1px 3px 1px rgba(0, 0, 0, 0.15);\n",
              "      filter: drop-shadow(0px 1px 2px rgba(0, 0, 0, 0.3));\n",
              "      fill: #FFFFFF;\n",
              "    }\n",
              "  </style>\n",
              "\n",
              "      <script>\n",
              "        const buttonEl =\n",
              "          document.querySelector('#df-ff4b7be1-5e46-4886-89f3-201a5d8ddcbf button.colab-df-convert');\n",
              "        buttonEl.style.display =\n",
              "          google.colab.kernel.accessAllowed ? 'block' : 'none';\n",
              "\n",
              "        async function convertToInteractive(key) {\n",
              "          const element = document.querySelector('#df-ff4b7be1-5e46-4886-89f3-201a5d8ddcbf');\n",
              "          const dataTable =\n",
              "            await google.colab.kernel.invokeFunction('convertToInteractive',\n",
              "                                                     [key], {});\n",
              "          if (!dataTable) return;\n",
              "\n",
              "          const docLinkHtml = 'Like what you see? Visit the ' +\n",
              "            '<a target=\"_blank\" href=https://colab.research.google.com/notebooks/data_table.ipynb>data table notebook</a>'\n",
              "            + ' to learn more about interactive tables.';\n",
              "          element.innerHTML = '';\n",
              "          dataTable['output_type'] = 'display_data';\n",
              "          await google.colab.output.renderOutput(dataTable, element);\n",
              "          const docLink = document.createElement('div');\n",
              "          docLink.innerHTML = docLinkHtml;\n",
              "          element.appendChild(docLink);\n",
              "        }\n",
              "      </script>\n",
              "    </div>\n",
              "  </div>\n",
              "  "
            ]
          },
          "metadata": {},
          "execution_count": 145
        }
      ]
    },
    {
      "cell_type": "code",
      "source": [
        "#3.2 Закодировать рейтинг числами, начиная с 0.\n",
        "rating = {1: 0, 2: 1}\n",
        "# Заменяем 1 на 0, а 2 на 1\n",
        "df[\"index\"] = df[\"index\"].map(rating)\n",
        "df"
      ],
      "metadata": {
        "colab": {
          "base_uri": "https://localhost:8080/",
          "height": 424
        },
        "id": "_MHxIpayVm0u",
        "outputId": "918143c7-67eb-4193-c708-027848f75828"
      },
      "execution_count": null,
      "outputs": [
        {
          "output_type": "execute_result",
          "data": {
            "text/plain": [
              "       index                                             review\n",
              "0          1  Call me crazy, but I really enjoyed this place...\n",
              "1          0  HORRIBLE, HORRIBLE, HORRIBLE ONLINE CUSTOMER S...\n",
              "2          1  The staff were extremely helpful in answering ...\n",
              "3          1  The steak tartare is fantastic!  I'd come back...\n",
              "4          1                    Everything I could want for $3.\n",
              "...      ...                                                ...\n",
              "55995      1  Wow! I never thought I would find a place like...\n",
              "55996      1  Awesome walk in place for a bite to eat.  You ...\n",
              "55997      1  What a beautiful show! I jumped at the opportu...\n",
              "55998      1  In the lobby of the Hard Rock Hotel, this plac...\n",
              "55999      0  Picked up dinner with my mom on 8/28/13. The c...\n",
              "\n",
              "[56000 rows x 2 columns]"
            ],
            "text/html": [
              "\n",
              "  <div id=\"df-6a27863f-9139-4f99-bdf6-eab52f60f7b1\">\n",
              "    <div class=\"colab-df-container\">\n",
              "      <div>\n",
              "<style scoped>\n",
              "    .dataframe tbody tr th:only-of-type {\n",
              "        vertical-align: middle;\n",
              "    }\n",
              "\n",
              "    .dataframe tbody tr th {\n",
              "        vertical-align: top;\n",
              "    }\n",
              "\n",
              "    .dataframe thead th {\n",
              "        text-align: right;\n",
              "    }\n",
              "</style>\n",
              "<table border=\"1\" class=\"dataframe\">\n",
              "  <thead>\n",
              "    <tr style=\"text-align: right;\">\n",
              "      <th></th>\n",
              "      <th>index</th>\n",
              "      <th>review</th>\n",
              "    </tr>\n",
              "  </thead>\n",
              "  <tbody>\n",
              "    <tr>\n",
              "      <th>0</th>\n",
              "      <td>1</td>\n",
              "      <td>Call me crazy, but I really enjoyed this place...</td>\n",
              "    </tr>\n",
              "    <tr>\n",
              "      <th>1</th>\n",
              "      <td>0</td>\n",
              "      <td>HORRIBLE, HORRIBLE, HORRIBLE ONLINE CUSTOMER S...</td>\n",
              "    </tr>\n",
              "    <tr>\n",
              "      <th>2</th>\n",
              "      <td>1</td>\n",
              "      <td>The staff were extremely helpful in answering ...</td>\n",
              "    </tr>\n",
              "    <tr>\n",
              "      <th>3</th>\n",
              "      <td>1</td>\n",
              "      <td>The steak tartare is fantastic!  I'd come back...</td>\n",
              "    </tr>\n",
              "    <tr>\n",
              "      <th>4</th>\n",
              "      <td>1</td>\n",
              "      <td>Everything I could want for $3.</td>\n",
              "    </tr>\n",
              "    <tr>\n",
              "      <th>...</th>\n",
              "      <td>...</td>\n",
              "      <td>...</td>\n",
              "    </tr>\n",
              "    <tr>\n",
              "      <th>55995</th>\n",
              "      <td>1</td>\n",
              "      <td>Wow! I never thought I would find a place like...</td>\n",
              "    </tr>\n",
              "    <tr>\n",
              "      <th>55996</th>\n",
              "      <td>1</td>\n",
              "      <td>Awesome walk in place for a bite to eat.  You ...</td>\n",
              "    </tr>\n",
              "    <tr>\n",
              "      <th>55997</th>\n",
              "      <td>1</td>\n",
              "      <td>What a beautiful show! I jumped at the opportu...</td>\n",
              "    </tr>\n",
              "    <tr>\n",
              "      <th>55998</th>\n",
              "      <td>1</td>\n",
              "      <td>In the lobby of the Hard Rock Hotel, this plac...</td>\n",
              "    </tr>\n",
              "    <tr>\n",
              "      <th>55999</th>\n",
              "      <td>0</td>\n",
              "      <td>Picked up dinner with my mom on 8/28/13. The c...</td>\n",
              "    </tr>\n",
              "  </tbody>\n",
              "</table>\n",
              "<p>56000 rows × 2 columns</p>\n",
              "</div>\n",
              "      <button class=\"colab-df-convert\" onclick=\"convertToInteractive('df-6a27863f-9139-4f99-bdf6-eab52f60f7b1')\"\n",
              "              title=\"Convert this dataframe to an interactive table.\"\n",
              "              style=\"display:none;\">\n",
              "        \n",
              "  <svg xmlns=\"http://www.w3.org/2000/svg\" height=\"24px\"viewBox=\"0 0 24 24\"\n",
              "       width=\"24px\">\n",
              "    <path d=\"M0 0h24v24H0V0z\" fill=\"none\"/>\n",
              "    <path d=\"M18.56 5.44l.94 2.06.94-2.06 2.06-.94-2.06-.94-.94-2.06-.94 2.06-2.06.94zm-11 1L8.5 8.5l.94-2.06 2.06-.94-2.06-.94L8.5 2.5l-.94 2.06-2.06.94zm10 10l.94 2.06.94-2.06 2.06-.94-2.06-.94-.94-2.06-.94 2.06-2.06.94z\"/><path d=\"M17.41 7.96l-1.37-1.37c-.4-.4-.92-.59-1.43-.59-.52 0-1.04.2-1.43.59L10.3 9.45l-7.72 7.72c-.78.78-.78 2.05 0 2.83L4 21.41c.39.39.9.59 1.41.59.51 0 1.02-.2 1.41-.59l7.78-7.78 2.81-2.81c.8-.78.8-2.07 0-2.86zM5.41 20L4 18.59l7.72-7.72 1.47 1.35L5.41 20z\"/>\n",
              "  </svg>\n",
              "      </button>\n",
              "      \n",
              "  <style>\n",
              "    .colab-df-container {\n",
              "      display:flex;\n",
              "      flex-wrap:wrap;\n",
              "      gap: 12px;\n",
              "    }\n",
              "\n",
              "    .colab-df-convert {\n",
              "      background-color: #E8F0FE;\n",
              "      border: none;\n",
              "      border-radius: 50%;\n",
              "      cursor: pointer;\n",
              "      display: none;\n",
              "      fill: #1967D2;\n",
              "      height: 32px;\n",
              "      padding: 0 0 0 0;\n",
              "      width: 32px;\n",
              "    }\n",
              "\n",
              "    .colab-df-convert:hover {\n",
              "      background-color: #E2EBFA;\n",
              "      box-shadow: 0px 1px 2px rgba(60, 64, 67, 0.3), 0px 1px 3px 1px rgba(60, 64, 67, 0.15);\n",
              "      fill: #174EA6;\n",
              "    }\n",
              "\n",
              "    [theme=dark] .colab-df-convert {\n",
              "      background-color: #3B4455;\n",
              "      fill: #D2E3FC;\n",
              "    }\n",
              "\n",
              "    [theme=dark] .colab-df-convert:hover {\n",
              "      background-color: #434B5C;\n",
              "      box-shadow: 0px 1px 3px 1px rgba(0, 0, 0, 0.15);\n",
              "      filter: drop-shadow(0px 1px 2px rgba(0, 0, 0, 0.3));\n",
              "      fill: #FFFFFF;\n",
              "    }\n",
              "  </style>\n",
              "\n",
              "      <script>\n",
              "        const buttonEl =\n",
              "          document.querySelector('#df-6a27863f-9139-4f99-bdf6-eab52f60f7b1 button.colab-df-convert');\n",
              "        buttonEl.style.display =\n",
              "          google.colab.kernel.accessAllowed ? 'block' : 'none';\n",
              "\n",
              "        async function convertToInteractive(key) {\n",
              "          const element = document.querySelector('#df-6a27863f-9139-4f99-bdf6-eab52f60f7b1');\n",
              "          const dataTable =\n",
              "            await google.colab.kernel.invokeFunction('convertToInteractive',\n",
              "                                                     [key], {});\n",
              "          if (!dataTable) return;\n",
              "\n",
              "          const docLinkHtml = 'Like what you see? Visit the ' +\n",
              "            '<a target=\"_blank\" href=https://colab.research.google.com/notebooks/data_table.ipynb>data table notebook</a>'\n",
              "            + ' to learn more about interactive tables.';\n",
              "          element.innerHTML = '';\n",
              "          dataTable['output_type'] = 'display_data';\n",
              "          await google.colab.output.renderOutput(dataTable, element);\n",
              "          const docLink = document.createElement('div');\n",
              "          docLink.innerHTML = docLinkHtml;\n",
              "          element.appendChild(docLink);\n",
              "        }\n",
              "      </script>\n",
              "    </div>\n",
              "  </div>\n",
              "  "
            ]
          },
          "metadata": {},
          "execution_count": 146
        }
      ]
    },
    {
      "cell_type": "code",
      "source": [
        "df[\"review\"] = df[\"review\"].map(preprocess_text)\n",
        "df"
      ],
      "metadata": {
        "colab": {
          "base_uri": "https://localhost:8080/",
          "height": 424
        },
        "id": "-nmYTtZFVtV8",
        "outputId": "6d0e2dfb-ddec-44fc-b5eb-b64fbd412c7d"
      },
      "execution_count": null,
      "outputs": [
        {
          "output_type": "execute_result",
          "data": {
            "text/plain": [
              "       index                                             review\n",
              "0          1  call crazy really enjoy place. get ton food de...\n",
              "1          0  horrible horrible horrible online customer ser...\n",
              "2          1  staff extremely helpful answer question. take ...\n",
              "3          1  steak tartare fantastic. 'd come back vega din...\n",
              "4          1                            everything could want 3\n",
              "...      ...                                                ...\n",
              "55995      1  wow. never thought would find place like sleep...\n",
              "55996      1  awesome walk place bite eat. order counter bri...\n",
              "55997      1  beautiful show. jumped opportunity see show ti...\n",
              "55998      1  lobby hard rock hotel place trendy chic meet b...\n",
              "55999      0  picked dinner mom 8/28/13. chicken nacho long ...\n",
              "\n",
              "[56000 rows x 2 columns]"
            ],
            "text/html": [
              "\n",
              "  <div id=\"df-fd602ed6-c7f8-4ed9-acae-8b12bbd38f26\">\n",
              "    <div class=\"colab-df-container\">\n",
              "      <div>\n",
              "<style scoped>\n",
              "    .dataframe tbody tr th:only-of-type {\n",
              "        vertical-align: middle;\n",
              "    }\n",
              "\n",
              "    .dataframe tbody tr th {\n",
              "        vertical-align: top;\n",
              "    }\n",
              "\n",
              "    .dataframe thead th {\n",
              "        text-align: right;\n",
              "    }\n",
              "</style>\n",
              "<table border=\"1\" class=\"dataframe\">\n",
              "  <thead>\n",
              "    <tr style=\"text-align: right;\">\n",
              "      <th></th>\n",
              "      <th>index</th>\n",
              "      <th>review</th>\n",
              "    </tr>\n",
              "  </thead>\n",
              "  <tbody>\n",
              "    <tr>\n",
              "      <th>0</th>\n",
              "      <td>1</td>\n",
              "      <td>call crazy really enjoy place. get ton food de...</td>\n",
              "    </tr>\n",
              "    <tr>\n",
              "      <th>1</th>\n",
              "      <td>0</td>\n",
              "      <td>horrible horrible horrible online customer ser...</td>\n",
              "    </tr>\n",
              "    <tr>\n",
              "      <th>2</th>\n",
              "      <td>1</td>\n",
              "      <td>staff extremely helpful answer question. take ...</td>\n",
              "    </tr>\n",
              "    <tr>\n",
              "      <th>3</th>\n",
              "      <td>1</td>\n",
              "      <td>steak tartare fantastic. 'd come back vega din...</td>\n",
              "    </tr>\n",
              "    <tr>\n",
              "      <th>4</th>\n",
              "      <td>1</td>\n",
              "      <td>everything could want 3</td>\n",
              "    </tr>\n",
              "    <tr>\n",
              "      <th>...</th>\n",
              "      <td>...</td>\n",
              "      <td>...</td>\n",
              "    </tr>\n",
              "    <tr>\n",
              "      <th>55995</th>\n",
              "      <td>1</td>\n",
              "      <td>wow. never thought would find place like sleep...</td>\n",
              "    </tr>\n",
              "    <tr>\n",
              "      <th>55996</th>\n",
              "      <td>1</td>\n",
              "      <td>awesome walk place bite eat. order counter bri...</td>\n",
              "    </tr>\n",
              "    <tr>\n",
              "      <th>55997</th>\n",
              "      <td>1</td>\n",
              "      <td>beautiful show. jumped opportunity see show ti...</td>\n",
              "    </tr>\n",
              "    <tr>\n",
              "      <th>55998</th>\n",
              "      <td>1</td>\n",
              "      <td>lobby hard rock hotel place trendy chic meet b...</td>\n",
              "    </tr>\n",
              "    <tr>\n",
              "      <th>55999</th>\n",
              "      <td>0</td>\n",
              "      <td>picked dinner mom 8/28/13. chicken nacho long ...</td>\n",
              "    </tr>\n",
              "  </tbody>\n",
              "</table>\n",
              "<p>56000 rows × 2 columns</p>\n",
              "</div>\n",
              "      <button class=\"colab-df-convert\" onclick=\"convertToInteractive('df-fd602ed6-c7f8-4ed9-acae-8b12bbd38f26')\"\n",
              "              title=\"Convert this dataframe to an interactive table.\"\n",
              "              style=\"display:none;\">\n",
              "        \n",
              "  <svg xmlns=\"http://www.w3.org/2000/svg\" height=\"24px\"viewBox=\"0 0 24 24\"\n",
              "       width=\"24px\">\n",
              "    <path d=\"M0 0h24v24H0V0z\" fill=\"none\"/>\n",
              "    <path d=\"M18.56 5.44l.94 2.06.94-2.06 2.06-.94-2.06-.94-.94-2.06-.94 2.06-2.06.94zm-11 1L8.5 8.5l.94-2.06 2.06-.94-2.06-.94L8.5 2.5l-.94 2.06-2.06.94zm10 10l.94 2.06.94-2.06 2.06-.94-2.06-.94-.94-2.06-.94 2.06-2.06.94z\"/><path d=\"M17.41 7.96l-1.37-1.37c-.4-.4-.92-.59-1.43-.59-.52 0-1.04.2-1.43.59L10.3 9.45l-7.72 7.72c-.78.78-.78 2.05 0 2.83L4 21.41c.39.39.9.59 1.41.59.51 0 1.02-.2 1.41-.59l7.78-7.78 2.81-2.81c.8-.78.8-2.07 0-2.86zM5.41 20L4 18.59l7.72-7.72 1.47 1.35L5.41 20z\"/>\n",
              "  </svg>\n",
              "      </button>\n",
              "      \n",
              "  <style>\n",
              "    .colab-df-container {\n",
              "      display:flex;\n",
              "      flex-wrap:wrap;\n",
              "      gap: 12px;\n",
              "    }\n",
              "\n",
              "    .colab-df-convert {\n",
              "      background-color: #E8F0FE;\n",
              "      border: none;\n",
              "      border-radius: 50%;\n",
              "      cursor: pointer;\n",
              "      display: none;\n",
              "      fill: #1967D2;\n",
              "      height: 32px;\n",
              "      padding: 0 0 0 0;\n",
              "      width: 32px;\n",
              "    }\n",
              "\n",
              "    .colab-df-convert:hover {\n",
              "      background-color: #E2EBFA;\n",
              "      box-shadow: 0px 1px 2px rgba(60, 64, 67, 0.3), 0px 1px 3px 1px rgba(60, 64, 67, 0.15);\n",
              "      fill: #174EA6;\n",
              "    }\n",
              "\n",
              "    [theme=dark] .colab-df-convert {\n",
              "      background-color: #3B4455;\n",
              "      fill: #D2E3FC;\n",
              "    }\n",
              "\n",
              "    [theme=dark] .colab-df-convert:hover {\n",
              "      background-color: #434B5C;\n",
              "      box-shadow: 0px 1px 3px 1px rgba(0, 0, 0, 0.15);\n",
              "      filter: drop-shadow(0px 1px 2px rgba(0, 0, 0, 0.3));\n",
              "      fill: #FFFFFF;\n",
              "    }\n",
              "  </style>\n",
              "\n",
              "      <script>\n",
              "        const buttonEl =\n",
              "          document.querySelector('#df-fd602ed6-c7f8-4ed9-acae-8b12bbd38f26 button.colab-df-convert');\n",
              "        buttonEl.style.display =\n",
              "          google.colab.kernel.accessAllowed ? 'block' : 'none';\n",
              "\n",
              "        async function convertToInteractive(key) {\n",
              "          const element = document.querySelector('#df-fd602ed6-c7f8-4ed9-acae-8b12bbd38f26');\n",
              "          const dataTable =\n",
              "            await google.colab.kernel.invokeFunction('convertToInteractive',\n",
              "                                                     [key], {});\n",
              "          if (!dataTable) return;\n",
              "\n",
              "          const docLinkHtml = 'Like what you see? Visit the ' +\n",
              "            '<a target=\"_blank\" href=https://colab.research.google.com/notebooks/data_table.ipynb>data table notebook</a>'\n",
              "            + ' to learn more about interactive tables.';\n",
              "          element.innerHTML = '';\n",
              "          dataTable['output_type'] = 'display_data';\n",
              "          await google.colab.output.renderOutput(dataTable, element);\n",
              "          const docLink = document.createElement('div');\n",
              "          docLink.innerHTML = docLinkHtml;\n",
              "          element.appendChild(docLink);\n",
              "        }\n",
              "      </script>\n",
              "    </div>\n",
              "  </div>\n",
              "  "
            ]
          },
          "metadata": {},
          "execution_count": 147
        }
      ]
    },
    {
      "cell_type": "code",
      "execution_count": null,
      "metadata": {
        "id": "_lCTSKZgu68K"
      },
      "outputs": [],
      "source": [
        "#3.4 Реализовать класс Vocab (токен = слово)\n",
        "class Vocab:\n",
        "    def __init__(self, data):\n",
        "        self.tokens = list({ch for row in data for ch in row.split(\" \")})\n",
        "        self.idx_to_token = {idx: token for idx, token in enumerate(self.tokens)}\n",
        "        self.token_to_idx = {token: idx  for idx, token in enumerate(self.tokens)}\n",
        "        self.vocab_len = len(self.idx_to_token)\n",
        "        \n",
        "    def __repr__(self) -> str:\n",
        "        return f\"Vocab with {self.vocab_len} tokens\""
      ]
    },
    {
      "cell_type": "code",
      "source": [
        "vocab = Vocab(df[\"review\"])\n",
        "vocab"
      ],
      "metadata": {
        "colab": {
          "base_uri": "https://localhost:8080/"
        },
        "id": "25H-u1h6V389",
        "outputId": "734c7dd2-b4ce-46f0-a792-44213d11bf33"
      },
      "execution_count": null,
      "outputs": [
        {
          "output_type": "execute_result",
          "data": {
            "text/plain": [
              "Vocab with 140173 tokens"
            ]
          },
          "metadata": {},
          "execution_count": 149
        }
      ]
    },
    {
      "cell_type": "code",
      "source": [
        "#3.5 Реализовать класс ReviewDataset\n",
        "class ReviewDataset(Dataset):\n",
        "    def __init__(self, X, y, vocab: Vocab):\n",
        "        self.X = X\n",
        "        self.y = y\n",
        "        self.vocab = vocab\n",
        "\n",
        "    def vectorize(self, review):\n",
        "        '''Генерирует представление отзыва review при помощи бинарного кодирования'''\n",
        "        indices = [self.vocab.token_to_idx[el] for el in review.split(\" \")]\n",
        "        review_t = torch.zeros(self.vocab.vocab_len)\n",
        "        review_t[indices] = 1\n",
        "        return review_t\n",
        "\n",
        "    def len_y_unique(self):\n",
        "        return self.y.unique().size()[0]\n",
        "    \n",
        "    def __len__(self):\n",
        "        return len(self.X)\n",
        "\n",
        "    def __getitem__(self, idx):\n",
        "        return self.vectorize(self.X[idx]), self.y[idx]"
      ],
      "metadata": {
        "id": "fiD6PZvJV6Wy"
      },
      "execution_count": null,
      "outputs": []
    },
    {
      "cell_type": "code",
      "source": [
        "review_dataset = ReviewDataset(\n",
        "    df[\"review\"].tolist(),\n",
        "    torch.tensor(df[\"index\"], dtype=torch.long),\n",
        "    vocab,\n",
        ")\n",
        "\n",
        "len(review_dataset)"
      ],
      "metadata": {
        "colab": {
          "base_uri": "https://localhost:8080/"
        },
        "id": "-2BUUygAV-qO",
        "outputId": "fae1a8d4-3e65-42a3-fe7b-84a05609233c"
      },
      "execution_count": null,
      "outputs": [
        {
          "output_type": "execute_result",
          "data": {
            "text/plain": [
              "56000"
            ]
          },
          "metadata": {},
          "execution_count": 151
        }
      ]
    },
    {
      "cell_type": "code",
      "source": [
        "review_dataset[1]"
      ],
      "metadata": {
        "colab": {
          "base_uri": "https://localhost:8080/"
        },
        "id": "4a3wvCAYWBk2",
        "outputId": "6c70aba2-1763-405a-f950-e27dbd455214"
      },
      "execution_count": null,
      "outputs": [
        {
          "output_type": "execute_result",
          "data": {
            "text/plain": [
              "(tensor([1., 0., 0.,  ..., 0., 0., 0.]), tensor(0))"
            ]
          },
          "metadata": {},
          "execution_count": 152
        }
      ]
    },
    {
      "cell_type": "code",
      "source": [
        "#3.3 Разбить датасет на обучающую и тестовую выборку\n",
        "train_size = round(0.8 * len(review_dataset))\n",
        "test_size = len(review_dataset) - train_size\n",
        "train_dataset, test_dataset = random_split(review_dataset, lengths=(train_size, test_size))\n",
        "\n",
        "print(f\"Train dataset: {len(train_dataset)}\")\n",
        "print(f\"Test dataset: {len(test_dataset)}\")"
      ],
      "metadata": {
        "colab": {
          "base_uri": "https://localhost:8080/"
        },
        "id": "nCaSLzDtWG_t",
        "outputId": "68306449-b74a-4783-e882-2c9e15670905"
      },
      "execution_count": null,
      "outputs": [
        {
          "output_type": "stream",
          "name": "stdout",
          "text": [
            "Train dataset: 44800\n",
            "Test dataset: 11200\n"
          ]
        }
      ]
    },
    {
      "cell_type": "code",
      "execution_count": null,
      "metadata": {
        "id": "WXLmCDvcvRmb"
      },
      "outputs": [],
      "source": [
        "#3.6 Обучить классификатор\n",
        "class NeuralNetwork(nn.Module):\n",
        "    def __init__(self, in_features, out_features):\n",
        "        super(NeuralNetwork, self).__init__()\n",
        "        self.seq = nn.Sequential(\n",
        "            nn.Linear(in_features, 512),\n",
        "            nn.ReLU(),\n",
        "            nn.Dropout(),\n",
        "            nn.Linear(512, out_features),\n",
        "            nn.LogSoftmax(dim=1),\n",
        "        )\n",
        "\n",
        "    def forward(self, inputs):\n",
        "        return self.seq(inputs)"
      ]
    },
    {
      "cell_type": "code",
      "source": [
        "model = NeuralNetwork(vocab.vocab_len, review_dataset.len_y_unique())\n",
        "\n",
        "loss_fn = nn.NLLLoss()\n",
        "optimizer = torch.optim.Adam(model.parameters(), lr=0.001)\n",
        "\n",
        "train_dataloader = DataLoader(train_dataset, batch_size=64)\n",
        "test_dataloader = DataLoader(test_dataset, batch_size=64)\n",
        "\n",
        "print(model)"
      ],
      "metadata": {
        "colab": {
          "base_uri": "https://localhost:8080/"
        },
        "id": "g1ZHgm-mWWz_",
        "outputId": "9618b31a-7c57-48d2-b7d6-caa25bddc6e7"
      },
      "execution_count": null,
      "outputs": [
        {
          "output_type": "stream",
          "name": "stdout",
          "text": [
            "NeuralNetwork(\n",
            "  (seq): Sequential(\n",
            "    (0): Linear(in_features=140173, out_features=512, bias=True)\n",
            "    (1): ReLU()\n",
            "    (2): Dropout(p=0.5, inplace=False)\n",
            "    (3): Linear(in_features=512, out_features=2, bias=True)\n",
            "    (4): LogSoftmax(dim=1)\n",
            "  )\n",
            ")\n"
          ]
        }
      ]
    },
    {
      "cell_type": "code",
      "source": [
        "def train_loop(\n",
        "        dataloader,\n",
        "        model,\n",
        "        loss_fn,\n",
        "        optimizer,\n",
        "        verbose = 100,\n",
        "        device = \"cpu\",\n",
        ") -> torch.Tensor:\n",
        "    model.train()\n",
        "\n",
        "    size = len(dataloader.dataset)  # noqa\n",
        "    num_batches = len(dataloader)\n",
        "    avg_loss = 0\n",
        "\n",
        "    for batch, (x, y) in enumerate(dataloader):\n",
        "        x, y = x.to(device), y.to(device)\n",
        "\n",
        "        pred = model(x)\n",
        "        loss = loss_fn(pred, y)\n",
        "\n",
        "        optimizer.zero_grad()\n",
        "        loss.backward()\n",
        "        optimizer.step()\n",
        "\n",
        "        avg_loss += loss\n",
        "        if batch % verbose == 0:\n",
        "            print(f\"loss: {loss:>7f}  [{batch * len(x):>5d}/{size:>5d}]\")\n",
        "\n",
        "        del x, y, pred, loss\n",
        "        torch.cuda.empty_cache()\n",
        "\n",
        "    return avg_loss / num_batches"
      ],
      "metadata": {
        "id": "Slr2oqxvWdM8"
      },
      "execution_count": null,
      "outputs": []
    },
    {
      "cell_type": "code",
      "source": [
        "losses_plt = []\n",
        "\n",
        "epochs = 5\n",
        "losses = torch.empty(epochs)\n",
        "for t in range(epochs): \n",
        "    print(f\"Epoch {t+1}\\n-------------------------------\")\n",
        "    \n",
        "    buf = train_loop(train_dataloader, model, loss_fn, optimizer)\n",
        "    losses[t] = buf\n",
        "    losses_plt.append(buf.item())\n",
        "    test_loop(test_dataloader, model, loss_fn)\n",
        "print(\"Done!\")"
      ],
      "metadata": {
        "colab": {
          "base_uri": "https://localhost:8080/"
        },
        "id": "58Z5SKRaWgE2",
        "outputId": "01f0a104-638a-4c15-9e2c-68dca6c3252d"
      },
      "execution_count": null,
      "outputs": [
        {
          "output_type": "stream",
          "name": "stdout",
          "text": [
            "Epoch 1\n",
            "-------------------------------\n",
            "loss: 0.696374  [    0/44800]\n",
            "loss: 0.371221  [ 6400/44800]\n",
            "loss: 0.272881  [12800/44800]\n",
            "loss: 0.230120  [19200/44800]\n",
            "loss: 0.101124  [25600/44800]\n",
            "loss: 0.198495  [32000/44800]\n",
            "loss: 0.207358  [38400/44800]\n",
            "Test Error: \n",
            " Accuracy: 90.7%, Avg loss: 0.231802 \n",
            "\n",
            "Epoch 2\n",
            "-------------------------------\n",
            "loss: 0.306112  [    0/44800]\n",
            "loss: 0.186483  [ 6400/44800]\n",
            "loss: 0.113331  [12800/44800]\n",
            "loss: 0.043725  [19200/44800]\n",
            "loss: 0.020456  [25600/44800]\n",
            "loss: 0.096568  [32000/44800]\n",
            "loss: 0.077546  [38400/44800]\n",
            "Test Error: \n",
            " Accuracy: 90.6%, Avg loss: 0.248453 \n",
            "\n",
            "Epoch 3\n",
            "-------------------------------\n",
            "loss: 0.091133  [    0/44800]\n",
            "loss: 0.070410  [ 6400/44800]\n",
            "loss: 0.035730  [12800/44800]\n",
            "loss: 0.016254  [19200/44800]\n",
            "loss: 0.007623  [25600/44800]\n",
            "loss: 0.042859  [32000/44800]\n",
            "loss: 0.018592  [38400/44800]\n",
            "Test Error: \n",
            " Accuracy: 90.4%, Avg loss: 0.299159 \n",
            "\n",
            "Epoch 4\n",
            "-------------------------------\n",
            "loss: 0.030775  [    0/44800]\n",
            "loss: 0.018451  [ 6400/44800]\n",
            "loss: 0.007085  [12800/44800]\n",
            "loss: 0.014225  [19200/44800]\n",
            "loss: 0.001381  [25600/44800]\n",
            "loss: 0.016792  [32000/44800]\n",
            "loss: 0.003494  [38400/44800]\n",
            "Test Error: \n",
            " Accuracy: 90.3%, Avg loss: 0.369208 \n",
            "\n",
            "Epoch 5\n",
            "-------------------------------\n",
            "loss: 0.005791  [    0/44800]\n",
            "loss: 0.007767  [ 6400/44800]\n",
            "loss: 0.005352  [12800/44800]\n",
            "loss: 0.003215  [19200/44800]\n",
            "loss: 0.001157  [25600/44800]\n",
            "loss: 0.008085  [32000/44800]\n",
            "loss: 0.003757  [38400/44800]\n",
            "Test Error: \n",
            " Accuracy: 90.3%, Avg loss: 0.428984 \n",
            "\n",
            "Done!\n"
          ]
        }
      ]
    },
    {
      "cell_type": "code",
      "source": [
        "#3.7 Измерить точность на тестовой выборке. \n",
        "import matplotlib.pyplot as plt\n",
        "plt.plot(torch.arange(len(losses_plt)), losses_plt)"
      ],
      "metadata": {
        "colab": {
          "base_uri": "https://localhost:8080/",
          "height": 282
        },
        "id": "-9p5ZX5CWiN5",
        "outputId": "7bc05b1c-001d-42b5-c845-98510619970f"
      },
      "execution_count": null,
      "outputs": [
        {
          "output_type": "execute_result",
          "data": {
            "text/plain": [
              "[<matplotlib.lines.Line2D at 0x7f971172f670>]"
            ]
          },
          "metadata": {},
          "execution_count": 158
        },
        {
          "output_type": "display_data",
          "data": {
            "text/plain": [
              "<Figure size 432x288 with 1 Axes>"
            ],
            "image/png": "[encoded data removed]"
          },
          "metadata": {
            "needs_background": "light"
          }
        }
      ]
    },
    {
      "cell_type": "code",
      "source": [
        "test_loop(test_dataloader, model, loss_fn)"
      ],
      "metadata": {
        "colab": {
          "base_uri": "https://localhost:8080/"
        },
        "id": "G0jZAYCcWuPS",
        "outputId": "8b4c142d-acbd-4bb5-c867-68335938ae0d"
      },
      "execution_count": null,
      "outputs": [
        {
          "output_type": "stream",
          "name": "stdout",
          "text": [
            "Test Error: \n",
            " Accuracy: 90.3%, Avg loss: 0.428984 \n",
            "\n"
          ]
        }
      ]
    },
    {
      "cell_type": "code",
      "source": [
        "y_pred = []\n",
        "y_true = []\n",
        "\n",
        "for inputs, labels in test_dataloader:\n",
        "        output = model(inputs) \n",
        "        output = (torch.max(torch.exp(output), 1)[1]).data.cpu().numpy()\n",
        "        y_pred.extend(output)\n",
        "        labels = labels.data.cpu().numpy()\n",
        "        y_true.extend(labels) "
      ],
      "metadata": {
        "id": "FamwjPusWv_O"
      },
      "execution_count": null,
      "outputs": []
    },
    {
      "cell_type": "code",
      "source": [
        "print(classification_report(y_true, y_pred, target_names=[\"Negative\", \"Positive\"]))"
      ],
      "metadata": {
        "colab": {
          "base_uri": "https://localhost:8080/"
        },
        "id": "-zRqS9z5W1oP",
        "outputId": "99b7d6b3-b39f-44af-c414-09c4199a5849"
      },
      "execution_count": null,
      "outputs": [
        {
          "output_type": "stream",
          "name": "stdout",
          "text": [
            "              precision    recall  f1-score   support\n",
            "\n",
            "    Negative       0.90      0.90      0.90      5670\n",
            "    Positive       0.90      0.90      0.90      5530\n",
            "\n",
            "    accuracy                           0.90     11200\n",
            "   macro avg       0.90      0.90      0.90     11200\n",
            "weighted avg       0.90      0.90      0.90     11200\n",
            "\n"
          ]
        }
      ]
    },
    {
      "cell_type": "code",
      "source": [
        "names_list = [\n",
        "\"I was here 2 weeks ago. The staff was sociable and recommended the dish of the day to me. Everything was excellent\",\n",
        "\"I absolutely did not like this service. The meat was cold. I asked to redo it, but it already spoiled my mood\"\n",
        " ]\n",
        "\n",
        "targets_list = [\"Positive\", \"Negative\"]\n",
        "targets_dict = {1:\"Positive\", 0: \"Negative\"}\n",
        "\n",
        "for name, target in zip(names_list, targets_list):\n",
        "\n",
        "    x_test, y_test = review_dataset.vectorize(preprocess_text(name)), target\n",
        "    predict = model(x_test.unsqueeze(0))\n",
        "    pred_proba, pred_label_indices = nn.functional.softmax(predict, 1).topk(1, dim=1)\n",
        "    \n",
        "    res = pred_label_indices.squeeze()\n",
        "    print(res)\n",
        "    pred_labels = targets_dict[pred_label_indices.squeeze().item()]\n",
        "    \n",
        "    targets_list\n",
        "    \n",
        "    print(f\"Review: \\n{name}\")\n",
        "    print(f\"True    : {target}\")\n",
        "    print(f\"Predicts: {pred_labels}\\n\")"
      ],
      "metadata": {
        "colab": {
          "base_uri": "https://localhost:8080/"
        },
        "id": "xOLSmcCHW8S1",
        "outputId": "6ab2efce-df22-45be-c028-3fc305489b9e"
      },
      "execution_count": null,
      "outputs": [
        {
          "output_type": "stream",
          "name": "stdout",
          "text": [
            "tensor(1)\n",
            "Review: \n",
            "I was here 2 weeks ago. The staff was sociable and recommended the dish of the day to me. Everything was excellent\n",
            "True    : Positive\n",
            "Predicts: Positive\n",
            "\n",
            "tensor(0)\n",
            "Review: \n",
            "I absolutely did not like this service. The meat was cold. I asked to redo it, but it already spoiled my mood\n",
            "True    : Negative\n",
            "Predicts: Negative\n",
            "\n"
          ]
        }
      ]
    },
    {
      "cell_type": "code",
      "source": [
        "print(classification_report(y_true, y_pred, target_names=[\"Negative\", \"Positive\"]))"
      ],
      "metadata": {
        "colab": {
          "base_uri": "https://localhost:8080/"
        },
        "id": "OkWIjZSqW-fL",
        "outputId": "46997836-9755-4bea-da00-edb7b0fe43b0"
      },
      "execution_count": null,
      "outputs": [
        {
          "output_type": "stream",
          "name": "stdout",
          "text": [
            "              precision    recall  f1-score   support\n",
            "\n",
            "    Negative       0.90      0.90      0.90      5670\n",
            "    Positive       0.90      0.90      0.90      5530\n",
            "\n",
            "    accuracy                           0.90     11200\n",
            "   macro avg       0.90      0.90      0.90     11200\n",
            "weighted avg       0.90      0.90      0.90     11200\n",
            "\n"
          ]
        }
      ]
    }
  ],
  "metadata": {
    "colab": {
      "provenance": []
    },
    "kernelspec": {
      "display_name": "Python 3 (ipykernel)",
      "language": "python",
      "name": "python3"
    },
    "language_info": {
      "codemirror_mode": {
        "name": "ipython",
        "version": 3
      },
      "file_extension": ".py",
      "mimetype": "text/x-python",
      "name": "python",
      "nbconvert_exporter": "python",
      "pygments_lexer": "ipython3",
      "version": "3.9.13"
    }
  },
  "nbformat": 4,
  "nbformat_minor": 0
}